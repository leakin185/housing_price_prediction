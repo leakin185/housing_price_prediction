{
 "cells": [
  {
   "cell_type": "markdown",
   "id": "automatic-butterfly",
   "metadata": {},
   "source": [
    "# Gradient Descent and Support Vector Regression\n",
    "Overview of Implementation\n",
    "1. <a href=\"#section1\">Import Dataset</a>\n",
    "2. <a href=\"#section2\">Cleaning the Data for Model Training</a>\n",
    "3. <a href=\"#section3\">Gradient Descent</a>\n",
    "4. <a href=\"#section4\">Support Vector Regression</a>\n",
    "5. <a href=\"#section5\">Reducing Dimension: Feature selection</a>\n",
    "6. <a href=\"#section6\">Hyperparameter Tuning 1:polynomial degree</a>\n",
    "7. <a href=\"#section7\">Hyperparameter Tuning 2:polynomial degree (standardized features)</a>\n",
    "8. <a href=\"#section8\">Hyperparameter Tuning 3:regularization</a>\n",
    "9. <a href=\"#section9\">Hyperparameter Tuning 4:K-fold Cross Validation</a>"
   ]
  },
  {
   "cell_type": "code",
   "execution_count": 1,
   "id": "working-daily",
   "metadata": {},
   "outputs": [],
   "source": [
    "# Basic Libraries\n",
    "import numpy as np\n",
    "import pandas as pd\n",
    "import seaborn as sb\n",
    "import matplotlib.pyplot as plt # we only need pyplot\n",
    "sb.set() # set the default Seaborn style for graphics\n",
    "from scipy import stats\n",
    "import math\n",
    "from sklearn.metrics import mean_squared_error, mean_absolute_error\n",
    "from statistics import mean, median, mode, stdev\n",
    "from sklearn import preprocessing\n",
    "from sklearn.preprocessing import OneHotEncoder\n",
    "from sklearn.model_selection import train_test_split\n",
    "from sklearn.preprocessing import StandardScaler\n",
    "from sklearn.svm import SVR\n",
    "from sklearn.pipeline import make_pipeline\n",
    "from sklearn.preprocessing import PolynomialFeatures\n",
    "from scipy.optimize import minimize\n",
    "from sklearn.model_selection import KFold"
   ]
  },
  {
   "cell_type": "markdown",
   "id": "canadian-setup",
   "metadata": {},
   "source": [
    "## <a id='section1'>Import Dataset</a>"
   ]
  },
  {
   "cell_type": "code",
   "execution_count": 2,
   "id": "least-voice",
   "metadata": {},
   "outputs": [
    {
     "data": {
      "text/html": [
       "<div>\n",
       "<style scoped>\n",
       "    .dataframe tbody tr th:only-of-type {\n",
       "        vertical-align: middle;\n",
       "    }\n",
       "\n",
       "    .dataframe tbody tr th {\n",
       "        vertical-align: top;\n",
       "    }\n",
       "\n",
       "    .dataframe thead th {\n",
       "        text-align: right;\n",
       "    }\n",
       "</style>\n",
       "<table border=\"1\" class=\"dataframe\">\n",
       "  <thead>\n",
       "    <tr style=\"text-align: right;\">\n",
       "      <th></th>\n",
       "      <th>Id</th>\n",
       "      <th>MSSubClass</th>\n",
       "      <th>MSZoning</th>\n",
       "      <th>LotFrontage</th>\n",
       "      <th>LotArea</th>\n",
       "      <th>Street</th>\n",
       "      <th>Alley</th>\n",
       "      <th>LotShape</th>\n",
       "      <th>LandContour</th>\n",
       "      <th>Utilities</th>\n",
       "      <th>...</th>\n",
       "      <th>PoolArea</th>\n",
       "      <th>PoolQC</th>\n",
       "      <th>Fence</th>\n",
       "      <th>MiscFeature</th>\n",
       "      <th>MiscVal</th>\n",
       "      <th>MoSold</th>\n",
       "      <th>YrSold</th>\n",
       "      <th>SaleType</th>\n",
       "      <th>SaleCondition</th>\n",
       "      <th>SalePrice</th>\n",
       "    </tr>\n",
       "  </thead>\n",
       "  <tbody>\n",
       "    <tr>\n",
       "      <th>0</th>\n",
       "      <td>1</td>\n",
       "      <td>60</td>\n",
       "      <td>RL</td>\n",
       "      <td>65.0</td>\n",
       "      <td>8450</td>\n",
       "      <td>Pave</td>\n",
       "      <td>NaN</td>\n",
       "      <td>Reg</td>\n",
       "      <td>Lvl</td>\n",
       "      <td>AllPub</td>\n",
       "      <td>...</td>\n",
       "      <td>0</td>\n",
       "      <td>NaN</td>\n",
       "      <td>NaN</td>\n",
       "      <td>NaN</td>\n",
       "      <td>0</td>\n",
       "      <td>2</td>\n",
       "      <td>2008</td>\n",
       "      <td>WD</td>\n",
       "      <td>Normal</td>\n",
       "      <td>208500</td>\n",
       "    </tr>\n",
       "    <tr>\n",
       "      <th>1</th>\n",
       "      <td>2</td>\n",
       "      <td>20</td>\n",
       "      <td>RL</td>\n",
       "      <td>80.0</td>\n",
       "      <td>9600</td>\n",
       "      <td>Pave</td>\n",
       "      <td>NaN</td>\n",
       "      <td>Reg</td>\n",
       "      <td>Lvl</td>\n",
       "      <td>AllPub</td>\n",
       "      <td>...</td>\n",
       "      <td>0</td>\n",
       "      <td>NaN</td>\n",
       "      <td>NaN</td>\n",
       "      <td>NaN</td>\n",
       "      <td>0</td>\n",
       "      <td>5</td>\n",
       "      <td>2007</td>\n",
       "      <td>WD</td>\n",
       "      <td>Normal</td>\n",
       "      <td>181500</td>\n",
       "    </tr>\n",
       "    <tr>\n",
       "      <th>2</th>\n",
       "      <td>3</td>\n",
       "      <td>60</td>\n",
       "      <td>RL</td>\n",
       "      <td>68.0</td>\n",
       "      <td>11250</td>\n",
       "      <td>Pave</td>\n",
       "      <td>NaN</td>\n",
       "      <td>IR1</td>\n",
       "      <td>Lvl</td>\n",
       "      <td>AllPub</td>\n",
       "      <td>...</td>\n",
       "      <td>0</td>\n",
       "      <td>NaN</td>\n",
       "      <td>NaN</td>\n",
       "      <td>NaN</td>\n",
       "      <td>0</td>\n",
       "      <td>9</td>\n",
       "      <td>2008</td>\n",
       "      <td>WD</td>\n",
       "      <td>Normal</td>\n",
       "      <td>223500</td>\n",
       "    </tr>\n",
       "    <tr>\n",
       "      <th>3</th>\n",
       "      <td>4</td>\n",
       "      <td>70</td>\n",
       "      <td>RL</td>\n",
       "      <td>60.0</td>\n",
       "      <td>9550</td>\n",
       "      <td>Pave</td>\n",
       "      <td>NaN</td>\n",
       "      <td>IR1</td>\n",
       "      <td>Lvl</td>\n",
       "      <td>AllPub</td>\n",
       "      <td>...</td>\n",
       "      <td>0</td>\n",
       "      <td>NaN</td>\n",
       "      <td>NaN</td>\n",
       "      <td>NaN</td>\n",
       "      <td>0</td>\n",
       "      <td>2</td>\n",
       "      <td>2006</td>\n",
       "      <td>WD</td>\n",
       "      <td>Abnorml</td>\n",
       "      <td>140000</td>\n",
       "    </tr>\n",
       "    <tr>\n",
       "      <th>4</th>\n",
       "      <td>5</td>\n",
       "      <td>60</td>\n",
       "      <td>RL</td>\n",
       "      <td>84.0</td>\n",
       "      <td>14260</td>\n",
       "      <td>Pave</td>\n",
       "      <td>NaN</td>\n",
       "      <td>IR1</td>\n",
       "      <td>Lvl</td>\n",
       "      <td>AllPub</td>\n",
       "      <td>...</td>\n",
       "      <td>0</td>\n",
       "      <td>NaN</td>\n",
       "      <td>NaN</td>\n",
       "      <td>NaN</td>\n",
       "      <td>0</td>\n",
       "      <td>12</td>\n",
       "      <td>2008</td>\n",
       "      <td>WD</td>\n",
       "      <td>Normal</td>\n",
       "      <td>250000</td>\n",
       "    </tr>\n",
       "    <tr>\n",
       "      <th>...</th>\n",
       "      <td>...</td>\n",
       "      <td>...</td>\n",
       "      <td>...</td>\n",
       "      <td>...</td>\n",
       "      <td>...</td>\n",
       "      <td>...</td>\n",
       "      <td>...</td>\n",
       "      <td>...</td>\n",
       "      <td>...</td>\n",
       "      <td>...</td>\n",
       "      <td>...</td>\n",
       "      <td>...</td>\n",
       "      <td>...</td>\n",
       "      <td>...</td>\n",
       "      <td>...</td>\n",
       "      <td>...</td>\n",
       "      <td>...</td>\n",
       "      <td>...</td>\n",
       "      <td>...</td>\n",
       "      <td>...</td>\n",
       "      <td>...</td>\n",
       "    </tr>\n",
       "    <tr>\n",
       "      <th>1455</th>\n",
       "      <td>1456</td>\n",
       "      <td>60</td>\n",
       "      <td>RL</td>\n",
       "      <td>62.0</td>\n",
       "      <td>7917</td>\n",
       "      <td>Pave</td>\n",
       "      <td>NaN</td>\n",
       "      <td>Reg</td>\n",
       "      <td>Lvl</td>\n",
       "      <td>AllPub</td>\n",
       "      <td>...</td>\n",
       "      <td>0</td>\n",
       "      <td>NaN</td>\n",
       "      <td>NaN</td>\n",
       "      <td>NaN</td>\n",
       "      <td>0</td>\n",
       "      <td>8</td>\n",
       "      <td>2007</td>\n",
       "      <td>WD</td>\n",
       "      <td>Normal</td>\n",
       "      <td>175000</td>\n",
       "    </tr>\n",
       "    <tr>\n",
       "      <th>1456</th>\n",
       "      <td>1457</td>\n",
       "      <td>20</td>\n",
       "      <td>RL</td>\n",
       "      <td>85.0</td>\n",
       "      <td>13175</td>\n",
       "      <td>Pave</td>\n",
       "      <td>NaN</td>\n",
       "      <td>Reg</td>\n",
       "      <td>Lvl</td>\n",
       "      <td>AllPub</td>\n",
       "      <td>...</td>\n",
       "      <td>0</td>\n",
       "      <td>NaN</td>\n",
       "      <td>MnPrv</td>\n",
       "      <td>NaN</td>\n",
       "      <td>0</td>\n",
       "      <td>2</td>\n",
       "      <td>2010</td>\n",
       "      <td>WD</td>\n",
       "      <td>Normal</td>\n",
       "      <td>210000</td>\n",
       "    </tr>\n",
       "    <tr>\n",
       "      <th>1457</th>\n",
       "      <td>1458</td>\n",
       "      <td>70</td>\n",
       "      <td>RL</td>\n",
       "      <td>66.0</td>\n",
       "      <td>9042</td>\n",
       "      <td>Pave</td>\n",
       "      <td>NaN</td>\n",
       "      <td>Reg</td>\n",
       "      <td>Lvl</td>\n",
       "      <td>AllPub</td>\n",
       "      <td>...</td>\n",
       "      <td>0</td>\n",
       "      <td>NaN</td>\n",
       "      <td>GdPrv</td>\n",
       "      <td>Shed</td>\n",
       "      <td>2500</td>\n",
       "      <td>5</td>\n",
       "      <td>2010</td>\n",
       "      <td>WD</td>\n",
       "      <td>Normal</td>\n",
       "      <td>266500</td>\n",
       "    </tr>\n",
       "    <tr>\n",
       "      <th>1458</th>\n",
       "      <td>1459</td>\n",
       "      <td>20</td>\n",
       "      <td>RL</td>\n",
       "      <td>68.0</td>\n",
       "      <td>9717</td>\n",
       "      <td>Pave</td>\n",
       "      <td>NaN</td>\n",
       "      <td>Reg</td>\n",
       "      <td>Lvl</td>\n",
       "      <td>AllPub</td>\n",
       "      <td>...</td>\n",
       "      <td>0</td>\n",
       "      <td>NaN</td>\n",
       "      <td>NaN</td>\n",
       "      <td>NaN</td>\n",
       "      <td>0</td>\n",
       "      <td>4</td>\n",
       "      <td>2010</td>\n",
       "      <td>WD</td>\n",
       "      <td>Normal</td>\n",
       "      <td>142125</td>\n",
       "    </tr>\n",
       "    <tr>\n",
       "      <th>1459</th>\n",
       "      <td>1460</td>\n",
       "      <td>20</td>\n",
       "      <td>RL</td>\n",
       "      <td>75.0</td>\n",
       "      <td>9937</td>\n",
       "      <td>Pave</td>\n",
       "      <td>NaN</td>\n",
       "      <td>Reg</td>\n",
       "      <td>Lvl</td>\n",
       "      <td>AllPub</td>\n",
       "      <td>...</td>\n",
       "      <td>0</td>\n",
       "      <td>NaN</td>\n",
       "      <td>NaN</td>\n",
       "      <td>NaN</td>\n",
       "      <td>0</td>\n",
       "      <td>6</td>\n",
       "      <td>2008</td>\n",
       "      <td>WD</td>\n",
       "      <td>Normal</td>\n",
       "      <td>147500</td>\n",
       "    </tr>\n",
       "  </tbody>\n",
       "</table>\n",
       "<p>1460 rows × 81 columns</p>\n",
       "</div>"
      ],
      "text/plain": [
       "        Id  MSSubClass MSZoning  LotFrontage  LotArea Street Alley LotShape  \\\n",
       "0        1          60       RL         65.0     8450   Pave   NaN      Reg   \n",
       "1        2          20       RL         80.0     9600   Pave   NaN      Reg   \n",
       "2        3          60       RL         68.0    11250   Pave   NaN      IR1   \n",
       "3        4          70       RL         60.0     9550   Pave   NaN      IR1   \n",
       "4        5          60       RL         84.0    14260   Pave   NaN      IR1   \n",
       "...    ...         ...      ...          ...      ...    ...   ...      ...   \n",
       "1455  1456          60       RL         62.0     7917   Pave   NaN      Reg   \n",
       "1456  1457          20       RL         85.0    13175   Pave   NaN      Reg   \n",
       "1457  1458          70       RL         66.0     9042   Pave   NaN      Reg   \n",
       "1458  1459          20       RL         68.0     9717   Pave   NaN      Reg   \n",
       "1459  1460          20       RL         75.0     9937   Pave   NaN      Reg   \n",
       "\n",
       "     LandContour Utilities  ... PoolArea PoolQC  Fence MiscFeature MiscVal  \\\n",
       "0            Lvl    AllPub  ...        0    NaN    NaN         NaN       0   \n",
       "1            Lvl    AllPub  ...        0    NaN    NaN         NaN       0   \n",
       "2            Lvl    AllPub  ...        0    NaN    NaN         NaN       0   \n",
       "3            Lvl    AllPub  ...        0    NaN    NaN         NaN       0   \n",
       "4            Lvl    AllPub  ...        0    NaN    NaN         NaN       0   \n",
       "...          ...       ...  ...      ...    ...    ...         ...     ...   \n",
       "1455         Lvl    AllPub  ...        0    NaN    NaN         NaN       0   \n",
       "1456         Lvl    AllPub  ...        0    NaN  MnPrv         NaN       0   \n",
       "1457         Lvl    AllPub  ...        0    NaN  GdPrv        Shed    2500   \n",
       "1458         Lvl    AllPub  ...        0    NaN    NaN         NaN       0   \n",
       "1459         Lvl    AllPub  ...        0    NaN    NaN         NaN       0   \n",
       "\n",
       "     MoSold YrSold  SaleType  SaleCondition  SalePrice  \n",
       "0         2   2008        WD         Normal     208500  \n",
       "1         5   2007        WD         Normal     181500  \n",
       "2         9   2008        WD         Normal     223500  \n",
       "3         2   2006        WD        Abnorml     140000  \n",
       "4        12   2008        WD         Normal     250000  \n",
       "...     ...    ...       ...            ...        ...  \n",
       "1455      8   2007        WD         Normal     175000  \n",
       "1456      2   2010        WD         Normal     210000  \n",
       "1457      5   2010        WD         Normal     266500  \n",
       "1458      4   2010        WD         Normal     142125  \n",
       "1459      6   2008        WD         Normal     147500  \n",
       "\n",
       "[1460 rows x 81 columns]"
      ]
     },
     "execution_count": 2,
     "metadata": {},
     "output_type": "execute_result"
    }
   ],
   "source": [
    "train = pd.read_csv('train.csv')\n",
    "train"
   ]
  },
  {
   "cell_type": "markdown",
   "id": "fluid-sector",
   "metadata": {},
   "source": [
    "## <a id='section2'>Cleaning the Data for Model Training</a>\n",
    "Remove the NA data and perform One Hot Encoding"
   ]
  },
  {
   "cell_type": "code",
   "execution_count": 3,
   "id": "moving-halifax",
   "metadata": {},
   "outputs": [
    {
     "name": "stdout",
     "output_type": "stream",
     "text": [
      "Drop feature - too many nulls:\n",
      "LotFrontage\n",
      "Remove data point:\n",
      "['MasVnrArea', 'Electrical', 'GarageYrBlt']\n"
     ]
    },
    {
     "data": {
      "text/html": [
       "<div>\n",
       "<style scoped>\n",
       "    .dataframe tbody tr th:only-of-type {\n",
       "        vertical-align: middle;\n",
       "    }\n",
       "\n",
       "    .dataframe tbody tr th {\n",
       "        vertical-align: top;\n",
       "    }\n",
       "\n",
       "    .dataframe thead th {\n",
       "        text-align: right;\n",
       "    }\n",
       "</style>\n",
       "<table border=\"1\" class=\"dataframe\">\n",
       "  <thead>\n",
       "    <tr style=\"text-align: right;\">\n",
       "      <th></th>\n",
       "      <th>Id</th>\n",
       "      <th>MSSubClass</th>\n",
       "      <th>MSZoning</th>\n",
       "      <th>LotArea</th>\n",
       "      <th>Street</th>\n",
       "      <th>Alley</th>\n",
       "      <th>LotShape</th>\n",
       "      <th>LandContour</th>\n",
       "      <th>Utilities</th>\n",
       "      <th>LotConfig</th>\n",
       "      <th>...</th>\n",
       "      <th>PoolArea</th>\n",
       "      <th>PoolQC</th>\n",
       "      <th>Fence</th>\n",
       "      <th>MiscFeature</th>\n",
       "      <th>MiscVal</th>\n",
       "      <th>MoSold</th>\n",
       "      <th>YrSold</th>\n",
       "      <th>SaleType</th>\n",
       "      <th>SaleCondition</th>\n",
       "      <th>SalePrice</th>\n",
       "    </tr>\n",
       "  </thead>\n",
       "  <tbody>\n",
       "    <tr>\n",
       "      <th>0</th>\n",
       "      <td>1</td>\n",
       "      <td>60</td>\n",
       "      <td>RL</td>\n",
       "      <td>8450</td>\n",
       "      <td>Pave</td>\n",
       "      <td>NaN</td>\n",
       "      <td>Reg</td>\n",
       "      <td>Lvl</td>\n",
       "      <td>AllPub</td>\n",
       "      <td>Inside</td>\n",
       "      <td>...</td>\n",
       "      <td>0</td>\n",
       "      <td>NaN</td>\n",
       "      <td>NaN</td>\n",
       "      <td>NaN</td>\n",
       "      <td>0</td>\n",
       "      <td>2</td>\n",
       "      <td>2008</td>\n",
       "      <td>WD</td>\n",
       "      <td>Normal</td>\n",
       "      <td>208500</td>\n",
       "    </tr>\n",
       "    <tr>\n",
       "      <th>1</th>\n",
       "      <td>2</td>\n",
       "      <td>20</td>\n",
       "      <td>RL</td>\n",
       "      <td>9600</td>\n",
       "      <td>Pave</td>\n",
       "      <td>NaN</td>\n",
       "      <td>Reg</td>\n",
       "      <td>Lvl</td>\n",
       "      <td>AllPub</td>\n",
       "      <td>FR2</td>\n",
       "      <td>...</td>\n",
       "      <td>0</td>\n",
       "      <td>NaN</td>\n",
       "      <td>NaN</td>\n",
       "      <td>NaN</td>\n",
       "      <td>0</td>\n",
       "      <td>5</td>\n",
       "      <td>2007</td>\n",
       "      <td>WD</td>\n",
       "      <td>Normal</td>\n",
       "      <td>181500</td>\n",
       "    </tr>\n",
       "    <tr>\n",
       "      <th>2</th>\n",
       "      <td>3</td>\n",
       "      <td>60</td>\n",
       "      <td>RL</td>\n",
       "      <td>11250</td>\n",
       "      <td>Pave</td>\n",
       "      <td>NaN</td>\n",
       "      <td>IR1</td>\n",
       "      <td>Lvl</td>\n",
       "      <td>AllPub</td>\n",
       "      <td>Inside</td>\n",
       "      <td>...</td>\n",
       "      <td>0</td>\n",
       "      <td>NaN</td>\n",
       "      <td>NaN</td>\n",
       "      <td>NaN</td>\n",
       "      <td>0</td>\n",
       "      <td>9</td>\n",
       "      <td>2008</td>\n",
       "      <td>WD</td>\n",
       "      <td>Normal</td>\n",
       "      <td>223500</td>\n",
       "    </tr>\n",
       "    <tr>\n",
       "      <th>3</th>\n",
       "      <td>4</td>\n",
       "      <td>70</td>\n",
       "      <td>RL</td>\n",
       "      <td>9550</td>\n",
       "      <td>Pave</td>\n",
       "      <td>NaN</td>\n",
       "      <td>IR1</td>\n",
       "      <td>Lvl</td>\n",
       "      <td>AllPub</td>\n",
       "      <td>Corner</td>\n",
       "      <td>...</td>\n",
       "      <td>0</td>\n",
       "      <td>NaN</td>\n",
       "      <td>NaN</td>\n",
       "      <td>NaN</td>\n",
       "      <td>0</td>\n",
       "      <td>2</td>\n",
       "      <td>2006</td>\n",
       "      <td>WD</td>\n",
       "      <td>Abnorml</td>\n",
       "      <td>140000</td>\n",
       "    </tr>\n",
       "    <tr>\n",
       "      <th>4</th>\n",
       "      <td>5</td>\n",
       "      <td>60</td>\n",
       "      <td>RL</td>\n",
       "      <td>14260</td>\n",
       "      <td>Pave</td>\n",
       "      <td>NaN</td>\n",
       "      <td>IR1</td>\n",
       "      <td>Lvl</td>\n",
       "      <td>AllPub</td>\n",
       "      <td>FR2</td>\n",
       "      <td>...</td>\n",
       "      <td>0</td>\n",
       "      <td>NaN</td>\n",
       "      <td>NaN</td>\n",
       "      <td>NaN</td>\n",
       "      <td>0</td>\n",
       "      <td>12</td>\n",
       "      <td>2008</td>\n",
       "      <td>WD</td>\n",
       "      <td>Normal</td>\n",
       "      <td>250000</td>\n",
       "    </tr>\n",
       "    <tr>\n",
       "      <th>...</th>\n",
       "      <td>...</td>\n",
       "      <td>...</td>\n",
       "      <td>...</td>\n",
       "      <td>...</td>\n",
       "      <td>...</td>\n",
       "      <td>...</td>\n",
       "      <td>...</td>\n",
       "      <td>...</td>\n",
       "      <td>...</td>\n",
       "      <td>...</td>\n",
       "      <td>...</td>\n",
       "      <td>...</td>\n",
       "      <td>...</td>\n",
       "      <td>...</td>\n",
       "      <td>...</td>\n",
       "      <td>...</td>\n",
       "      <td>...</td>\n",
       "      <td>...</td>\n",
       "      <td>...</td>\n",
       "      <td>...</td>\n",
       "      <td>...</td>\n",
       "    </tr>\n",
       "    <tr>\n",
       "      <th>1455</th>\n",
       "      <td>1456</td>\n",
       "      <td>60</td>\n",
       "      <td>RL</td>\n",
       "      <td>7917</td>\n",
       "      <td>Pave</td>\n",
       "      <td>NaN</td>\n",
       "      <td>Reg</td>\n",
       "      <td>Lvl</td>\n",
       "      <td>AllPub</td>\n",
       "      <td>Inside</td>\n",
       "      <td>...</td>\n",
       "      <td>0</td>\n",
       "      <td>NaN</td>\n",
       "      <td>NaN</td>\n",
       "      <td>NaN</td>\n",
       "      <td>0</td>\n",
       "      <td>8</td>\n",
       "      <td>2007</td>\n",
       "      <td>WD</td>\n",
       "      <td>Normal</td>\n",
       "      <td>175000</td>\n",
       "    </tr>\n",
       "    <tr>\n",
       "      <th>1456</th>\n",
       "      <td>1457</td>\n",
       "      <td>20</td>\n",
       "      <td>RL</td>\n",
       "      <td>13175</td>\n",
       "      <td>Pave</td>\n",
       "      <td>NaN</td>\n",
       "      <td>Reg</td>\n",
       "      <td>Lvl</td>\n",
       "      <td>AllPub</td>\n",
       "      <td>Inside</td>\n",
       "      <td>...</td>\n",
       "      <td>0</td>\n",
       "      <td>NaN</td>\n",
       "      <td>MnPrv</td>\n",
       "      <td>NaN</td>\n",
       "      <td>0</td>\n",
       "      <td>2</td>\n",
       "      <td>2010</td>\n",
       "      <td>WD</td>\n",
       "      <td>Normal</td>\n",
       "      <td>210000</td>\n",
       "    </tr>\n",
       "    <tr>\n",
       "      <th>1457</th>\n",
       "      <td>1458</td>\n",
       "      <td>70</td>\n",
       "      <td>RL</td>\n",
       "      <td>9042</td>\n",
       "      <td>Pave</td>\n",
       "      <td>NaN</td>\n",
       "      <td>Reg</td>\n",
       "      <td>Lvl</td>\n",
       "      <td>AllPub</td>\n",
       "      <td>Inside</td>\n",
       "      <td>...</td>\n",
       "      <td>0</td>\n",
       "      <td>NaN</td>\n",
       "      <td>GdPrv</td>\n",
       "      <td>Shed</td>\n",
       "      <td>2500</td>\n",
       "      <td>5</td>\n",
       "      <td>2010</td>\n",
       "      <td>WD</td>\n",
       "      <td>Normal</td>\n",
       "      <td>266500</td>\n",
       "    </tr>\n",
       "    <tr>\n",
       "      <th>1458</th>\n",
       "      <td>1459</td>\n",
       "      <td>20</td>\n",
       "      <td>RL</td>\n",
       "      <td>9717</td>\n",
       "      <td>Pave</td>\n",
       "      <td>NaN</td>\n",
       "      <td>Reg</td>\n",
       "      <td>Lvl</td>\n",
       "      <td>AllPub</td>\n",
       "      <td>Inside</td>\n",
       "      <td>...</td>\n",
       "      <td>0</td>\n",
       "      <td>NaN</td>\n",
       "      <td>NaN</td>\n",
       "      <td>NaN</td>\n",
       "      <td>0</td>\n",
       "      <td>4</td>\n",
       "      <td>2010</td>\n",
       "      <td>WD</td>\n",
       "      <td>Normal</td>\n",
       "      <td>142125</td>\n",
       "    </tr>\n",
       "    <tr>\n",
       "      <th>1459</th>\n",
       "      <td>1460</td>\n",
       "      <td>20</td>\n",
       "      <td>RL</td>\n",
       "      <td>9937</td>\n",
       "      <td>Pave</td>\n",
       "      <td>NaN</td>\n",
       "      <td>Reg</td>\n",
       "      <td>Lvl</td>\n",
       "      <td>AllPub</td>\n",
       "      <td>Inside</td>\n",
       "      <td>...</td>\n",
       "      <td>0</td>\n",
       "      <td>NaN</td>\n",
       "      <td>NaN</td>\n",
       "      <td>NaN</td>\n",
       "      <td>0</td>\n",
       "      <td>6</td>\n",
       "      <td>2008</td>\n",
       "      <td>WD</td>\n",
       "      <td>Normal</td>\n",
       "      <td>147500</td>\n",
       "    </tr>\n",
       "  </tbody>\n",
       "</table>\n",
       "<p>1370 rows × 80 columns</p>\n",
       "</div>"
      ],
      "text/plain": [
       "        Id  MSSubClass MSZoning  LotArea Street Alley LotShape LandContour  \\\n",
       "0        1          60       RL     8450   Pave   NaN      Reg         Lvl   \n",
       "1        2          20       RL     9600   Pave   NaN      Reg         Lvl   \n",
       "2        3          60       RL    11250   Pave   NaN      IR1         Lvl   \n",
       "3        4          70       RL     9550   Pave   NaN      IR1         Lvl   \n",
       "4        5          60       RL    14260   Pave   NaN      IR1         Lvl   \n",
       "...    ...         ...      ...      ...    ...   ...      ...         ...   \n",
       "1455  1456          60       RL     7917   Pave   NaN      Reg         Lvl   \n",
       "1456  1457          20       RL    13175   Pave   NaN      Reg         Lvl   \n",
       "1457  1458          70       RL     9042   Pave   NaN      Reg         Lvl   \n",
       "1458  1459          20       RL     9717   Pave   NaN      Reg         Lvl   \n",
       "1459  1460          20       RL     9937   Pave   NaN      Reg         Lvl   \n",
       "\n",
       "     Utilities LotConfig  ... PoolArea PoolQC  Fence MiscFeature MiscVal  \\\n",
       "0       AllPub    Inside  ...        0    NaN    NaN         NaN       0   \n",
       "1       AllPub       FR2  ...        0    NaN    NaN         NaN       0   \n",
       "2       AllPub    Inside  ...        0    NaN    NaN         NaN       0   \n",
       "3       AllPub    Corner  ...        0    NaN    NaN         NaN       0   \n",
       "4       AllPub       FR2  ...        0    NaN    NaN         NaN       0   \n",
       "...        ...       ...  ...      ...    ...    ...         ...     ...   \n",
       "1455    AllPub    Inside  ...        0    NaN    NaN         NaN       0   \n",
       "1456    AllPub    Inside  ...        0    NaN  MnPrv         NaN       0   \n",
       "1457    AllPub    Inside  ...        0    NaN  GdPrv        Shed    2500   \n",
       "1458    AllPub    Inside  ...        0    NaN    NaN         NaN       0   \n",
       "1459    AllPub    Inside  ...        0    NaN    NaN         NaN       0   \n",
       "\n",
       "     MoSold  YrSold  SaleType  SaleCondition  SalePrice  \n",
       "0         2    2008        WD         Normal     208500  \n",
       "1         5    2007        WD         Normal     181500  \n",
       "2         9    2008        WD         Normal     223500  \n",
       "3         2    2006        WD        Abnorml     140000  \n",
       "4        12    2008        WD         Normal     250000  \n",
       "...     ...     ...       ...            ...        ...  \n",
       "1455      8    2007        WD         Normal     175000  \n",
       "1456      2    2010        WD         Normal     210000  \n",
       "1457      5    2010        WD         Normal     266500  \n",
       "1458      4    2010        WD         Normal     142125  \n",
       "1459      6    2008        WD         Normal     147500  \n",
       "\n",
       "[1370 rows x 80 columns]"
      ]
     },
     "execution_count": 3,
     "metadata": {},
     "output_type": "execute_result"
    }
   ],
   "source": [
    "nullData = [['LotFrontage', 259], ['MasVnrArea', 8], ['Electrical', 1], ['GarageYrBlt', 81]]\n",
    "n = len(train)\n",
    "treshold = 0.1\n",
    "drop = []\n",
    "\n",
    "print('Drop feature - too many nulls:')\n",
    "for i in nullData:\n",
    "    if i[1]/n > treshold: # Arbitrary treshold: 10%\n",
    "        print(i[0])\n",
    "        train.drop(columns=[i[0]], inplace=True)\n",
    "    else:\n",
    "        drop.append(i[0])\n",
    "        \n",
    "print('Remove data point:')\n",
    "print(drop)\n",
    "train.dropna(subset=drop, inplace=True)\n",
    "\n",
    "train"
   ]
  },
  {
   "cell_type": "code",
   "execution_count": 4,
   "id": "cardiac-starter",
   "metadata": {},
   "outputs": [
    {
     "name": "stdout",
     "output_type": "stream",
     "text": [
      "        Id  LotArea  YearBuilt  YearRemodAdd  MasVnrArea  BsmtFinSF1  \\\n",
      "0        1     8450       2003          2003       196.0         706   \n",
      "1        2     9600       1976          1976         0.0         978   \n",
      "2        3    11250       2001          2002       162.0         486   \n",
      "3        4     9550       1915          1970         0.0         216   \n",
      "4        5    14260       2000          2000       350.0         655   \n",
      "...    ...      ...        ...           ...         ...         ...   \n",
      "1455  1456     7917       1999          2000         0.0           0   \n",
      "1456  1457    13175       1978          1988       119.0         790   \n",
      "1457  1458     9042       1941          2006         0.0         275   \n",
      "1458  1459     9717       1950          1996         0.0          49   \n",
      "1459  1460     9937       1965          1965         0.0         830   \n",
      "\n",
      "      BsmtFinSF2  BsmtUnfSF  TotalBsmtSF  1stFlrSF  ...  SaleType_ConLw  \\\n",
      "0              0        150          856       856  ...               0   \n",
      "1              0        284         1262      1262  ...               0   \n",
      "2              0        434          920       920  ...               0   \n",
      "3              0        540          756       961  ...               0   \n",
      "4              0        490         1145      1145  ...               0   \n",
      "...          ...        ...          ...       ...  ...             ...   \n",
      "1455           0        953          953       953  ...               0   \n",
      "1456         163        589         1542      2073  ...               0   \n",
      "1457           0        877         1152      1188  ...               0   \n",
      "1458        1029          0         1078      1078  ...               0   \n",
      "1459         290        136         1256      1256  ...               0   \n",
      "\n",
      "      SaleType_New  SaleType_Oth  SaleType_WD  SaleCondition_Abnorml  \\\n",
      "0                0             0            1                      0   \n",
      "1                0             0            1                      0   \n",
      "2                0             0            1                      0   \n",
      "3                0             0            1                      1   \n",
      "4                0             0            1                      0   \n",
      "...            ...           ...          ...                    ...   \n",
      "1455             0             0            1                      0   \n",
      "1456             0             0            1                      0   \n",
      "1457             0             0            1                      0   \n",
      "1458             0             0            1                      0   \n",
      "1459             0             0            1                      0   \n",
      "\n",
      "      SaleCondition_AdjLand  SaleCondition_Alloca  SaleCondition_Family  \\\n",
      "0                         0                     0                     0   \n",
      "1                         0                     0                     0   \n",
      "2                         0                     0                     0   \n",
      "3                         0                     0                     0   \n",
      "4                         0                     0                     0   \n",
      "...                     ...                   ...                   ...   \n",
      "1455                      0                     0                     0   \n",
      "1456                      0                     0                     0   \n",
      "1457                      0                     0                     0   \n",
      "1458                      0                     0                     0   \n",
      "1459                      0                     0                     0   \n",
      "\n",
      "      SaleCondition_Normal  SaleCondition_Partial  \n",
      "0                        1                      0  \n",
      "1                        1                      0  \n",
      "2                        1                      0  \n",
      "3                        0                      0  \n",
      "4                        1                      0  \n",
      "...                    ...                    ...  \n",
      "1455                     1                      0  \n",
      "1456                     1                      0  \n",
      "1457                     1                      0  \n",
      "1458                     1                      0  \n",
      "1459                     1                      0  \n",
      "\n",
      "[1370 rows x 316 columns]\n"
     ]
    }
   ],
   "source": [
    "#One-Hot encoding\n",
    "categoricalcolumns = ['MSSubClass', 'MSZoning', 'Street', 'Alley', 'LotShape', 'LandContour', 'Utilities', 'LotConfig', 'LandSlope', 'Neighborhood', 'Condition1', 'Condition2', 'BldgType', 'HouseStyle', 'OverallQual', 'OverallCond', 'RoofStyle', 'RoofMatl', 'Exterior1st', 'Exterior2nd', 'MasVnrType', 'ExterQual', 'ExterCond','Foundation', 'BsmtQual', 'BsmtCond', 'BsmtExposure', 'BsmtFinType1', 'BsmtFinType2', 'Heating', 'HeatingQC', 'CentralAir', 'Electrical', 'KitchenQual', 'Functional', 'FireplaceQu', 'GarageType', 'GarageFinish', 'GarageQual', 'GarageCond', 'PavedDrive', 'PoolQC', 'Fence', 'MiscFeature', 'SaleType', 'SaleCondition']\n",
    "train1 = pd.get_dummies(train, columns= categoricalcolumns, prefix= categoricalcolumns)\n",
    "print(train1)"
   ]
  },
  {
   "cell_type": "markdown",
   "id": "floral-satisfaction",
   "metadata": {},
   "source": [
    "## <a id='section3'>Gradient Descent</a> \n",
    "*insert description*\n"
   ]
  },
  {
   "cell_type": "code",
   "execution_count": 5,
   "id": "cardiovascular-medicare",
   "metadata": {},
   "outputs": [],
   "source": [
    "#train-test split\n",
    "TEST_SIZE = 0.2\n",
    "\n",
    "filteredData1 = train1.drop(['Id'], axis=1)\n",
    "train_df, test_df = train_test_split(filteredData1, test_size=TEST_SIZE)\n",
    "\n",
    "train_X = train_df.drop('SalePrice', axis=1)\n",
    "train_Y = train_df['SalePrice']\n",
    "test_X = test_df.drop('SalePrice', axis=1)\n",
    "test_Y = test_df['SalePrice']\n",
    "\n",
    "# initialisation for training data\n",
    "x_train=train_X.to_numpy()\n",
    "y_train=train_Y.to_numpy()[:,None]\n",
    "n_train=x_train.shape[0]\n",
    "f_train=x_train.shape[1]\n",
    "X = np.ones([n_train,f_train+1]) \n",
    "X[:,1:] = x_train\n",
    "\n",
    "# initialisation for test data \n",
    "x_test=test_X.to_numpy()\n",
    "y_test=test_Y.to_numpy()[:,None]\n",
    "n_test=x_test.shape[0]\n",
    "f_test=x_test.shape[1]\n",
    "X_test = np.ones([n_test,f_test+1]) \n",
    "X_test[:,1:] = x_test"
   ]
  },
  {
   "cell_type": "code",
   "execution_count": 6,
   "id": "tough-expression",
   "metadata": {},
   "outputs": [],
   "source": [
    "# predictive function definition\n",
    "def f_pred(X,w): \n",
    "    f = X.dot(w)\n",
    "    return f \n",
    "\n",
    "# loss function definition\n",
    "def loss_mse(y_pred,y): \n",
    "    n = len(y)\n",
    "    loss = 1/n* (y_pred - y).T.dot(y_pred - y) \n",
    "    return loss\n",
    "\n",
    "# loss function definition\n",
    "def loss_rmse(y_pred,y): \n",
    "    n = len(y)\n",
    "    loss = 1/n* (y_pred - y).T.dot(y_pred - y) \n",
    "    return math.sqrt(loss)\n",
    "\n",
    "# gradient function definition\n",
    "def grad_loss(y_pred,y,X):\n",
    "    n = len(y)\n",
    "    grad = 2/n* X.T.dot(y_pred-y)\n",
    "    return grad\n",
    "\n",
    "# gradient descent function definition\n",
    "def grad_desc(X, y , w_init=np.zeros(X.shape[1])[:,None] ,tau=0.01, max_iter=1000000,threshold=10**(3)):\n",
    "\n",
    "    L_iters = np.zeros([max_iter]) # record the loss values\n",
    "    w_iters = np.zeros([max_iter,X.shape[1]]) # record the loss values\n",
    "    w = w_init # initialization\n",
    "    break_condition=False\n",
    "    for i in range(max_iter): # loop over the iterations\n",
    "        y_pred = f_pred(X,w) # linear predicition function\n",
    "        grad_f = grad_loss(y_pred,y,X) # gradient of the loss \n",
    "        w = w - tau* grad_f # update rule of gradient descent \n",
    "        L_iters[i] = loss_mse(y_pred,y) # save the current loss value \n",
    "        w_iters[i,:] = w.squeeze() # save the current w value \n",
    "        #stopping condition 1 \n",
    "        if i>0:\n",
    "            if (abs(L_iters[i]-L_iters[i-1])< threshold):\n",
    "                L_iters=L_iters[:i+1]\n",
    "                w_iters=w_iters[:i+1,:]\n",
    "                break_condition=True\n",
    "        #stopping condition 2\n",
    "        if score(y_pred,y)-score(f_pred(X,w_iters[i-1]),y)<0.05:\n",
    "                L_iters=L_iters[:i+1]\n",
    "                w_iters=w_iters[:i+1,:]\n",
    "                break_condition=True\n",
    "        if break_condition==True:\n",
    "            break\n",
    "\n",
    "    return w, L_iters, w_iters\n",
    "\n",
    "def score(y_pred,y_true):\n",
    "    u=((y_true - y_pred) ** 2).sum()\n",
    "    v=((y_true - y_true.mean()) ** 2).sum()\n",
    "    return (1-u/v)"
   ]
  },
  {
   "cell_type": "code",
   "execution_count": 7,
   "id": "cathedral-buying",
   "metadata": {},
   "outputs": [
    {
     "data": {
      "image/png": "[encoded data removed]",
      "text/plain": [
       "<Figure size 432x288 with 1 Axes>"
      ]
     },
     "metadata": {},
     "output_type": "display_data"
    },
    {
     "name": "stdout",
     "output_type": "stream",
     "text": [
      "train loss mse = 3514670937.4179525\n",
      "train accuracy score =  0.4477716216830726\n",
      "test mse loss = [[3.19596885e+09]]\n",
      "test accuracy score =  0.4335604849228535\n"
     ]
    }
   ],
   "source": [
    "# run gradient descent algorithm \n",
    "tau = 0.000000001\n",
    "w_init= np.ones(X.shape[1])[:,None]*0\n",
    "max_iter = 400\n",
    "w, L_iters, w_iters = grad_desc(X,y_train,w_init,tau,max_iter)\n",
    "\n",
    "# plot\n",
    "plt.figure(2)\n",
    "plt.plot(np.array(range(L_iters.shape[0])), L_iters)\n",
    "plt.xlabel('Iterations')\n",
    "plt.ylabel('Loss')\n",
    "plt.show()\n",
    "\n",
    "# calculating loss and accuracy\n",
    "print('train loss mse =',L_iters[-1])\n",
    "y_train_pred=f_pred(X,w)\n",
    "print(\"train accuracy score = \",score(y_train_pred,y_train))\n",
    "\n",
    "y_test_pred=f_pred(X_test,w)\n",
    "test_loss = loss_mse(y_test_pred,y_test)\n",
    "print('test mse loss =',test_loss)\n",
    "print(\"test accuracy score = \",score(y_test_pred,y_test))\n",
    "\n"
   ]
  },
  {
   "cell_type": "code",
   "execution_count": 8,
   "id": "connected-timer",
   "metadata": {},
   "outputs": [
    {
     "data": {
      "text/html": [
       "<div>\n",
       "<style scoped>\n",
       "    .dataframe tbody tr th:only-of-type {\n",
       "        vertical-align: middle;\n",
       "    }\n",
       "\n",
       "    .dataframe tbody tr th {\n",
       "        vertical-align: top;\n",
       "    }\n",
       "\n",
       "    .dataframe thead th {\n",
       "        text-align: right;\n",
       "    }\n",
       "</style>\n",
       "<table border=\"1\" class=\"dataframe\">\n",
       "  <thead>\n",
       "    <tr style=\"text-align: right;\">\n",
       "      <th></th>\n",
       "      <th>Real Values</th>\n",
       "      <th>Predicted Values</th>\n",
       "    </tr>\n",
       "  </thead>\n",
       "  <tbody>\n",
       "    <tr>\n",
       "      <th>983</th>\n",
       "      <td>255900</td>\n",
       "      <td>216472.855279</td>\n",
       "    </tr>\n",
       "    <tr>\n",
       "      <th>1165</th>\n",
       "      <td>233170</td>\n",
       "      <td>200129.712311</td>\n",
       "    </tr>\n",
       "    <tr>\n",
       "      <th>141</th>\n",
       "      <td>260000</td>\n",
       "      <td>216162.973200</td>\n",
       "    </tr>\n",
       "    <tr>\n",
       "      <th>365</th>\n",
       "      <td>147000</td>\n",
       "      <td>169127.366187</td>\n",
       "    </tr>\n",
       "    <tr>\n",
       "      <th>577</th>\n",
       "      <td>164500</td>\n",
       "      <td>181190.146777</td>\n",
       "    </tr>\n",
       "    <tr>\n",
       "      <th>...</th>\n",
       "      <td>...</td>\n",
       "      <td>...</td>\n",
       "    </tr>\n",
       "    <tr>\n",
       "      <th>9</th>\n",
       "      <td>118000</td>\n",
       "      <td>164280.508479</td>\n",
       "    </tr>\n",
       "    <tr>\n",
       "      <th>480</th>\n",
       "      <td>326000</td>\n",
       "      <td>230336.250660</td>\n",
       "    </tr>\n",
       "    <tr>\n",
       "      <th>849</th>\n",
       "      <td>187000</td>\n",
       "      <td>186329.750283</td>\n",
       "    </tr>\n",
       "    <tr>\n",
       "      <th>176</th>\n",
       "      <td>211000</td>\n",
       "      <td>208317.342702</td>\n",
       "    </tr>\n",
       "    <tr>\n",
       "      <th>764</th>\n",
       "      <td>270000</td>\n",
       "      <td>189048.031934</td>\n",
       "    </tr>\n",
       "  </tbody>\n",
       "</table>\n",
       "<p>274 rows × 2 columns</p>\n",
       "</div>"
      ],
      "text/plain": [
       "      Real Values  Predicted Values\n",
       "983        255900     216472.855279\n",
       "1165       233170     200129.712311\n",
       "141        260000     216162.973200\n",
       "365        147000     169127.366187\n",
       "577        164500     181190.146777\n",
       "...           ...               ...\n",
       "9          118000     164280.508479\n",
       "480        326000     230336.250660\n",
       "849        187000     186329.750283\n",
       "176        211000     208317.342702\n",
       "764        270000     189048.031934\n",
       "\n",
       "[274 rows x 2 columns]"
      ]
     },
     "execution_count": 8,
     "metadata": {},
     "output_type": "execute_result"
    }
   ],
   "source": [
    "#comparing the actual and the predicted SalePrice values\n",
    "df = pd.DataFrame({'Real Values':test_Y, 'Predicted Values':y_test_pred.reshape(-1)})\n",
    "df"
   ]
  },
  {
   "cell_type": "code",
   "execution_count": 9,
   "id": "bizarre-roman",
   "metadata": {},
   "outputs": [
    {
     "name": "stdout",
     "output_type": "stream",
     "text": [
      "Mean square error (MSE) =  3195968852.127116\n",
      "Root mean square error (RMSE) =  56532.900616606574\n",
      "Mean absolute error (MBS) =  40993.48366273863\n",
      "The MBS occupies  0.2256469300407508  of the average SalePrice value\n"
     ]
    }
   ],
   "source": [
    "#Accuracy report\n",
    "realVals = df[\"Real Values\"]\n",
    "predictedVals = df[\"Predicted Values\"]\n",
    "mse = mean_squared_error(realVals, predictedVals)\n",
    "rmse = math.sqrt(mse)\n",
    "print (\"Mean square error (MSE) = \", mse)\n",
    "print (\"Root mean square error (RMSE) = \", rmse)\n",
    "average_y = mean(realVals)\n",
    "mbs = mean_absolute_error(realVals, predictedVals)\n",
    "print(\"Mean absolute error (MBS) = \", mbs)\n",
    "print (\"The MBS occupies \",(mbs/average_y), \" of the average SalePrice value\")"
   ]
  },
  {
   "cell_type": "code",
   "execution_count": 10,
   "id": "julian-roman",
   "metadata": {},
   "outputs": [],
   "source": [
    "#Applying Standardization (Z-Score method)\n",
    "continuous = ['LotArea', 'YearBuilt', 'YearRemodAdd', \n",
    "       'MasVnrArea', 'BsmtFinSF1', 'BsmtFinSF2', 'BsmtUnfSF', 'TotalBsmtSF', '1stFlrSF', '2ndFlrSF',\n",
    "       'LowQualFinSF', 'GrLivArea', 'BsmtFullBath', 'BsmtHalfBath', 'FullBath',\n",
    "       'HalfBath', 'BedroomAbvGr', 'KitchenAbvGr','TotRmsAbvGrd', 'Fireplaces', \n",
    "       'GarageYrBlt', 'GarageCars', 'GarageArea', 'WoodDeckSF', 'OpenPorchSF',\n",
    "       'EnclosedPorch', '3SsnPorch', 'ScreenPorch', 'PoolArea', 'MiscVal', 'MoSold', 'YrSold']\n",
    "features_stand=train1.copy()\n",
    "for i in continuous:\n",
    "    # fit on training data column\n",
    "    scale = StandardScaler().fit(train1[[i]])\n",
    "    # transform training data column\n",
    "    features_stand[i] = scale.transform(features_stand[[i]])\n",
    "labels = train1['SalePrice']\n",
    "features_stand.drop(['Id', 'SalePrice'], axis=1, inplace=True)"
   ]
  },
  {
   "cell_type": "code",
   "execution_count": 11,
   "id": "liked-istanbul",
   "metadata": {},
   "outputs": [],
   "source": [
    "train_X_stan, test_X_stan, train_Y_stan, test_Y_stan = train_test_split(features_stand,labels,test_size=0.2, random_state=0)"
   ]
  },
  {
   "cell_type": "code",
   "execution_count": 12,
   "id": "hourly-driving",
   "metadata": {},
   "outputs": [],
   "source": [
    "# initialisation for training data\n",
    "x_train_stan=train_X_stan.to_numpy()\n",
    "y_train_stan=train_Y_stan.to_numpy()[:,None]\n",
    "n_train_stan=x_train_stan.shape[0]\n",
    "f_train_stan=x_train_stan.shape[1]\n",
    "X_stan = np.ones([n_train_stan,f_train_stan+1]) \n",
    "X_stan[:,1:] = x_train_stan\n",
    "\n",
    "# initialisation for test data \n",
    "x_test_stan=test_X_stan.to_numpy()\n",
    "y_test_stan=test_Y_stan.to_numpy()[:,None]\n",
    "n_test_stan=x_test_stan.shape[0]\n",
    "f_test_stan=x_test_stan.shape[1]\n",
    "X_test_stan = np.ones([n_test_stan,f_test_stan+1]) \n",
    "X_test_stan[:,1:] = x_test_stan"
   ]
  },
  {
   "cell_type": "code",
   "execution_count": 13,
   "id": "featured-drive",
   "metadata": {},
   "outputs": [
    {
     "data": {
      "image/png": "[encoded data removed]",
      "text/plain": [
       "<Figure size 432x288 with 1 Axes>"
      ]
     },
     "metadata": {},
     "output_type": "display_data"
    },
    {
     "name": "stdout",
     "output_type": "stream",
     "text": [
      "train loss mse = 832336532.1687522\n",
      "train accuracy score =  0.864326224934449\n",
      "test mse loss = [[2.23292675e+09]]\n",
      "test accuracy score =  0.6605929228812941\n"
     ]
    }
   ],
   "source": [
    "#run gradient descent algorithm \n",
    "tau = 0.01\n",
    "w_init= np.ones(X.shape[1])[:,None]*0\n",
    "max_iter = 200\n",
    "w, L_iters, w_iters = grad_desc(X_stan,y_train_stan,w_init,tau,max_iter)\n",
    "\n",
    "# plot\n",
    "plt.figure(2)\n",
    "plt.plot(np.array(range(L_iters.shape[0])), L_iters)\n",
    "plt.xlabel('Iterations')\n",
    "plt.ylabel('Loss')\n",
    "plt.show()\n",
    "\n",
    "# calculating loss and accuracy\n",
    "print('train loss mse =',L_iters[-1])\n",
    "y_train_pred_stan=f_pred(X_stan,w)\n",
    "print(\"train accuracy score = \",score(y_train_pred_stan,y_train_stan))\n",
    "\n",
    "y_test_pred_stan=f_pred(X_test_stan,w)\n",
    "test_loss_stan = loss_mse(y_test_pred_stan,y_test_stan)\n",
    "print('test mse loss =',test_loss_stan)\n",
    "print(\"test accuracy score = \",score(y_test_pred_stan,y_test_stan))\n"
   ]
  },
  {
   "cell_type": "code",
   "execution_count": 14,
   "id": "agricultural-greeting",
   "metadata": {},
   "outputs": [
    {
     "data": {
      "text/html": [
       "<div>\n",
       "<style scoped>\n",
       "    .dataframe tbody tr th:only-of-type {\n",
       "        vertical-align: middle;\n",
       "    }\n",
       "\n",
       "    .dataframe tbody tr th {\n",
       "        vertical-align: top;\n",
       "    }\n",
       "\n",
       "    .dataframe thead th {\n",
       "        text-align: right;\n",
       "    }\n",
       "</style>\n",
       "<table border=\"1\" class=\"dataframe\">\n",
       "  <thead>\n",
       "    <tr style=\"text-align: right;\">\n",
       "      <th></th>\n",
       "      <th>Real Values</th>\n",
       "      <th>Predicted Values</th>\n",
       "    </tr>\n",
       "  </thead>\n",
       "  <tbody>\n",
       "    <tr>\n",
       "      <th>1217</th>\n",
       "      <td>229456</td>\n",
       "      <td>219392.623985</td>\n",
       "    </tr>\n",
       "    <tr>\n",
       "      <th>1065</th>\n",
       "      <td>328000</td>\n",
       "      <td>282428.315718</td>\n",
       "    </tr>\n",
       "    <tr>\n",
       "      <th>1414</th>\n",
       "      <td>207000</td>\n",
       "      <td>183033.552392</td>\n",
       "    </tr>\n",
       "    <tr>\n",
       "      <th>31</th>\n",
       "      <td>149350</td>\n",
       "      <td>141825.011135</td>\n",
       "    </tr>\n",
       "    <tr>\n",
       "      <th>272</th>\n",
       "      <td>290000</td>\n",
       "      <td>296875.972109</td>\n",
       "    </tr>\n",
       "    <tr>\n",
       "      <th>...</th>\n",
       "      <td>...</td>\n",
       "      <td>...</td>\n",
       "    </tr>\n",
       "    <tr>\n",
       "      <th>998</th>\n",
       "      <td>91000</td>\n",
       "      <td>90518.694459</td>\n",
       "    </tr>\n",
       "    <tr>\n",
       "      <th>702</th>\n",
       "      <td>361919</td>\n",
       "      <td>335954.449961</td>\n",
       "    </tr>\n",
       "    <tr>\n",
       "      <th>270</th>\n",
       "      <td>266000</td>\n",
       "      <td>257882.080238</td>\n",
       "    </tr>\n",
       "    <tr>\n",
       "      <th>958</th>\n",
       "      <td>185000</td>\n",
       "      <td>196858.796910</td>\n",
       "    </tr>\n",
       "    <tr>\n",
       "      <th>721</th>\n",
       "      <td>143000</td>\n",
       "      <td>139531.202894</td>\n",
       "    </tr>\n",
       "  </tbody>\n",
       "</table>\n",
       "<p>274 rows × 2 columns</p>\n",
       "</div>"
      ],
      "text/plain": [
       "      Real Values  Predicted Values\n",
       "1217       229456     219392.623985\n",
       "1065       328000     282428.315718\n",
       "1414       207000     183033.552392\n",
       "31         149350     141825.011135\n",
       "272        290000     296875.972109\n",
       "...           ...               ...\n",
       "998         91000      90518.694459\n",
       "702        361919     335954.449961\n",
       "270        266000     257882.080238\n",
       "958        185000     196858.796910\n",
       "721        143000     139531.202894\n",
       "\n",
       "[274 rows x 2 columns]"
      ]
     },
     "execution_count": 14,
     "metadata": {},
     "output_type": "execute_result"
    }
   ],
   "source": [
    "#comparing the actual and the predicted SalePrice values\n",
    "df = pd.DataFrame({'Real Values':test_Y_stan, 'Predicted Values':y_test_pred_stan.reshape(-1)})\n",
    "df"
   ]
  },
  {
   "cell_type": "code",
   "execution_count": 15,
   "id": "loving-offense",
   "metadata": {},
   "outputs": [
    {
     "name": "stdout",
     "output_type": "stream",
     "text": [
      "Mean square error (MSE) =  2232926747.0005603\n",
      "Root mean square error (RMSE) =  47253.85430841129\n",
      "Mean absolute error (MBS) =  20827.37329076261\n",
      "The MBS occupies  0.11075235953864193  of the average SalePrice value\n"
     ]
    }
   ],
   "source": [
    "#Accuracy report\n",
    "realVals = df[\"Real Values\"]\n",
    "predictedVals = df[\"Predicted Values\"]\n",
    "mse = mean_squared_error(realVals, predictedVals)\n",
    "rmse = math.sqrt(mse)\n",
    "print (\"Mean square error (MSE) = \", mse)\n",
    "print (\"Root mean square error (RMSE) = \", rmse)\n",
    "average_y = mean(realVals)\n",
    "mbs = mean_absolute_error(realVals, predictedVals)\n",
    "print(\"Mean absolute error (MBS) = \", mbs)\n",
    "print (\"The MBS occupies \",(mbs/average_y), \" of the average SalePrice value\")"
   ]
  },
  {
   "cell_type": "markdown",
   "id": "threatened-plasma",
   "metadata": {},
   "source": [
    "## <a id='section4'>Support Vector Regression</a>\n",
    "With different kernel type used in the algorithm."
   ]
  },
  {
   "cell_type": "code",
   "execution_count": 16,
   "id": "fuzzy-musical",
   "metadata": {},
   "outputs": [
    {
     "name": "stdout",
     "output_type": "stream",
     "text": [
      "Train accuracy =  -0.04856008721863336\n",
      "Test accuracy =  -0.03074553203970587\n",
      "Root mean square error (RMSE) for training data =  81671.59631448989\n",
      "Root mean square error (RMSE) for testing data =  76260.60183599021\n"
     ]
    }
   ],
   "source": [
    "# applying svr with default rbf kernel\n",
    "regr = make_pipeline(StandardScaler(), SVR(C=0.0001, epsilon=10))\n",
    "regr.fit(x_train, y_train.ravel())\n",
    "# calculating accuracy\n",
    "print (\"Train accuracy = \", regr.score(x_train, y_train))\n",
    "print (\"Test accuracy = \", regr.score(x_test,y_test))\n",
    "predicted_y=regr.predict(x_train)\n",
    "mse = mean_squared_error(y_train, predicted_y)\n",
    "rmse = math.sqrt(mse)\n",
    "print (\"Root mean square error (RMSE) for training data = \", rmse)\n",
    "predicted_y = regr.predict(x_test)\n",
    "mse = mean_squared_error(y_test, predicted_y)\n",
    "rmse = math.sqrt(mse)\n",
    "print (\"Root mean square error (RMSE) for testing data = \", rmse)"
   ]
  },
  {
   "cell_type": "code",
   "execution_count": 17,
   "id": "matched-generation",
   "metadata": {},
   "outputs": [
    {
     "name": "stdout",
     "output_type": "stream",
     "text": [
      "Train accuracy =  0.22809902758210465\n",
      "Test accuracy =  0.2513848134723433\n",
      "Root mean square error (RMSE) for training data =  70073.7205582688\n",
      "Root mean square error (RMSE) for testing data =  64991.0890369372\n"
     ]
    }
   ],
   "source": [
    "# applying svr with polynomial kernel\n",
    "regr = make_pipeline(StandardScaler(), SVR(kernel='poly', C=100, gamma='auto', degree=3, epsilon=.1,\n",
    "               coef0=1))\n",
    "regr.fit(x_train, y_train.ravel())\n",
    "# calculating accuracy\n",
    "print (\"Train accuracy = \", regr.score(x_train, y_train))\n",
    "print (\"Test accuracy = \", regr.score(x_test,y_test))\n",
    "predicted_y=regr.predict(x_train)\n",
    "mse = mean_squared_error(y_train, predicted_y)\n",
    "rmse = math.sqrt(mse)\n",
    "print (\"Root mean square error (RMSE) for training data = \", rmse)\n",
    "predicted_y = regr.predict(x_test)\n",
    "mse = mean_squared_error(y_test, predicted_y)\n",
    "rmse = math.sqrt(mse)\n",
    "print (\"Root mean square error (RMSE) for testing data = \", rmse)"
   ]
  },
  {
   "cell_type": "code",
   "execution_count": 18,
   "id": "physical-motion",
   "metadata": {},
   "outputs": [
    {
     "name": "stdout",
     "output_type": "stream",
     "text": [
      "Train accuracy =  0.04475058169529689\n",
      "Test accuracy =  0.0732443289626209\n",
      "Root mean square error (RMSE) for training data =  77952.98928632253\n",
      "Root mean square error (RMSE) for testing data =  72311.4589627109\n"
     ]
    }
   ],
   "source": [
    "# applying svr with sigmoid kernel\n",
    "regr = make_pipeline(StandardScaler(), SVR(kernel='sigmoid', C=100, gamma='auto'))\n",
    "regr.fit(x_train, y_train.ravel())\n",
    "# calculating accuracy\n",
    "print (\"Train accuracy = \", regr.score(x_train, y_train))\n",
    "print (\"Test accuracy = \", regr.score(x_test,y_test))\n",
    "predicted_y=regr.predict(x_train)\n",
    "mse = mean_squared_error(y_train, predicted_y)\n",
    "rmse = math.sqrt(mse)\n",
    "print (\"Root mean square error (RMSE) for training data = \", rmse)\n",
    "predicted_y = regr.predict(x_test)\n",
    "mse = mean_squared_error(y_test, predicted_y)\n",
    "rmse = math.sqrt(mse)\n",
    "print (\"Root mean square error (RMSE) for testing data = \", rmse)"
   ]
  },
  {
   "cell_type": "code",
   "execution_count": 19,
   "id": "informal-rainbow",
   "metadata": {},
   "outputs": [
    {
     "name": "stdout",
     "output_type": "stream",
     "text": [
      "Train accuracy =  0.8848735338949908\n",
      "Test accuracy =  0.8940437504063221\n",
      "Root mean square error (RMSE) for training data =  27062.129619124567\n",
      "Root mean square error (RMSE) for testing data =  24450.502367914076\n"
     ]
    }
   ],
   "source": [
    "# applying svr with linear kernel\n",
    "regr = make_pipeline(StandardScaler(), SVR(kernel='linear', C=100, gamma='auto'))\n",
    "regr.fit(x_train, y_train.ravel())\n",
    "# calculating accuracy\n",
    "print (\"Train accuracy = \", regr.score(x_train, y_train))\n",
    "print (\"Test accuracy = \", regr.score(x_test,y_test))\n",
    "predicted_y=regr.predict(x_train)\n",
    "mse = mean_squared_error(y_train, predicted_y)\n",
    "rmse = math.sqrt(mse)\n",
    "print (\"Root mean square error (RMSE) for training data = \", rmse)\n",
    "predicted_y = regr.predict(x_test)\n",
    "mse = mean_squared_error(y_test, predicted_y)\n",
    "rmse = math.sqrt(mse)\n",
    "print (\"Root mean square error (RMSE) for testing data = \", rmse)"
   ]
  },
  {
   "cell_type": "code",
   "execution_count": 20,
   "id": "charming-correspondence",
   "metadata": {},
   "outputs": [],
   "source": [
    "best_train_accuracy=regr.score(x_train, y_train)\n",
    "best_test_accuracy=regr.score(x_test,y_test)"
   ]
  },
  {
   "cell_type": "markdown",
   "id": "mediterranean-marathon",
   "metadata": {},
   "source": [
    "Applying Standardization (Z-Score method)"
   ]
  },
  {
   "cell_type": "code",
   "execution_count": 21,
   "id": "historical-paragraph",
   "metadata": {},
   "outputs": [
    {
     "name": "stdout",
     "output_type": "stream",
     "text": [
      "Train accuracy =  -0.05831252036698964\n",
      "Test accuracy =  -0.07681523250212074\n",
      "Root mean square error (RMSE) for training data =  80534.85272417772\n",
      "Root mean square error (RMSE) for testing data =  84168.07339375351\n"
     ]
    }
   ],
   "source": [
    "# applying svr with default rbf kernel on stardardised features\n",
    "regr = make_pipeline(StandardScaler(), SVR(C=1.0, epsilon=0.2))\n",
    "regr.fit(x_train_stan, y_train_stan.ravel())\n",
    "# calculating accuracy\n",
    "print (\"Train accuracy = \", regr.score(x_train_stan, y_train_stan))\n",
    "print (\"Test accuracy = \", regr.score(x_test_stan,y_test_stan))\n",
    "predicted_y=regr.predict(x_train_stan)\n",
    "mse = mean_squared_error(y_train_stan, predicted_y)\n",
    "rmse = math.sqrt(mse)\n",
    "print (\"Root mean square error (RMSE) for training data = \", rmse)\n",
    "predicted_y = regr.predict(x_test_stan)\n",
    "mse = mean_squared_error(y_test_stan, predicted_y)\n",
    "rmse = math.sqrt(mse)\n",
    "print (\"Root mean square error (RMSE) for testing data = \", rmse)"
   ]
  },
  {
   "cell_type": "code",
   "execution_count": 22,
   "id": "dressed-copying",
   "metadata": {},
   "outputs": [
    {
     "name": "stdout",
     "output_type": "stream",
     "text": [
      "Train accuracy =  0.23797390894050652\n",
      "Test accuracy =  0.207467089340319\n",
      "Root mean square error (RMSE) for training data =  68337.9304547899\n",
      "Root mean square error (RMSE) for testing data =  72208.02124671584\n"
     ]
    }
   ],
   "source": [
    "# applying svr with polynomial kernel on stardardised features\n",
    "regr = make_pipeline(StandardScaler(), SVR(kernel='poly', C=100, gamma='auto', degree=3, epsilon=.1,\n",
    "               coef0=1))\n",
    "regr.fit(x_train_stan, y_train_stan.ravel())\n",
    "# calculating accuracy\n",
    "print (\"Train accuracy = \", regr.score(x_train_stan, y_train_stan))\n",
    "print (\"Test accuracy = \", regr.score(x_test_stan,y_test_stan))\n",
    "predicted_y=regr.predict(x_train_stan)\n",
    "mse = mean_squared_error(y_train_stan, predicted_y)\n",
    "rmse = math.sqrt(mse)\n",
    "print (\"Root mean square error (RMSE) for training data = \", rmse)\n",
    "predicted_y = regr.predict(x_test_stan)\n",
    "mse = mean_squared_error(y_test_stan, predicted_y)\n",
    "rmse = math.sqrt(mse)\n",
    "print (\"Root mean square error (RMSE) for testing data = \", rmse)"
   ]
  },
  {
   "cell_type": "code",
   "execution_count": 23,
   "id": "external-israel",
   "metadata": {},
   "outputs": [
    {
     "name": "stdout",
     "output_type": "stream",
     "text": [
      "Train accuracy =  0.04162426572832145\n",
      "Test accuracy =  0.02641884961302332\n",
      "Root mean square error (RMSE) for training data =  76638.11359445099\n",
      "Root mean square error (RMSE) for testing data =  80031.8524803206\n"
     ]
    }
   ],
   "source": [
    "# applying svr with sigmoid kernel on stardardised features\n",
    "regr = make_pipeline(StandardScaler(), SVR(kernel='sigmoid', C=100, gamma='auto'))\n",
    "regr.fit(x_train_stan, y_train_stan.ravel())\n",
    "# calculating accuracy\n",
    "print (\"Train accuracy = \", regr.score(x_train_stan, y_train_stan))\n",
    "print (\"Test accuracy = \", regr.score(x_test_stan,y_test_stan))\n",
    "predicted_y=regr.predict(x_train_stan)\n",
    "mse = mean_squared_error(y_train_stan, predicted_y)\n",
    "rmse = math.sqrt(mse)\n",
    "print (\"Root mean square error (RMSE) for training data = \", rmse)\n",
    "predicted_y = regr.predict(x_test_stan)\n",
    "mse = mean_squared_error(y_test_stan, predicted_y)\n",
    "rmse = math.sqrt(mse)\n",
    "print (\"Root mean square error (RMSE) for testing data = \", rmse)"
   ]
  },
  {
   "cell_type": "code",
   "execution_count": 24,
   "id": "unlimited-biology",
   "metadata": {},
   "outputs": [
    {
     "name": "stdout",
     "output_type": "stream",
     "text": [
      "Train accuracy =  0.9007669880661787\n",
      "Test accuracy =  0.7367579264541054\n",
      "Root mean square error (RMSE) for training data =  24660.676630671045\n",
      "Root mean square error (RMSE) for testing data =  41615.43538460315\n",
      "1731844462.25008\n"
     ]
    }
   ],
   "source": [
    "# applying svr with linear kernel on stardardised features\n",
    "regr = make_pipeline(StandardScaler(), SVR(kernel='linear', C=100, gamma='auto'))\n",
    "regr.fit(x_train_stan, y_train_stan.ravel())\n",
    "# calculating accuracy\n",
    "print (\"Train accuracy = \", regr.score(x_train_stan, y_train_stan))\n",
    "print (\"Test accuracy = \", regr.score(x_test_stan,y_test_stan))\n",
    "predicted_y=regr.predict(x_train_stan)\n",
    "mse = mean_squared_error(y_train_stan, predicted_y)\n",
    "rmse = math.sqrt(mse)\n",
    "print (\"Root mean square error (RMSE) for training data = \", rmse)\n",
    "predicted_y = regr.predict(x_test_stan)\n",
    "mse = mean_squared_error(y_test_stan, predicted_y)\n",
    "rmse = math.sqrt(mse)\n",
    "print (\"Root mean square error (RMSE) for testing data = \", rmse)\n",
    "print(mse)"
   ]
  },
  {
   "cell_type": "code",
   "execution_count": 25,
   "id": "sapphire-public",
   "metadata": {},
   "outputs": [],
   "source": [
    "best_train_accuracy_new=regr.score(x_train_stan, y_train_stan)\n",
    "best_test_accuracy_new=regr.score(x_test_stan,y_test_stan)"
   ]
  },
  {
   "cell_type": "markdown",
   "id": "significant-kruger",
   "metadata": {},
   "source": [
    "We then check if there is an improvement in accuracy after Z-score standardization"
   ]
  },
  {
   "cell_type": "code",
   "execution_count": 26,
   "id": "faced-cookie",
   "metadata": {},
   "outputs": [
    {
     "name": "stdout",
     "output_type": "stream",
     "text": [
      "Train accuracy improvement = 1.7961271935921663 %\n",
      "Test accuracy improvement = -17.59263166715655 %\n"
     ]
    }
   ],
   "source": [
    "#improvement in accuracy\n",
    "train_improvement = (best_train_accuracy_new - best_train_accuracy)/best_train_accuracy*100\n",
    "test_improvement = (best_test_accuracy_new - best_test_accuracy)/best_test_accuracy*100\n",
    "print (\"Train accuracy improvement =\", train_improvement,\"%\")\n",
    "print (\"Test accuracy improvement =\", test_improvement,\"%\")"
   ]
  },
  {
   "cell_type": "markdown",
   "id": "dependent-street",
   "metadata": {},
   "source": [
    "## <a id='section5'>Reducing dimension: Feature selection</a>\n",
    "Selecting features that has some correlation with SalesPrice\n",
    "Setting the corelation threshold as 0.3  "
   ]
  },
  {
   "cell_type": "code",
   "execution_count": 27,
   "id": "danish-hindu",
   "metadata": {},
   "outputs": [
    {
     "name": "stdout",
     "output_type": "stream",
     "text": [
      "GrLivArea            0.709783\n",
      "GarageCars           0.636173\n",
      "GarageArea           0.607197\n",
      "TotalBsmtSF          0.603284\n",
      "1stFlrSF             0.596087\n",
      "                       ...   \n",
      "OverallQual_5       -0.383080\n",
      "GarageType_Detchd   -0.406550\n",
      "BsmtQual_TA         -0.456964\n",
      "GarageFinish_Unf    -0.485273\n",
      "KitchenQual_TA      -0.527689\n",
      "Name: SalePrice, Length: 314, dtype: float64\n",
      "47\n"
     ]
    }
   ],
   "source": [
    "# variables most closely related to SalePrice\n",
    "corr = train1.corr()['SalePrice']\n",
    "feature_select=[]\n",
    "corrshape=corr.nlargest(corr.shape[0])[1:corr.shape[0]].shape[0]\n",
    "for i in range(corrshape-1):\n",
    "    if (abs(corr.nlargest(corrshape)[1:corrshape][i])>0.3):\n",
    "        feature_select.append(corr.nlargest(corrshape)[1:corrshape].axes[0][i])\n",
    "print(corr.nlargest(corrshape)[1:corrshape])\n",
    "print(len(feature_select))"
   ]
  },
  {
   "cell_type": "code",
   "execution_count": 28,
   "id": "respective-shannon",
   "metadata": {},
   "outputs": [],
   "source": [
    "#train-test split\n",
    "TEST_SIZE = 0.2\n",
    "\n",
    "filteredData2 = train1.drop(['Id'], axis=1)[feature_select+['SalePrice']]\n",
    "train_df, test_df = train_test_split(filteredData2, test_size=TEST_SIZE)\n",
    "\n",
    "train_X = train_df.drop('SalePrice', axis=1)\n",
    "train_Y = train_df['SalePrice']\n",
    "test_X = test_df.drop('SalePrice', axis=1)\n",
    "test_Y = test_df['SalePrice']\n",
    "\n",
    "# initialisation for training data\n",
    "x_train=train_X.to_numpy()\n",
    "y_train=train_Y.to_numpy()[:,None]\n",
    "n_train=x_train.shape[0]\n",
    "f_train=x_train.shape[1]\n",
    "X = np.ones([n_train,f_train+1]) \n",
    "X[:,1:] = x_train\n",
    "\n",
    "# initialisation for test data \n",
    "x_test=test_X.to_numpy()\n",
    "y_test=test_Y.to_numpy()[:,None]\n",
    "n_test=x_test.shape[0]\n",
    "f_test=x_test.shape[1]\n",
    "X_test = np.ones([n_test,f_test+1]) \n",
    "X_test[:,1:] = x_test"
   ]
  },
  {
   "cell_type": "markdown",
   "id": "appreciated-approval",
   "metadata": {},
   "source": [
    "## <a id='section6'>Hyperparameter tuning for gradient descent</a>\n",
    "Using different polynomial degree in gradient descent model with selected features"
   ]
  },
  {
   "cell_type": "code",
   "execution_count": 29,
   "id": "frank-junior",
   "metadata": {},
   "outputs": [],
   "source": [
    "# List of values of the polynomial degree d\n",
    "train_error_tab = np.zeros(4)\n",
    "val_error_tab = np.zeros(4)"
   ]
  },
  {
   "cell_type": "code",
   "execution_count": 30,
   "id": "continuous-county",
   "metadata": {},
   "outputs": [],
   "source": [
    "# initialisation for training data\n",
    "x_train=train_X.to_numpy()\n",
    "y_train=train_Y.to_numpy()[:,None]\n",
    "n_train=x_train.shape[0]\n",
    "f_train=x_train.shape[1]\n",
    "X = np.ones([n_train,f_train+1]) \n",
    "X[:,1:] = x_train\n",
    "\n",
    "# initialisation for test data \n",
    "x_test=test_X.to_numpy()\n",
    "y_test=test_Y.to_numpy()[:,None]\n",
    "n_test=x_test.shape[0]\n",
    "f_test=x_test.shape[1]\n",
    "X_test = np.ones([n_test,f_test+1]) \n",
    "X_test[:,1:] = x_test"
   ]
  },
  {
   "cell_type": "code",
   "execution_count": 31,
   "id": "constitutional-spectrum",
   "metadata": {},
   "outputs": [
    {
     "data": {
      "image/png": "[encoded data removed]",
      "text/plain": [
       "<Figure size 432x288 with 1 Axes>"
      ]
     },
     "metadata": {},
     "output_type": "display_data"
    },
    {
     "name": "stdout",
     "output_type": "stream",
     "text": [
      "train loss mse = 2390313984.375424\n",
      "train accuracy score =  0.6084552323934085\n",
      "test mse loss = [[2.47759707e+09]]\n",
      "test accuracy score =  0.6298748142070276\n"
     ]
    }
   ],
   "source": [
    "#Gradient descent with feature selection (threshold=0.3) with polynomial degree 1\n",
    "tau = 0.00000001\n",
    "w_init= np.zeros([X.shape[1]])[:,None]\n",
    "max_iter = 200\n",
    "w, L_iters, w_iters = grad_desc(X,y_train,w_init,tau,max_iter)\n",
    "\n",
    "# plot\n",
    "plt.figure(2)\n",
    "plt.plot(np.array(range(L_iters.shape[0])), L_iters)\n",
    "plt.xlabel('Iterations')\n",
    "plt.ylabel('Loss')\n",
    "plt.show()\n",
    "\n",
    "# calculating loss and accuracy\n",
    "train_error_tab[0]=L_iters[-1]\n",
    "print('train loss mse =',L_iters[-1])\n",
    "y_train_pred=f_pred(X,w)\n",
    "print(\"train accuracy score = \",score(y_train_pred,y_train))\n",
    "\n",
    "y_test_pred=f_pred(X_test,w)\n",
    "test_loss = loss_mse(y_test_pred,y_test)\n",
    "val_error_tab[0]=test_loss\n",
    "print('test mse loss =',test_loss)\n",
    "print(\"test accuracy score = \",score(y_test_pred,y_test))"
   ]
  },
  {
   "cell_type": "code",
   "execution_count": 32,
   "id": "environmental-wedding",
   "metadata": {},
   "outputs": [
    {
     "data": {
      "image/png": "[encoded data removed]",
      "text/plain": [
       "<Figure size 432x288 with 1 Axes>"
      ]
     },
     "metadata": {},
     "output_type": "display_data"
    },
    {
     "name": "stdout",
     "output_type": "stream",
     "text": [
      "train loss mse = 2200211162.548227\n",
      "train accuracy score =  0.6397105684376244\n",
      "test mse loss = [[2.27240238e+09]]\n",
      "test accuracy score =  0.6605285971594812\n"
     ]
    }
   ],
   "source": [
    "#Gradient descent with feature selection (threshold=0.3) with polynomial degree 2\n",
    "poly = PolynomialFeatures(2)\n",
    "X_d2 = poly.fit_transform(x_train)\n",
    "X_d2_test = poly.fit_transform(x_test)\n",
    "tau = 0.000000000000001\n",
    "w_init= np.zeros([X_d2.shape[1]])[:,None]\n",
    "max_iter = 200\n",
    "w, L_iters, w_iters = grad_desc(X_d2,y_train,w_init,tau,max_iter)\n",
    "\n",
    "# plot\n",
    "plt.figure(2)\n",
    "plt.plot(np.array(range(L_iters.shape[0])), L_iters)\n",
    "plt.xlabel('Iterations')\n",
    "plt.ylabel('Loss')\n",
    "plt.show()\n",
    "\n",
    "# calculating loss and accuracy\n",
    "train_error_tab[1]=L_iters[-1]\n",
    "print('train loss mse =',L_iters[-1])\n",
    "y_train_pred=f_pred(X_d2,w)\n",
    "print(\"train accuracy score = \",score(y_train_pred,y_train))\n",
    "\n",
    "y_test_pred=f_pred(X_d2_test,w)\n",
    "test_loss = loss_mse(y_test_pred,y_test)\n",
    "val_error_tab[1]=test_loss\n",
    "print('test mse loss =',test_loss)\n",
    "print(\"test accuracy score = \",score(y_test_pred,y_test))"
   ]
  },
  {
   "cell_type": "code",
   "execution_count": 33,
   "id": "laden-french",
   "metadata": {},
   "outputs": [
    {
     "data": {
      "image/png": "[encoded data removed]",
      "text/plain": [
       "<Figure size 432x288 with 1 Axes>"
      ]
     },
     "metadata": {},
     "output_type": "display_data"
    },
    {
     "name": "stdout",
     "output_type": "stream",
     "text": [
      "train loss mse = 1617171405.297593\n",
      "train accuracy score =  0.7351289424006742\n",
      "test mse loss = [[1.85439018e+09]]\n",
      "test accuracy score =  0.7229749258411852\n"
     ]
    }
   ],
   "source": [
    "#Gradient descent with feature selection (threshold=0.3) with polynomial degree 3\n",
    "poly = PolynomialFeatures(3)\n",
    "X_d3 = poly.fit_transform(x_train)\n",
    "X_d3_test = poly.fit_transform(x_test)\n",
    "tau = 0.0000000000000000000001\n",
    "w_init= np.zeros([X_d3.shape[1]])[:,None]\n",
    "max_iter = 200\n",
    "w, L_iters, w_iters = grad_desc(X_d3,y_train,w_init,tau,max_iter)\n",
    "\n",
    "# plot\n",
    "plt.figure(2)\n",
    "plt.plot(np.array(range(L_iters.shape[0])), L_iters)\n",
    "plt.xlabel('Iterations')\n",
    "plt.ylabel('Loss')\n",
    "plt.show()\n",
    "\n",
    "# calculating loss and accuracy\n",
    "train_error_tab[2]=L_iters[-1]\n",
    "print('train loss mse =',L_iters[-1])\n",
    "y_train_pred=f_pred(X_d3,w)\n",
    "print(\"train accuracy score = \",score(y_train_pred,y_train))\n",
    "\n",
    "y_test_pred=f_pred(X_d3_test,w)\n",
    "test_loss = loss_mse(y_test_pred,y_test)\n",
    "val_error_tab[2]=test_loss\n",
    "print('test mse loss =',test_loss)\n",
    "print(\"test accuracy score = \",score(y_test_pred,y_test))"
   ]
  },
  {
   "cell_type": "code",
   "execution_count": 34,
   "id": "matched-number",
   "metadata": {},
   "outputs": [
    {
     "data": {
      "image/png": "[encoded data removed]",
      "text/plain": [
       "<Figure size 432x288 with 1 Axes>"
      ]
     },
     "metadata": {},
     "output_type": "display_data"
    },
    {
     "name": "stdout",
     "output_type": "stream",
     "text": [
      "train loss mse = 1429421799.5812075\n",
      "train accuracy score =  0.7658637326425746\n",
      "test mse loss = [[1.65774764e+09]]\n",
      "test accuracy score =  0.7523511146639289\n"
     ]
    }
   ],
   "source": [
    "#Gradient descent with feature selection (threshold=0.3) with polynomial degree 4\n",
    "poly = PolynomialFeatures(4)\n",
    "X_d4 = poly.fit_transform(x_train)\n",
    "X_d4_test = poly.fit_transform(x_test)\n",
    "tau = 10**(-29)\n",
    "max_iter = 200\n",
    "w_init= np.zeros([X_d4.shape[1]])[:,None]\n",
    "w, L_iters, w_iters = grad_desc(X_d4,y_train,w_init,tau,max_iter)\n",
    "\n",
    "# plot\n",
    "plt.figure(2)\n",
    "plt.plot(np.array(range(L_iters.shape[0])), L_iters)\n",
    "plt.xlabel('Iterations')\n",
    "plt.ylabel('Loss')\n",
    "plt.show()\n",
    "\n",
    "# calculating loss and accuracy\n",
    "train_error_tab[3]=L_iters[-1]\n",
    "print('train loss mse =',L_iters[-1])\n",
    "y_train_pred=f_pred(X_d4,w)\n",
    "print(\"train accuracy score = \",score(y_train_pred,y_train))\n",
    "\n",
    "y_test_pred=f_pred(X_d4_test,w)\n",
    "test_loss = loss_mse(y_test_pred,y_test)\n",
    "val_error_tab[3]=test_loss\n",
    "print('test mse loss =',test_loss)\n",
    "print(\"test accuracy score = \",score(y_test_pred,y_test))"
   ]
  },
  {
   "cell_type": "code",
   "execution_count": 35,
   "id": "guilty-track",
   "metadata": {},
   "outputs": [
    {
     "data": {
      "image/png": "[encoded data removed]",
      "text/plain": [
       "<Figure size 432x288 with 1 Axes>"
      ]
     },
     "metadata": {},
     "output_type": "display_data"
    }
   ],
   "source": [
    "#Comparison of 4 different polynomial degree\n",
    "x = [1,2,3,4]\n",
    "plt.figure(1)\n",
    "plt.plot(x, train_error_tab,label='Train error'.format(i=1))\n",
    "plt.plot(x, val_error_tab,label='Val error'.format(i=2))\n",
    "plt.legend(loc='best')\n",
    "plt.title('Error w.r.t. d (capacity)')\n",
    "plt.xlabel('d')\n",
    "plt.ylabel('Error')\n",
    "plt.show()"
   ]
  },
  {
   "cell_type": "markdown",
   "id": "scientific-phoenix",
   "metadata": {},
   "source": [
    "## <a id='section7'>Hyperparameter tuning for Gradient Descent + Feature Select + Standardization </a>\n",
    "Using different polynomial degree in gradient descent model with selected standardized features"
   ]
  },
  {
   "cell_type": "code",
   "execution_count": 36,
   "id": "worth-guinea",
   "metadata": {},
   "outputs": [],
   "source": [
    "# List of values of the polynomial degree d\n",
    "train_error_tab = np.zeros(4)\n",
    "val_error_tab = np.zeros(4)"
   ]
  },
  {
   "cell_type": "code",
   "execution_count": 37,
   "id": "afraid-annex",
   "metadata": {},
   "outputs": [],
   "source": [
    "#Applying Standardization (Z-Score method)\n",
    "continuous = ['LotArea', 'YearBuilt', 'YearRemodAdd', \n",
    "       'MasVnrArea', 'BsmtFinSF1', 'BsmtFinSF2', 'BsmtUnfSF', 'TotalBsmtSF', '1stFlrSF', '2ndFlrSF',\n",
    "       'LowQualFinSF', 'GrLivArea', 'BsmtFullBath', 'BsmtHalfBath', 'FullBath',\n",
    "       'HalfBath', 'BedroomAbvGr', 'KitchenAbvGr','TotRmsAbvGrd', 'Fireplaces', \n",
    "       'GarageYrBlt', 'GarageCars', 'GarageArea', 'WoodDeckSF', 'OpenPorchSF',\n",
    "       'EnclosedPorch', '3SsnPorch', 'ScreenPorch', 'PoolArea', 'MiscVal', 'MoSold', 'YrSold']\n",
    "features_stand=train1.copy()\n",
    "for i in continuous:\n",
    "    # fit on training data column\n",
    "    scale = StandardScaler().fit(train1[[i]])\n",
    "    # transform training data column\n",
    "    features_stand[i] = scale.transform(features_stand[[i]])\n",
    "labels = train1['SalePrice']\n",
    "features_stand.drop(['Id', 'SalePrice'], axis=1, inplace=True)\n",
    "train_X_stan, test_X_stan, train_Y_stan, test_Y_stan = train_test_split(features_stand[feature_select],labels,test_size=0.2, random_state=0)\n",
    "\n",
    "# initialisation for training data\n",
    "x_train=train_X_stan.to_numpy()\n",
    "y_train=train_Y_stan.to_numpy()[:,None]\n",
    "n_train=x_train.shape[0]\n",
    "f_train=x_train.shape[1]\n",
    "X = np.ones([n_train,f_train+1]) \n",
    "X[:,1:] = x_train\n",
    "\n",
    "# initialisation for test data \n",
    "x_test=test_X_stan.to_numpy()\n",
    "y_test=test_Y_stan.to_numpy()[:,None]\n",
    "n_test=x_test.shape[0]\n",
    "f_test=x_test.shape[1]\n",
    "X_test = np.ones([n_test,f_test+1]) \n",
    "X_test[:,1:] = x_test"
   ]
  },
  {
   "cell_type": "code",
   "execution_count": 38,
   "id": "novel-terrorism",
   "metadata": {},
   "outputs": [
    {
     "data": {
      "image/png": "[encoded data removed]",
      "text/plain": [
       "<Figure size 432x288 with 1 Axes>"
      ]
     },
     "metadata": {},
     "output_type": "display_data"
    },
    {
     "name": "stdout",
     "output_type": "stream",
     "text": [
      "train loss mse = 1817725638.0127292\n",
      "train accuracy score =  0.7035215054611459\n",
      "test mse loss = [[2.86739068e+09]]\n",
      "test accuracy score =  0.5641537771434368\n"
     ]
    }
   ],
   "source": [
    "#Gradient descent with feature selection (threshold=0.3), standardized features with polynomial degree 1\n",
    "tau = 0.001\n",
    "w_init= np.zeros([X.shape[1]])[:,None]\n",
    "max_iter = 500\n",
    "w, L_iters, w_iters = grad_desc(X,y_train,w_init,tau,max_iter)\n",
    "\n",
    "# plot\n",
    "plt.figure(2)\n",
    "plt.plot(np.array(range(L_iters.shape[0])), L_iters)\n",
    "plt.xlabel('Iterations')\n",
    "plt.ylabel('Loss')\n",
    "plt.show()\n",
    "\n",
    "# calculating loss and accuracy\n",
    "train_error_tab[0]=L_iters[-1]\n",
    "print('train loss mse =',L_iters[-1])\n",
    "y_train_pred=f_pred(X,w)\n",
    "print(\"train accuracy score = \",score(y_train_pred,y_train))\n",
    "\n",
    "y_test_pred=f_pred(X_test,w)\n",
    "test_loss = loss_mse(y_test_pred,y_test)\n",
    "val_error_tab[0]=test_loss\n",
    "print('test mse loss =',test_loss)\n",
    "print(\"test accuracy score = \",score(y_test_pred,y_test))"
   ]
  },
  {
   "cell_type": "code",
   "execution_count": 39,
   "id": "israeli-universal",
   "metadata": {},
   "outputs": [
    {
     "data": {
      "image/png": "[encoded data removed]",
      "text/plain": [
       "<Figure size 432x288 with 1 Axes>"
      ]
     },
     "metadata": {},
     "output_type": "display_data"
    },
    {
     "name": "stdout",
     "output_type": "stream",
     "text": [
      "train loss mse = 300940934.638993\n",
      "train accuracy score =  0.9508950045240564\n",
      "test mse loss = [[8.34690925e+08]]\n",
      "test accuracy score =  0.873126152616262\n"
     ]
    }
   ],
   "source": [
    "#Gradient descent with feature selection (threshold=0.3), standardized features with polynomial degree 2\n",
    "poly = PolynomialFeatures(2)\n",
    "X_d2 = poly.fit_transform(x_train)\n",
    "X_d2_test = poly.fit_transform(x_test)\n",
    "tau = 0.0001\n",
    "w_init= np.zeros([X_d2.shape[1]])[:,None]\n",
    "max_iter = 100000\n",
    "w, L_iters, w_iters = grad_desc(X_d2,y_train,w_init,tau,max_iter)\n",
    "\n",
    "# plot\n",
    "plt.figure(2)\n",
    "plt.plot(np.array(range(L_iters.shape[0])), L_iters)\n",
    "plt.xlabel('Iterations')\n",
    "plt.ylabel('Loss')\n",
    "plt.show()\n",
    "\n",
    "# calculating loss and accuracy\n",
    "train_error_tab[1]=L_iters[-1]\n",
    "print('train loss mse =',L_iters[-1])\n",
    "y_train_pred=f_pred(X_d2,w)\n",
    "print(\"train accuracy score = \",score(y_train_pred,y_train))\n",
    "\n",
    "y_test_pred=f_pred(X_d2_test,w)\n",
    "test_loss = loss_mse(y_test_pred,y_test)\n",
    "val_error_tab[1]=test_loss\n",
    "print('test mse loss =',test_loss)\n",
    "print(\"test accuracy score = \",score(y_test_pred,y_test))\n",
    "w_opt = w"
   ]
  },
  {
   "cell_type": "code",
   "execution_count": 40,
   "id": "bright-purple",
   "metadata": {},
   "outputs": [
    {
     "data": {
      "image/png": "[encoded data removed]",
      "text/plain": [
       "<Figure size 432x288 with 1 Axes>"
      ]
     },
     "metadata": {},
     "output_type": "display_data"
    },
    {
     "name": "stdout",
     "output_type": "stream",
     "text": [
      "train loss mse = 1205850904.9660296\n",
      "train accuracy score =  0.8033777434696853\n",
      "test mse loss = [[6.76504145e+09]]\n",
      "test accuracy score =  -0.02829300141654323\n"
     ]
    }
   ],
   "source": [
    "#Gradient descent with feature selection (threshold=0.3), standardized features with polynomial degree 3\n",
    "poly = PolynomialFeatures(3)\n",
    "X_d3 = poly.fit_transform(x_train)\n",
    "X_d3_test = poly.fit_transform(x_test)\n",
    "tau = 0.0001\n",
    "w_init= np.zeros([X_d3.shape[1]])[:,None]\n",
    "max_iter = 1000\n",
    "w, L_iters, w_iters = grad_desc(X_d3,y_train,w_init,tau,max_iter)\n",
    "\n",
    "# plot\n",
    "plt.figure(2)\n",
    "plt.plot(np.array(range(L_iters.shape[0])), L_iters)\n",
    "plt.xlabel('Iterations')\n",
    "plt.ylabel('Loss')\n",
    "plt.show()\n",
    "\n",
    "# calculating loss and accuracy\n",
    "train_error_tab[2]=L_iters[-1]\n",
    "print('train loss mse =',L_iters[-1])\n",
    "y_train_pred=f_pred(X_d3,w)\n",
    "print(\"train accuracy score = \",score(y_train_pred,y_train))\n",
    "\n",
    "y_test_pred=f_pred(X_d3_test,w)\n",
    "test_loss = loss_mse(y_test_pred,y_test)\n",
    "val_error_tab[2]=test_loss\n",
    "print('test mse loss =',test_loss)\n",
    "print(\"test accuracy score = \",score(y_test_pred,y_test))"
   ]
  },
  {
   "cell_type": "code",
   "execution_count": 41,
   "id": "joined-consumer",
   "metadata": {},
   "outputs": [
    {
     "data": {
      "image/png": "[encoded data removed]",
      "text/plain": [
       "<Figure size 432x288 with 1 Axes>"
      ]
     },
     "metadata": {},
     "output_type": "display_data"
    },
    {
     "name": "stdout",
     "output_type": "stream",
     "text": [
      "train loss mse = 8417206014.565198\n",
      "train accuracy score =  -0.3727531203996546\n",
      "test mse loss = [[1.0666444e+11]]\n",
      "test accuracy score =  -15.213100476139921\n"
     ]
    }
   ],
   "source": [
    "#Gradient descent with feature selection (threshold=0.3), standardized features with polynomial degree 4\n",
    "poly = PolynomialFeatures(4)\n",
    "X_d4 = poly.fit_transform(x_train)\n",
    "X_d4_test = poly.fit_transform(x_test)\n",
    "tau = 0.000001\n",
    "w_init= np.zeros([X_d4.shape[1]])[:,None]\n",
    "max_iter = 1000\n",
    "w, L_iters, w_iters = grad_desc(X_d4,y_train,w_init,tau,max_iter)\n",
    "\n",
    "# plot\n",
    "plt.figure(2)\n",
    "plt.plot(np.array(range(L_iters.shape[0])), L_iters)\n",
    "plt.xlabel('Iterations')\n",
    "plt.ylabel('Loss')\n",
    "plt.show()\n",
    "\n",
    "# calculating loss and accuracy\n",
    "train_error_tab[3]=L_iters[-1]\n",
    "print('train loss mse =',L_iters[-1])\n",
    "y_train_pred=f_pred(X_d4,w)\n",
    "print(\"train accuracy score = \",score(y_train_pred,y_train))\n",
    "\n",
    "y_test_pred=f_pred(X_d4_test,w)\n",
    "test_loss = loss_mse(y_test_pred,y_test)\n",
    "val_error_tab[3]=test_loss\n",
    "print('test mse loss =',test_loss)\n",
    "print(\"test accuracy score = \",score(y_test_pred,y_test))"
   ]
  },
  {
   "cell_type": "code",
   "execution_count": 42,
   "id": "ready-timeline",
   "metadata": {},
   "outputs": [
    {
     "data": {
      "image/png": "[encoded data removed]",
      "text/plain": [
       "<Figure size 432x288 with 1 Axes>"
      ]
     },
     "metadata": {},
     "output_type": "display_data"
    }
   ],
   "source": [
    "#Comparison of 4 different polynomial degree\n",
    "x = [1,2,3,4]\n",
    "plt.figure(1)\n",
    "plt.plot(x, train_error_tab,label='Train error'.format(i=1))\n",
    "plt.plot(x, val_error_tab,label='Val error'.format(i=2))\n",
    "plt.legend(loc='best')\n",
    "plt.title('Error w.r.t. d (capacity)')\n",
    "plt.xlabel('d')\n",
    "plt.ylabel('Error')\n",
    "plt.show()"
   ]
  },
  {
   "cell_type": "code",
   "execution_count": 43,
   "id": "micro-minority",
   "metadata": {},
   "outputs": [
    {
     "data": {
      "image/png": "[encoded data removed]",
      "text/plain": [
       "<Figure size 432x288 with 1 Axes>"
      ]
     },
     "metadata": {},
     "output_type": "display_data"
    }
   ],
   "source": [
    "#Comparison between polynomial degree 1 to 3\n",
    "x = [1,2,3]\n",
    "plt.figure(1)\n",
    "plt.plot(x, train_error_tab[:3],label='Train error'.format(i=1))\n",
    "plt.plot(x, val_error_tab[:3],label='Val error'.format(i=2))\n",
    "plt.legend(loc='best')\n",
    "plt.title('Error w.r.t. d (capacity)')\n",
    "plt.xlabel('d')\n",
    "plt.ylabel('Error')\n",
    "plt.show()"
   ]
  },
  {
   "cell_type": "markdown",
   "id": "arctic-biodiversity",
   "metadata": {},
   "source": [
    "## <a id='section8'>Regularization for Gradient Descent</a>\n",
    "Hyperparameter tuning for regularization in gradient descent model"
   ]
  },
  {
   "cell_type": "code",
   "execution_count": 44,
   "id": "shaped-matthew",
   "metadata": {},
   "outputs": [],
   "source": [
    "# Regularized regression loss\n",
    "def loss_regreg(w,X,y,reg): \n",
    "    n = len(y)\n",
    "    y_pred = X.dot(w) \n",
    "    loss = 1/n* (y_pred - y).T.dot(y_pred - y)\n",
    "    d = w.shape[0]\n",
    "    loss += reg/d * w.T.dot(w)\n",
    "    return loss\n",
    "\n",
    "# gradient function definition\n",
    "def grad_loss(y_pred,y,X,w,reg):\n",
    "    n = len(y)\n",
    "    d = w.shape[0]\n",
    "    grad = 2/n* X.T.dot(y_pred-y) + (2*reg/d)*w\n",
    "    return grad\n",
    "\n",
    "# gradient descent function definition\n",
    "def grad_desc(X, y , w_init=np.zeros(X.shape[1])[:,None] ,tau=0.01,reg=0, max_iter=1000000,threshold=10**(3)):\n",
    "\n",
    "    L_iters = np.zeros([max_iter]) # record the loss values\n",
    "    w_iters = np.zeros([max_iter,X.shape[1]]) # record the loss values\n",
    "    w = w_init # initialization\n",
    "    break_condition=False\n",
    "    for i in range(max_iter): # loop over the iterations\n",
    "        y_pred = f_pred(X,w) # linear predicition function\n",
    "        grad_f = grad_loss(y_pred,y,X,w,reg) # gradient of the loss \n",
    "        w = w - tau* grad_f # update rule of gradient descent \n",
    "        L_iters[i] = loss_regreg(w,X,y,reg) # save the current loss value \n",
    "        w_iters[i,:] = w.squeeze() # save the current w value \n",
    "        #stopping condition 1\n",
    "        if i>0:\n",
    "            if (abs(L_iters[i]-L_iters[i-1])< threshold):\n",
    "                L_iters=L_iters[:i+1]\n",
    "                w_iters=w_iters[:i+1,:]\n",
    "                break_condition=True\n",
    "        #stopping condition 2\n",
    "#        if score(y_pred,y)-score(f_pred(X,w_iters[i-1]),y)<0.05:\n",
    "#                L_iters=L_iters[:i+1]\n",
    "#                w_iters=w_iters[:i+1,:]\n",
    "#                break_condition=True\n",
    "        if break_condition==True:\n",
    "            break\n",
    "\n",
    "    return w, L_iters, w_iters\n",
    "\n",
    "def compute_w_solution(X,y,tau,reg, max_iter):\n",
    "    initial_w = np.zeros((X.shape[1],1))\n",
    "    #gradient descent\n",
    "    w, L_iters, w_iters = grad_desc(X, y , initial_w ,tau,reg, max_iter)\n",
    "    loss_solution = L_iters[-1]\n",
    "    return w, loss_solution"
   ]
  },
  {
   "cell_type": "markdown",
   "id": "suspended-intensity",
   "metadata": {},
   "source": [
    "### Applying regularized gradient descent with feature selection (threshold=0.3), standardized features, polynomial degree 3"
   ]
  },
  {
   "cell_type": "code",
   "execution_count": 45,
   "id": "smooth-sailing",
   "metadata": {},
   "outputs": [
    {
     "name": "stdout",
     "output_type": "stream",
     "text": [
      "train loss mse = [[1.20499843e+09]]\n",
      "train accuracy score =  0.8033777434696853\n",
      "test loss mse = [[6.76504145e+09]]\n",
      "test accuracy score =  -0.02829300141654323\n"
     ]
    }
   ],
   "source": [
    "# regularization parameter λ = 0 when d = 3\n",
    "tau = 0.0001\n",
    "reg = 0\n",
    "max_iter = 1000\n",
    "w, train_loss_solution = compute_w_solution(X_d3,y_train,tau,reg,max_iter)\n",
    "y_train_pred=f_pred(X_d3,w)\n",
    "train_error=loss_mse(y_train_pred,y_train)\n",
    "print('train loss mse =',train_error)\n",
    "print(\"train accuracy score = \",score(y_train_pred,y_train))\n",
    "y_test_pred=f_pred(X_d3_test,w)\n",
    "test_error=loss_mse(y_test_pred,y_test)\n",
    "print('test loss mse =',test_error)\n",
    "print(\"test accuracy score = \",score(y_test_pred,y_test))\n",
    "\n",
    "    "
   ]
  },
  {
   "cell_type": "code",
   "execution_count": 46,
   "id": "linear-combination",
   "metadata": {},
   "outputs": [
    {
     "data": {
      "image/png": "[encoded data removed]",
      "text/plain": [
       "<Figure size 432x288 with 1 Axes>"
      ]
     },
     "metadata": {},
     "output_type": "display_data"
    }
   ],
   "source": [
    "# List of values of the regularization parameter λ when d = 3\n",
    "reg = np.array(range(0,9),np.float32)\n",
    "reg = 10**reg\n",
    "list_reg = list(reg)\n",
    "\n",
    "d = 3\n",
    "poly = PolynomialFeatures(d)\n",
    "\n",
    "train_error_tab = np.zeros(len(list_reg))\n",
    "val_error_tab = np.zeros(len(list_reg))\n",
    "\n",
    "tau = 0.0001\n",
    "max_iter = 1000\n",
    "for i,reg in enumerate(list_reg):\n",
    "    \n",
    "    w, train_loss_solution = compute_w_solution(X_d3,y_train,tau,reg,max_iter)\n",
    "    y_train_pred=f_pred(X_d3,w)\n",
    "    train_error=loss_mse(y_train_pred,y_train)\n",
    "    train_error_tab[i] = train_error\n",
    "    \n",
    "    y_test_pred=f_pred(X_d3_test,w)\n",
    "    test_error=loss_mse(y_test_pred,y_test)\n",
    "    val_error_tab[i] = test_error\n",
    "\n",
    "    \n",
    "# plot\n",
    "x = np.array(range(0,9),np.float32)\n",
    "plt.figure(1)\n",
    "plt.plot(x, train_error_tab,label='Train error'.format(i=1))\n",
    "plt.plot(x, val_error_tab,label='Val error'.format(i=2))\n",
    "plt.legend(loc='best')\n",
    "plt.title('Error w.r.t. regularization')\n",
    "plt.xlabel('Regularization parameter')\n",
    "plt.ylabel('Error')\n",
    "plt.show()\n"
   ]
  },
  {
   "cell_type": "code",
   "execution_count": 47,
   "id": "tested-welsh",
   "metadata": {},
   "outputs": [
    {
     "name": "stdout",
     "output_type": "stream",
     "text": [
      "train loss mse = [[1.86739701e+09]]\n",
      "train accuracy score =  0.695292703073713\n",
      "test loss mse = [[3.93585053e+09]]\n",
      "test accuracy score =  0.40174682153647967\n"
     ]
    }
   ],
   "source": [
    "# regularization parameter λ = 5 when d = 3\n",
    "tau = 0.0001\n",
    "reg = 10**(5)\n",
    "max_iter = 1000\n",
    "w, train_loss_solution = compute_w_solution(X_d3,y_train,tau,reg,max_iter)\n",
    "y_train_pred=f_pred(X_d3,w)\n",
    "train_error=loss_mse(y_train_pred,y_train)\n",
    "print('train loss mse =',train_error)\n",
    "print(\"train accuracy score = \",score(y_train_pred,y_train))\n",
    "y_test_pred=f_pred(X_d3_test,w)\n",
    "test_error=loss_mse(y_test_pred,y_test)\n",
    "print('test loss mse =',test_error)\n",
    "print(\"test accuracy score = \",score(y_test_pred,y_test))\n"
   ]
  },
  {
   "cell_type": "markdown",
   "id": "limiting-interpretation",
   "metadata": {},
   "source": [
    "### Applying regularized gradient descent with feature selection (threshold=0.3), standardized features, polynomial degree 2"
   ]
  },
  {
   "cell_type": "code",
   "execution_count": 48,
   "id": "sporting-battlefield",
   "metadata": {},
   "outputs": [
    {
     "name": "stdout",
     "output_type": "stream",
     "text": [
      "train loss mse = [[3.00939697e+08]]\n",
      "train accuracy score =  0.9508950045240564\n",
      "test loss mse = [[8.34690925e+08]]\n",
      "test accuracy score =  0.873126152616262\n"
     ]
    }
   ],
   "source": [
    "# regularization parameter λ = 0 when d = 2\n",
    "tau = 0.0001\n",
    "reg = 0\n",
    "max_iter = 100000\n",
    "w, train_loss_solution = compute_w_solution(X_d2,y_train,tau,reg,max_iter)\n",
    "y_train_pred=f_pred(X_d2,w)\n",
    "train_error=loss_mse(y_train_pred,y_train)\n",
    "print('train loss mse =',train_error)\n",
    "print(\"train accuracy score = \",score(y_train_pred,y_train))\n",
    "y_test_pred=f_pred(X_d2_test,w)\n",
    "test_error=loss_mse(y_test_pred,y_test)\n",
    "print('test loss mse =',test_error)\n",
    "print(\"test accuracy score = \",score(y_test_pred,y_test))\n",
    "\n",
    "    "
   ]
  },
  {
   "cell_type": "code",
   "execution_count": 49,
   "id": "successful-contributor",
   "metadata": {},
   "outputs": [
    {
     "data": {
      "image/png": "[encoded data removed]",
      "text/plain": [
       "<Figure size 432x288 with 1 Axes>"
      ]
     },
     "metadata": {},
     "output_type": "display_data"
    }
   ],
   "source": [
    "# List of values of the regularization parameter λ when d = 2\n",
    "reg = np.array(range(-4,8),np.float32)\n",
    "reg = 10**reg\n",
    "list_reg = list(reg)\n",
    "\n",
    "d = 2\n",
    "poly = PolynomialFeatures(d)\n",
    "\n",
    "train_error_tab = np.zeros(len(list_reg))\n",
    "val_error_tab = np.zeros(len(list_reg))\n",
    "\n",
    "tau = 0.0001\n",
    "max_iter = 1000\n",
    "for i,reg in enumerate(list_reg):\n",
    "    w, train_loss_solution = compute_w_solution(X_d2,y_train,tau,reg,max_iter)\n",
    "    y_train_pred=f_pred(X_d2,w)\n",
    "    train_error=loss_mse(y_train_pred,y_train)\n",
    "    train_error_tab[i] = train_error\n",
    "    \n",
    "    y_test_pred=f_pred(X_d2_test,w)\n",
    "    test_error=loss_mse(y_test_pred,y_test)\n",
    "    val_error_tab[i] = test_error\n",
    "\n",
    "    \n",
    "# plot\n",
    "x = np.array(range(-4,8),np.float32)\n",
    "plt.figure(1)\n",
    "plt.plot(x, train_error_tab,label='Train error'.format(i=1))\n",
    "plt.plot(x, val_error_tab,label='Val error'.format(i=2))\n",
    "plt.legend(loc='best')\n",
    "plt.title('Error w.r.t. regularization')\n",
    "plt.xlabel('Regularization parameter')\n",
    "plt.ylabel('Error')\n",
    "plt.show()\n"
   ]
  },
  {
   "cell_type": "markdown",
   "id": "private-generic",
   "metadata": {},
   "source": [
    "## <a id='section9'>K-fold Cross Validation</a>"
   ]
  },
  {
   "cell_type": "markdown",
   "id": "closing-parker",
   "metadata": {},
   "source": [
    "## Choosing hyperparameter via k-fold cross validation: regulariation parameter"
   ]
  },
  {
   "cell_type": "code",
   "execution_count": 50,
   "id": "governmental-appreciation",
   "metadata": {},
   "outputs": [
    {
     "data": {
      "image/png": "[encoded data removed]",
      "text/plain": [
       "<Figure size 432x288 with 1 Axes>"
      ]
     },
     "metadata": {},
     "output_type": "display_data"
    },
    {
     "data": {
      "image/png": "[encoded data removed]",
      "text/plain": [
       "<Figure size 432x288 with 1 Axes>"
      ]
     },
     "metadata": {},
     "output_type": "display_data"
    },
    {
     "data": {
      "image/png": "[encoded data removed]",
      "text/plain": [
       "<Figure size 432x288 with 1 Axes>"
      ]
     },
     "metadata": {},
     "output_type": "display_data"
    },
    {
     "data": {
      "image/png": "[encoded data removed]",
      "text/plain": [
       "<Figure size 432x288 with 1 Axes>"
      ]
     },
     "metadata": {},
     "output_type": "display_data"
    }
   ],
   "source": [
    "X=train_X_stan.to_numpy()\n",
    "y=train_Y_stan.to_numpy()\n",
    "kf = KFold(n_splits=4)\n",
    "val_error_tab_tab = np.zeros([4,len(list_reg)])\n",
    "k=0\n",
    "for train_index, val_index  in kf.split(X):\n",
    "    X_train, X_val = X[train_index], X[val_index]\n",
    "    y_train, y_val = y[train_index], y[val_index]\n",
    "    \n",
    "    #run algorithm for different hyperparameter\n",
    "    reg = np.array(range(-4,8),np.float32)\n",
    "    reg = 10**reg\n",
    "    list_reg = list(reg)\n",
    "\n",
    "    d = 2\n",
    "    poly = PolynomialFeatures(d)\n",
    "    X_d2 = poly.fit_transform(X_train)\n",
    "    X_val_d2 = poly.fit_transform(X_val)\n",
    "    train_error_tab = np.zeros(len(list_reg))\n",
    "    val_error_tab = np.zeros(len(list_reg))\n",
    "\n",
    "    tau = 0.0001\n",
    "    max_iter = 1000\n",
    "    for i,reg in enumerate(list_reg):\n",
    "        w, train_loss_solution = compute_w_solution(X_d2,y_train[:,None],tau,reg,max_iter)\n",
    "        y_train_pred=f_pred(X_d2,w)\n",
    "        train_error=loss_mse(y_train_pred,y_train[:,None])\n",
    "        train_error_tab[i] = train_error\n",
    "    \n",
    "        y_val_pred=f_pred(X_val_d2,w)\n",
    "        val_error=loss_mse(y_val_pred,y_val[:,None])\n",
    "        val_error_tab[i] = val_error\n",
    "\n",
    "    val_error_tab_tab[k]=val_error_tab\n",
    "    k+=1\n",
    "    # plot\n",
    "    x = np.array(range(-4,8),np.float32)\n",
    "    plt.figure(1)\n",
    "    plt.plot(x, train_error_tab,label='Train error'.format(i=1))\n",
    "    plt.plot(x, val_error_tab,label='Val error'.format(i=2))\n",
    "    plt.legend(loc='best')\n",
    "    plt.title('Error w.r.t. regularization')\n",
    "    plt.xlabel('Regularization parameter')\n",
    "    plt.ylabel('Error')\n",
    "    plt.show()\n",
    "\n",
    "#record Loss value for each hyperparameter\n",
    "    \n",
    "#after all iterations, calculate mean loss for each hyperparameter\n",
    "    "
   ]
  },
  {
   "cell_type": "code",
   "execution_count": 51,
   "id": "contained-trial",
   "metadata": {},
   "outputs": [
    {
     "data": {
      "image/png": "[encoded data removed]",
      "text/plain": [
       "<Figure size 432x288 with 1 Axes>"
      ]
     },
     "metadata": {},
     "output_type": "display_data"
    }
   ],
   "source": [
    "# plot\n",
    "x = np.array(range(-4,8),np.float32)\n",
    "plt.figure(1)\n",
    "plt.plot(x, val_error_tab_tab[0],label='Val error 1'.format(i=1))\n",
    "plt.plot(x, val_error_tab_tab[1],label='Val error 2'.format(i=2))\n",
    "plt.plot(x, val_error_tab_tab[2],label='Val error 3'.format(i=3))\n",
    "plt.plot(x, val_error_tab_tab[3],label='Val error 4'.format(i=4))\n",
    "plt.plot(x, np.mean(val_error_tab_tab,axis=0),label='Mean Val error'.format(i=5))\n",
    "plt.legend(loc='best')\n",
    "plt.title('Error w.r.t. regularization')\n",
    "plt.xlabel('Regularization parameter')\n",
    "plt.ylabel('Error')\n",
    "plt.show()"
   ]
  },
  {
   "cell_type": "code",
   "execution_count": null,
   "id": "elementary-investigation",
   "metadata": {},
   "outputs": [],
   "source": []
  },
  {
   "cell_type": "markdown",
   "id": "spare-acquisition",
   "metadata": {},
   "source": [
    "## Choosing hyperparameter via k-fold cross validation: laerning rate"
   ]
  },
  {
   "cell_type": "code",
   "execution_count": 52,
   "id": "finite-classroom",
   "metadata": {},
   "outputs": [
    {
     "data": {
      "image/png": "[encoded data removed]",
      "text/plain": [
       "<Figure size 432x288 with 1 Axes>"
      ]
     },
     "metadata": {},
     "output_type": "display_data"
    },
    {
     "data": {
      "image/png": "[encoded data removed]",
      "text/plain": [
       "<Figure size 432x288 with 1 Axes>"
      ]
     },
     "metadata": {},
     "output_type": "display_data"
    },
    {
     "data": {
      "image/png": "[encoded data removed]",
      "text/plain": [
       "<Figure size 432x288 with 1 Axes>"
      ]
     },
     "metadata": {},
     "output_type": "display_data"
    },
    {
     "data": {
      "image/png": "[encoded data removed]",
      "text/plain": [
       "<Figure size 432x288 with 1 Axes>"
      ]
     },
     "metadata": {},
     "output_type": "display_data"
    }
   ],
   "source": [
    "X=train_X_stan.to_numpy()\n",
    "y=train_Y_stan.to_numpy()\n",
    "kf = KFold(n_splits=4)\n",
    "\n",
    "tau_list = [0.000003, 0.00001, 0.00003, 0.0001, 0.0003, 0.001, 0.003, 0.01]\n",
    "\n",
    "\n",
    "val_error_tab_tab = np.zeros([kf.get_n_splits(X),len(tau_list)])\n",
    "k=0\n",
    "\n",
    "for train_index, val_index  in kf.split(X):\n",
    "    X_train, X_val = X[train_index], X[val_index]\n",
    "    y_train, y_val = y[train_index], y[val_index]\n",
    "\n",
    "    #run algorithm for different hyperparameter\n",
    "\n",
    "    d = 2\n",
    "    poly = PolynomialFeatures(d)\n",
    "    X_d = poly.fit_transform(X_train)\n",
    "    X_val_d = poly.fit_transform(X_val)\n",
    "    train_error_tab = np.zeros(len(tau_list))\n",
    "    val_error_tab = np.zeros(len(tau_list))\n",
    "\n",
    "    reg=0\n",
    "    max_iter = 20000\n",
    "    for i,tau in enumerate(tau_list):\n",
    "        w, train_loss_solution = compute_w_solution(X_d,y_train[:,None],tau,reg,max_iter)\n",
    "        y_train_pred=f_pred(X_d,w)\n",
    "        train_error=loss_mse(y_train_pred,y_train[:,None])\n",
    "        train_error_tab[i] = train_error\n",
    "    \n",
    "        y_val_pred=f_pred(X_val_d,w)\n",
    "        val_error=loss_mse(y_val_pred,y_val[:,None])\n",
    "        val_error_tab[i] = val_error\n",
    "\n",
    "    val_error_tab_tab[k]=val_error_tab\n",
    "    k+=1\n",
    "    \n",
    "    # plot train error and val error\n",
    "    x = [0.000003, 0.00001, 0.00003, 0.0001, 0.0003, 0.001, 0.003, 0.01]\n",
    "    plt.figure(1)\n",
    "    plt.plot(x, train_error_tab,label='Train error'.format(i=1))\n",
    "    plt.plot(x, val_error_tab,label='Val error'.format(i=2))\n",
    "    plt.legend(loc='best')\n",
    "    plt.title('Error w.r.t. regularization')\n",
    "    plt.xlabel('Learning rate')\n",
    "    plt.ylabel('Error')\n",
    "    plt.show()\n",
    "\n",
    "\n",
    "    "
   ]
  },
  {
   "cell_type": "code",
   "execution_count": 53,
   "id": "completed-culture",
   "metadata": {},
   "outputs": [
    {
     "data": {
      "image/png": "[encoded data removed]",
      "text/plain": [
       "<Figure size 432x288 with 1 Axes>"
      ]
     },
     "metadata": {},
     "output_type": "display_data"
    }
   ],
   "source": [
    "# plot\n",
    "x = np.log([0.000003, 0.00001, 0.00003, 0.0001, 0.0003, 0.001, 0.003, 0.01])\n",
    "plt.figure(1)\n",
    "for k in range(kf.get_n_splits(X)):\n",
    "    plt.plot(x, val_error_tab_tab[k],label=('Val error '+ str(k+1)) .format(i=(k+1)))\n",
    "\n",
    "plt.plot(x, np.mean(val_error_tab_tab,axis=0),label='Mean Val error'.format(i=(k+1)))\n",
    "plt.legend(loc='best')\n",
    "plt.title('Error w.r.t. regularization')\n",
    "plt.xlabel('Learning rate')\n",
    "plt.ylabel('Error')\n",
    "plt.show()"
   ]
  },
  {
   "cell_type": "code",
   "execution_count": 54,
   "id": "known-tunnel",
   "metadata": {},
   "outputs": [
    {
     "data": {
      "image/png": "[encoded data removed]",
      "text/plain": [
       "<Figure size 432x288 with 1 Axes>"
      ]
     },
     "metadata": {},
     "output_type": "display_data"
    }
   ],
   "source": [
    "plt.figure(1)\n",
    "plt.plot(x, np.mean(val_error_tab_tab,axis=0),label='Mean Val error'.format(i=1))\n",
    "plt.scatter(x, np.mean(val_error_tab_tab,axis=0), s=60, c='r', marker='+', linewidths=2) \n",
    "plt.legend(loc='best')\n",
    "plt.title('Error w.r.t. regularization')\n",
    "plt.xlabel('Learning rate')\n",
    "plt.ylabel('Error')\n",
    "plt.show()"
   ]
  },
  {
   "cell_type": "code",
   "execution_count": 55,
   "id": "boring-hammer",
   "metadata": {},
   "outputs": [
    {
     "data": {
      "text/plain": [
       "array([4.01392678e+09, 2.81953806e+09, 2.26788617e+09, 1.95277034e+09,\n",
       "       1.82231227e+09, 1.81197531e+09, 1.90509244e+09, 2.14112042e+09])"
      ]
     },
     "execution_count": 55,
     "metadata": {},
     "output_type": "execute_result"
    }
   ],
   "source": [
    "np.mean(val_error_tab_tab,axis=0)\n"
   ]
  },
  {
   "cell_type": "code",
   "execution_count": null,
   "id": "presidential-comparison",
   "metadata": {},
   "outputs": [],
   "source": []
  },
  {
   "cell_type": "code",
   "execution_count": null,
   "id": "configured-drawing",
   "metadata": {},
   "outputs": [],
   "source": []
  },
  {
   "cell_type": "code",
   "execution_count": null,
   "id": "important-receiver",
   "metadata": {},
   "outputs": [],
   "source": []
  }
 ],
 "metadata": {
  "kernelspec": {
   "display_name": "Python 3",
   "language": "python",
   "name": "python3"
  },
  "language_info": {
   "codemirror_mode": {
    "name": "ipython",
    "version": 3
   },
   "file_extension": ".py",
   "mimetype": "text/x-python",
   "name": "python",
   "nbconvert_exporter": "python",
   "pygments_lexer": "ipython3",
   "version": "3.6.12"
  }
 },
 "nbformat": 4,
 "nbformat_minor": 5
}
