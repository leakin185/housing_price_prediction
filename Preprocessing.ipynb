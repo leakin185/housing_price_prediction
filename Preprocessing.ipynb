{
 "cells": [
  {
   "cell_type": "markdown",
   "metadata": {},
   "source": [
    "# Pre-processing\n",
    "blah blah write some explanation"
   ]
  },
  {
   "cell_type": "markdown",
   "metadata": {},
   "source": [
    "## Import"
   ]
  },
  {
   "cell_type": "code",
   "execution_count": null,
   "metadata": {},
   "outputs": [],
   "source": [
    "# Basic Libraries\n",
    "import math\n",
    "import numpy as np\n",
    "import pandas as pd\n",
    "import seaborn as sb\n",
    "import researchpy as rp\n",
    "import matplotlib.pyplot as plt # we only need pyplot\n",
    "sb.set() # set the default Seaborn style for graphics\n",
    "from scipy import stats\n",
    "from scipy.stats import skew \n",
    "from sklearn.model_selection import train_test_split\n",
    "# machine learning library\n",
    "from sklearn.linear_model import LinearRegression\n",
    "from sklearn import svm\n",
    "# data normalization from sklearn\n",
    "from sklearn.preprocessing import MinMaxScaler\n",
    "# data standardization from sklearn\n",
    "from sklearn.preprocessing import StandardScaler\n",
    "# computational time\n",
    "import time"
   ]
  },
  {
   "cell_type": "code",
   "execution_count": 2,
   "metadata": {
    "scrolled": false
   },
   "outputs": [
    {
     "data": {
      "text/html": [
       "<div>\n",
       "<style scoped>\n",
       "    .dataframe tbody tr th:only-of-type {\n",
       "        vertical-align: middle;\n",
       "    }\n",
       "\n",
       "    .dataframe tbody tr th {\n",
       "        vertical-align: top;\n",
       "    }\n",
       "\n",
       "    .dataframe thead th {\n",
       "        text-align: right;\n",
       "    }\n",
       "</style>\n",
       "<table border=\"1\" class=\"dataframe\">\n",
       "  <thead>\n",
       "    <tr style=\"text-align: right;\">\n",
       "      <th></th>\n",
       "      <th>Id</th>\n",
       "      <th>MSSubClass</th>\n",
       "      <th>MSZoning</th>\n",
       "      <th>LotFrontage</th>\n",
       "      <th>LotArea</th>\n",
       "      <th>Street</th>\n",
       "      <th>Alley</th>\n",
       "      <th>LotShape</th>\n",
       "      <th>LandContour</th>\n",
       "      <th>Utilities</th>\n",
       "      <th>...</th>\n",
       "      <th>PoolArea</th>\n",
       "      <th>PoolQC</th>\n",
       "      <th>Fence</th>\n",
       "      <th>MiscFeature</th>\n",
       "      <th>MiscVal</th>\n",
       "      <th>MoSold</th>\n",
       "      <th>YrSold</th>\n",
       "      <th>SaleType</th>\n",
       "      <th>SaleCondition</th>\n",
       "      <th>SalePrice</th>\n",
       "    </tr>\n",
       "  </thead>\n",
       "  <tbody>\n",
       "    <tr>\n",
       "      <th>0</th>\n",
       "      <td>1</td>\n",
       "      <td>60</td>\n",
       "      <td>RL</td>\n",
       "      <td>65.0</td>\n",
       "      <td>8450</td>\n",
       "      <td>Pave</td>\n",
       "      <td>NaN</td>\n",
       "      <td>Reg</td>\n",
       "      <td>Lvl</td>\n",
       "      <td>AllPub</td>\n",
       "      <td>...</td>\n",
       "      <td>0</td>\n",
       "      <td>NaN</td>\n",
       "      <td>NaN</td>\n",
       "      <td>NaN</td>\n",
       "      <td>0</td>\n",
       "      <td>2</td>\n",
       "      <td>2008</td>\n",
       "      <td>WD</td>\n",
       "      <td>Normal</td>\n",
       "      <td>208500</td>\n",
       "    </tr>\n",
       "    <tr>\n",
       "      <th>1</th>\n",
       "      <td>2</td>\n",
       "      <td>20</td>\n",
       "      <td>RL</td>\n",
       "      <td>80.0</td>\n",
       "      <td>9600</td>\n",
       "      <td>Pave</td>\n",
       "      <td>NaN</td>\n",
       "      <td>Reg</td>\n",
       "      <td>Lvl</td>\n",
       "      <td>AllPub</td>\n",
       "      <td>...</td>\n",
       "      <td>0</td>\n",
       "      <td>NaN</td>\n",
       "      <td>NaN</td>\n",
       "      <td>NaN</td>\n",
       "      <td>0</td>\n",
       "      <td>5</td>\n",
       "      <td>2007</td>\n",
       "      <td>WD</td>\n",
       "      <td>Normal</td>\n",
       "      <td>181500</td>\n",
       "    </tr>\n",
       "    <tr>\n",
       "      <th>2</th>\n",
       "      <td>3</td>\n",
       "      <td>60</td>\n",
       "      <td>RL</td>\n",
       "      <td>68.0</td>\n",
       "      <td>11250</td>\n",
       "      <td>Pave</td>\n",
       "      <td>NaN</td>\n",
       "      <td>IR1</td>\n",
       "      <td>Lvl</td>\n",
       "      <td>AllPub</td>\n",
       "      <td>...</td>\n",
       "      <td>0</td>\n",
       "      <td>NaN</td>\n",
       "      <td>NaN</td>\n",
       "      <td>NaN</td>\n",
       "      <td>0</td>\n",
       "      <td>9</td>\n",
       "      <td>2008</td>\n",
       "      <td>WD</td>\n",
       "      <td>Normal</td>\n",
       "      <td>223500</td>\n",
       "    </tr>\n",
       "    <tr>\n",
       "      <th>3</th>\n",
       "      <td>4</td>\n",
       "      <td>70</td>\n",
       "      <td>RL</td>\n",
       "      <td>60.0</td>\n",
       "      <td>9550</td>\n",
       "      <td>Pave</td>\n",
       "      <td>NaN</td>\n",
       "      <td>IR1</td>\n",
       "      <td>Lvl</td>\n",
       "      <td>AllPub</td>\n",
       "      <td>...</td>\n",
       "      <td>0</td>\n",
       "      <td>NaN</td>\n",
       "      <td>NaN</td>\n",
       "      <td>NaN</td>\n",
       "      <td>0</td>\n",
       "      <td>2</td>\n",
       "      <td>2006</td>\n",
       "      <td>WD</td>\n",
       "      <td>Abnorml</td>\n",
       "      <td>140000</td>\n",
       "    </tr>\n",
       "    <tr>\n",
       "      <th>4</th>\n",
       "      <td>5</td>\n",
       "      <td>60</td>\n",
       "      <td>RL</td>\n",
       "      <td>84.0</td>\n",
       "      <td>14260</td>\n",
       "      <td>Pave</td>\n",
       "      <td>NaN</td>\n",
       "      <td>IR1</td>\n",
       "      <td>Lvl</td>\n",
       "      <td>AllPub</td>\n",
       "      <td>...</td>\n",
       "      <td>0</td>\n",
       "      <td>NaN</td>\n",
       "      <td>NaN</td>\n",
       "      <td>NaN</td>\n",
       "      <td>0</td>\n",
       "      <td>12</td>\n",
       "      <td>2008</td>\n",
       "      <td>WD</td>\n",
       "      <td>Normal</td>\n",
       "      <td>250000</td>\n",
       "    </tr>\n",
       "  </tbody>\n",
       "</table>\n",
       "<p>5 rows × 81 columns</p>\n",
       "</div>"
      ],
      "text/plain": [
       "   Id  MSSubClass MSZoning  LotFrontage  LotArea Street Alley LotShape  \\\n",
       "0   1          60       RL         65.0     8450   Pave   NaN      Reg   \n",
       "1   2          20       RL         80.0     9600   Pave   NaN      Reg   \n",
       "2   3          60       RL         68.0    11250   Pave   NaN      IR1   \n",
       "3   4          70       RL         60.0     9550   Pave   NaN      IR1   \n",
       "4   5          60       RL         84.0    14260   Pave   NaN      IR1   \n",
       "\n",
       "  LandContour Utilities  ... PoolArea PoolQC Fence MiscFeature MiscVal MoSold  \\\n",
       "0         Lvl    AllPub  ...        0    NaN   NaN         NaN       0      2   \n",
       "1         Lvl    AllPub  ...        0    NaN   NaN         NaN       0      5   \n",
       "2         Lvl    AllPub  ...        0    NaN   NaN         NaN       0      9   \n",
       "3         Lvl    AllPub  ...        0    NaN   NaN         NaN       0      2   \n",
       "4         Lvl    AllPub  ...        0    NaN   NaN         NaN       0     12   \n",
       "\n",
       "  YrSold  SaleType  SaleCondition  SalePrice  \n",
       "0   2008        WD         Normal     208500  \n",
       "1   2007        WD         Normal     181500  \n",
       "2   2008        WD         Normal     223500  \n",
       "3   2006        WD        Abnorml     140000  \n",
       "4   2008        WD         Normal     250000  \n",
       "\n",
       "[5 rows x 81 columns]"
      ]
     },
     "execution_count": 2,
     "metadata": {},
     "output_type": "execute_result"
    }
   ],
   "source": [
    "#importing the csv dataset\n",
    "train = pd.read_csv('train.csv')\n",
    "train.head()"
   ]
  },
  {
   "cell_type": "markdown",
   "metadata": {},
   "source": [
    "# Four Standard Basic Optimisations\n",
    "In order to determine which learning algorithm is the most accurate for this application, we will run each one on the dataset with a few basic optimisations.\n",
    "For the purpose of preliminary comparisons, we will process the data in 4 general ways and save them to individual csv files. The 4 general ways are as follows (in order):\n",
    "<br><br>\n",
    "<u>ONE</u>\n",
    "- Dealing with null data\n",
    "- Dealing with highly-skewed categorical data\n",
    "- One Hot Encoding\n",
    "- Feature selection\n",
    "\n",
    "<u>TWO</u>\n",
    "- Dealing with null data\n",
    "- Dealing with highly-skewed categorical data\n",
    "- One Hot Encoding\n",
    "- <b>Dealing with highly-skewed continuous data</b>\n",
    "- Feature selection\n",
    "\n",
    "<u>THREE</u>\n",
    "- Dealing with null data\n",
    "- Dealing with highly-skewed categorical data\n",
    "- One Hot Encoding\n",
    "- Dealing with highly-skewed continuous data\n",
    "- <b>Normalisation</b>\n",
    "- Feature selection\n",
    "\n",
    "<u>FOUR</u>\n",
    "- Dealing with null data\n",
    "- Dealing with highly-skewed categorical data\n",
    "- One Hot Encoding\n",
    "- Dealing with highly-skewed continuous data\n",
    "- <b>Z-scoring</b>\n",
    "- Feature selection\n",
    "\n",
    "<br><br>\n",
    "(Note: Feature selection is done at the end of each version. The rest will build upon ONE or TWO)"
   ]
  },
  {
   "cell_type": "code",
   "execution_count": null,
   "metadata": {},
   "outputs": [],
   "source": []
  },
  {
   "cell_type": "markdown",
   "metadata": {},
   "source": [
    "## Standard optimisation ONE\n",
    "- Dealing with null data\n",
    "- Dealing with highly-skewed categorical data\n",
    "- One Hot Encoding\n",
    "- Feature selection"
   ]
  },
  {
   "cell_type": "markdown",
   "metadata": {},
   "source": [
    "### Dealing with null data"
   ]
  },
  {
   "cell_type": "markdown",
   "metadata": {},
   "source": [
    "FROM EDA:\n",
    "\n",
    "LotFrontage /number of null data: 259\n",
    "\n",
    "MasVnrArea /number of null data: 8\n",
    "\n",
    "Electrical /number of null data: 1\n",
    "\n",
    "GarageYrBlt /number of null data: 81\n"
   ]
  },
  {
   "cell_type": "markdown",
   "metadata": {},
   "source": [
    "For feature with too many missing values, remove this feature entirely. \n",
    "- Set treshold to be 10% of all data points\n",
    "\n",
    "For feature with only a few missing values, remove that data point."
   ]
  },
  {
   "cell_type": "code",
   "execution_count": 3,
   "metadata": {},
   "outputs": [
    {
     "name": "stdout",
     "output_type": "stream",
     "text": [
      "Drop feature - too many nulls:\n",
      "LotFrontage\n",
      "Remove data point:\n",
      "['MasVnrArea', 'Electrical', 'GarageYrBlt']\n"
     ]
    },
    {
     "data": {
      "text/html": [
       "<div>\n",
       "<style scoped>\n",
       "    .dataframe tbody tr th:only-of-type {\n",
       "        vertical-align: middle;\n",
       "    }\n",
       "\n",
       "    .dataframe tbody tr th {\n",
       "        vertical-align: top;\n",
       "    }\n",
       "\n",
       "    .dataframe thead th {\n",
       "        text-align: right;\n",
       "    }\n",
       "</style>\n",
       "<table border=\"1\" class=\"dataframe\">\n",
       "  <thead>\n",
       "    <tr style=\"text-align: right;\">\n",
       "      <th></th>\n",
       "      <th>Id</th>\n",
       "      <th>MSSubClass</th>\n",
       "      <th>MSZoning</th>\n",
       "      <th>LotArea</th>\n",
       "      <th>Street</th>\n",
       "      <th>Alley</th>\n",
       "      <th>LotShape</th>\n",
       "      <th>LandContour</th>\n",
       "      <th>Utilities</th>\n",
       "      <th>LotConfig</th>\n",
       "      <th>...</th>\n",
       "      <th>PoolArea</th>\n",
       "      <th>PoolQC</th>\n",
       "      <th>Fence</th>\n",
       "      <th>MiscFeature</th>\n",
       "      <th>MiscVal</th>\n",
       "      <th>MoSold</th>\n",
       "      <th>YrSold</th>\n",
       "      <th>SaleType</th>\n",
       "      <th>SaleCondition</th>\n",
       "      <th>SalePrice</th>\n",
       "    </tr>\n",
       "  </thead>\n",
       "  <tbody>\n",
       "    <tr>\n",
       "      <th>0</th>\n",
       "      <td>1</td>\n",
       "      <td>60</td>\n",
       "      <td>RL</td>\n",
       "      <td>8450</td>\n",
       "      <td>Pave</td>\n",
       "      <td>NaN</td>\n",
       "      <td>Reg</td>\n",
       "      <td>Lvl</td>\n",
       "      <td>AllPub</td>\n",
       "      <td>Inside</td>\n",
       "      <td>...</td>\n",
       "      <td>0</td>\n",
       "      <td>NaN</td>\n",
       "      <td>NaN</td>\n",
       "      <td>NaN</td>\n",
       "      <td>0</td>\n",
       "      <td>2</td>\n",
       "      <td>2008</td>\n",
       "      <td>WD</td>\n",
       "      <td>Normal</td>\n",
       "      <td>208500</td>\n",
       "    </tr>\n",
       "    <tr>\n",
       "      <th>1</th>\n",
       "      <td>2</td>\n",
       "      <td>20</td>\n",
       "      <td>RL</td>\n",
       "      <td>9600</td>\n",
       "      <td>Pave</td>\n",
       "      <td>NaN</td>\n",
       "      <td>Reg</td>\n",
       "      <td>Lvl</td>\n",
       "      <td>AllPub</td>\n",
       "      <td>FR2</td>\n",
       "      <td>...</td>\n",
       "      <td>0</td>\n",
       "      <td>NaN</td>\n",
       "      <td>NaN</td>\n",
       "      <td>NaN</td>\n",
       "      <td>0</td>\n",
       "      <td>5</td>\n",
       "      <td>2007</td>\n",
       "      <td>WD</td>\n",
       "      <td>Normal</td>\n",
       "      <td>181500</td>\n",
       "    </tr>\n",
       "    <tr>\n",
       "      <th>2</th>\n",
       "      <td>3</td>\n",
       "      <td>60</td>\n",
       "      <td>RL</td>\n",
       "      <td>11250</td>\n",
       "      <td>Pave</td>\n",
       "      <td>NaN</td>\n",
       "      <td>IR1</td>\n",
       "      <td>Lvl</td>\n",
       "      <td>AllPub</td>\n",
       "      <td>Inside</td>\n",
       "      <td>...</td>\n",
       "      <td>0</td>\n",
       "      <td>NaN</td>\n",
       "      <td>NaN</td>\n",
       "      <td>NaN</td>\n",
       "      <td>0</td>\n",
       "      <td>9</td>\n",
       "      <td>2008</td>\n",
       "      <td>WD</td>\n",
       "      <td>Normal</td>\n",
       "      <td>223500</td>\n",
       "    </tr>\n",
       "    <tr>\n",
       "      <th>3</th>\n",
       "      <td>4</td>\n",
       "      <td>70</td>\n",
       "      <td>RL</td>\n",
       "      <td>9550</td>\n",
       "      <td>Pave</td>\n",
       "      <td>NaN</td>\n",
       "      <td>IR1</td>\n",
       "      <td>Lvl</td>\n",
       "      <td>AllPub</td>\n",
       "      <td>Corner</td>\n",
       "      <td>...</td>\n",
       "      <td>0</td>\n",
       "      <td>NaN</td>\n",
       "      <td>NaN</td>\n",
       "      <td>NaN</td>\n",
       "      <td>0</td>\n",
       "      <td>2</td>\n",
       "      <td>2006</td>\n",
       "      <td>WD</td>\n",
       "      <td>Abnorml</td>\n",
       "      <td>140000</td>\n",
       "    </tr>\n",
       "    <tr>\n",
       "      <th>4</th>\n",
       "      <td>5</td>\n",
       "      <td>60</td>\n",
       "      <td>RL</td>\n",
       "      <td>14260</td>\n",
       "      <td>Pave</td>\n",
       "      <td>NaN</td>\n",
       "      <td>IR1</td>\n",
       "      <td>Lvl</td>\n",
       "      <td>AllPub</td>\n",
       "      <td>FR2</td>\n",
       "      <td>...</td>\n",
       "      <td>0</td>\n",
       "      <td>NaN</td>\n",
       "      <td>NaN</td>\n",
       "      <td>NaN</td>\n",
       "      <td>0</td>\n",
       "      <td>12</td>\n",
       "      <td>2008</td>\n",
       "      <td>WD</td>\n",
       "      <td>Normal</td>\n",
       "      <td>250000</td>\n",
       "    </tr>\n",
       "  </tbody>\n",
       "</table>\n",
       "<p>5 rows × 80 columns</p>\n",
       "</div>"
      ],
      "text/plain": [
       "   Id  MSSubClass MSZoning  LotArea Street Alley LotShape LandContour  \\\n",
       "0   1          60       RL     8450   Pave   NaN      Reg         Lvl   \n",
       "1   2          20       RL     9600   Pave   NaN      Reg         Lvl   \n",
       "2   3          60       RL    11250   Pave   NaN      IR1         Lvl   \n",
       "3   4          70       RL     9550   Pave   NaN      IR1         Lvl   \n",
       "4   5          60       RL    14260   Pave   NaN      IR1         Lvl   \n",
       "\n",
       "  Utilities LotConfig  ... PoolArea PoolQC Fence MiscFeature MiscVal MoSold  \\\n",
       "0    AllPub    Inside  ...        0    NaN   NaN         NaN       0      2   \n",
       "1    AllPub       FR2  ...        0    NaN   NaN         NaN       0      5   \n",
       "2    AllPub    Inside  ...        0    NaN   NaN         NaN       0      9   \n",
       "3    AllPub    Corner  ...        0    NaN   NaN         NaN       0      2   \n",
       "4    AllPub       FR2  ...        0    NaN   NaN         NaN       0     12   \n",
       "\n",
       "   YrSold  SaleType  SaleCondition  SalePrice  \n",
       "0    2008        WD         Normal     208500  \n",
       "1    2007        WD         Normal     181500  \n",
       "2    2008        WD         Normal     223500  \n",
       "3    2006        WD        Abnorml     140000  \n",
       "4    2008        WD         Normal     250000  \n",
       "\n",
       "[5 rows x 80 columns]"
      ]
     },
     "execution_count": 3,
     "metadata": {},
     "output_type": "execute_result"
    }
   ],
   "source": [
    "nullData = [['LotFrontage', 259], ['MasVnrArea', 8], ['Electrical', 1], ['GarageYrBlt', 81]]\n",
    "n = len(train)\n",
    "treshold = 0.1\n",
    "drop = []\n",
    "\n",
    "print('Drop feature - too many nulls:')\n",
    "for i in nullData:\n",
    "    if i[1]/n > treshold: # Arbitrary treshold: 10%\n",
    "        print(i[0])\n",
    "        train.drop(columns=[i[0]], inplace=True)\n",
    "    else:\n",
    "        drop.append(i[0])\n",
    "        \n",
    "print('Remove data point:')\n",
    "print(drop)\n",
    "train.dropna(subset=drop, inplace=True)\n",
    "\n",
    "train.head()"
   ]
  },
  {
   "cell_type": "code",
   "execution_count": 4,
   "metadata": {},
   "outputs": [
    {
     "name": "stdout",
     "output_type": "stream",
     "text": [
      "Number of columns: 80\n",
      "Number of data: 1370\n"
     ]
    }
   ],
   "source": [
    "print('Number of columns:', len(train.columns))\n",
    "print('Number of data:', len(train))"
   ]
  },
  {
   "cell_type": "markdown",
   "metadata": {},
   "source": [
    "### Dealing with highly skewed categorical features\n",
    "\n",
    "As identifited from data exploration, we removed categorical variables with one category of data occuping >= 90% of data. "
   ]
  },
  {
   "cell_type": "code",
   "execution_count": 5,
   "metadata": {},
   "outputs": [
    {
     "name": "stdout",
     "output_type": "stream",
     "text": [
      "The number of variables with one category of data which occupies >= 90% of data = 15\n",
      "Street /ratio of the dominant category =  0.9964\n",
      "LandContour /ratio of the dominant category =  0.9015000000000001\n",
      "Utilities /ratio of the dominant category =  0.9993000000000001\n",
      "LandSlope /ratio of the dominant category =  0.9467\n",
      "Condition2 /ratio of the dominant category =  0.9898\n",
      "RoofMatl /ratio of the dominant category =  0.9818000000000001\n",
      "BsmtCond /ratio of the dominant category =  0.9246\n",
      "Heating /ratio of the dominant category =  0.981\n",
      "CentralAir /ratio of the dominant category =  0.9495999999999999\n",
      "Electrical /ratio of the dominant category =  0.9226000000000001\n",
      "Functional /ratio of the dominant category =  0.9336\n",
      "GarageQual /ratio of the dominant category =  0.9504\n",
      "GarageCond /ratio of the dominant category =  0.9612999999999999\n",
      "PavedDrive /ratio of the dominant category =  0.9372\n",
      "MiscFeature /ratio of the dominant category =  0.9216\n"
     ]
    }
   ],
   "source": [
    "categorical = ['MSSubClass', 'MSZoning', 'Street', 'Alley', 'LotShape', 'LandContour', 'Utilities', 'LotConfig', 'LandSlope', 'Neighborhood', 'Condition1', 'Condition2', 'BldgType', 'HouseStyle', 'OverallQual', 'OverallCond', 'RoofStyle', 'RoofMatl', 'Exterior1st', 'Exterior2nd', 'MasVnrType', 'ExterQual', 'ExterCond','Foundation', 'BsmtQual', 'BsmtCond', 'BsmtExposure', 'BsmtFinType1', 'BsmtFinType2', 'Heating', 'HeatingQC', 'CentralAir', 'Electrical', 'KitchenQual', 'Functional', 'FireplaceQu', 'GarageType', 'GarageFinish', 'GarageQual', 'GarageCond', 'PavedDrive', 'PoolQC', 'Fence', 'MiscFeature', 'SaleType', 'SaleCondition']\n",
    "#skewness of categorical variables\n",
    "max_percent = []\n",
    "catogorical_skewed=[]\n",
    "for i in categorical: \n",
    "    if rp.summary_cat(train[i])[\"Percent\"].max() >= 90: \n",
    "        max_percent.append(rp.summary_cat(train[i])[\"Percent\"].max())\n",
    "print (\"The number of variables with one category of data which occupies >= 90% of data =\", len(max_percent))\n",
    "#highly skewed categorical variables\n",
    "for i in categorical: \n",
    "    if rp.summary_cat(train[i])[\"Percent\"].max() >= 90:\n",
    "        catogorical_skewed.append(i)\n",
    "        print (i,\"/ratio of the dominant category = \", rp.summary_cat(train[i])[\"Percent\"].max()/100)"
   ]
  },
  {
   "cell_type": "code",
   "execution_count": 6,
   "metadata": {},
   "outputs": [],
   "source": [
    "for i in catogorical_skewed:\n",
    "    train.drop(columns=[i], inplace=True)"
   ]
  },
  {
   "cell_type": "code",
   "execution_count": 7,
   "metadata": {},
   "outputs": [
    {
     "name": "stdout",
     "output_type": "stream",
     "text": [
      "The number of variables with one category of data which occupies >= 90% of data = 0\n"
     ]
    }
   ],
   "source": [
    "for i in catogorical_skewed:\n",
    "    categorical.remove(i)\n",
    "#skewness of categorical variables\n",
    "max_percent = []\n",
    "for i in categorical: \n",
    "    if rp.summary_cat(train[i])[\"Percent\"].max() >= 90: \n",
    "        max_percent.append(rp.summary_cat(train[i])[\"Percent\"].max())\n",
    "print (\"The number of variables with one category of data which occupies >= 90% of data =\", len(max_percent))\n",
    "#highly skewed categorical variables\n",
    "for i in categorical: \n",
    "    if rp.summary_cat(train[i])[\"Percent\"].max() >= 90: \n",
    "         print (i,\"/ratio of the dominant category = \", rp.summary_cat(train[i])[\"Percent\"].max()/100)"
   ]
  },
  {
   "cell_type": "markdown",
   "metadata": {},
   "source": [
    "### One Hot Encoding"
   ]
  },
  {
   "cell_type": "code",
   "execution_count": 8,
   "metadata": {
    "scrolled": true
   },
   "outputs": [
    {
     "data": {
      "text/html": [
       "<div>\n",
       "<style scoped>\n",
       "    .dataframe tbody tr th:only-of-type {\n",
       "        vertical-align: middle;\n",
       "    }\n",
       "\n",
       "    .dataframe tbody tr th {\n",
       "        vertical-align: top;\n",
       "    }\n",
       "\n",
       "    .dataframe thead th {\n",
       "        text-align: right;\n",
       "    }\n",
       "</style>\n",
       "<table border=\"1\" class=\"dataframe\">\n",
       "  <thead>\n",
       "    <tr style=\"text-align: right;\">\n",
       "      <th></th>\n",
       "      <th>Id</th>\n",
       "      <th>LotArea</th>\n",
       "      <th>YearBuilt</th>\n",
       "      <th>YearRemodAdd</th>\n",
       "      <th>MasVnrArea</th>\n",
       "      <th>BsmtFinSF1</th>\n",
       "      <th>BsmtFinSF2</th>\n",
       "      <th>BsmtUnfSF</th>\n",
       "      <th>TotalBsmtSF</th>\n",
       "      <th>1stFlrSF</th>\n",
       "      <th>...</th>\n",
       "      <th>SaleType_ConLw</th>\n",
       "      <th>SaleType_New</th>\n",
       "      <th>SaleType_Oth</th>\n",
       "      <th>SaleType_WD</th>\n",
       "      <th>SaleCondition_Abnorml</th>\n",
       "      <th>SaleCondition_AdjLand</th>\n",
       "      <th>SaleCondition_Alloca</th>\n",
       "      <th>SaleCondition_Family</th>\n",
       "      <th>SaleCondition_Normal</th>\n",
       "      <th>SaleCondition_Partial</th>\n",
       "    </tr>\n",
       "  </thead>\n",
       "  <tbody>\n",
       "    <tr>\n",
       "      <th>0</th>\n",
       "      <td>1</td>\n",
       "      <td>8450</td>\n",
       "      <td>2003</td>\n",
       "      <td>2003</td>\n",
       "      <td>196.0</td>\n",
       "      <td>706</td>\n",
       "      <td>0</td>\n",
       "      <td>150</td>\n",
       "      <td>856</td>\n",
       "      <td>856</td>\n",
       "      <td>...</td>\n",
       "      <td>0</td>\n",
       "      <td>0</td>\n",
       "      <td>0</td>\n",
       "      <td>1</td>\n",
       "      <td>0</td>\n",
       "      <td>0</td>\n",
       "      <td>0</td>\n",
       "      <td>0</td>\n",
       "      <td>1</td>\n",
       "      <td>0</td>\n",
       "    </tr>\n",
       "    <tr>\n",
       "      <th>1</th>\n",
       "      <td>2</td>\n",
       "      <td>9600</td>\n",
       "      <td>1976</td>\n",
       "      <td>1976</td>\n",
       "      <td>0.0</td>\n",
       "      <td>978</td>\n",
       "      <td>0</td>\n",
       "      <td>284</td>\n",
       "      <td>1262</td>\n",
       "      <td>1262</td>\n",
       "      <td>...</td>\n",
       "      <td>0</td>\n",
       "      <td>0</td>\n",
       "      <td>0</td>\n",
       "      <td>1</td>\n",
       "      <td>0</td>\n",
       "      <td>0</td>\n",
       "      <td>0</td>\n",
       "      <td>0</td>\n",
       "      <td>1</td>\n",
       "      <td>0</td>\n",
       "    </tr>\n",
       "    <tr>\n",
       "      <th>2</th>\n",
       "      <td>3</td>\n",
       "      <td>11250</td>\n",
       "      <td>2001</td>\n",
       "      <td>2002</td>\n",
       "      <td>162.0</td>\n",
       "      <td>486</td>\n",
       "      <td>0</td>\n",
       "      <td>434</td>\n",
       "      <td>920</td>\n",
       "      <td>920</td>\n",
       "      <td>...</td>\n",
       "      <td>0</td>\n",
       "      <td>0</td>\n",
       "      <td>0</td>\n",
       "      <td>1</td>\n",
       "      <td>0</td>\n",
       "      <td>0</td>\n",
       "      <td>0</td>\n",
       "      <td>0</td>\n",
       "      <td>1</td>\n",
       "      <td>0</td>\n",
       "    </tr>\n",
       "    <tr>\n",
       "      <th>3</th>\n",
       "      <td>4</td>\n",
       "      <td>9550</td>\n",
       "      <td>1915</td>\n",
       "      <td>1970</td>\n",
       "      <td>0.0</td>\n",
       "      <td>216</td>\n",
       "      <td>0</td>\n",
       "      <td>540</td>\n",
       "      <td>756</td>\n",
       "      <td>961</td>\n",
       "      <td>...</td>\n",
       "      <td>0</td>\n",
       "      <td>0</td>\n",
       "      <td>0</td>\n",
       "      <td>1</td>\n",
       "      <td>1</td>\n",
       "      <td>0</td>\n",
       "      <td>0</td>\n",
       "      <td>0</td>\n",
       "      <td>0</td>\n",
       "      <td>0</td>\n",
       "    </tr>\n",
       "    <tr>\n",
       "      <th>4</th>\n",
       "      <td>5</td>\n",
       "      <td>14260</td>\n",
       "      <td>2000</td>\n",
       "      <td>2000</td>\n",
       "      <td>350.0</td>\n",
       "      <td>655</td>\n",
       "      <td>0</td>\n",
       "      <td>490</td>\n",
       "      <td>1145</td>\n",
       "      <td>1145</td>\n",
       "      <td>...</td>\n",
       "      <td>0</td>\n",
       "      <td>0</td>\n",
       "      <td>0</td>\n",
       "      <td>1</td>\n",
       "      <td>0</td>\n",
       "      <td>0</td>\n",
       "      <td>0</td>\n",
       "      <td>0</td>\n",
       "      <td>1</td>\n",
       "      <td>0</td>\n",
       "    </tr>\n",
       "  </tbody>\n",
       "</table>\n",
       "<p>5 rows × 248 columns</p>\n",
       "</div>"
      ],
      "text/plain": [
       "   Id  LotArea  YearBuilt  YearRemodAdd  MasVnrArea  BsmtFinSF1  BsmtFinSF2  \\\n",
       "0   1     8450       2003          2003       196.0         706           0   \n",
       "1   2     9600       1976          1976         0.0         978           0   \n",
       "2   3    11250       2001          2002       162.0         486           0   \n",
       "3   4     9550       1915          1970         0.0         216           0   \n",
       "4   5    14260       2000          2000       350.0         655           0   \n",
       "\n",
       "   BsmtUnfSF  TotalBsmtSF  1stFlrSF  ...  SaleType_ConLw  SaleType_New  \\\n",
       "0        150          856       856  ...               0             0   \n",
       "1        284         1262      1262  ...               0             0   \n",
       "2        434          920       920  ...               0             0   \n",
       "3        540          756       961  ...               0             0   \n",
       "4        490         1145      1145  ...               0             0   \n",
       "\n",
       "   SaleType_Oth  SaleType_WD  SaleCondition_Abnorml  SaleCondition_AdjLand  \\\n",
       "0             0            1                      0                      0   \n",
       "1             0            1                      0                      0   \n",
       "2             0            1                      0                      0   \n",
       "3             0            1                      1                      0   \n",
       "4             0            1                      0                      0   \n",
       "\n",
       "   SaleCondition_Alloca  SaleCondition_Family  SaleCondition_Normal  \\\n",
       "0                     0                     0                     1   \n",
       "1                     0                     0                     1   \n",
       "2                     0                     0                     1   \n",
       "3                     0                     0                     0   \n",
       "4                     0                     0                     1   \n",
       "\n",
       "   SaleCondition_Partial  \n",
       "0                      0  \n",
       "1                      0  \n",
       "2                      0  \n",
       "3                      0  \n",
       "4                      0  \n",
       "\n",
       "[5 rows x 248 columns]"
      ]
     },
     "execution_count": 8,
     "metadata": {},
     "output_type": "execute_result"
    }
   ],
   "source": [
    "train = pd.get_dummies(train, columns= categorical, prefix= categorical)\n",
    "train.head()"
   ]
  },
  {
   "cell_type": "code",
   "execution_count": 9,
   "metadata": {
    "scrolled": true
   },
   "outputs": [
    {
     "name": "stdout",
     "output_type": "stream",
     "text": [
      "Shape: (1370, 248)\n",
      "Dtypes:\n",
      " Id                         int64\n",
      "LotArea                    int64\n",
      "YearBuilt                  int64\n",
      "YearRemodAdd               int64\n",
      "MasVnrArea               float64\n",
      "                          ...   \n",
      "SaleCondition_AdjLand      uint8\n",
      "SaleCondition_Alloca       uint8\n",
      "SaleCondition_Family       uint8\n",
      "SaleCondition_Normal       uint8\n",
      "SaleCondition_Partial      uint8\n",
      "Length: 248, dtype: object\n"
     ]
    }
   ],
   "source": [
    "print('Shape:', train.shape)\n",
    "print('Dtypes:\\n', train.dtypes)"
   ]
  },
  {
   "cell_type": "code",
   "execution_count": 10,
   "metadata": {},
   "outputs": [],
   "source": [
    "# create a checkpoint\n",
    "train1 = train.copy()"
   ]
  },
  {
   "cell_type": "markdown",
   "metadata": {},
   "source": [
    "### Feature selection\n",
    "Choosing variables that is correlated to SalePrice with absolute value more than 0.2"
   ]
  },
  {
   "cell_type": "code",
   "execution_count": 11,
   "metadata": {
    "scrolled": true
   },
   "outputs": [
    {
     "name": "stdout",
     "output_type": "stream",
     "text": [
      "Number of features selected =  68\n",
      "GrLivArea            0.709783\n",
      "GarageCars           0.636173\n",
      "GarageArea           0.607197\n",
      "TotalBsmtSF          0.603284\n",
      "1stFlrSF             0.596087\n",
      "                       ...   \n",
      "OverallQual_5       -0.383080\n",
      "GarageType_Detchd   -0.406550\n",
      "BsmtQual_TA         -0.456964\n",
      "GarageFinish_Unf    -0.485273\n",
      "KitchenQual_TA      -0.527689\n",
      "Name: SalePrice, Length: 246, dtype: float64\n"
     ]
    }
   ],
   "source": [
    "# variables most closely related to SalePrice\n",
    "corr = train1.corr()['SalePrice']\n",
    "# print(corr)\n",
    "feature_select=[]\n",
    "corrshape=corr.nlargest(corr.shape[0])[1:corr.shape[0]].shape[0]\n",
    "# print(corrshape)\n",
    "for i in range(corrshape-1):\n",
    "    if (abs(corr.nlargest(corrshape)[1:corrshape][i])>0.2):\n",
    "        feature_select.append(corr.nlargest(corrshape)[1:corrshape].axes[0][i])\n",
    "        \n",
    "print('Number of features selected = ', len(feature_select))        \n",
    "print(corr.nlargest(corrshape)[1:corrshape])"
   ]
  },
  {
   "cell_type": "code",
   "execution_count": 12,
   "metadata": {},
   "outputs": [],
   "source": [
    "#export file to csv\n",
    "train_ONE = train1[feature_select+['Id', 'SalePrice']].copy()\n",
    "train_ONE.to_csv('train_ONE.csv', index=False)"
   ]
  },
  {
   "cell_type": "code",
   "execution_count": null,
   "metadata": {},
   "outputs": [],
   "source": []
  },
  {
   "cell_type": "markdown",
   "metadata": {},
   "source": [
    "## Standard optimisation TWO\n",
    "- Dealing with null data\n",
    "- Dealing with highly-skewed categorical data\n",
    "- One Hot Encoding\n",
    "- Dealing with highly-skewed continuous data\n",
    "- Feature selection"
   ]
  },
  {
   "cell_type": "markdown",
   "metadata": {},
   "source": [
    "### Dealing with highly-skewed continuous data"
   ]
  },
  {
   "cell_type": "markdown",
   "metadata": {},
   "source": [
    "#### Removing outliers with IQR\n",
    "~~After doing the log transformation,~~ we selected continuous variables that still gives a skewness value of more than 1. <br> \n",
    "We then used the interquartile range (IQR) method to remove the outliers.\n"
   ]
  },
  {
   "cell_type": "code",
   "execution_count": 14,
   "metadata": {},
   "outputs": [
    {
     "name": "stdout",
     "output_type": "stream",
     "text": [
      "MiscVal : skewness =  24.732979451706033\n",
      "PoolArea : skewness =  14.342881566937836\n",
      "LotArea : skewness =  12.025446327344339\n",
      "LowQualFinSF : skewness =  10.66505349858299\n",
      "3SsnPorch : skewness =  9.96262046395852\n",
      "KitchenAbvGr : skewness =  5.129053439295553\n",
      "BsmtFinSF2 : skewness =  4.174330005566947\n",
      "ScreenPorch : skewness =  3.967379533802487\n",
      "BsmtHalfBath : skewness =  3.89811918894981\n",
      "EnclosedPorch : skewness =  3.214887613130617\n",
      "MasVnrArea : skewness =  2.588332838278803\n",
      "OpenPorchSF : skewness =  2.2638025759950504\n",
      "BsmtFinSF1 : skewness =  1.6941364533315026\n",
      "TotalBsmtSF : skewness =  1.6330286577439608\n",
      "WoodDeckSF : skewness =  1.5027101898713007\n"
     ]
    }
   ],
   "source": [
    "# identifying continuous variables with high skewness\n",
    "continuous = ['LotArea', 'YearBuilt', 'YearRemodAdd', \n",
    "       'MasVnrArea', 'BsmtFinSF1', 'BsmtFinSF2', 'BsmtUnfSF', 'TotalBsmtSF', '1stFlrSF', '2ndFlrSF',\n",
    "       'LowQualFinSF', 'GrLivArea', 'BsmtFullBath', 'BsmtHalfBath', 'FullBath',\n",
    "       'HalfBath', 'BedroomAbvGr', 'KitchenAbvGr','TotRmsAbvGrd', 'Fireplaces', \n",
    "       'GarageYrBlt', 'GarageCars', 'GarageArea', 'WoodDeckSF', 'OpenPorchSF',\n",
    "       'EnclosedPorch', '3SsnPorch', 'ScreenPorch', 'PoolArea', 'MiscVal', 'MoSold', 'YrSold']\n",
    "array1 = skew(train1[continuous])\n",
    "#the top 15 features which are the most skewed\n",
    "index1 = array1.argsort()[-15:][::-1]\n",
    "continuous_skewed=[]\n",
    "for i in index1:\n",
    "    print (continuous[i],\": skewness = \", array1[i])\n",
    "    if array1[i]>=1:\n",
    "        continuous_skewed.append(continuous[i])"
   ]
  },
  {
   "cell_type": "code",
   "execution_count": 15,
   "metadata": {},
   "outputs": [
    {
     "name": "stdout",
     "output_type": "stream",
     "text": [
      "train1 shape\t\t: (1370, 248)\n",
      "train1_iqr shape\t: (688, 248)\n"
     ]
    }
   ],
   "source": [
    "print('train1 shape\\t\\t:',train1.shape)\n",
    "# calculate interquartile range\n",
    "q25, q75 = train1[continuous_skewed].quantile(0.25), train1[continuous_skewed].quantile(0.75)\n",
    "iqr = q75 - q25\n",
    "# calculate the outlier cutoff\n",
    "cut_off = iqr * 1.5\n",
    "lower, upper = q25 - cut_off, q75 + cut_off\n",
    "\n",
    "train1_iqr = train1[~((train1>upper)).any(axis=1)]\n",
    "print('train1_iqr shape\\t:', train1_iqr.shape)"
   ]
  },
  {
   "cell_type": "code",
   "execution_count": 16,
   "metadata": {
    "scrolled": false
   },
   "outputs": [
    {
     "name": "stdout",
     "output_type": "stream",
     "text": [
      "Top 3 features which are the most skewed:\n",
      "MasVnrArea : skewness =  1.1633497486834365\n",
      "OpenPorchSF : skewness =  1.0088075868431694\n",
      "WoodDeckSF : skewness =  0.77571907189836\n"
     ]
    }
   ],
   "source": [
    "#calculating skewness of continuous variables\n",
    "array = skew(train1_iqr[continuous])\n",
    "#the top 3 features which are the most skewed\n",
    "print('Top 3 features which are the most skewed:')\n",
    "index = array.argsort()[-3:][::-1]\n",
    "for i in index: \n",
    "    print (continuous[i],\": skewness = \", array[i])"
   ]
  },
  {
   "cell_type": "code",
   "execution_count": null,
   "metadata": {},
   "outputs": [],
   "source": [
    "# features_liqr = train1_iqr.copy()\n",
    "# features_liqr.drop(['Id', 'SalePrice'], axis=1, inplace=True)\n",
    "# labels_liqr = train1_iqr['SalePrice']\n",
    "# train_X_liqr, test_X_liqr, train_Y_liqr, test_Y_liqr = train_test_split(features_liqr,labels_liqr,test_size=0.2, random_state=0)"
   ]
  },
  {
   "cell_type": "code",
   "execution_count": null,
   "metadata": {},
   "outputs": [],
   "source": [
    "#investigating the skewness of data features (visually)\n",
    "f, axes = plt.subplots(len(continuous)+1, 3, figsize=(20, 200))\n",
    "colors = [\"r\", \"g\", \"b\",\"r\",\"g\"]\n",
    "colors = colors*7\n",
    "\n",
    "count = 0\n",
    "for i in continuous+['SalePrice']:\n",
    "    sb.boxplot(x = train1_iqr[i], color = colors[count], ax = axes[count,0])\n",
    "    sb.histplot(x = train1_iqr[i], color = colors[count], ax = axes[count,1])\n",
    "    sb.violinplot(x = train1_iqr[i], color = colors[count], ax = axes[count,2])\n",
    "    count += 1"
   ]
  },
  {
   "cell_type": "code",
   "execution_count": 17,
   "metadata": {},
   "outputs": [],
   "source": [
    "# create a checkpoint\n",
    "train2 = train1_iqr.copy()"
   ]
  },
  {
   "cell_type": "markdown",
   "metadata": {},
   "source": [
    "### Feature selection\n",
    "Choosing variables that is correlated to SalePrice with absolute value more than 0.2"
   ]
  },
  {
   "cell_type": "code",
   "execution_count": 18,
   "metadata": {
    "scrolled": true
   },
   "outputs": [
    {
     "name": "stdout",
     "output_type": "stream",
     "text": [
      "Number of features selected =  73\n",
      "GrLivArea            0.764786\n",
      "GarageCars           0.699105\n",
      "GarageArea           0.671034\n",
      "TotRmsAbvGrd         0.639797\n",
      "FullBath             0.632455\n",
      "                       ...   \n",
      "GarageType_Detchd   -0.452965\n",
      "Foundation_CBlock   -0.478446\n",
      "BsmtQual_TA         -0.527170\n",
      "GarageFinish_Unf    -0.544653\n",
      "KitchenQual_TA      -0.571333\n",
      "Name: SalePrice, Length: 211, dtype: float64\n"
     ]
    }
   ],
   "source": [
    "# variables most closely related to SalePrice\n",
    "corr = train1_iqr.corr()['SalePrice']\n",
    "# print(corr)\n",
    "feature_select=[]\n",
    "corrshape=corr.nlargest(corr.shape[0])[1:corr.shape[0]].shape[0]\n",
    "# print(corrshape)\n",
    "for i in range(corrshape-1):\n",
    "    if (abs(corr.nlargest(corrshape)[1:corrshape][i])>0.2):\n",
    "        feature_select.append(corr.nlargest(corrshape)[1:corrshape].axes[0][i])\n",
    "        \n",
    "print('Number of features selected = ', len(feature_select))        \n",
    "print(corr.nlargest(corrshape)[1:corrshape])"
   ]
  },
  {
   "cell_type": "code",
   "execution_count": 19,
   "metadata": {},
   "outputs": [],
   "source": [
    "#export file to csv\n",
    "train_TWO = train1_iqr[feature_select+['Id', 'SalePrice']].copy()\n",
    "train_TWO.to_csv('train_TWO.csv', index=False)"
   ]
  },
  {
   "cell_type": "code",
   "execution_count": null,
   "metadata": {},
   "outputs": [],
   "source": []
  },
  {
   "cell_type": "markdown",
   "metadata": {},
   "source": [
    "## Standard optimisation THREE\n",
    "- Dealing with null data\n",
    "- Dealing with highly-skewed categorical data\n",
    "- One Hot Encoding\n",
    "- Dealing with highly-skewed continuous data\n",
    "- Normalisation\n",
    "- Feature selection"
   ]
  },
  {
   "cell_type": "markdown",
   "metadata": {},
   "source": [
    "### Normalisation (Min-Max scaling)\n",
    "\n",
    "Transforming values so that they range between 0 and 1."
   ]
  },
  {
   "cell_type": "code",
   "execution_count": 21,
   "metadata": {},
   "outputs": [],
   "source": [
    "features3 = train2.copy()\n",
    "features3.drop(['Id', 'SalePrice'], axis=1, inplace=True)\n",
    "\n",
    "replace = np.array(train2[['Id', 'SalePrice']])\n",
    "# drop Id and SalePrice cause we are not gonna be scaling them. Add back later"
   ]
  },
  {
   "cell_type": "code",
   "execution_count": 22,
   "metadata": {
    "scrolled": true
   },
   "outputs": [],
   "source": [
    "# fit scaler on training data\n",
    "norm = MinMaxScaler().fit(features3)\n",
    "# transform training data\n",
    "features_norm = norm.transform(features3)"
   ]
  },
  {
   "cell_type": "code",
   "execution_count": 23,
   "metadata": {},
   "outputs": [
    {
     "data": {
      "text/html": [
       "<div>\n",
       "<style scoped>\n",
       "    .dataframe tbody tr th:only-of-type {\n",
       "        vertical-align: middle;\n",
       "    }\n",
       "\n",
       "    .dataframe tbody tr th {\n",
       "        vertical-align: top;\n",
       "    }\n",
       "\n",
       "    .dataframe thead th {\n",
       "        text-align: right;\n",
       "    }\n",
       "</style>\n",
       "<table border=\"1\" class=\"dataframe\">\n",
       "  <thead>\n",
       "    <tr style=\"text-align: right;\">\n",
       "      <th></th>\n",
       "      <th>LotArea</th>\n",
       "      <th>YearBuilt</th>\n",
       "      <th>YearRemodAdd</th>\n",
       "      <th>MasVnrArea</th>\n",
       "      <th>BsmtFinSF1</th>\n",
       "      <th>BsmtFinSF2</th>\n",
       "      <th>BsmtUnfSF</th>\n",
       "      <th>TotalBsmtSF</th>\n",
       "      <th>1stFlrSF</th>\n",
       "      <th>2ndFlrSF</th>\n",
       "      <th>...</th>\n",
       "      <th>SaleType_Oth</th>\n",
       "      <th>SaleType_WD</th>\n",
       "      <th>SaleCondition_Abnorml</th>\n",
       "      <th>SaleCondition_AdjLand</th>\n",
       "      <th>SaleCondition_Alloca</th>\n",
       "      <th>SaleCondition_Family</th>\n",
       "      <th>SaleCondition_Normal</th>\n",
       "      <th>SaleCondition_Partial</th>\n",
       "      <th>Id</th>\n",
       "      <th>SalePrice</th>\n",
       "    </tr>\n",
       "  </thead>\n",
       "  <tbody>\n",
       "    <tr>\n",
       "      <th>0</th>\n",
       "      <td>0.436748</td>\n",
       "      <td>0.946154</td>\n",
       "      <td>0.883333</td>\n",
       "      <td>0.457944</td>\n",
       "      <td>0.436072</td>\n",
       "      <td>0.0</td>\n",
       "      <td>0.073457</td>\n",
       "      <td>0.419197</td>\n",
       "      <td>0.247191</td>\n",
       "      <td>0.560735</td>\n",
       "      <td>...</td>\n",
       "      <td>0.0</td>\n",
       "      <td>1.0</td>\n",
       "      <td>0.0</td>\n",
       "      <td>0.0</td>\n",
       "      <td>0.0</td>\n",
       "      <td>0.0</td>\n",
       "      <td>1.0</td>\n",
       "      <td>0.0</td>\n",
       "      <td>1</td>\n",
       "      <td>208500</td>\n",
       "    </tr>\n",
       "    <tr>\n",
       "      <th>1</th>\n",
       "      <td>0.607782</td>\n",
       "      <td>0.930769</td>\n",
       "      <td>0.866667</td>\n",
       "      <td>0.378505</td>\n",
       "      <td>0.300185</td>\n",
       "      <td>0.0</td>\n",
       "      <td>0.212537</td>\n",
       "      <td>0.450539</td>\n",
       "      <td>0.285038</td>\n",
       "      <td>0.568615</td>\n",
       "      <td>...</td>\n",
       "      <td>0.0</td>\n",
       "      <td>1.0</td>\n",
       "      <td>0.0</td>\n",
       "      <td>0.0</td>\n",
       "      <td>0.0</td>\n",
       "      <td>0.0</td>\n",
       "      <td>1.0</td>\n",
       "      <td>0.0</td>\n",
       "      <td>3</td>\n",
       "      <td>223500</td>\n",
       "    </tr>\n",
       "    <tr>\n",
       "      <th>2</th>\n",
       "      <td>0.791644</td>\n",
       "      <td>0.923077</td>\n",
       "      <td>0.833333</td>\n",
       "      <td>0.817757</td>\n",
       "      <td>0.404571</td>\n",
       "      <td>0.0</td>\n",
       "      <td>0.239961</td>\n",
       "      <td>0.560725</td>\n",
       "      <td>0.418096</td>\n",
       "      <td>0.691399</td>\n",
       "      <td>...</td>\n",
       "      <td>0.0</td>\n",
       "      <td>1.0</td>\n",
       "      <td>0.0</td>\n",
       "      <td>0.0</td>\n",
       "      <td>0.0</td>\n",
       "      <td>0.0</td>\n",
       "      <td>1.0</td>\n",
       "      <td>0.0</td>\n",
       "      <td>5</td>\n",
       "      <td>250000</td>\n",
       "    </tr>\n",
       "    <tr>\n",
       "      <th>3</th>\n",
       "      <td>0.536559</td>\n",
       "      <td>0.953846</td>\n",
       "      <td>0.916667</td>\n",
       "      <td>0.434579</td>\n",
       "      <td>0.845584</td>\n",
       "      <td>0.0</td>\n",
       "      <td>0.155240</td>\n",
       "      <td>0.825661</td>\n",
       "      <td>0.742756</td>\n",
       "      <td>0.000000</td>\n",
       "      <td>...</td>\n",
       "      <td>0.0</td>\n",
       "      <td>1.0</td>\n",
       "      <td>0.0</td>\n",
       "      <td>0.0</td>\n",
       "      <td>0.0</td>\n",
       "      <td>0.0</td>\n",
       "      <td>1.0</td>\n",
       "      <td>0.0</td>\n",
       "      <td>7</td>\n",
       "      <td>307000</td>\n",
       "    </tr>\n",
       "    <tr>\n",
       "      <th>4</th>\n",
       "      <td>0.604728</td>\n",
       "      <td>0.653846</td>\n",
       "      <td>0.250000</td>\n",
       "      <td>0.000000</td>\n",
       "      <td>0.559605</td>\n",
       "      <td>0.0</td>\n",
       "      <td>0.065622</td>\n",
       "      <td>0.509305</td>\n",
       "      <td>0.356002</td>\n",
       "      <td>0.000000</td>\n",
       "      <td>...</td>\n",
       "      <td>0.0</td>\n",
       "      <td>1.0</td>\n",
       "      <td>0.0</td>\n",
       "      <td>0.0</td>\n",
       "      <td>0.0</td>\n",
       "      <td>0.0</td>\n",
       "      <td>1.0</td>\n",
       "      <td>0.0</td>\n",
       "      <td>11</td>\n",
       "      <td>129500</td>\n",
       "    </tr>\n",
       "  </tbody>\n",
       "</table>\n",
       "<p>5 rows × 248 columns</p>\n",
       "</div>"
      ],
      "text/plain": [
       "    LotArea  YearBuilt  YearRemodAdd  MasVnrArea  BsmtFinSF1  BsmtFinSF2  \\\n",
       "0  0.436748   0.946154      0.883333    0.457944    0.436072         0.0   \n",
       "1  0.607782   0.930769      0.866667    0.378505    0.300185         0.0   \n",
       "2  0.791644   0.923077      0.833333    0.817757    0.404571         0.0   \n",
       "3  0.536559   0.953846      0.916667    0.434579    0.845584         0.0   \n",
       "4  0.604728   0.653846      0.250000    0.000000    0.559605         0.0   \n",
       "\n",
       "   BsmtUnfSF  TotalBsmtSF  1stFlrSF  2ndFlrSF  ...  SaleType_Oth  SaleType_WD  \\\n",
       "0   0.073457     0.419197  0.247191  0.560735  ...           0.0          1.0   \n",
       "1   0.212537     0.450539  0.285038  0.568615  ...           0.0          1.0   \n",
       "2   0.239961     0.560725  0.418096  0.691399  ...           0.0          1.0   \n",
       "3   0.155240     0.825661  0.742756  0.000000  ...           0.0          1.0   \n",
       "4   0.065622     0.509305  0.356002  0.000000  ...           0.0          1.0   \n",
       "\n",
       "   SaleCondition_Abnorml  SaleCondition_AdjLand  SaleCondition_Alloca  \\\n",
       "0                    0.0                    0.0                   0.0   \n",
       "1                    0.0                    0.0                   0.0   \n",
       "2                    0.0                    0.0                   0.0   \n",
       "3                    0.0                    0.0                   0.0   \n",
       "4                    0.0                    0.0                   0.0   \n",
       "\n",
       "   SaleCondition_Family  SaleCondition_Normal  SaleCondition_Partial  Id  \\\n",
       "0                   0.0                   1.0                    0.0   1   \n",
       "1                   0.0                   1.0                    0.0   3   \n",
       "2                   0.0                   1.0                    0.0   5   \n",
       "3                   0.0                   1.0                    0.0   7   \n",
       "4                   0.0                   1.0                    0.0  11   \n",
       "\n",
       "   SalePrice  \n",
       "0     208500  \n",
       "1     223500  \n",
       "2     250000  \n",
       "3     307000  \n",
       "4     129500  \n",
       "\n",
       "[5 rows x 248 columns]"
      ]
     },
     "execution_count": 23,
     "metadata": {},
     "output_type": "execute_result"
    }
   ],
   "source": [
    "# final transformed data as dataframe with Id and SalePrice added in\n",
    "train3 = pd.DataFrame(features_norm, columns=features3.columns)\n",
    "train3['Id'] = replace.T[0]\n",
    "train3['SalePrice']= replace.T[1]\n",
    "train3.head()"
   ]
  },
  {
   "cell_type": "code",
   "execution_count": null,
   "metadata": {},
   "outputs": [],
   "source": [
    "# train_X_norm, test_X_norm, train_Y_norm, test_Y_norm = train_test_split(features_norm,labels,test_size=0.2, random_state=0)"
   ]
  },
  {
   "cell_type": "code",
   "execution_count": null,
   "metadata": {},
   "outputs": [],
   "source": [
    "# #investigating the skewness of data features (visually)\n",
    "# f, axes = plt.subplots(len(continuous), 3, figsize=(20, 200))\n",
    "# colors = [\"r\", \"g\", \"b\",\"r\",\"g\"]\n",
    "# colors = colors*7\n",
    "# count = 0\n",
    "# for i in continuous:\n",
    "#     col_ind=features.columns.get_indexer([i])[0]\n",
    "#     sb.boxplot(x = features3[:,col_ind], color = colors[count], ax = axes[count,0])\n",
    "#     sb.histplot(x = features3[:,col_ind], color = colors[count], ax = axes[count,1])\n",
    "#     sb.violinplot(x = features3[:,col_ind], color = colors[count], ax = axes[count,2])\n",
    "#     count += 1 "
   ]
  },
  {
   "cell_type": "code",
   "execution_count": null,
   "metadata": {},
   "outputs": [],
   "source": [
    "# no need to checkpoint for three"
   ]
  },
  {
   "cell_type": "markdown",
   "metadata": {},
   "source": [
    "### Feature selection\n",
    "Choosing variables that is correlated to SalePrice with absolute value more than 0.2"
   ]
  },
  {
   "cell_type": "code",
   "execution_count": 24,
   "metadata": {
    "scrolled": true
   },
   "outputs": [
    {
     "name": "stdout",
     "output_type": "stream",
     "text": [
      "Number of features selected =  73\n",
      "GrLivArea            0.764786\n",
      "GarageCars           0.699105\n",
      "GarageArea           0.671034\n",
      "TotRmsAbvGrd         0.639797\n",
      "FullBath             0.632455\n",
      "                       ...   \n",
      "GarageType_Detchd   -0.452965\n",
      "Foundation_CBlock   -0.478446\n",
      "BsmtQual_TA         -0.527170\n",
      "GarageFinish_Unf    -0.544653\n",
      "KitchenQual_TA      -0.571333\n",
      "Name: SalePrice, Length: 211, dtype: float64\n"
     ]
    }
   ],
   "source": [
    "# variables most closely related to SalePrice\n",
    "corr = train3.corr()['SalePrice']\n",
    "# print(corr)\n",
    "feature_select=[]\n",
    "corrshape=corr.nlargest(corr.shape[0])[1:corr.shape[0]].shape[0]\n",
    "# print(corrshape)\n",
    "for i in range(corrshape-1):\n",
    "    if (abs(corr.nlargest(corrshape)[1:corrshape][i])>0.2):\n",
    "        feature_select.append(corr.nlargest(corrshape)[1:corrshape].axes[0][i])\n",
    "        \n",
    "print('Number of features selected = ', len(feature_select))        \n",
    "print(corr.nlargest(corrshape)[1:corrshape])"
   ]
  },
  {
   "cell_type": "code",
   "execution_count": 28,
   "metadata": {},
   "outputs": [],
   "source": [
    "#export file to csv\n",
    "train_THREE = train3[feature_select+['Id', 'SalePrice']].copy()\n",
    "train_THREE.to_csv('train_THREE.csv', index=False)"
   ]
  },
  {
   "cell_type": "code",
   "execution_count": null,
   "metadata": {},
   "outputs": [],
   "source": []
  },
  {
   "cell_type": "markdown",
   "metadata": {},
   "source": [
    "## Standard optimisation FOUR\n",
    "- Dealing with null data\n",
    "- Dealing with highly-skewed categorical data\n",
    "- One Hot Encoding\n",
    "- Dealing with highly-skewed continuous data\n",
    "- Z-Scoring\n",
    "- Feature selection"
   ]
  },
  {
   "cell_type": "markdown",
   "metadata": {},
   "source": [
    "### Applying Standardization (Z-Score method)\n",
    "\n",
    "Transforming data into a distribution with a mean of 0 and standard deviation of 1."
   ]
  },
  {
   "cell_type": "code",
   "execution_count": null,
   "metadata": {},
   "outputs": [],
   "source": [
    "# # This is the prof's one\n",
    "# print('mean before:\\t',np.mean(train2,axis=0))\n",
    "# print('std before:\\t',np.std(train2,axis=0))\n",
    "\n",
    "# #YOUR CODE HERE\n",
    "# train2 -= train2.mean(axis=0)\n",
    "# train2 /= np.std(train2,axis=0)\n",
    "# print('mean after:\\t',np.mean(train2,axis=0))\n",
    "# print('std after:\\t',np.std(train2,axis=0))\n",
    "\n",
    "# plt.figure(2,figsize=(6,6))\n",
    "# plt.scatter(train2[:,0], train2[:,1], s=60, c='r', marker='+') \n",
    "# plt.title('Data normalized by z-scoring')\n",
    "# plt.show()"
   ]
  },
  {
   "cell_type": "code",
   "execution_count": 30,
   "metadata": {},
   "outputs": [],
   "source": [
    "features4 = train2.copy()\n",
    "\n",
    "# transform\n",
    "for i in continuous:\n",
    "    # fit on training data column\n",
    "    scale = StandardScaler().fit(train[[i]])\n",
    "    # transform training data column\n",
    "    features4[i] = scale.transform(features4[[i]])\n",
    "    \n",
    "features4.drop(['Id', 'SalePrice'], axis=1, inplace=True)\n",
    "# same as before in THREE\n",
    "# replace = np.array(train2[['Id', 'SalePrice']]) "
   ]
  },
  {
   "cell_type": "code",
   "execution_count": 31,
   "metadata": {},
   "outputs": [
    {
     "data": {
      "text/html": [
       "<div>\n",
       "<style scoped>\n",
       "    .dataframe tbody tr th:only-of-type {\n",
       "        vertical-align: middle;\n",
       "    }\n",
       "\n",
       "    .dataframe tbody tr th {\n",
       "        vertical-align: top;\n",
       "    }\n",
       "\n",
       "    .dataframe thead th {\n",
       "        text-align: right;\n",
       "    }\n",
       "</style>\n",
       "<table border=\"1\" class=\"dataframe\">\n",
       "  <thead>\n",
       "    <tr style=\"text-align: right;\">\n",
       "      <th></th>\n",
       "      <th>LotArea</th>\n",
       "      <th>YearBuilt</th>\n",
       "      <th>YearRemodAdd</th>\n",
       "      <th>MasVnrArea</th>\n",
       "      <th>BsmtFinSF1</th>\n",
       "      <th>BsmtFinSF2</th>\n",
       "      <th>BsmtUnfSF</th>\n",
       "      <th>TotalBsmtSF</th>\n",
       "      <th>1stFlrSF</th>\n",
       "      <th>2ndFlrSF</th>\n",
       "      <th>...</th>\n",
       "      <th>SaleType_Oth</th>\n",
       "      <th>SaleType_WD</th>\n",
       "      <th>SaleCondition_Abnorml</th>\n",
       "      <th>SaleCondition_AdjLand</th>\n",
       "      <th>SaleCondition_Alloca</th>\n",
       "      <th>SaleCondition_Family</th>\n",
       "      <th>SaleCondition_Normal</th>\n",
       "      <th>SaleCondition_Partial</th>\n",
       "      <th>Id</th>\n",
       "      <th>SalePrice</th>\n",
       "    </tr>\n",
       "  </thead>\n",
       "  <tbody>\n",
       "    <tr>\n",
       "      <th>0</th>\n",
       "      <td>-0.218825</td>\n",
       "      <td>1.029146</td>\n",
       "      <td>0.864397</td>\n",
       "      <td>0.471073</td>\n",
       "      <td>0.548776</td>\n",
       "      <td>-0.293876</td>\n",
       "      <td>-0.947855</td>\n",
       "      <td>-0.499247</td>\n",
       "      <td>-0.830872</td>\n",
       "      <td>1.139894</td>\n",
       "      <td>...</td>\n",
       "      <td>0</td>\n",
       "      <td>1</td>\n",
       "      <td>0</td>\n",
       "      <td>0</td>\n",
       "      <td>0</td>\n",
       "      <td>0</td>\n",
       "      <td>1</td>\n",
       "      <td>0</td>\n",
       "      <td>1</td>\n",
       "      <td>208500</td>\n",
       "    </tr>\n",
       "    <tr>\n",
       "      <th>2</th>\n",
       "      <td>0.055020</td>\n",
       "      <td>0.961026</td>\n",
       "      <td>0.815486</td>\n",
       "      <td>0.286813</td>\n",
       "      <td>0.069283</td>\n",
       "      <td>-0.293876</td>\n",
       "      <td>-0.308055</td>\n",
       "      <td>-0.352256</td>\n",
       "      <td>-0.664743</td>\n",
       "      <td>1.167208</td>\n",
       "      <td>...</td>\n",
       "      <td>0</td>\n",
       "      <td>1</td>\n",
       "      <td>0</td>\n",
       "      <td>0</td>\n",
       "      <td>0</td>\n",
       "      <td>0</td>\n",
       "      <td>1</td>\n",
       "      <td>0</td>\n",
       "      <td>3</td>\n",
       "      <td>223500</td>\n",
       "    </tr>\n",
       "    <tr>\n",
       "      <th>4</th>\n",
       "      <td>0.349403</td>\n",
       "      <td>0.926967</td>\n",
       "      <td>0.717665</td>\n",
       "      <td>1.305662</td>\n",
       "      <td>0.437621</td>\n",
       "      <td>-0.293876</td>\n",
       "      <td>-0.181898</td>\n",
       "      <td>0.164510</td>\n",
       "      <td>-0.080693</td>\n",
       "      <td>1.592849</td>\n",
       "      <td>...</td>\n",
       "      <td>0</td>\n",
       "      <td>1</td>\n",
       "      <td>0</td>\n",
       "      <td>0</td>\n",
       "      <td>0</td>\n",
       "      <td>0</td>\n",
       "      <td>1</td>\n",
       "      <td>0</td>\n",
       "      <td>5</td>\n",
       "      <td>250000</td>\n",
       "    </tr>\n",
       "    <tr>\n",
       "      <th>6</th>\n",
       "      <td>-0.059017</td>\n",
       "      <td>1.063205</td>\n",
       "      <td>0.962218</td>\n",
       "      <td>0.416879</td>\n",
       "      <td>1.993793</td>\n",
       "      <td>-0.293876</td>\n",
       "      <td>-0.571635</td>\n",
       "      <td>1.407046</td>\n",
       "      <td>1.344389</td>\n",
       "      <td>-0.803943</td>\n",
       "      <td>...</td>\n",
       "      <td>0</td>\n",
       "      <td>1</td>\n",
       "      <td>0</td>\n",
       "      <td>0</td>\n",
       "      <td>0</td>\n",
       "      <td>0</td>\n",
       "      <td>1</td>\n",
       "      <td>0</td>\n",
       "      <td>7</td>\n",
       "      <td>307000</td>\n",
       "    </tr>\n",
       "    <tr>\n",
       "      <th>10</th>\n",
       "      <td>0.050130</td>\n",
       "      <td>-0.265118</td>\n",
       "      <td>-0.994206</td>\n",
       "      <td>-0.591131</td>\n",
       "      <td>0.984678</td>\n",
       "      <td>-0.293876</td>\n",
       "      <td>-0.983900</td>\n",
       "      <td>-0.076647</td>\n",
       "      <td>-0.353249</td>\n",
       "      <td>-0.803943</td>\n",
       "      <td>...</td>\n",
       "      <td>0</td>\n",
       "      <td>1</td>\n",
       "      <td>0</td>\n",
       "      <td>0</td>\n",
       "      <td>0</td>\n",
       "      <td>0</td>\n",
       "      <td>1</td>\n",
       "      <td>0</td>\n",
       "      <td>11</td>\n",
       "      <td>129500</td>\n",
       "    </tr>\n",
       "  </tbody>\n",
       "</table>\n",
       "<p>5 rows × 248 columns</p>\n",
       "</div>"
      ],
      "text/plain": [
       "     LotArea  YearBuilt  YearRemodAdd  MasVnrArea  BsmtFinSF1  BsmtFinSF2  \\\n",
       "0  -0.218825   1.029146      0.864397    0.471073    0.548776   -0.293876   \n",
       "2   0.055020   0.961026      0.815486    0.286813    0.069283   -0.293876   \n",
       "4   0.349403   0.926967      0.717665    1.305662    0.437621   -0.293876   \n",
       "6  -0.059017   1.063205      0.962218    0.416879    1.993793   -0.293876   \n",
       "10  0.050130  -0.265118     -0.994206   -0.591131    0.984678   -0.293876   \n",
       "\n",
       "    BsmtUnfSF  TotalBsmtSF  1stFlrSF  2ndFlrSF  ...  SaleType_Oth  \\\n",
       "0   -0.947855    -0.499247 -0.830872  1.139894  ...             0   \n",
       "2   -0.308055    -0.352256 -0.664743  1.167208  ...             0   \n",
       "4   -0.181898     0.164510 -0.080693  1.592849  ...             0   \n",
       "6   -0.571635     1.407046  1.344389 -0.803943  ...             0   \n",
       "10  -0.983900    -0.076647 -0.353249 -0.803943  ...             0   \n",
       "\n",
       "    SaleType_WD  SaleCondition_Abnorml  SaleCondition_AdjLand  \\\n",
       "0             1                      0                      0   \n",
       "2             1                      0                      0   \n",
       "4             1                      0                      0   \n",
       "6             1                      0                      0   \n",
       "10            1                      0                      0   \n",
       "\n",
       "    SaleCondition_Alloca  SaleCondition_Family  SaleCondition_Normal  \\\n",
       "0                      0                     0                     1   \n",
       "2                      0                     0                     1   \n",
       "4                      0                     0                     1   \n",
       "6                      0                     0                     1   \n",
       "10                     0                     0                     1   \n",
       "\n",
       "    SaleCondition_Partial  Id  SalePrice  \n",
       "0                       0   1     208500  \n",
       "2                       0   3     223500  \n",
       "4                       0   5     250000  \n",
       "6                       0   7     307000  \n",
       "10                      0  11     129500  \n",
       "\n",
       "[5 rows x 248 columns]"
      ]
     },
     "execution_count": 31,
     "metadata": {},
     "output_type": "execute_result"
    }
   ],
   "source": [
    "train4 = pd.DataFrame(features4, columns=features3.columns)\n",
    "train4['Id'] = replace.T[0]\n",
    "train4['SalePrice']= replace.T[1]\n",
    "train4.head()"
   ]
  },
  {
   "cell_type": "code",
   "execution_count": null,
   "metadata": {},
   "outputs": [],
   "source": [
    "# train_X_stan, test_X_stan, train_Y_stan, test_Y_stan = train_test_split(features_stan,labels,test_size=0.2, random_state=0)"
   ]
  },
  {
   "cell_type": "code",
   "execution_count": null,
   "metadata": {},
   "outputs": [],
   "source": [
    "# #investigating the skewness of data features (visually)\n",
    "# f, axes = plt.subplots(len(continuous), 3, figsize=(20, 200))\n",
    "# colors = [\"r\", \"g\", \"b\",\"r\",\"g\"]\n",
    "# colors = colors*7\n",
    "# count = 0\n",
    "# for i in continuous:\n",
    "#     sb.boxplot(x = features4[i], color = colors[count], ax = axes[count,0])\n",
    "#     sb.histplot(x = features4[i], color = colors[count], ax = axes[count,1])\n",
    "#     sb.violinplot(x = features4[i], color = colors[count], ax = axes[count,2])\n",
    "#     count += 1 "
   ]
  },
  {
   "cell_type": "code",
   "execution_count": null,
   "metadata": {},
   "outputs": [],
   "source": [
    "# #calculating skewness of continuous variables\n",
    "# array = skew(features4[continuous])\n",
    "# #the top 10 features which are the most skewed\n",
    "# index = array.argsort()[-10:][::-1]\n",
    "# for i in index: \n",
    "#     print (continuous[i],\": skewness = \", array[i])"
   ]
  },
  {
   "cell_type": "code",
   "execution_count": null,
   "metadata": {},
   "outputs": [],
   "source": []
  },
  {
   "cell_type": "markdown",
   "metadata": {},
   "source": [
    "### Feature selection\n",
    "Choosing variables that is correlated to SalePrice with absolute value more than 0.2"
   ]
  },
  {
   "cell_type": "code",
   "execution_count": 32,
   "metadata": {
    "scrolled": true
   },
   "outputs": [
    {
     "name": "stdout",
     "output_type": "stream",
     "text": [
      "Number of features selected =  73\n",
      "GrLivArea            0.764786\n",
      "GarageCars           0.699105\n",
      "GarageArea           0.671034\n",
      "TotRmsAbvGrd         0.639797\n",
      "FullBath             0.632455\n",
      "                       ...   \n",
      "GarageType_Detchd   -0.452965\n",
      "Foundation_CBlock   -0.478446\n",
      "BsmtQual_TA         -0.527170\n",
      "GarageFinish_Unf    -0.544653\n",
      "KitchenQual_TA      -0.571333\n",
      "Name: SalePrice, Length: 220, dtype: float64\n"
     ]
    }
   ],
   "source": [
    "# variables most closely related to SalePrice\n",
    "corr = train4.corr()['SalePrice']\n",
    "# print(corr)\n",
    "feature_select=[]\n",
    "corrshape=corr.nlargest(corr.shape[0])[1:corr.shape[0]].shape[0]\n",
    "# print(corrshape)\n",
    "for i in range(corrshape-1):\n",
    "    if (abs(corr.nlargest(corrshape)[1:corrshape][i])>0.2):\n",
    "        feature_select.append(corr.nlargest(corrshape)[1:corrshape].axes[0][i])\n",
    "        \n",
    "print('Number of features selected = ', len(feature_select))        \n",
    "print(corr.nlargest(corrshape)[1:corrshape])"
   ]
  },
  {
   "cell_type": "code",
   "execution_count": 33,
   "metadata": {},
   "outputs": [],
   "source": [
    "#export file to csv\n",
    "train_FOUR = train4[feature_select+['Id', 'SalePrice']].copy()\n",
    "train_FOUR.to_csv('train_FOUR.csv', index=False)"
   ]
  },
  {
   "cell_type": "code",
   "execution_count": null,
   "metadata": {},
   "outputs": [],
   "source": []
  },
  {
   "cell_type": "markdown",
   "metadata": {},
   "source": [
    "## Features\n",
    "\n",
    "Create a feature dataset that does not consist of Id and SalePrice (label: value to be predicted)\n"
   ]
  },
  {
   "cell_type": "code",
   "execution_count": null,
   "metadata": {},
   "outputs": [],
   "source": [
    "# features = train.copy()\n",
    "# features.drop(['Id', 'SalePrice'], axis=1, inplace=True)\n",
    "\n",
    "# labels = train['SalePrice']"
   ]
  },
  {
   "cell_type": "code",
   "execution_count": null,
   "metadata": {},
   "outputs": [],
   "source": [
    "# train_X, test_X, train_Y, test_Y = train_test_split(features,labels,test_size=0.2, random_state=0)"
   ]
  },
  {
   "cell_type": "code",
   "execution_count": null,
   "metadata": {},
   "outputs": [],
   "source": []
  },
  {
   "cell_type": "markdown",
   "metadata": {},
   "source": [
    "# Can ignore the rest from here lmao"
   ]
  },
  {
   "cell_type": "markdown",
   "metadata": {},
   "source": [
    "## Feature Selection\n",
    "\n",
    "Choosing variables that is correlated to SalePrice with absolute value more than 0.2"
   ]
  },
  {
   "cell_type": "code",
   "execution_count": null,
   "metadata": {},
   "outputs": [],
   "source": [
    "# # variables most closely related to SalePrice\n",
    "# corr = train.corr()['SalePrice']\n",
    "# feature_select=[]\n",
    "# corrshape=corr.nlargest(corr.shape[0])[1:corr.shape[0]].shape[0]\n",
    "# for i in range(corrshape-1):\n",
    "#     if (abs(corr.nlargest(corrshape)[1:corrshape][i])>0.2):\n",
    "#         feature_select.append(corr.nlargest(corrshape)[1:corrshape].axes[0][i])\n",
    "# print(corr.nlargest(corrshape)[1:corrshape])\n",
    "# print(len(feature_select))"
   ]
  },
  {
   "cell_type": "code",
   "execution_count": null,
   "metadata": {},
   "outputs": [],
   "source": [
    "# features_fs1 = train[feature_select].copy()\n",
    "# labels_fs1 = train['SalePrice']\n",
    "# train_X_fs1, test_X_fs1, train_Y_fs1, test_Y_fs1 = train_test_split(features_fs1,labels_fs1,test_size=0.2, random_state=0)"
   ]
  },
  {
   "cell_type": "code",
   "execution_count": null,
   "metadata": {},
   "outputs": [],
   "source": [
    "# # data normalization after feature selection 1\n",
    "# # fit scaler on training data\n",
    "# norm = MinMaxScaler().fit(features[feature_select])\n",
    "# # transform training data\n",
    "# features_fs1_norm = norm.transform(features[feature_select])\n",
    "\n",
    "# train_X_fs1_norm, test_X_fs1_norm, train_Y_fs1_norm, test_Y_fs1_norm = train_test_split(features_fs1_norm,labels_fs1,test_size=0.2, random_state=0)"
   ]
  },
  {
   "cell_type": "code",
   "execution_count": null,
   "metadata": {},
   "outputs": [],
   "source": [
    "# # data standardization after feature selection 1\n",
    "# features_fs1_stan = features_stan[feature_select].copy()\n",
    "# train_X_fs1_stan, test_X_fs1_stan, train_Y_fs1_stan, test_Y_fs1_stan = train_test_split(features_fs1_stan,labels_fs1,test_size=0.2, random_state=0)"
   ]
  },
  {
   "cell_type": "code",
   "execution_count": null,
   "metadata": {},
   "outputs": [],
   "source": [
    "# # variables most closely related to SalePrice after removing outliers via IQR\n",
    "# corr = train_out_2.corr()['SalePrice']\n",
    "# feature_select2=[]\n",
    "# corrshape=corr.nlargest(corr.shape[0])[1:corr.shape[0]].shape[0]\n",
    "# for i in range(corrshape-1):\n",
    "#     if (abs(corr.nlargest(corrshape)[1:corrshape][i])>0.2):\n",
    "#         feature_select2.append(corr.nlargest(corrshape)[1:corrshape].axes[0][i])\n",
    "# print(corr.nlargest(corrshape)[1:corrshape])\n",
    "# print(len(feature_select))"
   ]
  },
  {
   "cell_type": "code",
   "execution_count": null,
   "metadata": {},
   "outputs": [],
   "source": [
    "# features_fs2 = train_out_2[feature_select2].copy()\n",
    "# labels_fs2 = train_out_2['SalePrice']\n",
    "# train_X_fs2, test_X_fs2, train_Y_fs2, test_Y_fs2 = train_test_split(features_fs2,labels_fs2,test_size=0.2, random_state=0)"
   ]
  },
  {
   "cell_type": "code",
   "execution_count": null,
   "metadata": {},
   "outputs": [],
   "source": [
    "# # data normalization after feature selection 2\n",
    "# # fit scaler on training data\n",
    "# norm = MinMaxScaler().fit(features_liqr[feature_select2])\n",
    "# # transform training data\n",
    "# features_fs2_norm = norm.transform(features_liqr[feature_select2])\n",
    "# train_X_fs2_norm, test_X_fs2_norm, train_Y_fs2_norm, test_Y_fs2_norm = train_test_split(features_fs2_norm,labels_fs2,test_size=0.2, random_state=0)"
   ]
  },
  {
   "cell_type": "code",
   "execution_count": null,
   "metadata": {},
   "outputs": [],
   "source": [
    "# # data standardization after feature selection 2\n",
    "# features_stan=train_out_2.copy()\n",
    "# for i in continuous:\n",
    "#     # fit on training data column\n",
    "#     scale = StandardScaler().fit(train_out_2[[i]])\n",
    "#     # transform training data column\n",
    "#     features_stan[i] = scale.transform(features_stan[[i]])\n",
    "# features_fs2_stan=features_stan[feature_select2].copy()\n",
    "# train_X_fs2_stan, test_X_fs2_stan, train_Y_fs2_stan, test_Y_fs2_stan = train_test_split(features_fs2_stan,labels_fs2,test_size=0.2, random_state=0)"
   ]
  },
  {
   "cell_type": "code",
   "execution_count": null,
   "metadata": {},
   "outputs": [],
   "source": []
  },
  {
   "cell_type": "markdown",
   "metadata": {},
   "source": [
    "## Pre-processing v1 - Removing outliers with log transformation: Continuous Variables \n",
    "\n",
    "Using logarithmic transformation, it may help correct the distribution of variables."
   ]
  },
  {
   "cell_type": "code",
   "execution_count": null,
   "metadata": {},
   "outputs": [],
   "source": [
    "# # identifying continuous variables with high skewness\n",
    "# continuous = ['LotArea', 'YearBuilt', 'YearRemodAdd', \n",
    "#        'MasVnrArea', 'BsmtFinSF1', 'BsmtFinSF2', 'BsmtUnfSF', 'TotalBsmtSF', '1stFlrSF', '2ndFlrSF',\n",
    "#        'LowQualFinSF', 'GrLivArea', 'BsmtFullBath', 'BsmtHalfBath', 'FullBath',\n",
    "#        'HalfBath', 'BedroomAbvGr', 'KitchenAbvGr','TotRmsAbvGrd', 'Fireplaces', \n",
    "#        'GarageYrBlt', 'GarageCars', 'GarageArea', 'WoodDeckSF', 'OpenPorchSF',\n",
    "#        'EnclosedPorch', '3SsnPorch', 'ScreenPorch', 'PoolArea', 'MiscVal', 'MoSold', 'YrSold']\n",
    "# array1 = skew(train[continuous])\n",
    "# #the top 15 features which are the most skewed\n",
    "# index1 = array1.argsort()[-15:][::-1]\n",
    "# continuous_skewed=[]\n",
    "# for i in index1:\n",
    "#     print (continuous[i],\": skewness = \", array1[i])\n",
    "#     if array1[i]>=1:\n",
    "#         continuous_skewed.append(continuous[i])"
   ]
  },
  {
   "cell_type": "code",
   "execution_count": null,
   "metadata": {},
   "outputs": [],
   "source": [
    "# #applying log transformation for selected variables\n",
    "# train_out=train.copy()\n",
    "# for i in continuous_skewed:\n",
    "#     train_out[i] = train_out[i].map(lambda l: np.log(l) if l > 0 else 0)"
   ]
  },
  {
   "cell_type": "code",
   "execution_count": null,
   "metadata": {},
   "outputs": [],
   "source": [
    "# #recalculating skewness of continuous variables\n",
    "# array2 = skew(train_out[continuous])\n",
    "# #the top 10 features which are the most skewed\n",
    "# index2 = array2.argsort()[-15:][::-1]\n",
    "# continuous_skewed=[]\n",
    "# for i in index2: \n",
    "#     print (continuous[i],\": skewness = \", array2[i])\n",
    "#     if array2[i] >= 1:\n",
    "#         continuous_skewed.append(continuous[i])"
   ]
  },
  {
   "cell_type": "code",
   "execution_count": null,
   "metadata": {},
   "outputs": [],
   "source": [
    "# #revert the log transformation if the skewness increases after log transformation\n",
    "# for i in index2: \n",
    "#     print (continuous[i],\": skewness = \", array1[i],\"\\t, skewness2 = \", array2[i])\n",
    "#     if array2[i] >= array1[i]:\n",
    "#         train_out[continuous[i]] = train[continuous[i]]"
   ]
  },
  {
   "cell_type": "code",
   "execution_count": null,
   "metadata": {
    "scrolled": true
   },
   "outputs": [],
   "source": [
    "# #recalculating skewness of continuous variables\n",
    "# array2 = skew(train_out[continuous])\n",
    "# #the top 10 features which are the most skewed\n",
    "# index2 = array2.argsort()[-15:][::-1]\n",
    "# for i in index2: \n",
    "#     print (continuous[i],\": skewness = \", array2[i])"
   ]
  },
  {
   "cell_type": "code",
   "execution_count": null,
   "metadata": {},
   "outputs": [],
   "source": []
  },
  {
   "cell_type": "markdown",
   "metadata": {},
   "source": [
    "## Pre-processing v4 - combine v1 and v2"
   ]
  },
  {
   "cell_type": "code",
   "execution_count": null,
   "metadata": {},
   "outputs": [],
   "source": [
    "# features_liqr = train_out_2.copy()\n",
    "# features_liqr.drop(['Id', 'SalePrice'], axis=1, inplace=True)\n",
    "# labels_liqr = train_out_2['SalePrice']\n",
    "# # data normalization from sklearn\n",
    "# # fit scaler on training data\n",
    "# norm = MinMaxScaler().fit(features_liqr)\n",
    "# # transform training data\n",
    "# features_norm = norm.transform(features_liqr)\n",
    "# train_X_liqr_norm, test_X_liqr_norm, train_Y_liqr_norm, test_Y_liqr_norm = train_test_split(features_norm,labels_liqr,test_size=0.2, random_state=0)"
   ]
  },
  {
   "cell_type": "code",
   "execution_count": null,
   "metadata": {},
   "outputs": [],
   "source": [
    "# #investigating the skewness of data features (visually)\n",
    "# f, axes = plt.subplots(len(continuous), 3, figsize=(20, 200))\n",
    "# colors = [\"r\", \"g\", \"b\",\"r\",\"g\"]\n",
    "# colors = colors*7\n",
    "# count = 0\n",
    "# for i in continuous:\n",
    "#     col_ind=features.columns.get_indexer([i])[0]\n",
    "#     sb.boxplot(x = features_norm[:,col_ind], color = colors[count], ax = axes[count,0])\n",
    "#     sb.histplot(x = features_norm[:,col_ind], color = colors[count], ax = axes[count,1])\n",
    "#     sb.violinplot(x = features_norm[:,col_ind], color = colors[count], ax = axes[count,2])\n",
    "#     count += 1 "
   ]
  },
  {
   "cell_type": "markdown",
   "metadata": {},
   "source": [
    "## Pre-processing v5 - combine v1 and v3"
   ]
  },
  {
   "cell_type": "code",
   "execution_count": null,
   "metadata": {},
   "outputs": [],
   "source": [
    "# # data standardization \n",
    "# features_liqr_stan=train_out_2.copy()\n",
    "# for i in continuous:\n",
    "#     # fit on training data column\n",
    "#     scale = StandardScaler().fit(train_out_2[[i]])\n",
    "#     # transform training data column\n",
    "#     features_liqr_stan[i] = scale.transform(features_liqr_stan[[i]])\n",
    "# labels_liqr_stan = train_out_2['SalePrice']\n",
    "# features_liqr_stan.drop(['Id', 'SalePrice'], axis=1, inplace=True)\n",
    "\n",
    "# train_X_liqr_stan, test_X_liqr_stan, train_Y_liqr_stan, test_Y_liqr_stan = train_test_split(features_liqr_stan,labels_liqr_stan,test_size=0.2, random_state=0)"
   ]
  },
  {
   "cell_type": "code",
   "execution_count": null,
   "metadata": {},
   "outputs": [],
   "source": [
    "# #investigating the skewness of data features (visually)\n",
    "# f, axes = plt.subplots(len(continuous), 3, figsize=(20, 200))\n",
    "# colors = [\"r\", \"g\", \"b\",\"r\",\"g\"]\n",
    "# colors = colors*7\n",
    "# count = 0\n",
    "# for i in continuous:\n",
    "#     sb.boxplot(x = features_stan[i], color = colors[count], ax = axes[count,0])\n",
    "#     sb.histplot(x = features_stan[i], color = colors[count], ax = axes[count,1])\n",
    "#     sb.violinplot(x = features_stan[i], color = colors[count], ax = axes[count,2])\n",
    "#     count += 1 "
   ]
  },
  {
   "cell_type": "code",
   "execution_count": null,
   "metadata": {},
   "outputs": [],
   "source": [
    "# #calculating skewness of continuous variables\n",
    "# array = skew(features_stan[continuous])\n",
    "# #the top 10 features which are the most skewed\n",
    "# index = array.argsort()[-10:][::-1]\n",
    "# for i in index: \n",
    "#     print (continuous[i],\": skewness = \", array[i])"
   ]
  }
 ],
 "metadata": {
  "kernelspec": {
   "display_name": "Python 3",
   "language": "python",
   "name": "python3"
  },
  "language_info": {
   "codemirror_mode": {
    "name": "ipython",
    "version": 3
   },
   "file_extension": ".py",
   "mimetype": "text/x-python",
   "name": "python",
   "nbconvert_exporter": "python",
   "pygments_lexer": "ipython3",
   "version": "3.7.6"
  }
 },
 "nbformat": 4,
 "nbformat_minor": 4
}
