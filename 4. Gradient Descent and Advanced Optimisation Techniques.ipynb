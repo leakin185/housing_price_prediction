{
 "cells": [
  {
   "cell_type": "markdown",
   "id": "hawaiian-nightmare",
   "metadata": {},
   "source": [
    "# Part 4 - Gradient Descent \n",
    "\n",
    "In this section, we will use the linear regression model, which we have learned in the tutorial, to do predictions based on our dataset. First, we will apply a gradient descent algorithmn to optimize the parameters of the predictive funtion. Second, we will explore the tuning of different hyperparameters in the model. Finally, we will try some advanced optimisation techniques to improve our results.\n",
    "\n",
    "__Overview of Implementation__ <a class=\"anchor\" id=\"top\"></a>\n",
    "1. [Import](#import)\n",
    "2. [Cleaning the Data for Model Training](#clean)\n",
    "3. [Gradient Descent function](#gd)\n",
    "5. [Reducing Dimension: Feature selection](#feature)\n",
    "6. [Hyperparameter Tuning 1](#hyper1)\n",
    "  1. [Polynomial Degree](#poly)\n",
    "7. [Regularisation](#reg)\n",
    "8. [Hyperparameter Tuning 2 - with K-fold Cross Validation](#hyper2)\n",
    "  1. [Regularisation Parameter](#Kreg)\n",
    "  2. [Learning Rate](#Ktau)\n",
    "  3. [Initial w](#Kw)\n",
    "  4. [Results](#Kresults)\n",
    "9. [Advanced Optimisation Techniques](#adv)\n",
    "  1. [Keras TensorFlow](#keras)\n",
    "    1. [Adam](#kerasadam)\n",
    "    2. [Nadam](#kerasnadam)\n",
    "  2. [MLP Regressor](#mlp)\n",
    "    1. [Adam](#SKadam)\n",
    "    2. [Limited-memory BFGS](#SKLBFGS)\n",
    "  3. [Submitting to Kaggle](#submit)\n"
   ]
  },
  {
   "cell_type": "code",
   "execution_count": 1,
   "id": "loaded-keeping",
   "metadata": {},
   "outputs": [],
   "source": [
    "# Basic Libraries\n",
    "import numpy as np\n",
    "import pandas as pd\n",
    "import researchpy as rp\n",
    "import seaborn as sb\n",
    "import matplotlib.pyplot as plt # we only need pyplot\n",
    "sb.set() # set the default Seaborn style for graphics\n",
    "import math\n",
    "from sklearn.metrics import mean_squared_error, mean_absolute_error, r2_score\n",
    "from statistics import mean, median, mode, stdev\n",
    "from sklearn import preprocessing\n",
    "from sklearn.preprocessing import OneHotEncoder\n",
    "from sklearn.model_selection import train_test_split\n",
    "from sklearn.preprocessing import StandardScaler\n",
    "from sklearn.preprocessing import PolynomialFeatures\n",
    "from scipy.optimize import minimize\n",
    "from sklearn.model_selection import KFold\n",
    "from sklearn.neural_network import MLPRegressor\n",
    "\n",
    "import tensorflow as tf\n",
    "from tensorflow import keras\n",
    "from tensorflow.keras import layers\n",
    "\n",
    "from scipy.stats import skew \n"
   ]
  },
  {
   "cell_type": "markdown",
   "id": "above-sustainability",
   "metadata": {},
   "source": [
    "## Import <a class=\"anchor\" id=\"import\"></a>"
   ]
  },
  {
   "cell_type": "code",
   "execution_count": 2,
   "id": "single-episode",
   "metadata": {},
   "outputs": [
    {
     "data": {
      "text/html": [
       "<div>\n",
       "<style scoped>\n",
       "    .dataframe tbody tr th:only-of-type {\n",
       "        vertical-align: middle;\n",
       "    }\n",
       "\n",
       "    .dataframe tbody tr th {\n",
       "        vertical-align: top;\n",
       "    }\n",
       "\n",
       "    .dataframe thead th {\n",
       "        text-align: right;\n",
       "    }\n",
       "</style>\n",
       "<table border=\"1\" class=\"dataframe\">\n",
       "  <thead>\n",
       "    <tr style=\"text-align: right;\">\n",
       "      <th></th>\n",
       "      <th>Id</th>\n",
       "      <th>MSSubClass</th>\n",
       "      <th>MSZoning</th>\n",
       "      <th>LotFrontage</th>\n",
       "      <th>LotArea</th>\n",
       "      <th>Street</th>\n",
       "      <th>Alley</th>\n",
       "      <th>LotShape</th>\n",
       "      <th>LandContour</th>\n",
       "      <th>Utilities</th>\n",
       "      <th>...</th>\n",
       "      <th>PoolArea</th>\n",
       "      <th>PoolQC</th>\n",
       "      <th>Fence</th>\n",
       "      <th>MiscFeature</th>\n",
       "      <th>MiscVal</th>\n",
       "      <th>MoSold</th>\n",
       "      <th>YrSold</th>\n",
       "      <th>SaleType</th>\n",
       "      <th>SaleCondition</th>\n",
       "      <th>SalePrice</th>\n",
       "    </tr>\n",
       "  </thead>\n",
       "  <tbody>\n",
       "    <tr>\n",
       "      <th>0</th>\n",
       "      <td>1</td>\n",
       "      <td>60</td>\n",
       "      <td>RL</td>\n",
       "      <td>65.0</td>\n",
       "      <td>8450</td>\n",
       "      <td>Pave</td>\n",
       "      <td>NaN</td>\n",
       "      <td>Reg</td>\n",
       "      <td>Lvl</td>\n",
       "      <td>AllPub</td>\n",
       "      <td>...</td>\n",
       "      <td>0</td>\n",
       "      <td>NaN</td>\n",
       "      <td>NaN</td>\n",
       "      <td>NaN</td>\n",
       "      <td>0</td>\n",
       "      <td>2</td>\n",
       "      <td>2008</td>\n",
       "      <td>WD</td>\n",
       "      <td>Normal</td>\n",
       "      <td>208500</td>\n",
       "    </tr>\n",
       "    <tr>\n",
       "      <th>1</th>\n",
       "      <td>2</td>\n",
       "      <td>20</td>\n",
       "      <td>RL</td>\n",
       "      <td>80.0</td>\n",
       "      <td>9600</td>\n",
       "      <td>Pave</td>\n",
       "      <td>NaN</td>\n",
       "      <td>Reg</td>\n",
       "      <td>Lvl</td>\n",
       "      <td>AllPub</td>\n",
       "      <td>...</td>\n",
       "      <td>0</td>\n",
       "      <td>NaN</td>\n",
       "      <td>NaN</td>\n",
       "      <td>NaN</td>\n",
       "      <td>0</td>\n",
       "      <td>5</td>\n",
       "      <td>2007</td>\n",
       "      <td>WD</td>\n",
       "      <td>Normal</td>\n",
       "      <td>181500</td>\n",
       "    </tr>\n",
       "    <tr>\n",
       "      <th>2</th>\n",
       "      <td>3</td>\n",
       "      <td>60</td>\n",
       "      <td>RL</td>\n",
       "      <td>68.0</td>\n",
       "      <td>11250</td>\n",
       "      <td>Pave</td>\n",
       "      <td>NaN</td>\n",
       "      <td>IR1</td>\n",
       "      <td>Lvl</td>\n",
       "      <td>AllPub</td>\n",
       "      <td>...</td>\n",
       "      <td>0</td>\n",
       "      <td>NaN</td>\n",
       "      <td>NaN</td>\n",
       "      <td>NaN</td>\n",
       "      <td>0</td>\n",
       "      <td>9</td>\n",
       "      <td>2008</td>\n",
       "      <td>WD</td>\n",
       "      <td>Normal</td>\n",
       "      <td>223500</td>\n",
       "    </tr>\n",
       "    <tr>\n",
       "      <th>3</th>\n",
       "      <td>4</td>\n",
       "      <td>70</td>\n",
       "      <td>RL</td>\n",
       "      <td>60.0</td>\n",
       "      <td>9550</td>\n",
       "      <td>Pave</td>\n",
       "      <td>NaN</td>\n",
       "      <td>IR1</td>\n",
       "      <td>Lvl</td>\n",
       "      <td>AllPub</td>\n",
       "      <td>...</td>\n",
       "      <td>0</td>\n",
       "      <td>NaN</td>\n",
       "      <td>NaN</td>\n",
       "      <td>NaN</td>\n",
       "      <td>0</td>\n",
       "      <td>2</td>\n",
       "      <td>2006</td>\n",
       "      <td>WD</td>\n",
       "      <td>Abnorml</td>\n",
       "      <td>140000</td>\n",
       "    </tr>\n",
       "    <tr>\n",
       "      <th>4</th>\n",
       "      <td>5</td>\n",
       "      <td>60</td>\n",
       "      <td>RL</td>\n",
       "      <td>84.0</td>\n",
       "      <td>14260</td>\n",
       "      <td>Pave</td>\n",
       "      <td>NaN</td>\n",
       "      <td>IR1</td>\n",
       "      <td>Lvl</td>\n",
       "      <td>AllPub</td>\n",
       "      <td>...</td>\n",
       "      <td>0</td>\n",
       "      <td>NaN</td>\n",
       "      <td>NaN</td>\n",
       "      <td>NaN</td>\n",
       "      <td>0</td>\n",
       "      <td>12</td>\n",
       "      <td>2008</td>\n",
       "      <td>WD</td>\n",
       "      <td>Normal</td>\n",
       "      <td>250000</td>\n",
       "    </tr>\n",
       "    <tr>\n",
       "      <th>...</th>\n",
       "      <td>...</td>\n",
       "      <td>...</td>\n",
       "      <td>...</td>\n",
       "      <td>...</td>\n",
       "      <td>...</td>\n",
       "      <td>...</td>\n",
       "      <td>...</td>\n",
       "      <td>...</td>\n",
       "      <td>...</td>\n",
       "      <td>...</td>\n",
       "      <td>...</td>\n",
       "      <td>...</td>\n",
       "      <td>...</td>\n",
       "      <td>...</td>\n",
       "      <td>...</td>\n",
       "      <td>...</td>\n",
       "      <td>...</td>\n",
       "      <td>...</td>\n",
       "      <td>...</td>\n",
       "      <td>...</td>\n",
       "      <td>...</td>\n",
       "    </tr>\n",
       "    <tr>\n",
       "      <th>1455</th>\n",
       "      <td>1456</td>\n",
       "      <td>60</td>\n",
       "      <td>RL</td>\n",
       "      <td>62.0</td>\n",
       "      <td>7917</td>\n",
       "      <td>Pave</td>\n",
       "      <td>NaN</td>\n",
       "      <td>Reg</td>\n",
       "      <td>Lvl</td>\n",
       "      <td>AllPub</td>\n",
       "      <td>...</td>\n",
       "      <td>0</td>\n",
       "      <td>NaN</td>\n",
       "      <td>NaN</td>\n",
       "      <td>NaN</td>\n",
       "      <td>0</td>\n",
       "      <td>8</td>\n",
       "      <td>2007</td>\n",
       "      <td>WD</td>\n",
       "      <td>Normal</td>\n",
       "      <td>175000</td>\n",
       "    </tr>\n",
       "    <tr>\n",
       "      <th>1456</th>\n",
       "      <td>1457</td>\n",
       "      <td>20</td>\n",
       "      <td>RL</td>\n",
       "      <td>85.0</td>\n",
       "      <td>13175</td>\n",
       "      <td>Pave</td>\n",
       "      <td>NaN</td>\n",
       "      <td>Reg</td>\n",
       "      <td>Lvl</td>\n",
       "      <td>AllPub</td>\n",
       "      <td>...</td>\n",
       "      <td>0</td>\n",
       "      <td>NaN</td>\n",
       "      <td>MnPrv</td>\n",
       "      <td>NaN</td>\n",
       "      <td>0</td>\n",
       "      <td>2</td>\n",
       "      <td>2010</td>\n",
       "      <td>WD</td>\n",
       "      <td>Normal</td>\n",
       "      <td>210000</td>\n",
       "    </tr>\n",
       "    <tr>\n",
       "      <th>1457</th>\n",
       "      <td>1458</td>\n",
       "      <td>70</td>\n",
       "      <td>RL</td>\n",
       "      <td>66.0</td>\n",
       "      <td>9042</td>\n",
       "      <td>Pave</td>\n",
       "      <td>NaN</td>\n",
       "      <td>Reg</td>\n",
       "      <td>Lvl</td>\n",
       "      <td>AllPub</td>\n",
       "      <td>...</td>\n",
       "      <td>0</td>\n",
       "      <td>NaN</td>\n",
       "      <td>GdPrv</td>\n",
       "      <td>Shed</td>\n",
       "      <td>2500</td>\n",
       "      <td>5</td>\n",
       "      <td>2010</td>\n",
       "      <td>WD</td>\n",
       "      <td>Normal</td>\n",
       "      <td>266500</td>\n",
       "    </tr>\n",
       "    <tr>\n",
       "      <th>1458</th>\n",
       "      <td>1459</td>\n",
       "      <td>20</td>\n",
       "      <td>RL</td>\n",
       "      <td>68.0</td>\n",
       "      <td>9717</td>\n",
       "      <td>Pave</td>\n",
       "      <td>NaN</td>\n",
       "      <td>Reg</td>\n",
       "      <td>Lvl</td>\n",
       "      <td>AllPub</td>\n",
       "      <td>...</td>\n",
       "      <td>0</td>\n",
       "      <td>NaN</td>\n",
       "      <td>NaN</td>\n",
       "      <td>NaN</td>\n",
       "      <td>0</td>\n",
       "      <td>4</td>\n",
       "      <td>2010</td>\n",
       "      <td>WD</td>\n",
       "      <td>Normal</td>\n",
       "      <td>142125</td>\n",
       "    </tr>\n",
       "    <tr>\n",
       "      <th>1459</th>\n",
       "      <td>1460</td>\n",
       "      <td>20</td>\n",
       "      <td>RL</td>\n",
       "      <td>75.0</td>\n",
       "      <td>9937</td>\n",
       "      <td>Pave</td>\n",
       "      <td>NaN</td>\n",
       "      <td>Reg</td>\n",
       "      <td>Lvl</td>\n",
       "      <td>AllPub</td>\n",
       "      <td>...</td>\n",
       "      <td>0</td>\n",
       "      <td>NaN</td>\n",
       "      <td>NaN</td>\n",
       "      <td>NaN</td>\n",
       "      <td>0</td>\n",
       "      <td>6</td>\n",
       "      <td>2008</td>\n",
       "      <td>WD</td>\n",
       "      <td>Normal</td>\n",
       "      <td>147500</td>\n",
       "    </tr>\n",
       "  </tbody>\n",
       "</table>\n",
       "<p>1460 rows × 81 columns</p>\n",
       "</div>"
      ],
      "text/plain": [
       "        Id  MSSubClass MSZoning  LotFrontage  LotArea Street Alley LotShape  \\\n",
       "0        1          60       RL         65.0     8450   Pave   NaN      Reg   \n",
       "1        2          20       RL         80.0     9600   Pave   NaN      Reg   \n",
       "2        3          60       RL         68.0    11250   Pave   NaN      IR1   \n",
       "3        4          70       RL         60.0     9550   Pave   NaN      IR1   \n",
       "4        5          60       RL         84.0    14260   Pave   NaN      IR1   \n",
       "...    ...         ...      ...          ...      ...    ...   ...      ...   \n",
       "1455  1456          60       RL         62.0     7917   Pave   NaN      Reg   \n",
       "1456  1457          20       RL         85.0    13175   Pave   NaN      Reg   \n",
       "1457  1458          70       RL         66.0     9042   Pave   NaN      Reg   \n",
       "1458  1459          20       RL         68.0     9717   Pave   NaN      Reg   \n",
       "1459  1460          20       RL         75.0     9937   Pave   NaN      Reg   \n",
       "\n",
       "     LandContour Utilities  ... PoolArea PoolQC  Fence MiscFeature MiscVal  \\\n",
       "0            Lvl    AllPub  ...        0    NaN    NaN         NaN       0   \n",
       "1            Lvl    AllPub  ...        0    NaN    NaN         NaN       0   \n",
       "2            Lvl    AllPub  ...        0    NaN    NaN         NaN       0   \n",
       "3            Lvl    AllPub  ...        0    NaN    NaN         NaN       0   \n",
       "4            Lvl    AllPub  ...        0    NaN    NaN         NaN       0   \n",
       "...          ...       ...  ...      ...    ...    ...         ...     ...   \n",
       "1455         Lvl    AllPub  ...        0    NaN    NaN         NaN       0   \n",
       "1456         Lvl    AllPub  ...        0    NaN  MnPrv         NaN       0   \n",
       "1457         Lvl    AllPub  ...        0    NaN  GdPrv        Shed    2500   \n",
       "1458         Lvl    AllPub  ...        0    NaN    NaN         NaN       0   \n",
       "1459         Lvl    AllPub  ...        0    NaN    NaN         NaN       0   \n",
       "\n",
       "     MoSold YrSold  SaleType  SaleCondition  SalePrice  \n",
       "0         2   2008        WD         Normal     208500  \n",
       "1         5   2007        WD         Normal     181500  \n",
       "2         9   2008        WD         Normal     223500  \n",
       "3         2   2006        WD        Abnorml     140000  \n",
       "4        12   2008        WD         Normal     250000  \n",
       "...     ...    ...       ...            ...        ...  \n",
       "1455      8   2007        WD         Normal     175000  \n",
       "1456      2   2010        WD         Normal     210000  \n",
       "1457      5   2010        WD         Normal     266500  \n",
       "1458      4   2010        WD         Normal     142125  \n",
       "1459      6   2008        WD         Normal     147500  \n",
       "\n",
       "[1460 rows x 81 columns]"
      ]
     },
     "execution_count": 2,
     "metadata": {},
     "output_type": "execute_result"
    }
   ],
   "source": [
    "train = pd.read_csv('train.csv')\n",
    "train"
   ]
  },
  {
   "cell_type": "markdown",
   "id": "needed-corner",
   "metadata": {},
   "source": [
    "## Cleaning the Data for Model Training <a class=\"anchor\" id=\"clean\"></a>\n",
    "For the pre-processing, we will remove the null data and highly skewed categorical variables.<br>\n",
    "Then, we will perform One Hot Encoding. "
   ]
  },
  {
   "cell_type": "code",
   "execution_count": 3,
   "id": "combined-antarctica",
   "metadata": {},
   "outputs": [
    {
     "name": "stdout",
     "output_type": "stream",
     "text": [
      "Drop feature - too many nulls:\n",
      "LotFrontage\n",
      "Remove data point:\n",
      "['MasVnrArea', 'Electrical', 'GarageYrBlt']\n"
     ]
    },
    {
     "data": {
      "text/html": [
       "<div>\n",
       "<style scoped>\n",
       "    .dataframe tbody tr th:only-of-type {\n",
       "        vertical-align: middle;\n",
       "    }\n",
       "\n",
       "    .dataframe tbody tr th {\n",
       "        vertical-align: top;\n",
       "    }\n",
       "\n",
       "    .dataframe thead th {\n",
       "        text-align: right;\n",
       "    }\n",
       "</style>\n",
       "<table border=\"1\" class=\"dataframe\">\n",
       "  <thead>\n",
       "    <tr style=\"text-align: right;\">\n",
       "      <th></th>\n",
       "      <th>Id</th>\n",
       "      <th>MSSubClass</th>\n",
       "      <th>MSZoning</th>\n",
       "      <th>LotArea</th>\n",
       "      <th>Street</th>\n",
       "      <th>Alley</th>\n",
       "      <th>LotShape</th>\n",
       "      <th>LandContour</th>\n",
       "      <th>Utilities</th>\n",
       "      <th>LotConfig</th>\n",
       "      <th>...</th>\n",
       "      <th>PoolArea</th>\n",
       "      <th>PoolQC</th>\n",
       "      <th>Fence</th>\n",
       "      <th>MiscFeature</th>\n",
       "      <th>MiscVal</th>\n",
       "      <th>MoSold</th>\n",
       "      <th>YrSold</th>\n",
       "      <th>SaleType</th>\n",
       "      <th>SaleCondition</th>\n",
       "      <th>SalePrice</th>\n",
       "    </tr>\n",
       "  </thead>\n",
       "  <tbody>\n",
       "    <tr>\n",
       "      <th>0</th>\n",
       "      <td>1</td>\n",
       "      <td>60</td>\n",
       "      <td>RL</td>\n",
       "      <td>8450</td>\n",
       "      <td>Pave</td>\n",
       "      <td>NaN</td>\n",
       "      <td>Reg</td>\n",
       "      <td>Lvl</td>\n",
       "      <td>AllPub</td>\n",
       "      <td>Inside</td>\n",
       "      <td>...</td>\n",
       "      <td>0</td>\n",
       "      <td>NaN</td>\n",
       "      <td>NaN</td>\n",
       "      <td>NaN</td>\n",
       "      <td>0</td>\n",
       "      <td>2</td>\n",
       "      <td>2008</td>\n",
       "      <td>WD</td>\n",
       "      <td>Normal</td>\n",
       "      <td>208500</td>\n",
       "    </tr>\n",
       "    <tr>\n",
       "      <th>1</th>\n",
       "      <td>2</td>\n",
       "      <td>20</td>\n",
       "      <td>RL</td>\n",
       "      <td>9600</td>\n",
       "      <td>Pave</td>\n",
       "      <td>NaN</td>\n",
       "      <td>Reg</td>\n",
       "      <td>Lvl</td>\n",
       "      <td>AllPub</td>\n",
       "      <td>FR2</td>\n",
       "      <td>...</td>\n",
       "      <td>0</td>\n",
       "      <td>NaN</td>\n",
       "      <td>NaN</td>\n",
       "      <td>NaN</td>\n",
       "      <td>0</td>\n",
       "      <td>5</td>\n",
       "      <td>2007</td>\n",
       "      <td>WD</td>\n",
       "      <td>Normal</td>\n",
       "      <td>181500</td>\n",
       "    </tr>\n",
       "    <tr>\n",
       "      <th>2</th>\n",
       "      <td>3</td>\n",
       "      <td>60</td>\n",
       "      <td>RL</td>\n",
       "      <td>11250</td>\n",
       "      <td>Pave</td>\n",
       "      <td>NaN</td>\n",
       "      <td>IR1</td>\n",
       "      <td>Lvl</td>\n",
       "      <td>AllPub</td>\n",
       "      <td>Inside</td>\n",
       "      <td>...</td>\n",
       "      <td>0</td>\n",
       "      <td>NaN</td>\n",
       "      <td>NaN</td>\n",
       "      <td>NaN</td>\n",
       "      <td>0</td>\n",
       "      <td>9</td>\n",
       "      <td>2008</td>\n",
       "      <td>WD</td>\n",
       "      <td>Normal</td>\n",
       "      <td>223500</td>\n",
       "    </tr>\n",
       "    <tr>\n",
       "      <th>3</th>\n",
       "      <td>4</td>\n",
       "      <td>70</td>\n",
       "      <td>RL</td>\n",
       "      <td>9550</td>\n",
       "      <td>Pave</td>\n",
       "      <td>NaN</td>\n",
       "      <td>IR1</td>\n",
       "      <td>Lvl</td>\n",
       "      <td>AllPub</td>\n",
       "      <td>Corner</td>\n",
       "      <td>...</td>\n",
       "      <td>0</td>\n",
       "      <td>NaN</td>\n",
       "      <td>NaN</td>\n",
       "      <td>NaN</td>\n",
       "      <td>0</td>\n",
       "      <td>2</td>\n",
       "      <td>2006</td>\n",
       "      <td>WD</td>\n",
       "      <td>Abnorml</td>\n",
       "      <td>140000</td>\n",
       "    </tr>\n",
       "    <tr>\n",
       "      <th>4</th>\n",
       "      <td>5</td>\n",
       "      <td>60</td>\n",
       "      <td>RL</td>\n",
       "      <td>14260</td>\n",
       "      <td>Pave</td>\n",
       "      <td>NaN</td>\n",
       "      <td>IR1</td>\n",
       "      <td>Lvl</td>\n",
       "      <td>AllPub</td>\n",
       "      <td>FR2</td>\n",
       "      <td>...</td>\n",
       "      <td>0</td>\n",
       "      <td>NaN</td>\n",
       "      <td>NaN</td>\n",
       "      <td>NaN</td>\n",
       "      <td>0</td>\n",
       "      <td>12</td>\n",
       "      <td>2008</td>\n",
       "      <td>WD</td>\n",
       "      <td>Normal</td>\n",
       "      <td>250000</td>\n",
       "    </tr>\n",
       "    <tr>\n",
       "      <th>...</th>\n",
       "      <td>...</td>\n",
       "      <td>...</td>\n",
       "      <td>...</td>\n",
       "      <td>...</td>\n",
       "      <td>...</td>\n",
       "      <td>...</td>\n",
       "      <td>...</td>\n",
       "      <td>...</td>\n",
       "      <td>...</td>\n",
       "      <td>...</td>\n",
       "      <td>...</td>\n",
       "      <td>...</td>\n",
       "      <td>...</td>\n",
       "      <td>...</td>\n",
       "      <td>...</td>\n",
       "      <td>...</td>\n",
       "      <td>...</td>\n",
       "      <td>...</td>\n",
       "      <td>...</td>\n",
       "      <td>...</td>\n",
       "      <td>...</td>\n",
       "    </tr>\n",
       "    <tr>\n",
       "      <th>1455</th>\n",
       "      <td>1456</td>\n",
       "      <td>60</td>\n",
       "      <td>RL</td>\n",
       "      <td>7917</td>\n",
       "      <td>Pave</td>\n",
       "      <td>NaN</td>\n",
       "      <td>Reg</td>\n",
       "      <td>Lvl</td>\n",
       "      <td>AllPub</td>\n",
       "      <td>Inside</td>\n",
       "      <td>...</td>\n",
       "      <td>0</td>\n",
       "      <td>NaN</td>\n",
       "      <td>NaN</td>\n",
       "      <td>NaN</td>\n",
       "      <td>0</td>\n",
       "      <td>8</td>\n",
       "      <td>2007</td>\n",
       "      <td>WD</td>\n",
       "      <td>Normal</td>\n",
       "      <td>175000</td>\n",
       "    </tr>\n",
       "    <tr>\n",
       "      <th>1456</th>\n",
       "      <td>1457</td>\n",
       "      <td>20</td>\n",
       "      <td>RL</td>\n",
       "      <td>13175</td>\n",
       "      <td>Pave</td>\n",
       "      <td>NaN</td>\n",
       "      <td>Reg</td>\n",
       "      <td>Lvl</td>\n",
       "      <td>AllPub</td>\n",
       "      <td>Inside</td>\n",
       "      <td>...</td>\n",
       "      <td>0</td>\n",
       "      <td>NaN</td>\n",
       "      <td>MnPrv</td>\n",
       "      <td>NaN</td>\n",
       "      <td>0</td>\n",
       "      <td>2</td>\n",
       "      <td>2010</td>\n",
       "      <td>WD</td>\n",
       "      <td>Normal</td>\n",
       "      <td>210000</td>\n",
       "    </tr>\n",
       "    <tr>\n",
       "      <th>1457</th>\n",
       "      <td>1458</td>\n",
       "      <td>70</td>\n",
       "      <td>RL</td>\n",
       "      <td>9042</td>\n",
       "      <td>Pave</td>\n",
       "      <td>NaN</td>\n",
       "      <td>Reg</td>\n",
       "      <td>Lvl</td>\n",
       "      <td>AllPub</td>\n",
       "      <td>Inside</td>\n",
       "      <td>...</td>\n",
       "      <td>0</td>\n",
       "      <td>NaN</td>\n",
       "      <td>GdPrv</td>\n",
       "      <td>Shed</td>\n",
       "      <td>2500</td>\n",
       "      <td>5</td>\n",
       "      <td>2010</td>\n",
       "      <td>WD</td>\n",
       "      <td>Normal</td>\n",
       "      <td>266500</td>\n",
       "    </tr>\n",
       "    <tr>\n",
       "      <th>1458</th>\n",
       "      <td>1459</td>\n",
       "      <td>20</td>\n",
       "      <td>RL</td>\n",
       "      <td>9717</td>\n",
       "      <td>Pave</td>\n",
       "      <td>NaN</td>\n",
       "      <td>Reg</td>\n",
       "      <td>Lvl</td>\n",
       "      <td>AllPub</td>\n",
       "      <td>Inside</td>\n",
       "      <td>...</td>\n",
       "      <td>0</td>\n",
       "      <td>NaN</td>\n",
       "      <td>NaN</td>\n",
       "      <td>NaN</td>\n",
       "      <td>0</td>\n",
       "      <td>4</td>\n",
       "      <td>2010</td>\n",
       "      <td>WD</td>\n",
       "      <td>Normal</td>\n",
       "      <td>142125</td>\n",
       "    </tr>\n",
       "    <tr>\n",
       "      <th>1459</th>\n",
       "      <td>1460</td>\n",
       "      <td>20</td>\n",
       "      <td>RL</td>\n",
       "      <td>9937</td>\n",
       "      <td>Pave</td>\n",
       "      <td>NaN</td>\n",
       "      <td>Reg</td>\n",
       "      <td>Lvl</td>\n",
       "      <td>AllPub</td>\n",
       "      <td>Inside</td>\n",
       "      <td>...</td>\n",
       "      <td>0</td>\n",
       "      <td>NaN</td>\n",
       "      <td>NaN</td>\n",
       "      <td>NaN</td>\n",
       "      <td>0</td>\n",
       "      <td>6</td>\n",
       "      <td>2008</td>\n",
       "      <td>WD</td>\n",
       "      <td>Normal</td>\n",
       "      <td>147500</td>\n",
       "    </tr>\n",
       "  </tbody>\n",
       "</table>\n",
       "<p>1370 rows × 80 columns</p>\n",
       "</div>"
      ],
      "text/plain": [
       "        Id  MSSubClass MSZoning  LotArea Street Alley LotShape LandContour  \\\n",
       "0        1          60       RL     8450   Pave   NaN      Reg         Lvl   \n",
       "1        2          20       RL     9600   Pave   NaN      Reg         Lvl   \n",
       "2        3          60       RL    11250   Pave   NaN      IR1         Lvl   \n",
       "3        4          70       RL     9550   Pave   NaN      IR1         Lvl   \n",
       "4        5          60       RL    14260   Pave   NaN      IR1         Lvl   \n",
       "...    ...         ...      ...      ...    ...   ...      ...         ...   \n",
       "1455  1456          60       RL     7917   Pave   NaN      Reg         Lvl   \n",
       "1456  1457          20       RL    13175   Pave   NaN      Reg         Lvl   \n",
       "1457  1458          70       RL     9042   Pave   NaN      Reg         Lvl   \n",
       "1458  1459          20       RL     9717   Pave   NaN      Reg         Lvl   \n",
       "1459  1460          20       RL     9937   Pave   NaN      Reg         Lvl   \n",
       "\n",
       "     Utilities LotConfig  ... PoolArea PoolQC  Fence MiscFeature MiscVal  \\\n",
       "0       AllPub    Inside  ...        0    NaN    NaN         NaN       0   \n",
       "1       AllPub       FR2  ...        0    NaN    NaN         NaN       0   \n",
       "2       AllPub    Inside  ...        0    NaN    NaN         NaN       0   \n",
       "3       AllPub    Corner  ...        0    NaN    NaN         NaN       0   \n",
       "4       AllPub       FR2  ...        0    NaN    NaN         NaN       0   \n",
       "...        ...       ...  ...      ...    ...    ...         ...     ...   \n",
       "1455    AllPub    Inside  ...        0    NaN    NaN         NaN       0   \n",
       "1456    AllPub    Inside  ...        0    NaN  MnPrv         NaN       0   \n",
       "1457    AllPub    Inside  ...        0    NaN  GdPrv        Shed    2500   \n",
       "1458    AllPub    Inside  ...        0    NaN    NaN         NaN       0   \n",
       "1459    AllPub    Inside  ...        0    NaN    NaN         NaN       0   \n",
       "\n",
       "     MoSold  YrSold  SaleType  SaleCondition  SalePrice  \n",
       "0         2    2008        WD         Normal     208500  \n",
       "1         5    2007        WD         Normal     181500  \n",
       "2         9    2008        WD         Normal     223500  \n",
       "3         2    2006        WD        Abnorml     140000  \n",
       "4        12    2008        WD         Normal     250000  \n",
       "...     ...     ...       ...            ...        ...  \n",
       "1455      8    2007        WD         Normal     175000  \n",
       "1456      2    2010        WD         Normal     210000  \n",
       "1457      5    2010        WD         Normal     266500  \n",
       "1458      4    2010        WD         Normal     142125  \n",
       "1459      6    2008        WD         Normal     147500  \n",
       "\n",
       "[1370 rows x 80 columns]"
      ]
     },
     "execution_count": 3,
     "metadata": {},
     "output_type": "execute_result"
    }
   ],
   "source": [
    "nullData = [['LotFrontage', 259], ['MasVnrArea', 8], ['Electrical', 1], ['GarageYrBlt', 81]]\n",
    "n = len(train)\n",
    "treshold = 0.1\n",
    "drop = []\n",
    "\n",
    "print('Drop feature - too many nulls:')\n",
    "for i in nullData:\n",
    "    if i[1]/n > treshold: # Arbitrary treshold: 10%\n",
    "        print(i[0])\n",
    "        train.drop(columns=[i[0]], inplace=True)\n",
    "    else:\n",
    "        drop.append(i[0])\n",
    "        \n",
    "print('Remove data point:')\n",
    "print(drop)\n",
    "train.dropna(subset=drop, inplace=True)\n",
    "\n",
    "train"
   ]
  },
  {
   "cell_type": "code",
   "execution_count": 4,
   "id": "preliminary-arthur",
   "metadata": {},
   "outputs": [
    {
     "name": "stdout",
     "output_type": "stream",
     "text": [
      "The number of variables with one category of data which occupies >= 90% of data = 15\n",
      "Street /ratio of the dominant category =  0.9964\n",
      "LandContour /ratio of the dominant category =  0.9015000000000001\n",
      "Utilities /ratio of the dominant category =  0.9993000000000001\n",
      "LandSlope /ratio of the dominant category =  0.9467\n",
      "Condition2 /ratio of the dominant category =  0.9898\n",
      "RoofMatl /ratio of the dominant category =  0.9818000000000001\n",
      "BsmtCond /ratio of the dominant category =  0.9246\n",
      "Heating /ratio of the dominant category =  0.981\n",
      "CentralAir /ratio of the dominant category =  0.9495999999999999\n",
      "Electrical /ratio of the dominant category =  0.9226000000000001\n",
      "Functional /ratio of the dominant category =  0.9336\n",
      "GarageQual /ratio of the dominant category =  0.9504\n",
      "GarageCond /ratio of the dominant category =  0.9612999999999999\n",
      "PavedDrive /ratio of the dominant category =  0.9372\n",
      "MiscFeature /ratio of the dominant category =  0.9216\n"
     ]
    }
   ],
   "source": [
    "categorical = ['MSSubClass', 'MSZoning', 'Street', 'Alley', 'LotShape', 'LandContour', 'Utilities', 'LotConfig', 'LandSlope', 'Neighborhood', 'Condition1', 'Condition2', 'BldgType', 'HouseStyle', 'OverallQual', 'OverallCond', 'RoofStyle', 'RoofMatl', 'Exterior1st', 'Exterior2nd', 'MasVnrType', 'ExterQual', 'ExterCond','Foundation', 'BsmtQual', 'BsmtCond', 'BsmtExposure', 'BsmtFinType1', 'BsmtFinType2', 'Heating', 'HeatingQC', 'CentralAir', 'Electrical', 'KitchenQual', 'Functional', 'FireplaceQu', 'GarageType', 'GarageFinish', 'GarageQual', 'GarageCond', 'PavedDrive', 'PoolQC', 'Fence', 'MiscFeature', 'SaleType', 'SaleCondition']\n",
    "#skewness of categorical variables\n",
    "max_percent = []\n",
    "catogorical_skewed=[]\n",
    "for i in categorical: \n",
    "    if rp.summary_cat(train[i])[\"Percent\"].max() >= 90: \n",
    "        max_percent.append(rp.summary_cat(train[i])[\"Percent\"].max())\n",
    "print (\"The number of variables with one category of data which occupies >= 90% of data =\", len(max_percent))\n",
    "#highly skewed categorical variables\n",
    "for i in categorical: \n",
    "    if rp.summary_cat(train[i])[\"Percent\"].max() >= 90:\n",
    "        catogorical_skewed.append(i)\n",
    "        print (i,\"/ratio of the dominant category = \", rp.summary_cat(train[i])[\"Percent\"].max()/100)\n",
    "train.drop(columns=catogorical_skewed, inplace=True)"
   ]
  },
  {
   "cell_type": "code",
   "execution_count": 5,
   "id": "motivated-female",
   "metadata": {},
   "outputs": [
    {
     "data": {
      "text/html": [
       "<div>\n",
       "<style scoped>\n",
       "    .dataframe tbody tr th:only-of-type {\n",
       "        vertical-align: middle;\n",
       "    }\n",
       "\n",
       "    .dataframe tbody tr th {\n",
       "        vertical-align: top;\n",
       "    }\n",
       "\n",
       "    .dataframe thead th {\n",
       "        text-align: right;\n",
       "    }\n",
       "</style>\n",
       "<table border=\"1\" class=\"dataframe\">\n",
       "  <thead>\n",
       "    <tr style=\"text-align: right;\">\n",
       "      <th></th>\n",
       "      <th>Id</th>\n",
       "      <th>LotArea</th>\n",
       "      <th>YearBuilt</th>\n",
       "      <th>YearRemodAdd</th>\n",
       "      <th>MasVnrArea</th>\n",
       "      <th>BsmtFinSF1</th>\n",
       "      <th>BsmtFinSF2</th>\n",
       "      <th>BsmtUnfSF</th>\n",
       "      <th>TotalBsmtSF</th>\n",
       "      <th>1stFlrSF</th>\n",
       "      <th>...</th>\n",
       "      <th>SaleType_ConLw</th>\n",
       "      <th>SaleType_New</th>\n",
       "      <th>SaleType_Oth</th>\n",
       "      <th>SaleType_WD</th>\n",
       "      <th>SaleCondition_Abnorml</th>\n",
       "      <th>SaleCondition_AdjLand</th>\n",
       "      <th>SaleCondition_Alloca</th>\n",
       "      <th>SaleCondition_Family</th>\n",
       "      <th>SaleCondition_Normal</th>\n",
       "      <th>SaleCondition_Partial</th>\n",
       "    </tr>\n",
       "  </thead>\n",
       "  <tbody>\n",
       "    <tr>\n",
       "      <th>0</th>\n",
       "      <td>1</td>\n",
       "      <td>8450</td>\n",
       "      <td>2003</td>\n",
       "      <td>2003</td>\n",
       "      <td>196.0</td>\n",
       "      <td>706</td>\n",
       "      <td>0</td>\n",
       "      <td>150</td>\n",
       "      <td>856</td>\n",
       "      <td>856</td>\n",
       "      <td>...</td>\n",
       "      <td>0</td>\n",
       "      <td>0</td>\n",
       "      <td>0</td>\n",
       "      <td>1</td>\n",
       "      <td>0</td>\n",
       "      <td>0</td>\n",
       "      <td>0</td>\n",
       "      <td>0</td>\n",
       "      <td>1</td>\n",
       "      <td>0</td>\n",
       "    </tr>\n",
       "    <tr>\n",
       "      <th>1</th>\n",
       "      <td>2</td>\n",
       "      <td>9600</td>\n",
       "      <td>1976</td>\n",
       "      <td>1976</td>\n",
       "      <td>0.0</td>\n",
       "      <td>978</td>\n",
       "      <td>0</td>\n",
       "      <td>284</td>\n",
       "      <td>1262</td>\n",
       "      <td>1262</td>\n",
       "      <td>...</td>\n",
       "      <td>0</td>\n",
       "      <td>0</td>\n",
       "      <td>0</td>\n",
       "      <td>1</td>\n",
       "      <td>0</td>\n",
       "      <td>0</td>\n",
       "      <td>0</td>\n",
       "      <td>0</td>\n",
       "      <td>1</td>\n",
       "      <td>0</td>\n",
       "    </tr>\n",
       "    <tr>\n",
       "      <th>2</th>\n",
       "      <td>3</td>\n",
       "      <td>11250</td>\n",
       "      <td>2001</td>\n",
       "      <td>2002</td>\n",
       "      <td>162.0</td>\n",
       "      <td>486</td>\n",
       "      <td>0</td>\n",
       "      <td>434</td>\n",
       "      <td>920</td>\n",
       "      <td>920</td>\n",
       "      <td>...</td>\n",
       "      <td>0</td>\n",
       "      <td>0</td>\n",
       "      <td>0</td>\n",
       "      <td>1</td>\n",
       "      <td>0</td>\n",
       "      <td>0</td>\n",
       "      <td>0</td>\n",
       "      <td>0</td>\n",
       "      <td>1</td>\n",
       "      <td>0</td>\n",
       "    </tr>\n",
       "    <tr>\n",
       "      <th>3</th>\n",
       "      <td>4</td>\n",
       "      <td>9550</td>\n",
       "      <td>1915</td>\n",
       "      <td>1970</td>\n",
       "      <td>0.0</td>\n",
       "      <td>216</td>\n",
       "      <td>0</td>\n",
       "      <td>540</td>\n",
       "      <td>756</td>\n",
       "      <td>961</td>\n",
       "      <td>...</td>\n",
       "      <td>0</td>\n",
       "      <td>0</td>\n",
       "      <td>0</td>\n",
       "      <td>1</td>\n",
       "      <td>1</td>\n",
       "      <td>0</td>\n",
       "      <td>0</td>\n",
       "      <td>0</td>\n",
       "      <td>0</td>\n",
       "      <td>0</td>\n",
       "    </tr>\n",
       "    <tr>\n",
       "      <th>4</th>\n",
       "      <td>5</td>\n",
       "      <td>14260</td>\n",
       "      <td>2000</td>\n",
       "      <td>2000</td>\n",
       "      <td>350.0</td>\n",
       "      <td>655</td>\n",
       "      <td>0</td>\n",
       "      <td>490</td>\n",
       "      <td>1145</td>\n",
       "      <td>1145</td>\n",
       "      <td>...</td>\n",
       "      <td>0</td>\n",
       "      <td>0</td>\n",
       "      <td>0</td>\n",
       "      <td>1</td>\n",
       "      <td>0</td>\n",
       "      <td>0</td>\n",
       "      <td>0</td>\n",
       "      <td>0</td>\n",
       "      <td>1</td>\n",
       "      <td>0</td>\n",
       "    </tr>\n",
       "    <tr>\n",
       "      <th>...</th>\n",
       "      <td>...</td>\n",
       "      <td>...</td>\n",
       "      <td>...</td>\n",
       "      <td>...</td>\n",
       "      <td>...</td>\n",
       "      <td>...</td>\n",
       "      <td>...</td>\n",
       "      <td>...</td>\n",
       "      <td>...</td>\n",
       "      <td>...</td>\n",
       "      <td>...</td>\n",
       "      <td>...</td>\n",
       "      <td>...</td>\n",
       "      <td>...</td>\n",
       "      <td>...</td>\n",
       "      <td>...</td>\n",
       "      <td>...</td>\n",
       "      <td>...</td>\n",
       "      <td>...</td>\n",
       "      <td>...</td>\n",
       "      <td>...</td>\n",
       "    </tr>\n",
       "    <tr>\n",
       "      <th>1455</th>\n",
       "      <td>1456</td>\n",
       "      <td>7917</td>\n",
       "      <td>1999</td>\n",
       "      <td>2000</td>\n",
       "      <td>0.0</td>\n",
       "      <td>0</td>\n",
       "      <td>0</td>\n",
       "      <td>953</td>\n",
       "      <td>953</td>\n",
       "      <td>953</td>\n",
       "      <td>...</td>\n",
       "      <td>0</td>\n",
       "      <td>0</td>\n",
       "      <td>0</td>\n",
       "      <td>1</td>\n",
       "      <td>0</td>\n",
       "      <td>0</td>\n",
       "      <td>0</td>\n",
       "      <td>0</td>\n",
       "      <td>1</td>\n",
       "      <td>0</td>\n",
       "    </tr>\n",
       "    <tr>\n",
       "      <th>1456</th>\n",
       "      <td>1457</td>\n",
       "      <td>13175</td>\n",
       "      <td>1978</td>\n",
       "      <td>1988</td>\n",
       "      <td>119.0</td>\n",
       "      <td>790</td>\n",
       "      <td>163</td>\n",
       "      <td>589</td>\n",
       "      <td>1542</td>\n",
       "      <td>2073</td>\n",
       "      <td>...</td>\n",
       "      <td>0</td>\n",
       "      <td>0</td>\n",
       "      <td>0</td>\n",
       "      <td>1</td>\n",
       "      <td>0</td>\n",
       "      <td>0</td>\n",
       "      <td>0</td>\n",
       "      <td>0</td>\n",
       "      <td>1</td>\n",
       "      <td>0</td>\n",
       "    </tr>\n",
       "    <tr>\n",
       "      <th>1457</th>\n",
       "      <td>1458</td>\n",
       "      <td>9042</td>\n",
       "      <td>1941</td>\n",
       "      <td>2006</td>\n",
       "      <td>0.0</td>\n",
       "      <td>275</td>\n",
       "      <td>0</td>\n",
       "      <td>877</td>\n",
       "      <td>1152</td>\n",
       "      <td>1188</td>\n",
       "      <td>...</td>\n",
       "      <td>0</td>\n",
       "      <td>0</td>\n",
       "      <td>0</td>\n",
       "      <td>1</td>\n",
       "      <td>0</td>\n",
       "      <td>0</td>\n",
       "      <td>0</td>\n",
       "      <td>0</td>\n",
       "      <td>1</td>\n",
       "      <td>0</td>\n",
       "    </tr>\n",
       "    <tr>\n",
       "      <th>1458</th>\n",
       "      <td>1459</td>\n",
       "      <td>9717</td>\n",
       "      <td>1950</td>\n",
       "      <td>1996</td>\n",
       "      <td>0.0</td>\n",
       "      <td>49</td>\n",
       "      <td>1029</td>\n",
       "      <td>0</td>\n",
       "      <td>1078</td>\n",
       "      <td>1078</td>\n",
       "      <td>...</td>\n",
       "      <td>0</td>\n",
       "      <td>0</td>\n",
       "      <td>0</td>\n",
       "      <td>1</td>\n",
       "      <td>0</td>\n",
       "      <td>0</td>\n",
       "      <td>0</td>\n",
       "      <td>0</td>\n",
       "      <td>1</td>\n",
       "      <td>0</td>\n",
       "    </tr>\n",
       "    <tr>\n",
       "      <th>1459</th>\n",
       "      <td>1460</td>\n",
       "      <td>9937</td>\n",
       "      <td>1965</td>\n",
       "      <td>1965</td>\n",
       "      <td>0.0</td>\n",
       "      <td>830</td>\n",
       "      <td>290</td>\n",
       "      <td>136</td>\n",
       "      <td>1256</td>\n",
       "      <td>1256</td>\n",
       "      <td>...</td>\n",
       "      <td>0</td>\n",
       "      <td>0</td>\n",
       "      <td>0</td>\n",
       "      <td>1</td>\n",
       "      <td>0</td>\n",
       "      <td>0</td>\n",
       "      <td>0</td>\n",
       "      <td>0</td>\n",
       "      <td>1</td>\n",
       "      <td>0</td>\n",
       "    </tr>\n",
       "  </tbody>\n",
       "</table>\n",
       "<p>1370 rows × 248 columns</p>\n",
       "</div>"
      ],
      "text/plain": [
       "        Id  LotArea  YearBuilt  YearRemodAdd  MasVnrArea  BsmtFinSF1  \\\n",
       "0        1     8450       2003          2003       196.0         706   \n",
       "1        2     9600       1976          1976         0.0         978   \n",
       "2        3    11250       2001          2002       162.0         486   \n",
       "3        4     9550       1915          1970         0.0         216   \n",
       "4        5    14260       2000          2000       350.0         655   \n",
       "...    ...      ...        ...           ...         ...         ...   \n",
       "1455  1456     7917       1999          2000         0.0           0   \n",
       "1456  1457    13175       1978          1988       119.0         790   \n",
       "1457  1458     9042       1941          2006         0.0         275   \n",
       "1458  1459     9717       1950          1996         0.0          49   \n",
       "1459  1460     9937       1965          1965         0.0         830   \n",
       "\n",
       "      BsmtFinSF2  BsmtUnfSF  TotalBsmtSF  1stFlrSF  ...  SaleType_ConLw  \\\n",
       "0              0        150          856       856  ...               0   \n",
       "1              0        284         1262      1262  ...               0   \n",
       "2              0        434          920       920  ...               0   \n",
       "3              0        540          756       961  ...               0   \n",
       "4              0        490         1145      1145  ...               0   \n",
       "...          ...        ...          ...       ...  ...             ...   \n",
       "1455           0        953          953       953  ...               0   \n",
       "1456         163        589         1542      2073  ...               0   \n",
       "1457           0        877         1152      1188  ...               0   \n",
       "1458        1029          0         1078      1078  ...               0   \n",
       "1459         290        136         1256      1256  ...               0   \n",
       "\n",
       "      SaleType_New  SaleType_Oth  SaleType_WD  SaleCondition_Abnorml  \\\n",
       "0                0             0            1                      0   \n",
       "1                0             0            1                      0   \n",
       "2                0             0            1                      0   \n",
       "3                0             0            1                      1   \n",
       "4                0             0            1                      0   \n",
       "...            ...           ...          ...                    ...   \n",
       "1455             0             0            1                      0   \n",
       "1456             0             0            1                      0   \n",
       "1457             0             0            1                      0   \n",
       "1458             0             0            1                      0   \n",
       "1459             0             0            1                      0   \n",
       "\n",
       "      SaleCondition_AdjLand  SaleCondition_Alloca  SaleCondition_Family  \\\n",
       "0                         0                     0                     0   \n",
       "1                         0                     0                     0   \n",
       "2                         0                     0                     0   \n",
       "3                         0                     0                     0   \n",
       "4                         0                     0                     0   \n",
       "...                     ...                   ...                   ...   \n",
       "1455                      0                     0                     0   \n",
       "1456                      0                     0                     0   \n",
       "1457                      0                     0                     0   \n",
       "1458                      0                     0                     0   \n",
       "1459                      0                     0                     0   \n",
       "\n",
       "      SaleCondition_Normal  SaleCondition_Partial  \n",
       "0                        1                      0  \n",
       "1                        1                      0  \n",
       "2                        1                      0  \n",
       "3                        0                      0  \n",
       "4                        1                      0  \n",
       "...                    ...                    ...  \n",
       "1455                     1                      0  \n",
       "1456                     1                      0  \n",
       "1457                     1                      0  \n",
       "1458                     1                      0  \n",
       "1459                     1                      0  \n",
       "\n",
       "[1370 rows x 248 columns]"
      ]
     },
     "execution_count": 5,
     "metadata": {},
     "output_type": "execute_result"
    }
   ],
   "source": [
    "#One-Hot encoding\n",
    "categoricalcolumns = ['MSSubClass', 'MSZoning', 'Street', 'Alley', 'LotShape', 'LandContour', 'Utilities', 'LotConfig', 'LandSlope', 'Neighborhood', 'Condition1', 'Condition2', 'BldgType', 'HouseStyle', 'OverallQual', 'OverallCond', 'RoofStyle', 'RoofMatl', 'Exterior1st', 'Exterior2nd', 'MasVnrType', 'ExterQual', 'ExterCond','Foundation', 'BsmtQual', 'BsmtCond', 'BsmtExposure', 'BsmtFinType1', 'BsmtFinType2', 'Heating', 'HeatingQC', 'CentralAir', 'Electrical', 'KitchenQual', 'Functional', 'FireplaceQu', 'GarageType', 'GarageFinish', 'GarageQual', 'GarageCond', 'PavedDrive', 'PoolQC', 'Fence', 'MiscFeature', 'SaleType', 'SaleCondition']\n",
    "remaining_cat_col=[]\n",
    "for i in categoricalcolumns:\n",
    "    if i not in catogorical_skewed: \n",
    "        remaining_cat_col.append(i)\n",
    "train1 = pd.get_dummies(train, columns= remaining_cat_col, prefix= remaining_cat_col)\n",
    "train1"
   ]
  },
  {
   "cell_type": "markdown",
   "id": "trained-patio",
   "metadata": {},
   "source": [
    "[back to top](#top)"
   ]
  },
  {
   "cell_type": "markdown",
   "id": "interpreted-illustration",
   "metadata": {},
   "source": [
    "## Gradient Descent <a class=\"anchor\" id=\"gd\"></a>\n",
    "\n",
    "Here, we apply what we have learnt in class. A linear regression model from tutorial is used and it includes optimization the parameters of the predictive function using gradient descent."
   ]
  },
  {
   "cell_type": "code",
   "execution_count": 6,
   "id": "bulgarian-pickup",
   "metadata": {},
   "outputs": [],
   "source": [
    "#train-test split\n",
    "TEST_SIZE = 0.2\n",
    "\n",
    "filteredData1 = train1.drop(['Id'], axis=1)\n",
    "train_df, test_df = train_test_split(filteredData1, test_size=TEST_SIZE)\n",
    "\n",
    "train_X = train_df.drop('SalePrice', axis=1)\n",
    "train_Y = train_df['SalePrice']\n",
    "test_X = test_df.drop('SalePrice', axis=1)\n",
    "test_Y = test_df['SalePrice']\n",
    "\n",
    "# initialisation for training data\n",
    "x_train=train_X.to_numpy()\n",
    "y_train=train_Y.to_numpy()[:,None]\n",
    "n_train=x_train.shape[0]\n",
    "f_train=x_train.shape[1]\n",
    "X = np.ones([n_train,f_train+1]) \n",
    "X[:,1:] = x_train\n",
    "\n",
    "# initialisation for test data \n",
    "x_test=test_X.to_numpy()\n",
    "y_test=test_Y.to_numpy()[:,None]\n",
    "n_test=x_test.shape[0]\n",
    "f_test=x_test.shape[1]\n",
    "X_test = np.ones([n_test,f_test+1]) \n",
    "X_test[:,1:] = x_test"
   ]
  },
  {
   "cell_type": "code",
   "execution_count": 7,
   "id": "blind-organic",
   "metadata": {},
   "outputs": [],
   "source": [
    "# predictive function definition\n",
    "def f_pred(X,w): \n",
    "    f = X.dot(w)\n",
    "    return f \n",
    "\n",
    "# loss function definition\n",
    "def loss_mse(y_pred,y): \n",
    "    n = len(y)\n",
    "    loss = 1/n* (y_pred - y).T.dot(y_pred - y) \n",
    "    return loss\n",
    "\n",
    "# loss function definition\n",
    "def loss_rmse(y_pred,y): \n",
    "    n = len(y)\n",
    "    loss = 1/n* (y_pred - y).T.dot(y_pred - y) \n",
    "    return math.sqrt(loss)\n",
    "\n",
    "# gradient function definition\n",
    "def grad_loss(y_pred,y,X):\n",
    "    n = len(y)\n",
    "    grad = 2/n* X.T.dot(y_pred-y)\n",
    "    return grad\n",
    "\n",
    "# gradient descent function definition\n",
    "def grad_desc(X, y , w_init=np.zeros(X.shape[1])[:,None] ,tau=0.01, max_iter=1000000,threshold=10**(3)):\n",
    "\n",
    "    L_iters = np.zeros([max_iter]) # record the loss values\n",
    "    w_iters = np.zeros([max_iter,X.shape[1]]) # record the loss values\n",
    "    w = w_init # initialization\n",
    "    break_condition=False\n",
    "    for i in range(max_iter): # loop over the iterations\n",
    "        y_pred = f_pred(X,w) # linear predicition function\n",
    "        grad_f = grad_loss(y_pred,y,X) # gradient of the loss \n",
    "        w = w - tau* grad_f # update rule of gradient descent \n",
    "        L_iters[i] = loss_mse(y_pred,y) # save the current loss value \n",
    "        w_iters[i,:] = w.squeeze() # save the current w value \n",
    "        #stopping condition 1 \n",
    "        if i>0:\n",
    "            if (abs(L_iters[i]-L_iters[i-1])< threshold):\n",
    "                L_iters=L_iters[:i+1]\n",
    "                w_iters=w_iters[:i+1,:]\n",
    "                break_condition=True\n",
    "        #stopping condition 2\n",
    "        if score(y_pred,y)-score(f_pred(X,w_iters[i-1]),y)<0.05:\n",
    "                L_iters=L_iters[:i+1]\n",
    "                w_iters=w_iters[:i+1,:]\n",
    "                break_condition=True\n",
    "        if break_condition==True:\n",
    "            break\n",
    "\n",
    "    return w, L_iters, w_iters\n",
    "\n",
    "# R2 score function\n",
    "def score(y_pred,y_true):\n",
    "    u=((y_true - y_pred) ** 2).sum()\n",
    "    v=((y_true - y_true.mean()) ** 2).sum()\n",
    "    return (1-u/v)"
   ]
  },
  {
   "cell_type": "markdown",
   "id": "ordinary-twins",
   "metadata": {},
   "source": [
    "### Running linear regression with basic preprocessed features."
   ]
  },
  {
   "cell_type": "code",
   "execution_count": 8,
   "id": "funded-meaning",
   "metadata": {},
   "outputs": [
    {
     "data": {
      "image/png": "[encoded data removed]",
      "text/plain": [
       "<Figure size 432x288 with 1 Axes>"
      ]
     },
     "metadata": {},
     "output_type": "display_data"
    },
    {
     "name": "stdout",
     "output_type": "stream",
     "text": [
      "train accuracy R2 score =  0.4719134242786588\n",
      "test accuracy R2 score =  0.3583210830881425\n"
     ]
    }
   ],
   "source": [
    "# run gradient descent algorithm \n",
    "tau = 0.000000001\n",
    "w_init= np.ones(X.shape[1])[:,None]*0\n",
    "max_iter = 400\n",
    "w, L_iters, w_iters = grad_desc(X,y_train,w_init,tau,max_iter)\n",
    "\n",
    "# plot\n",
    "plt.figure(1)\n",
    "plt.plot(np.array(range(L_iters.shape[0])), L_iters)\n",
    "plt.xlabel('Iterations')\n",
    "plt.ylabel('Loss')\n",
    "plt.show()\n",
    "\n",
    "# calculating loss and accuracy\n",
    "y_train_pred=f_pred(X,w)\n",
    "train_score=score(y_train_pred,y_train)\n",
    "print(\"train accuracy R2 score = \",train_score)\n",
    "\n",
    "y_test_pred=f_pred(X_test,w)\n",
    "test_score=score(y_test_pred,y_test)\n",
    "print(\"test accuracy R2 score = \",test_score)"
   ]
  },
  {
   "cell_type": "markdown",
   "id": "blind-profit",
   "metadata": {},
   "source": [
    "### Running linear regression with basic preprocessed features + Standardization. \n",
    "<br>Standardization is applied to continuous variables."
   ]
  },
  {
   "cell_type": "code",
   "execution_count": 9,
   "id": "controlling-dylan",
   "metadata": {},
   "outputs": [],
   "source": [
    "#Applying Standardization (Z-Score method)\n",
    "continuous = ['LotArea', 'YearBuilt', 'YearRemodAdd', \n",
    "       'MasVnrArea', 'BsmtFinSF1', 'BsmtFinSF2', 'BsmtUnfSF', 'TotalBsmtSF', '1stFlrSF', '2ndFlrSF',\n",
    "       'LowQualFinSF', 'GrLivArea', 'BsmtFullBath', 'BsmtHalfBath', 'FullBath',\n",
    "       'HalfBath', 'BedroomAbvGr', 'KitchenAbvGr','TotRmsAbvGrd', 'Fireplaces', \n",
    "       'GarageYrBlt', 'GarageCars', 'GarageArea', 'WoodDeckSF', 'OpenPorchSF',\n",
    "       'EnclosedPorch', '3SsnPorch', 'ScreenPorch', 'PoolArea', 'MiscVal', 'MoSold', 'YrSold']\n",
    "features_stand=train1.copy()\n",
    "for i in continuous:\n",
    "    # fit on training data column\n",
    "    scale = StandardScaler().fit(train1[[i]])\n",
    "    # transform training data column\n",
    "    features_stand[i] = scale.transform(features_stand[[i]])\n",
    "labels = train1['SalePrice']\n",
    "features_stand.drop(['Id', 'SalePrice'], axis=1, inplace=True)\n",
    "\n",
    "#split data\n",
    "train_X_stan, test_X_stan, train_Y_stan, test_Y_stan = train_test_split(features_stand,labels,test_size=0.2, random_state=0)\n",
    "\n",
    "# initialisation for training data\n",
    "x_train_stan=train_X_stan.to_numpy()\n",
    "y_train_stan=train_Y_stan.to_numpy()[:,None]\n",
    "n_train_stan=x_train_stan.shape[0]\n",
    "f_train_stan=x_train_stan.shape[1]\n",
    "X_stan = np.ones([n_train_stan,f_train_stan+1]) \n",
    "X_stan[:,1:] = x_train_stan\n",
    "\n",
    "# initialisation for test data \n",
    "x_test_stan=test_X_stan.to_numpy()\n",
    "y_test_stan=test_Y_stan.to_numpy()[:,None]\n",
    "n_test_stan=x_test_stan.shape[0]\n",
    "f_test_stan=x_test_stan.shape[1]\n",
    "X_test_stan = np.ones([n_test_stan,f_test_stan+1]) \n",
    "X_test_stan[:,1:] = x_test_stan"
   ]
  },
  {
   "cell_type": "code",
   "execution_count": 10,
   "id": "photographic-midwest",
   "metadata": {},
   "outputs": [
    {
     "data": {
      "image/png": "[encoded data removed]",
      "text/plain": [
       "<Figure size 432x288 with 1 Axes>"
      ]
     },
     "metadata": {},
     "output_type": "display_data"
    },
    {
     "name": "stdout",
     "output_type": "stream",
     "text": [
      "train accuracy R2 score =  0.8710083256757395\n",
      "test accuracy R2 score =  0.6661078877244919\n"
     ]
    }
   ],
   "source": [
    "#run gradient descent algorithm \n",
    "tau = 0.01\n",
    "w_init= np.ones(X.shape[1])[:,None]*0\n",
    "max_iter = 400\n",
    "w, L_iters, w_iters = grad_desc(X_stan,y_train_stan,w_init,tau,max_iter)\n",
    "\n",
    "# plot\n",
    "plt.figure(2)\n",
    "plt.plot(np.array(range(L_iters.shape[0])), L_iters)\n",
    "plt.xlabel('Iterations')\n",
    "plt.ylabel('Loss')\n",
    "plt.show()\n",
    "\n",
    "# calculating loss and accuracy\n",
    "y_train_pred_stan=f_pred(X_stan,w)\n",
    "train_score_stan=score(y_train_pred_stan,y_train_stan)\n",
    "print(\"train accuracy R2 score = \",train_score_stan)\n",
    "\n",
    "y_test_pred_stan=f_pred(X_test_stan,w)\n",
    "test_score_stan=score(y_test_pred_stan,y_test_stan)\n",
    "print(\"test accuracy R2 score = \",test_score_stan)\n"
   ]
  },
  {
   "cell_type": "markdown",
   "id": "outer-truck",
   "metadata": {},
   "source": [
    "We then check if there is an improvement in accuracy after Z-score standardization"
   ]
  },
  {
   "cell_type": "code",
   "execution_count": 11,
   "id": "acting-transition",
   "metadata": {},
   "outputs": [
    {
     "name": "stdout",
     "output_type": "stream",
     "text": [
      "Train accuracy improvement = 0.3990949013970807 %\n",
      "Test accuracy improvement = 0.30778680463634944 %\n"
     ]
    }
   ],
   "source": [
    "#improvement in accuracy\n",
    "train_improvement = (train_score_stan - train_score)\n",
    "test_improvement = (test_score_stan - test_score)\n",
    "print (\"Train accuracy improvement =\", train_improvement,\"%\")\n",
    "print (\"Test accuracy improvement =\", test_improvement,\"%\")"
   ]
  },
  {
   "cell_type": "markdown",
   "id": "impressive-going",
   "metadata": {},
   "source": [
    "[back to top](#top)"
   ]
  },
  {
   "cell_type": "markdown",
   "id": "turned-lewis",
   "metadata": {},
   "source": [
    "## Reducing dimension: Feature selection <a class=\"anchor\" id=\"feature\"></a>\n",
    "Feature selection is choosing data that is relevant or that are most helpful in training the model. This will increase accuracy by preventing the model from learning based on irrelevent features.\n",
    "<br><br>\n",
    "Also, reducing the number of features will allow the algorithm to run faster and help us to work within the limitations of memory space. This is most significant when we subsequently test the predictive functions with different polynomial degree.\n",
    "<br><br>\n",
    "In the later section, we want to test with predictive functions of different polynomial degree. Due to limited memory space, we would want to reduce the number of features. We will select features  that are correlated to SalePrice with an absolute value of more than 0.3."
   ]
  },
  {
   "cell_type": "code",
   "execution_count": 12,
   "id": "alike-fiber",
   "metadata": {},
   "outputs": [
    {
     "name": "stdout",
     "output_type": "stream",
     "text": [
      "GrLivArea            0.709783\n",
      "GarageCars           0.636173\n",
      "GarageArea           0.607197\n",
      "TotalBsmtSF          0.603284\n",
      "1stFlrSF             0.596087\n",
      "                       ...   \n",
      "OverallQual_5       -0.383080\n",
      "GarageType_Detchd   -0.406550\n",
      "BsmtQual_TA         -0.456964\n",
      "GarageFinish_Unf    -0.485273\n",
      "KitchenQual_TA      -0.527689\n",
      "Name: SalePrice, Length: 246, dtype: float64\n",
      "39\n"
     ]
    }
   ],
   "source": [
    "# variables most closely related to SalePrice\n",
    "corr = train1.corr()['SalePrice']\n",
    "feature_select=[]\n",
    "corrshape=corr.nlargest(corr.shape[0])[1:corr.shape[0]].shape[0]\n",
    "for i in range(corrshape-1):\n",
    "    if (corr.nlargest(corrshape)[1:corrshape][i])>0.3:\n",
    "        feature_select.append(corr.nlargest(corrshape)[1:corrshape].axes[0][i])\n",
    "print(corr.nlargest(corrshape)[1:corrshape])\n",
    "print(len(feature_select))"
   ]
  },
  {
   "cell_type": "code",
   "execution_count": 13,
   "id": "activated-apparatus",
   "metadata": {},
   "outputs": [],
   "source": [
    "#train-test split\n",
    "TEST_SIZE = 0.2\n",
    "\n",
    "filteredData2 = train1.drop(['Id'], axis=1)[feature_select+['SalePrice']]\n",
    "train_df2, test_df2 = train_test_split(filteredData2, test_size=TEST_SIZE)\n",
    "\n",
    "train_X = train_df2.drop('SalePrice', axis=1)\n",
    "train_Y = train_df2['SalePrice']\n",
    "test_X = test_df2.drop('SalePrice', axis=1)\n",
    "test_Y = test_df2['SalePrice']\n",
    "\n",
    "# initialisation for training data\n",
    "x_train=train_X.to_numpy()\n",
    "y_train=train_Y.to_numpy()[:,None]\n",
    "n_train=x_train.shape[0]\n",
    "f_train=x_train.shape[1]\n",
    "X = np.ones([n_train,f_train+1]) \n",
    "X[:,1:] = x_train\n",
    "\n",
    "# initialisation for test data \n",
    "x_test=test_X.to_numpy()\n",
    "y_test=test_Y.to_numpy()[:,None]\n",
    "n_test=x_test.shape[0]\n",
    "f_test=x_test.shape[1]\n",
    "X_test = np.ones([n_test,f_test+1]) \n",
    "X_test[:,1:] = x_test"
   ]
  },
  {
   "cell_type": "code",
   "execution_count": 14,
   "id": "integrated-welcome",
   "metadata": {},
   "outputs": [
    {
     "data": {
      "image/png": "[encoded data removed]",
      "text/plain": [
       "<Figure size 432x288 with 1 Axes>"
      ]
     },
     "metadata": {},
     "output_type": "display_data"
    },
    {
     "name": "stdout",
     "output_type": "stream",
     "text": [
      "train accuracy R2 score =  0.4840244544292672\n",
      "test accuracy R2 score =  0.3882779108879991\n"
     ]
    }
   ],
   "source": [
    "# run gradient descent algorithm \n",
    "tau = 0.000000001\n",
    "w_init= np.ones(X.shape[1])[:,None]*0\n",
    "max_iter = 400\n",
    "w, L_iters, w_iters = grad_desc(X,y_train,w_init,tau,max_iter)\n",
    "\n",
    "# plot\n",
    "plt.figure(3)\n",
    "plt.plot(np.array(range(L_iters.shape[0])), L_iters)\n",
    "plt.xlabel('Iterations')\n",
    "plt.ylabel('Loss')\n",
    "plt.show()\n",
    "\n",
    "# calculating loss and accuracy\n",
    "y_train_pred=f_pred(X,w)\n",
    "train_score_fs=score(y_train_pred,y_train)\n",
    "print(\"train accuracy R2 score = \",train_score_fs)\n",
    "\n",
    "y_test_pred=f_pred(X_test,w)\n",
    "test_score_fs=score(y_test_pred,y_test)\n",
    "print(\"test accuracy R2 score = \",test_score_fs)"
   ]
  },
  {
   "cell_type": "markdown",
   "id": "likely-yield",
   "metadata": {},
   "source": [
    "We then check if there is an improvement in accuracy after feature selection."
   ]
  },
  {
   "cell_type": "code",
   "execution_count": 15,
   "id": "appointed-intervention",
   "metadata": {},
   "outputs": [
    {
     "name": "stdout",
     "output_type": "stream",
     "text": [
      "Train accuracy improvement = 0.012111030150608437 %\n",
      "Test accuracy improvement = 0.029956827799856645 %\n"
     ]
    }
   ],
   "source": [
    "#improvement in accuracy\n",
    "train_improvement = (train_score_fs - train_score)\n",
    "test_improvement = (test_score_fs - test_score)\n",
    "print (\"Train accuracy improvement =\", train_improvement,\"%\")\n",
    "print (\"Test accuracy improvement =\", test_improvement,\"%\")"
   ]
  },
  {
   "cell_type": "markdown",
   "id": "academic-analysis",
   "metadata": {},
   "source": [
    "[back to top](#top)"
   ]
  },
  {
   "cell_type": "markdown",
   "id": "continental-magnitude",
   "metadata": {},
   "source": [
    "## Hyperparameter Tuning 1 <a class=\"anchor\" id=\"hyper1\"></a>\n",
    "We will now do some hyperparameter tuning to try and improve our results. This section will be on trial and error.\n",
    "\n",
    "1. [Polynomial Degree](#poly)"
   ]
  },
  {
   "cell_type": "markdown",
   "id": "micro-montreal",
   "metadata": {},
   "source": [
    "### Polynomial Degree <a class=\"anchor\" id=\"poly\"></a>\n",
    "Use different polynomial degree in gradient descent model for selected features"
   ]
  },
  {
   "cell_type": "code",
   "execution_count": 16,
   "id": "together-russia",
   "metadata": {},
   "outputs": [],
   "source": [
    "# List of values of the polynomial degree d\n",
    "train_error_tab = np.zeros(3)\n",
    "val_error_tab = np.zeros(3)"
   ]
  },
  {
   "cell_type": "code",
   "execution_count": 17,
   "id": "alive-irish",
   "metadata": {},
   "outputs": [],
   "source": [
    "#Applying Standardization (Z-Score method)\n",
    "continuous = ['LotArea', 'YearBuilt', 'YearRemodAdd', \n",
    "       'MasVnrArea', 'BsmtFinSF1', 'BsmtFinSF2', 'BsmtUnfSF', 'TotalBsmtSF', '1stFlrSF', '2ndFlrSF',\n",
    "       'LowQualFinSF', 'GrLivArea', 'BsmtFullBath', 'BsmtHalfBath', 'FullBath',\n",
    "       'HalfBath', 'BedroomAbvGr', 'KitchenAbvGr','TotRmsAbvGrd', 'Fireplaces', \n",
    "       'GarageYrBlt', 'GarageCars', 'GarageArea', 'WoodDeckSF', 'OpenPorchSF',\n",
    "       'EnclosedPorch', '3SsnPorch', 'ScreenPorch', 'PoolArea', 'MiscVal', 'MoSold', 'YrSold']\n",
    "features_stand=train1.copy()\n",
    "for i in continuous:\n",
    "    # fit on training data column\n",
    "    scale = StandardScaler().fit(train1[[i]])\n",
    "    # transform training data column\n",
    "    features_stand[i] = scale.transform(features_stand[[i]])\n",
    "labels = train1['SalePrice']\n",
    "features_stand.drop(['Id', 'SalePrice'], axis=1, inplace=True)\n",
    "train_X_stan, test_X_stan, train_Y_stan, test_Y_stan = train_test_split(features_stand[feature_select],labels,test_size=0.2, random_state=0)\n",
    "\n",
    "# initialisation for training data\n",
    "x_train=train_X_stan.to_numpy()\n",
    "y_train=train_Y_stan.to_numpy()[:,None]\n",
    "n_train=x_train.shape[0]\n",
    "f_train=x_train.shape[1]\n",
    "X = np.ones([n_train,f_train+1]) \n",
    "X[:,1:] = x_train\n",
    "\n",
    "# initialisation for test data \n",
    "x_test=test_X_stan.to_numpy()\n",
    "y_test=test_Y_stan.to_numpy()[:,None]\n",
    "n_test=x_test.shape[0]\n",
    "f_test=x_test.shape[1]\n",
    "X_test = np.ones([n_test,f_test+1]) \n",
    "X_test[:,1:] = x_test"
   ]
  },
  {
   "cell_type": "code",
   "execution_count": 18,
   "id": "together-causing",
   "metadata": {},
   "outputs": [
    {
     "data": {
      "image/png": "[encoded data removed]",
      "text/plain": [
       "<Figure size 432x288 with 1 Axes>"
      ]
     },
     "metadata": {},
     "output_type": "display_data"
    },
    {
     "name": "stdout",
     "output_type": "stream",
     "text": [
      "train accuracy R2 score =  0.8562162738006575\n",
      "test accuracy R2 score =  0.6728062717044756\n"
     ]
    }
   ],
   "source": [
    "#Gradient descent with feature selection (threshold=0.3) with polynomial degree 1\n",
    "tau = 0.001\n",
    "w_init= np.ones(X.shape[1])[:,None]*0\n",
    "max_iter = 50000\n",
    "w, L_iters, w_iters = grad_desc(X,y_train,w_init,tau,max_iter)\n",
    "\n",
    "# plot\n",
    "plt.figure(4)\n",
    "plt.plot(np.array(range(L_iters.shape[0])), L_iters)\n",
    "plt.xlabel('Iterations')\n",
    "plt.ylabel('Loss')\n",
    "plt.show()\n",
    "\n",
    "# calculating loss and accuracy\n",
    "train_error_tab[0]=L_iters[-1]\n",
    "y_train_pred=f_pred(X,w)\n",
    "train_score_d1=score(y_train_pred,y_train)\n",
    "print(\"train accuracy R2 score = \",train_score_d1)\n",
    "\n",
    "y_test_pred=f_pred(X_test,w)\n",
    "test_loss = loss_mse(y_test_pred,y_test)\n",
    "val_error_tab[0]=test_loss\n",
    "test_score_d1=score(y_test_pred,y_test)\n",
    "print(\"test accuracy R2 score = \",test_score_d1)"
   ]
  },
  {
   "cell_type": "code",
   "execution_count": 19,
   "id": "external-rhythm",
   "metadata": {},
   "outputs": [
    {
     "data": {
      "image/png": "[encoded data removed]",
      "text/plain": [
       "<Figure size 432x288 with 1 Axes>"
      ]
     },
     "metadata": {},
     "output_type": "display_data"
    },
    {
     "name": "stdout",
     "output_type": "stream",
     "text": [
      "train accuracy R2 score =  0.9266219835253747\n",
      "test accuracy R2 score =  0.818073308357503\n"
     ]
    }
   ],
   "source": [
    "#Gradient descent with feature selection (threshold=0.3) with polynomial degree 2\n",
    "poly = PolynomialFeatures(2)\n",
    "X_d2 = poly.fit_transform(x_train)\n",
    "X_d2_test = poly.fit_transform(x_test)\n",
    "tau = 0.0001\n",
    "w_init= np.zeros([X_d2.shape[1]])[:,None]\n",
    "max_iter = 100000\n",
    "w, L_iters, w_iters = grad_desc(X_d2,y_train,w_init,tau,max_iter)\n",
    "\n",
    "# plot\n",
    "plt.figure(5)\n",
    "plt.plot(np.array(range(L_iters.shape[0])), L_iters)\n",
    "plt.xlabel('Iterations')\n",
    "plt.ylabel('Loss')\n",
    "plt.show()\n",
    "\n",
    "# calculating loss and accuracy\n",
    "train_error_tab[1]=L_iters[-1]\n",
    "y_train_pred=f_pred(X_d2,w)\n",
    "train_score_d2=score(y_train_pred,y_train)\n",
    "print(\"train accuracy R2 score = \",train_score_d2)\n",
    "\n",
    "y_test_pred=f_pred(X_d2_test,w)\n",
    "test_loss = loss_mse(y_test_pred,y_test)\n",
    "val_error_tab[1]=test_loss\n",
    "test_score_d2=score(y_test_pred,y_test)\n",
    "print(\"test accuracy R2 score = \",test_score_d2)"
   ]
  },
  {
   "cell_type": "code",
   "execution_count": 20,
   "id": "billion-young",
   "metadata": {},
   "outputs": [
    {
     "data": {
      "image/png": "[encoded data removed]",
      "text/plain": [
       "<Figure size 432x288 with 1 Axes>"
      ]
     },
     "metadata": {},
     "output_type": "display_data"
    },
    {
     "name": "stdout",
     "output_type": "stream",
     "text": [
      "train accuracy R2 score =  0.9873617260719055\n",
      "test accuracy R2 score =  -1.631551630809506\n"
     ]
    }
   ],
   "source": [
    "#Gradient descent with feature selection (threshold=0.3) with polynomial degree 3\n",
    "poly = PolynomialFeatures(3)\n",
    "X_d3 = poly.fit_transform(x_train)\n",
    "X_d3_test = poly.fit_transform(x_test)\n",
    "tau = 0.0001\n",
    "w_init= np.zeros([X_d3.shape[1]])[:,None]\n",
    "max_iter = 100000\n",
    "w, L_iters, w_iters = grad_desc(X_d3,y_train,w_init,tau,max_iter)\n",
    "\n",
    "# plot\n",
    "plt.figure(6)\n",
    "plt.plot(np.array(range(L_iters.shape[0])), L_iters)\n",
    "plt.xlabel('Iterations')\n",
    "plt.ylabel('Loss')\n",
    "plt.show()\n",
    "\n",
    "# calculating loss and accuracy\n",
    "train_error_tab[2]=L_iters[-1]\n",
    "y_train_pred=f_pred(X_d3,w)\n",
    "train_score_d3=score(y_train_pred,y_train)\n",
    "print(\"train accuracy R2 score = \",train_score_d3)\n",
    "\n",
    "y_test_pred=f_pred(X_d3_test,w)\n",
    "test_loss = loss_mse(y_test_pred,y_test)\n",
    "val_error_tab[2]=test_loss\n",
    "test_score_d3=score(y_test_pred,y_test)\n",
    "print(\"test accuracy R2 score = \",test_score_d3)"
   ]
  },
  {
   "cell_type": "code",
   "execution_count": 21,
   "id": "later-equity",
   "metadata": {},
   "outputs": [
    {
     "data": {
      "image/png": "[encoded data removed]",
      "text/plain": [
       "<Figure size 432x288 with 1 Axes>"
      ]
     },
     "metadata": {},
     "output_type": "display_data"
    }
   ],
   "source": [
    "#Comparison of 3 different polynomial degree\n",
    "x = [1,2,3]\n",
    "plt.figure(1)\n",
    "plt.plot(x, train_error_tab,label='Train error'.format(i=1))\n",
    "plt.plot(x, val_error_tab,label='Val error'.format(i=2))\n",
    "plt.legend(loc='best')\n",
    "plt.title('Error w.r.t. d (capacity)')\n",
    "plt.xlabel('d')\n",
    "plt.ylabel('Error')\n",
    "plt.show()"
   ]
  },
  {
   "cell_type": "markdown",
   "id": "judicial-sacramento",
   "metadata": {},
   "source": [
    "The better-performing model that is able to generalize well is the model with a polynomial of degree 2."
   ]
  },
  {
   "cell_type": "markdown",
   "id": "equivalent-smart",
   "metadata": {},
   "source": [
    "[back to top](#top)"
   ]
  },
  {
   "cell_type": "markdown",
   "id": "productive-flush",
   "metadata": {},
   "source": [
    "## Regularization</a> <a class=\"anchor\" id=\"reg\"></a>\n",
    "Here, we include regularisation in our updated gradient descent functions."
   ]
  },
  {
   "cell_type": "code",
   "execution_count": 22,
   "id": "aging-better",
   "metadata": {},
   "outputs": [],
   "source": [
    "# Regularized regression loss\n",
    "def loss_regreg(w,X,y,reg): \n",
    "    n = len(y)\n",
    "    y_pred = X.dot(w) \n",
    "    loss = 1/n* (y_pred - y).T.dot(y_pred - y)\n",
    "    d = w.shape[0]\n",
    "    loss += reg/d * w.T.dot(w)\n",
    "    return loss\n",
    "\n",
    "# gradient function definition\n",
    "def grad_loss(y_pred,y,X,w,reg):\n",
    "    n = len(y)\n",
    "    d = w.shape[0]\n",
    "    grad = 2/n* X.T.dot(y_pred-y) + (2*reg/d)*w\n",
    "    return grad\n",
    "\n",
    "# gradient descent function definition\n",
    "def grad_desc(X, y , w_init=np.zeros(X.shape[1])[:,None] ,tau=0.01,reg=0, max_iter=1000000,threshold=10**(3)):\n",
    "\n",
    "    L_iters = np.zeros([max_iter]) # record the loss values\n",
    "    w_iters = np.zeros([max_iter,X.shape[1]]) # record the loss values\n",
    "    w = w_init # initialization\n",
    "    break_condition=False\n",
    "    for i in range(max_iter): # loop over the iterations\n",
    "        y_pred = f_pred(X,w) # linear predicition function\n",
    "        grad_f = grad_loss(y_pred,y,X,w,reg) # gradient of the loss \n",
    "        w = w - tau* grad_f # update rule of gradient descent \n",
    "        L_iters[i] = loss_regreg(w,X,y,reg) # save the current loss value \n",
    "        w_iters[i,:] = w.squeeze() # save the current w value \n",
    "        #stopping condition 1\n",
    "        if i>0:\n",
    "            if (abs(L_iters[i]-L_iters[i-1])< threshold):\n",
    "                L_iters=L_iters[:i+1]\n",
    "                w_iters=w_iters[:i+1,:]\n",
    "                break_condition=True\n",
    "        #stopping condition 2\n",
    "        if score(y_pred,y)-score(f_pred(X,w_iters[i-1]),y)<0.05:\n",
    "                L_iters=L_iters[:i+1]\n",
    "                w_iters=w_iters[:i+1,:]\n",
    "                break_condition=True\n",
    "        if break_condition==True:\n",
    "            break\n",
    "\n",
    "    return w, L_iters, w_iters\n",
    "\n",
    "def compute_w_solution(X,y,w_init,tau,reg, max_iter):\n",
    "    initial_w = np.ones((X.shape[1],1))*w_init\n",
    "    #gradient descent\n",
    "    w, L_iters, w_iters = grad_desc(X, y , initial_w ,tau,reg, max_iter)\n",
    "    loss_solution = L_iters[-1]\n",
    "    return w, loss_solution"
   ]
  },
  {
   "cell_type": "markdown",
   "id": "phantom-powell",
   "metadata": {},
   "source": [
    "[back to top](#top)"
   ]
  },
  {
   "cell_type": "markdown",
   "id": "occasional-patrol",
   "metadata": {},
   "source": [
    "## Hyperparameter Tuning 2 - With K-fold Cross Validation <a class=\"anchor\" id=\"hyper2\"></a>\n",
    "Cross-validation is a statistical method used to estimate the skill of machine learning models.<br>\n",
    "It is used here to help decide which hyperparameter shoud be used in the model to achieve a better result.<br><br>\n",
    "\n",
    "The hyperparameters we will test are:\n",
    "1. [Regularisation Parameter](#Kreg)\n",
    "2. [Learning Rate](#Ktau)\n",
    "3. [Initial w](#Kw)\n",
    "<br>\n",
    "\n",
    "[Results](#Kresults)"
   ]
  },
  {
   "cell_type": "markdown",
   "id": "senior-anniversary",
   "metadata": {},
   "source": [
    "### Regulariation Parameter <a class=\"anchor\" id=\"Kreg\"></a>"
   ]
  },
  {
   "cell_type": "code",
   "execution_count": 23,
   "id": "coastal-boards",
   "metadata": {},
   "outputs": [
    {
     "data": {
      "image/png": "[encoded data removed]",
      "text/plain": [
       "<Figure size 432x288 with 1 Axes>"
      ]
     },
     "metadata": {},
     "output_type": "display_data"
    },
    {
     "data": {
      "image/png": "[encoded data removed]",
      "text/plain": [
       "<Figure size 432x288 with 1 Axes>"
      ]
     },
     "metadata": {},
     "output_type": "display_data"
    },
    {
     "data": {
      "image/png": "[encoded data removed]",
      "text/plain": [
       "<Figure size 432x288 with 1 Axes>"
      ]
     },
     "metadata": {},
     "output_type": "display_data"
    },
    {
     "data": {
      "image/png": "[encoded data removed]",
      "text/plain": [
       "<Figure size 432x288 with 1 Axes>"
      ]
     },
     "metadata": {},
     "output_type": "display_data"
    }
   ],
   "source": [
    "X=train_X_stan.to_numpy()\n",
    "y=train_Y_stan.to_numpy()\n",
    "kf = KFold(n_splits=4)\n",
    "reg = np.array(range(-4,7),np.float32)\n",
    "reg = 10**reg\n",
    "list_reg = list(reg)\n",
    "val_error_tab_tab = np.zeros([4,len(list_reg)])\n",
    "k=0\n",
    "for train_index, val_index  in kf.split(X):\n",
    "    X_train, X_val = X[train_index], X[val_index]\n",
    "    y_train, y_val = y[train_index], y[val_index]\n",
    "    \n",
    "    #run algorithm for different hyperparameter\n",
    "\n",
    "    d = 2\n",
    "    poly = PolynomialFeatures(d)\n",
    "    X_d2 = poly.fit_transform(X_train)\n",
    "    X_val_d2 = poly.fit_transform(X_val)\n",
    "    train_error_tab = np.zeros(len(list_reg))\n",
    "    val_error_tab = np.zeros(len(list_reg))\n",
    "\n",
    "    tau = 0.0001\n",
    "    max_iter = 1000\n",
    "    for i,reg in enumerate(list_reg):\n",
    "        w, train_loss_solution = compute_w_solution(X_d2,y_train[:,None],0,tau,reg,max_iter)\n",
    "        y_train_pred=f_pred(X_d2,w)\n",
    "        train_error=loss_mse(y_train_pred,y_train[:,None])\n",
    "        train_error_tab[i] = train_error\n",
    "    \n",
    "        y_val_pred=f_pred(X_val_d2,w)\n",
    "        val_error=loss_mse(y_val_pred,y_val[:,None])\n",
    "        val_error_tab[i] = val_error\n",
    "\n",
    "    val_error_tab_tab[k]=val_error_tab\n",
    "    k+=1\n",
    "    # plot\n",
    "    x = np.array(range(-4,7),np.float32)\n",
    "    plt.figure(1)\n",
    "    plt.plot(x, train_error_tab,label='Train error'.format(i=1))\n",
    "    plt.plot(x, val_error_tab,label='Val error'.format(i=2))\n",
    "    plt.legend(loc='best')\n",
    "    plt.title('Error w.r.t. regularization')\n",
    "    plt.xlabel('Regularization parameter')\n",
    "    plt.ylabel('Error')\n",
    "    plt.show()\n",
    "\n",
    "#record Loss value for each hyperparameter\n",
    "    \n",
    "#after all iterations, calculate mean loss for each hyperparameter\n",
    "    "
   ]
  },
  {
   "cell_type": "code",
   "execution_count": 24,
   "id": "impaired-faith",
   "metadata": {},
   "outputs": [
    {
     "data": {
      "image/png": "[encoded data removed]",
      "text/plain": [
       "<Figure size 432x288 with 1 Axes>"
      ]
     },
     "metadata": {},
     "output_type": "display_data"
    }
   ],
   "source": [
    "# plot\n",
    "x = np.array(range(-4,7),np.float32)\n",
    "plt.figure(1)\n",
    "for k in range(kf.get_n_splits(X)):\n",
    "    plt.plot(x, val_error_tab_tab[k],label=('Val error '+ str(k+1)) .format(i=(k+1)))\n",
    "\n",
    "plt.plot(x, np.mean(val_error_tab_tab,axis=0),label='Mean Val error'.format(i=(k+1)))\n",
    "plt.legend(loc='best')\n",
    "plt.title('Error w.r.t. regularization')\n",
    "plt.xlabel('Regularization parameter')\n",
    "plt.ylabel('Error')\n",
    "plt.show()"
   ]
  },
  {
   "cell_type": "code",
   "execution_count": 25,
   "id": "boolean-species",
   "metadata": {},
   "outputs": [
    {
     "data": {
      "image/png": "[encoded data removed]",
      "text/plain": [
       "<Figure size 432x288 with 1 Axes>"
      ]
     },
     "metadata": {},
     "output_type": "display_data"
    }
   ],
   "source": [
    "plt.figure(1)\n",
    "plt.plot(x, np.mean(val_error_tab_tab,axis=0),label='Mean Val error'.format(i=1))\n",
    "plt.scatter(x, np.mean(val_error_tab_tab,axis=0), s=60, c='r', marker='+', linewidths=2) \n",
    "plt.legend(loc='best')\n",
    "plt.title('Mean Error w.r.t. regularization')\n",
    "plt.xlabel('Regularization parameter')\n",
    "plt.ylabel('Error')\n",
    "plt.show()"
   ]
  },
  {
   "cell_type": "markdown",
   "id": "crude-ribbon",
   "metadata": {},
   "source": [
    "[Hyperparameter Tuning 2](#hyper2) <br>\n",
    "[back to top](#top)"
   ]
  },
  {
   "cell_type": "markdown",
   "id": "entitled-wright",
   "metadata": {},
   "source": [
    "### Learning Rate <a class=\"anchor\" id=\"Ktau\"></a>"
   ]
  },
  {
   "cell_type": "code",
   "execution_count": 26,
   "id": "joined-family",
   "metadata": {},
   "outputs": [
    {
     "data": {
      "image/png": "[encoded data removed]",
      "text/plain": [
       "<Figure size 432x288 with 1 Axes>"
      ]
     },
     "metadata": {},
     "output_type": "display_data"
    },
    {
     "data": {
      "image/png": "[encoded data removed]",
      "text/plain": [
       "<Figure size 432x288 with 1 Axes>"
      ]
     },
     "metadata": {},
     "output_type": "display_data"
    },
    {
     "data": {
      "image/png": "[encoded data removed]",
      "text/plain": [
       "<Figure size 432x288 with 1 Axes>"
      ]
     },
     "metadata": {},
     "output_type": "display_data"
    },
    {
     "data": {
      "image/png": "[encoded data removed]",
      "text/plain": [
       "<Figure size 432x288 with 1 Axes>"
      ]
     },
     "metadata": {},
     "output_type": "display_data"
    }
   ],
   "source": [
    "X=train_X_stan.to_numpy()\n",
    "y=train_Y_stan.to_numpy()\n",
    "kf = KFold(n_splits=4)\n",
    "\n",
    "tau_list = [0.000003, 0.00001, 0.00003, 0.0001, 0.0003, 0.001, 0.003, 0.01]\n",
    "\n",
    "\n",
    "val_error_tab_tab = np.zeros([kf.get_n_splits(X),len(tau_list)])\n",
    "k=0\n",
    "\n",
    "for train_index, val_index  in kf.split(X):\n",
    "    X_train, X_val = X[train_index], X[val_index]\n",
    "    y_train, y_val = y[train_index], y[val_index]\n",
    "\n",
    "    #run algorithm for different hyperparameter\n",
    "\n",
    "    d = 2\n",
    "    poly = PolynomialFeatures(d)\n",
    "    X_d = poly.fit_transform(X_train)\n",
    "    X_val_d = poly.fit_transform(X_val)\n",
    "    train_error_tab = np.zeros(len(tau_list))\n",
    "    val_error_tab = np.zeros(len(tau_list))\n",
    "\n",
    "    reg=0\n",
    "    max_iter = 20000\n",
    "    for i,tau in enumerate(tau_list):\n",
    "        w, train_loss_solution = compute_w_solution(X_d,y_train[:,None],0,tau,reg,max_iter)\n",
    "        y_train_pred=f_pred(X_d,w)\n",
    "        train_error=loss_mse(y_train_pred,y_train[:,None])\n",
    "        train_error_tab[i] = train_error\n",
    "    \n",
    "        y_val_pred=f_pred(X_val_d,w)\n",
    "        val_error=loss_mse(y_val_pred,y_val[:,None])\n",
    "        val_error_tab[i] = val_error\n",
    "\n",
    "    val_error_tab_tab[k]=val_error_tab\n",
    "    k+=1\n",
    "    \n",
    "    # plot train error and val error\n",
    "    x = [0.000003, 0.00001, 0.00003, 0.0001, 0.0003, 0.001, 0.003, 0.01]\n",
    "    plt.figure(1)\n",
    "    plt.plot(x, train_error_tab,label='Train error'.format(i=1))\n",
    "    plt.plot(x, val_error_tab,label='Val error'.format(i=2))\n",
    "    plt.legend(loc='best')\n",
    "    plt.title('Error w.r.t. Learning rate')\n",
    "    plt.xlabel('Learning rate')\n",
    "    plt.ylabel('Error')\n",
    "    plt.show()\n",
    "\n",
    "\n",
    "    "
   ]
  },
  {
   "cell_type": "code",
   "execution_count": 27,
   "id": "blank-spider",
   "metadata": {},
   "outputs": [
    {
     "data": {
      "image/png": "[encoded data removed]",
      "text/plain": [
       "<Figure size 432x288 with 1 Axes>"
      ]
     },
     "metadata": {},
     "output_type": "display_data"
    }
   ],
   "source": [
    "# plot\n",
    "x = np.log([0.000003, 0.00001, 0.00003, 0.0001, 0.0003, 0.001, 0.003, 0.01])\n",
    "plt.figure(1)\n",
    "for k in range(kf.get_n_splits(X)):\n",
    "    plt.plot(x, val_error_tab_tab[k],label=('Val error '+ str(k+1)) .format(i=(k+1)))\n",
    "\n",
    "plt.plot(x, np.mean(val_error_tab_tab,axis=0),label='Mean Val error'.format(i=(k+1)))\n",
    "plt.legend(loc='best')\n",
    "plt.title('Error w.r.t. Learning rate')\n",
    "plt.xlabel('Learning rate')\n",
    "plt.ylabel('Error')\n",
    "plt.show()"
   ]
  },
  {
   "cell_type": "code",
   "execution_count": 28,
   "id": "proprietary-france",
   "metadata": {},
   "outputs": [
    {
     "data": {
      "image/png": "[encoded data removed]",
      "text/plain": [
       "<Figure size 432x288 with 1 Axes>"
      ]
     },
     "metadata": {},
     "output_type": "display_data"
    }
   ],
   "source": [
    "plt.figure(1)\n",
    "plt.plot(x, np.mean(val_error_tab_tab,axis=0),label='Mean Val error'.format(i=1))\n",
    "plt.scatter(x, np.mean(val_error_tab_tab,axis=0), s=60, c='r', marker='+', linewidths=2) \n",
    "plt.legend(loc='best')\n",
    "plt.title('Error w.r.t. Learning rate')\n",
    "plt.xlabel('Learning rate')\n",
    "plt.ylabel('Error')\n",
    "plt.show()"
   ]
  },
  {
   "cell_type": "markdown",
   "id": "natural-clothing",
   "metadata": {},
   "source": [
    "[Hyperparameter Tuning 2](#hyper2) <br>\n",
    "[back to top](#top)"
   ]
  },
  {
   "cell_type": "markdown",
   "id": "amber-creature",
   "metadata": {},
   "source": [
    "### Initial w <a class=\"anchor\" id=\"Kw\"></a>"
   ]
  },
  {
   "cell_type": "code",
   "execution_count": 29,
   "id": "creative-treatment",
   "metadata": {},
   "outputs": [
    {
     "data": {
      "image/png": "[encoded data removed]",
      "text/plain": [
       "<Figure size 432x288 with 1 Axes>"
      ]
     },
     "metadata": {},
     "output_type": "display_data"
    },
    {
     "data": {
      "image/png": "[encoded data removed]",
      "text/plain": [
       "<Figure size 432x288 with 1 Axes>"
      ]
     },
     "metadata": {},
     "output_type": "display_data"
    },
    {
     "data": {
      "image/png": "[encoded data removed]",
      "text/plain": [
       "<Figure size 432x288 with 1 Axes>"
      ]
     },
     "metadata": {},
     "output_type": "display_data"
    },
    {
     "data": {
      "image/png": "[encoded data removed]",
      "text/plain": [
       "<Figure size 432x288 with 1 Axes>"
      ]
     },
     "metadata": {},
     "output_type": "display_data"
    }
   ],
   "source": [
    "X=train_X_stan.to_numpy()\n",
    "y=train_Y_stan.to_numpy()\n",
    "kf = KFold(n_splits=4)\n",
    "\n",
    "w_init_list = [0.000003, 0.00001, 0.00003, 0.0001, 0.0003, 0.001, 0.003, 0.01, 0.03, 0.1, 0.3, 0]\n",
    "\n",
    "\n",
    "val_error_tab_tab = np.zeros([kf.get_n_splits(X),len(w_init_list)])\n",
    "k=0\n",
    "\n",
    "for train_index, val_index  in kf.split(X):\n",
    "    X_train, X_val = X[train_index], X[val_index]\n",
    "    y_train, y_val = y[train_index], y[val_index]\n",
    "\n",
    "    #run algorithm for different hyperparameter\n",
    "\n",
    "    d = 2\n",
    "    poly = PolynomialFeatures(d)\n",
    "    X_d = poly.fit_transform(X_train)\n",
    "    X_val_d = poly.fit_transform(X_val)\n",
    "    train_error_tab = np.zeros(len(w_init_list))\n",
    "    val_error_tab = np.zeros(len(w_init_list))\n",
    "\n",
    "    reg=0\n",
    "    tau=0.0003\n",
    "    max_iter = 20000\n",
    "    for i,w_init in enumerate(w_init_list):\n",
    "        w, train_loss_solution = compute_w_solution(X_d,y_train[:,None],w_init,tau,reg,max_iter)\n",
    "        y_train_pred=f_pred(X_d,w)\n",
    "        train_error=loss_mse(y_train_pred,y_train[:,None])\n",
    "        train_error_tab[i] = train_error\n",
    "    \n",
    "        y_val_pred=f_pred(X_val_d,w)\n",
    "        val_error=loss_mse(y_val_pred,y_val[:,None])\n",
    "        val_error_tab[i] = val_error\n",
    "\n",
    "    val_error_tab_tab[k]=val_error_tab\n",
    "    k+=1\n",
    "    \n",
    "    # plot train error and val error\n",
    "    x = [0.000003, 0.00001, 0.00003, 0.0001, 0.0003, 0.001, 0.003, 0.01, 0.03, 0.1, 0.3, 0]\n",
    "    plt.figure(1)\n",
    "    plt.plot(x, train_error_tab,label='Train error'.format(i=1))\n",
    "    plt.plot(x, val_error_tab,label='Val error'.format(i=2))\n",
    "    plt.legend(loc='best')\n",
    "    plt.title('Error w.r.t. initial w')\n",
    "    plt.xlabel('w_init')\n",
    "    plt.ylabel('Error')\n",
    "    plt.show()\n",
    "\n",
    "\n",
    "    "
   ]
  },
  {
   "cell_type": "code",
   "execution_count": 30,
   "id": "magnetic-terror",
   "metadata": {},
   "outputs": [
    {
     "data": {
      "image/png": "[encoded data removed]",
      "text/plain": [
       "<Figure size 432x288 with 1 Axes>"
      ]
     },
     "metadata": {},
     "output_type": "display_data"
    }
   ],
   "source": [
    "# plot\n",
    "x = np.log([0.000003, 0.00001, 0.00003, 0.0001, 0.0003, 0.001, 0.003, 0.01, 0.03, 0.1, 0.3])\n",
    "x=np.concatenate((x,[0]))\n",
    "plt.figure(1)\n",
    "for k in range(kf.get_n_splits(X)):\n",
    "    plt.plot(x, val_error_tab_tab[k],label=('Val error '+ str(k+1)) .format(i=(k+1)))\n",
    "\n",
    "plt.plot(x, np.mean(val_error_tab_tab,axis=0),label='Mean Val error'.format(i=(k+1)))\n",
    "plt.legend(loc='best')\n",
    "plt.title('Error w.r.t. initial w')\n",
    "plt.xlabel('w_init')\n",
    "plt.ylabel('Error')\n",
    "plt.show()"
   ]
  },
  {
   "cell_type": "code",
   "execution_count": 31,
   "id": "nutritional-graphic",
   "metadata": {},
   "outputs": [
    {
     "data": {
      "image/png": "[encoded data removed]",
      "text/plain": [
       "<Figure size 432x288 with 1 Axes>"
      ]
     },
     "metadata": {},
     "output_type": "display_data"
    }
   ],
   "source": [
    "plt.figure(1)\n",
    "plt.plot(x, np.mean(val_error_tab_tab,axis=0),label='Mean Val error'.format(i=1))\n",
    "plt.scatter(x, np.mean(val_error_tab_tab,axis=0), s=60, c='r', marker='+', linewidths=2) \n",
    "plt.legend(loc='best')\n",
    "plt.title('Error w.r.t. initial w')\n",
    "plt.xlabel('w_init')\n",
    "plt.ylabel('Error')\n",
    "plt.show()"
   ]
  },
  {
   "cell_type": "markdown",
   "id": "revised-sponsorship",
   "metadata": {},
   "source": [
    "[Hyperparameter Tuning 2](#hyper2) <br>\n",
    "[back to top](#top)"
   ]
  },
  {
   "cell_type": "markdown",
   "id": "final-nomination",
   "metadata": {},
   "source": [
    "### Results <a class=\"anchor\" id=\"Kresults\"></a>\n",
    "From the application of k-fold cross validation, we decided to use the following hyperparameters:<br>\n",
    "1. Regularization = 0\n",
    "2. Learning rate = 0.003\n",
    "3. Initial w = 0.1"
   ]
  },
  {
   "cell_type": "code",
   "execution_count": 32,
   "id": "careful-budapest",
   "metadata": {},
   "outputs": [
    {
     "name": "stdout",
     "output_type": "stream",
     "text": [
      "train accuracy R2 score =  0.9529289456917198\n",
      "test accuracy R2 score =  0.8426659411112183\n"
     ]
    }
   ],
   "source": [
    "# initialisation for training data\n",
    "x_train=train_X_stan.to_numpy()\n",
    "y_train=train_Y_stan.to_numpy()[:,None]\n",
    "n_train=x_train.shape[0]\n",
    "f_train=x_train.shape[1]\n",
    "X = np.ones([n_train,f_train+1]) \n",
    "X[:,1:] = x_train\n",
    "\n",
    "# initialisation for test data \n",
    "x_test=test_X_stan.to_numpy()\n",
    "y_test=test_Y_stan.to_numpy()[:,None]\n",
    "n_test=x_test.shape[0]\n",
    "f_test=x_test.shape[1]\n",
    "X_test = np.ones([n_test,f_test+1]) \n",
    "X_test[:,1:] = x_test\n",
    "\n",
    "poly = PolynomialFeatures(2)\n",
    "X_d2 = poly.fit_transform(x_train)\n",
    "X_d2_test = poly.fit_transform(x_test)\n",
    "\n",
    "reg=0\n",
    "tau=0.0003\n",
    "w_init=0.1\n",
    "max_iter = 100000\n",
    "w, train_loss_solution = compute_w_solution(X_d2,y_train,w_init,tau,reg,max_iter)\n",
    "y_train_pred=f_pred(X_d2,w)\n",
    "\n",
    "# calculating loss and accuracy\n",
    "y_train_pred=f_pred(X_d2,w)\n",
    "train_score_best=score(y_train_pred,y_train)\n",
    "print(\"train accuracy R2 score = \",train_score_best)\n",
    "\n",
    "y_test_pred=f_pred(X_d2_test,w)\n",
    "test_loss = loss_mse(y_test_pred,y_test)\n",
    "test_score_best=score(y_test_pred,y_test)\n",
    "print(\"test accuracy R2 score = \",test_score_best)"
   ]
  },
  {
   "cell_type": "markdown",
   "id": "toxic-privacy",
   "metadata": {},
   "source": [
    "After submiting to Kaggle, it gave a score of 0.21016."
   ]
  },
  {
   "cell_type": "markdown",
   "id": "apart-marathon",
   "metadata": {},
   "source": [
    "[back to top](#top)"
   ]
  },
  {
   "cell_type": "markdown",
   "id": "communist-elevation",
   "metadata": {},
   "source": [
    "## Advanced Optimisation Techniques  <a class=\"anchor\" id=\"adv\"></a>\n",
    "The standard gradient descent technique presents a few challenges that need to be addressed.\n",
    "<br>\n",
    "1. Difficult to choose a proper learning rate\n",
    "2. Gradient descent might get stuck in a local minimum for non-convex functions\n",
    "<br>\n",
    "Hence, we will test some advanced optimisation techniques to improve our results."
   ]
  },
  {
   "cell_type": "markdown",
   "id": "swedish-variance",
   "metadata": {},
   "source": [
    "#### Import Dataset and Pre-processing"
   ]
  },
  {
   "cell_type": "code",
   "execution_count": 33,
   "id": "electric-numbers",
   "metadata": {},
   "outputs": [],
   "source": [
    "train = pd.read_csv('train.csv')"
   ]
  },
  {
   "cell_type": "code",
   "execution_count": 34,
   "id": "integrated-ebony",
   "metadata": {},
   "outputs": [
    {
     "name": "stdout",
     "output_type": "stream",
     "text": [
      "Drop feature - too many nulls:\n",
      "LotFrontage\n",
      "Remove data point:\n",
      "['MasVnrArea', 'Electrical', 'GarageYrBlt']\n"
     ]
    }
   ],
   "source": [
    "# remove null\n",
    "nullData = [['LotFrontage', 259], ['MasVnrArea', 8], ['Electrical', 1], ['GarageYrBlt', 81]]\n",
    "n = len(train)\n",
    "treshold = 0.1\n",
    "drop = []\n",
    "\n",
    "print('Drop feature - too many nulls:')\n",
    "for i in nullData:\n",
    "    if i[1]/n > treshold: # Arbitrary treshold: 10%\n",
    "        print(i[0])\n",
    "        train.drop(columns=[i[0]], inplace=True)\n",
    "    else:\n",
    "        drop.append(i[0])\n",
    "        \n",
    "print('Remove data point:')\n",
    "print(drop)\n",
    "train.dropna(subset=drop, inplace=True)"
   ]
  },
  {
   "cell_type": "code",
   "execution_count": 35,
   "id": "monetary-complex",
   "metadata": {},
   "outputs": [],
   "source": [
    "# train0"
   ]
  },
  {
   "cell_type": "code",
   "execution_count": 36,
   "id": "elegant-adoption",
   "metadata": {},
   "outputs": [],
   "source": [
    "#One-Hot encoding\n",
    "categoricalcolumns = ['MSSubClass', 'MSZoning', 'Street', 'Alley', 'LotShape', 'LandContour', 'Utilities', 'LotConfig', 'LandSlope', 'Neighborhood', 'Condition1', 'Condition2', 'BldgType', 'HouseStyle', 'OverallQual', 'OverallCond', 'RoofStyle', 'RoofMatl', 'Exterior1st', 'Exterior2nd', 'MasVnrType', 'ExterQual', 'ExterCond','Foundation', 'BsmtQual', 'BsmtCond', 'BsmtExposure', 'BsmtFinType1', 'BsmtFinType2', 'Heating', 'HeatingQC', 'CentralAir', 'Electrical', 'KitchenQual', 'Functional', 'FireplaceQu', 'GarageType', 'GarageFinish', 'GarageQual', 'GarageCond', 'PavedDrive', 'PoolQC', 'Fence', 'MiscFeature', 'SaleType', 'SaleCondition']\n",
    "train0 = pd.get_dummies(train, columns= categoricalcolumns, prefix= categoricalcolumns)\n",
    "\n",
    "y = train0['SalePrice']\n",
    "X = train0.drop(['Id', 'SalePrice'], axis=1)\n",
    "\n",
    "train_X0, test_X0, train_Y0, test_Y0 = train_test_split(X,y,test_size=0.2, random_state=0)"
   ]
  },
  {
   "cell_type": "code",
   "execution_count": 37,
   "id": "southeast-surface",
   "metadata": {},
   "outputs": [],
   "source": [
    "# train1"
   ]
  },
  {
   "cell_type": "code",
   "execution_count": 38,
   "id": "decent-member",
   "metadata": {},
   "outputs": [
    {
     "name": "stdout",
     "output_type": "stream",
     "text": [
      "The number of variables with one category of data which occupies >= 90% of data = 15\n",
      "Street /ratio of the dominant category =  0.9964\n",
      "LandContour /ratio of the dominant category =  0.9015000000000001\n",
      "Utilities /ratio of the dominant category =  0.9993000000000001\n",
      "LandSlope /ratio of the dominant category =  0.9467\n",
      "Condition2 /ratio of the dominant category =  0.9898\n",
      "RoofMatl /ratio of the dominant category =  0.9818000000000001\n",
      "BsmtCond /ratio of the dominant category =  0.9246\n",
      "Heating /ratio of the dominant category =  0.981\n",
      "CentralAir /ratio of the dominant category =  0.9495999999999999\n",
      "Electrical /ratio of the dominant category =  0.9226000000000001\n",
      "Functional /ratio of the dominant category =  0.9336\n",
      "GarageQual /ratio of the dominant category =  0.9504\n",
      "GarageCond /ratio of the dominant category =  0.9612999999999999\n",
      "PavedDrive /ratio of the dominant category =  0.9372\n",
      "MiscFeature /ratio of the dominant category =  0.9216\n"
     ]
    }
   ],
   "source": [
    "categorical = ['MSSubClass', 'MSZoning', 'Street', 'Alley', 'LotShape', 'LandContour', 'Utilities', 'LotConfig', 'LandSlope', 'Neighborhood', 'Condition1', 'Condition2', 'BldgType', 'HouseStyle', 'OverallQual', 'OverallCond', 'RoofStyle', 'RoofMatl', 'Exterior1st', 'Exterior2nd', 'MasVnrType', 'ExterQual', 'ExterCond','Foundation', 'BsmtQual', 'BsmtCond', 'BsmtExposure', 'BsmtFinType1', 'BsmtFinType2', 'Heating', 'HeatingQC', 'CentralAir', 'Electrical', 'KitchenQual', 'Functional', 'FireplaceQu', 'GarageType', 'GarageFinish', 'GarageQual', 'GarageCond', 'PavedDrive', 'PoolQC', 'Fence', 'MiscFeature', 'SaleType', 'SaleCondition']\n",
    "#skewness of categorical variables\n",
    "max_percent = []\n",
    "catogorical_skewed=[]\n",
    "for i in categorical: \n",
    "    if rp.summary_cat(train[i])[\"Percent\"].max() >= 90: \n",
    "        max_percent.append(rp.summary_cat(train[i])[\"Percent\"].max())\n",
    "print (\"The number of variables with one category of data which occupies >= 90% of data =\", len(max_percent))\n",
    "#highly skewed categorical variables\n",
    "for i in categorical: \n",
    "    if rp.summary_cat(train[i])[\"Percent\"].max() >= 90:\n",
    "        catogorical_skewed.append(i)\n",
    "        print (i,\"/ratio of the dominant category = \", rp.summary_cat(train[i])[\"Percent\"].max()/100)"
   ]
  },
  {
   "cell_type": "code",
   "execution_count": 39,
   "id": "focal-sympathy",
   "metadata": {},
   "outputs": [],
   "source": [
    "for i in catogorical_skewed:\n",
    "    train.drop(columns=[i], inplace=True)"
   ]
  },
  {
   "cell_type": "code",
   "execution_count": 40,
   "id": "owned-worthy",
   "metadata": {},
   "outputs": [
    {
     "name": "stdout",
     "output_type": "stream",
     "text": [
      "The number of variables with one category of data which occupies >= 90% of data = 0\n"
     ]
    }
   ],
   "source": [
    "for i in catogorical_skewed:\n",
    "    categorical.remove(i)\n",
    "#skewness of categorical variables\n",
    "max_percent = []\n",
    "for i in categorical: \n",
    "    if rp.summary_cat(train[i])[\"Percent\"].max() >= 90: \n",
    "        max_percent.append(rp.summary_cat(train[i])[\"Percent\"].max())\n",
    "print (\"The number of variables with one category of data which occupies >= 90% of data =\", len(max_percent))\n",
    "#highly skewed categorical variables\n",
    "for i in categorical: \n",
    "    if rp.summary_cat(train[i])[\"Percent\"].max() >= 90: \n",
    "         print (i,\"/ratio of the dominant category = \", rp.summary_cat(train[i])[\"Percent\"].max()/100)"
   ]
  },
  {
   "cell_type": "code",
   "execution_count": 41,
   "id": "opening-hungary",
   "metadata": {},
   "outputs": [
    {
     "data": {
      "text/html": [
       "<div>\n",
       "<style scoped>\n",
       "    .dataframe tbody tr th:only-of-type {\n",
       "        vertical-align: middle;\n",
       "    }\n",
       "\n",
       "    .dataframe tbody tr th {\n",
       "        vertical-align: top;\n",
       "    }\n",
       "\n",
       "    .dataframe thead th {\n",
       "        text-align: right;\n",
       "    }\n",
       "</style>\n",
       "<table border=\"1\" class=\"dataframe\">\n",
       "  <thead>\n",
       "    <tr style=\"text-align: right;\">\n",
       "      <th></th>\n",
       "      <th>Id</th>\n",
       "      <th>LotArea</th>\n",
       "      <th>YearBuilt</th>\n",
       "      <th>YearRemodAdd</th>\n",
       "      <th>MasVnrArea</th>\n",
       "      <th>BsmtFinSF1</th>\n",
       "      <th>BsmtFinSF2</th>\n",
       "      <th>BsmtUnfSF</th>\n",
       "      <th>TotalBsmtSF</th>\n",
       "      <th>1stFlrSF</th>\n",
       "      <th>...</th>\n",
       "      <th>SaleType_ConLw</th>\n",
       "      <th>SaleType_New</th>\n",
       "      <th>SaleType_Oth</th>\n",
       "      <th>SaleType_WD</th>\n",
       "      <th>SaleCondition_Abnorml</th>\n",
       "      <th>SaleCondition_AdjLand</th>\n",
       "      <th>SaleCondition_Alloca</th>\n",
       "      <th>SaleCondition_Family</th>\n",
       "      <th>SaleCondition_Normal</th>\n",
       "      <th>SaleCondition_Partial</th>\n",
       "    </tr>\n",
       "  </thead>\n",
       "  <tbody>\n",
       "    <tr>\n",
       "      <th>0</th>\n",
       "      <td>1</td>\n",
       "      <td>8450</td>\n",
       "      <td>2003</td>\n",
       "      <td>2003</td>\n",
       "      <td>196.0</td>\n",
       "      <td>706</td>\n",
       "      <td>0</td>\n",
       "      <td>150</td>\n",
       "      <td>856</td>\n",
       "      <td>856</td>\n",
       "      <td>...</td>\n",
       "      <td>0</td>\n",
       "      <td>0</td>\n",
       "      <td>0</td>\n",
       "      <td>1</td>\n",
       "      <td>0</td>\n",
       "      <td>0</td>\n",
       "      <td>0</td>\n",
       "      <td>0</td>\n",
       "      <td>1</td>\n",
       "      <td>0</td>\n",
       "    </tr>\n",
       "    <tr>\n",
       "      <th>1</th>\n",
       "      <td>2</td>\n",
       "      <td>9600</td>\n",
       "      <td>1976</td>\n",
       "      <td>1976</td>\n",
       "      <td>0.0</td>\n",
       "      <td>978</td>\n",
       "      <td>0</td>\n",
       "      <td>284</td>\n",
       "      <td>1262</td>\n",
       "      <td>1262</td>\n",
       "      <td>...</td>\n",
       "      <td>0</td>\n",
       "      <td>0</td>\n",
       "      <td>0</td>\n",
       "      <td>1</td>\n",
       "      <td>0</td>\n",
       "      <td>0</td>\n",
       "      <td>0</td>\n",
       "      <td>0</td>\n",
       "      <td>1</td>\n",
       "      <td>0</td>\n",
       "    </tr>\n",
       "    <tr>\n",
       "      <th>2</th>\n",
       "      <td>3</td>\n",
       "      <td>11250</td>\n",
       "      <td>2001</td>\n",
       "      <td>2002</td>\n",
       "      <td>162.0</td>\n",
       "      <td>486</td>\n",
       "      <td>0</td>\n",
       "      <td>434</td>\n",
       "      <td>920</td>\n",
       "      <td>920</td>\n",
       "      <td>...</td>\n",
       "      <td>0</td>\n",
       "      <td>0</td>\n",
       "      <td>0</td>\n",
       "      <td>1</td>\n",
       "      <td>0</td>\n",
       "      <td>0</td>\n",
       "      <td>0</td>\n",
       "      <td>0</td>\n",
       "      <td>1</td>\n",
       "      <td>0</td>\n",
       "    </tr>\n",
       "    <tr>\n",
       "      <th>3</th>\n",
       "      <td>4</td>\n",
       "      <td>9550</td>\n",
       "      <td>1915</td>\n",
       "      <td>1970</td>\n",
       "      <td>0.0</td>\n",
       "      <td>216</td>\n",
       "      <td>0</td>\n",
       "      <td>540</td>\n",
       "      <td>756</td>\n",
       "      <td>961</td>\n",
       "      <td>...</td>\n",
       "      <td>0</td>\n",
       "      <td>0</td>\n",
       "      <td>0</td>\n",
       "      <td>1</td>\n",
       "      <td>1</td>\n",
       "      <td>0</td>\n",
       "      <td>0</td>\n",
       "      <td>0</td>\n",
       "      <td>0</td>\n",
       "      <td>0</td>\n",
       "    </tr>\n",
       "    <tr>\n",
       "      <th>4</th>\n",
       "      <td>5</td>\n",
       "      <td>14260</td>\n",
       "      <td>2000</td>\n",
       "      <td>2000</td>\n",
       "      <td>350.0</td>\n",
       "      <td>655</td>\n",
       "      <td>0</td>\n",
       "      <td>490</td>\n",
       "      <td>1145</td>\n",
       "      <td>1145</td>\n",
       "      <td>...</td>\n",
       "      <td>0</td>\n",
       "      <td>0</td>\n",
       "      <td>0</td>\n",
       "      <td>1</td>\n",
       "      <td>0</td>\n",
       "      <td>0</td>\n",
       "      <td>0</td>\n",
       "      <td>0</td>\n",
       "      <td>1</td>\n",
       "      <td>0</td>\n",
       "    </tr>\n",
       "  </tbody>\n",
       "</table>\n",
       "<p>5 rows × 248 columns</p>\n",
       "</div>"
      ],
      "text/plain": [
       "   Id  LotArea  YearBuilt  YearRemodAdd  MasVnrArea  BsmtFinSF1  BsmtFinSF2  \\\n",
       "0   1     8450       2003          2003       196.0         706           0   \n",
       "1   2     9600       1976          1976         0.0         978           0   \n",
       "2   3    11250       2001          2002       162.0         486           0   \n",
       "3   4     9550       1915          1970         0.0         216           0   \n",
       "4   5    14260       2000          2000       350.0         655           0   \n",
       "\n",
       "   BsmtUnfSF  TotalBsmtSF  1stFlrSF  ...  SaleType_ConLw  SaleType_New  \\\n",
       "0        150          856       856  ...               0             0   \n",
       "1        284         1262      1262  ...               0             0   \n",
       "2        434          920       920  ...               0             0   \n",
       "3        540          756       961  ...               0             0   \n",
       "4        490         1145      1145  ...               0             0   \n",
       "\n",
       "   SaleType_Oth  SaleType_WD  SaleCondition_Abnorml  SaleCondition_AdjLand  \\\n",
       "0             0            1                      0                      0   \n",
       "1             0            1                      0                      0   \n",
       "2             0            1                      0                      0   \n",
       "3             0            1                      1                      0   \n",
       "4             0            1                      0                      0   \n",
       "\n",
       "   SaleCondition_Alloca  SaleCondition_Family  SaleCondition_Normal  \\\n",
       "0                     0                     0                     1   \n",
       "1                     0                     0                     1   \n",
       "2                     0                     0                     1   \n",
       "3                     0                     0                     0   \n",
       "4                     0                     0                     1   \n",
       "\n",
       "   SaleCondition_Partial  \n",
       "0                      0  \n",
       "1                      0  \n",
       "2                      0  \n",
       "3                      0  \n",
       "4                      0  \n",
       "\n",
       "[5 rows x 248 columns]"
      ]
     },
     "execution_count": 41,
     "metadata": {},
     "output_type": "execute_result"
    }
   ],
   "source": [
    "#One Hot Encoding\n",
    "train1 = pd.get_dummies(train, columns= categorical, prefix= categorical)\n",
    "train1.head()"
   ]
  },
  {
   "cell_type": "code",
   "execution_count": 42,
   "id": "deadly-mission",
   "metadata": {},
   "outputs": [
    {
     "name": "stdout",
     "output_type": "stream",
     "text": [
      "MiscVal : skewness =  24.732979451706033\n",
      "PoolArea : skewness =  14.342881566937836\n",
      "LotArea : skewness =  12.025446327344339\n",
      "LowQualFinSF : skewness =  10.66505349858299\n",
      "3SsnPorch : skewness =  9.96262046395852\n",
      "KitchenAbvGr : skewness =  5.129053439295553\n",
      "BsmtFinSF2 : skewness =  4.174330005566947\n",
      "ScreenPorch : skewness =  3.967379533802487\n",
      "BsmtHalfBath : skewness =  3.89811918894981\n",
      "EnclosedPorch : skewness =  3.214887613130617\n",
      "MasVnrArea : skewness =  2.588332838278803\n",
      "OpenPorchSF : skewness =  2.2638025759950504\n",
      "BsmtFinSF1 : skewness =  1.6941364533315026\n",
      "TotalBsmtSF : skewness =  1.6330286577439608\n",
      "WoodDeckSF : skewness =  1.5027101898713007\n"
     ]
    }
   ],
   "source": [
    "# identifying continuous variables with high skewness\n",
    "continuous = ['LotArea', 'YearBuilt', 'YearRemodAdd', \n",
    "       'MasVnrArea', 'BsmtFinSF1', 'BsmtFinSF2', 'BsmtUnfSF', 'TotalBsmtSF', '1stFlrSF', '2ndFlrSF',\n",
    "       'LowQualFinSF', 'GrLivArea', 'BsmtFullBath', 'BsmtHalfBath', 'FullBath',\n",
    "       'HalfBath', 'BedroomAbvGr', 'KitchenAbvGr','TotRmsAbvGrd', 'Fireplaces', \n",
    "       'GarageYrBlt', 'GarageCars', 'GarageArea', 'WoodDeckSF', 'OpenPorchSF',\n",
    "       'EnclosedPorch', '3SsnPorch', 'ScreenPorch', 'PoolArea', 'MiscVal', 'MoSold', 'YrSold']\n",
    "array1 = skew(train1[continuous])\n",
    "#the top 15 features which are the most skewed\n",
    "index1 = array1.argsort()[-15:][::-1]\n",
    "continuous_skewed=[]\n",
    "for i in index1:\n",
    "    print (continuous[i],\": skewness = \", array1[i])\n",
    "    if array1[i]>=1:\n",
    "        continuous_skewed.append(continuous[i])"
   ]
  },
  {
   "cell_type": "code",
   "execution_count": 43,
   "id": "breathing-liquid",
   "metadata": {},
   "outputs": [
    {
     "name": "stdout",
     "output_type": "stream",
     "text": [
      "train1 shape\t\t: (1370, 248)\n",
      "train1_iqr shape\t: (688, 248)\n"
     ]
    }
   ],
   "source": [
    "print('train1 shape\\t\\t:',train1.shape)\n",
    "# calculate interquartile range\n",
    "q25, q75 = train1[continuous_skewed].quantile(0.25), train1[continuous_skewed].quantile(0.75)\n",
    "iqr = q75 - q25\n",
    "# calculate the outlier cutoff\n",
    "cut_off = iqr * 1.5\n",
    "lower, upper = q25 - cut_off, q75 + cut_off\n",
    "\n",
    "train1_iqr = train1[~((train1>upper)).any(axis=1)]\n",
    "print('train1_iqr shape\\t:', train1_iqr.shape)"
   ]
  },
  {
   "cell_type": "code",
   "execution_count": 44,
   "id": "imposed-sellers",
   "metadata": {},
   "outputs": [
    {
     "name": "stdout",
     "output_type": "stream",
     "text": [
      "Top 3 features which are the most skewed:\n",
      "MasVnrArea : skewness =  1.1633497486834365\n",
      "OpenPorchSF : skewness =  1.0088075868431694\n",
      "WoodDeckSF : skewness =  0.77571907189836\n"
     ]
    }
   ],
   "source": [
    "#calculating skewness of continuous variables\n",
    "array = skew(train1_iqr[continuous])\n",
    "#the top 3 features which are the most skewed\n",
    "print('Top 3 features which are the most skewed:')\n",
    "index = array.argsort()[-3:][::-1]\n",
    "for i in index: \n",
    "    print (continuous[i],\": skewness = \", array[i])"
   ]
  },
  {
   "cell_type": "code",
   "execution_count": 45,
   "id": "danish-employer",
   "metadata": {},
   "outputs": [
    {
     "name": "stdout",
     "output_type": "stream",
     "text": [
      "Number of features selected =  73\n",
      "GrLivArea            0.764786\n",
      "GarageCars           0.699105\n",
      "GarageArea           0.671034\n",
      "TotRmsAbvGrd         0.639797\n",
      "FullBath             0.632455\n",
      "                       ...   \n",
      "GarageType_Detchd   -0.452965\n",
      "Foundation_CBlock   -0.478446\n",
      "BsmtQual_TA         -0.527170\n",
      "GarageFinish_Unf    -0.544653\n",
      "KitchenQual_TA      -0.571333\n",
      "Name: SalePrice, Length: 211, dtype: float64\n"
     ]
    }
   ],
   "source": [
    "# variables most closely related to SalePrice\n",
    "corr = train1_iqr.corr()['SalePrice']\n",
    "# print(corr)\n",
    "feature_select=[]\n",
    "corrshape=corr.nlargest(corr.shape[0])[1:corr.shape[0]].shape[0]\n",
    "# print(corrshape)\n",
    "for i in range(corrshape-1):\n",
    "    if (abs(corr.nlargest(corrshape)[1:corrshape][i])>0.2):\n",
    "        feature_select.append(corr.nlargest(corrshape)[1:corrshape].axes[0][i])\n",
    "        \n",
    "print('Number of features selected = ', len(feature_select))        \n",
    "print(corr.nlargest(corrshape)[1:corrshape])\n",
    "\n",
    "train1 = train1_iqr[feature_select+['Id', 'SalePrice']]"
   ]
  },
  {
   "cell_type": "code",
   "execution_count": 46,
   "id": "married-convertible",
   "metadata": {},
   "outputs": [],
   "source": [
    "y = train1['SalePrice']\n",
    "X = train1.drop(['Id', 'SalePrice'], axis=1)\n",
    "\n",
    "train_X1, test_X1, train_Y1, test_Y1 = train_test_split(X,y,test_size=0.2, random_state=0)"
   ]
  },
  {
   "cell_type": "code",
   "execution_count": null,
   "id": "wrapped-input",
   "metadata": {},
   "outputs": [],
   "source": []
  },
  {
   "cell_type": "markdown",
   "id": "speaking-vertex",
   "metadata": {},
   "source": [
    "[back to top](#top)"
   ]
  },
  {
   "cell_type": "markdown",
   "id": "introductory-vegetable",
   "metadata": {},
   "source": [
    "### Keras TensorFlow <a class=\"anchor\" id=\"keras\"></a>\n",
    "\n",
    "Tensorflow is an open-source library for machine learning, while Keras is a neural-networks library that runs on top of Tensorflow. Keras has optimizers built in to the functions, such as Adam, Adamax, Adadelta, Nadam, and FTLR (Follow the Regularized Leader).\n",
    "<br><br>\n",
    "For the sake of simplicity, we will create a single layer neural network (normal gradient descent) and train the model with __Nadam__ (as it gives us the best results). We also tried training with and without pre-processing on the train dataset.\n",
    "<br><br>\n",
    "Upon inspection of the R2 score, using these optimizers on a single layer of gradient descent does not give us good results."
   ]
  },
  {
   "cell_type": "markdown",
   "id": "executed-phenomenon",
   "metadata": {},
   "source": [
    "#### Adam <a class=\"anchor\" id=\"kerasadam\"></a>"
   ]
  },
  {
   "cell_type": "markdown",
   "id": "descending-lodge",
   "metadata": {},
   "source": [
    "__No Preprocessing__"
   ]
  },
  {
   "cell_type": "code",
   "execution_count": 47,
   "id": "fitting-cooperation",
   "metadata": {},
   "outputs": [
    {
     "name": "stdout",
     "output_type": "stream",
     "text": [
      "35/35 [==============================] - 0s 469us/step - loss: 40166547683.5556\n"
     ]
    },
    {
     "data": {
      "text/plain": [
       "<tensorflow.python.keras.callbacks.History at 0x2b953d592e8>"
      ]
     },
     "execution_count": 47,
     "metadata": {},
     "output_type": "execute_result"
    }
   ],
   "source": [
    "model = tf.keras.models.Sequential()\n",
    "model.add(tf.keras.Input(shape=(train_X0.shape[1])))\n",
    "model.add(tf.keras.layers.Dense(1, activation='relu'))\n",
    "opt = keras.optimizers.Adam()\n",
    "model.compile(opt, loss='mse')\n",
    "model.fit(train_X0, train_Y0)"
   ]
  },
  {
   "cell_type": "code",
   "execution_count": 48,
   "id": "automated-municipality",
   "metadata": {},
   "outputs": [
    {
     "name": "stdout",
     "output_type": "stream",
     "text": [
      "Train R2 score\t: -5.4868960945954\n",
      "Test R2 score\t: -5.311916805891069\n"
     ]
    }
   ],
   "source": [
    "y_pred = model.predict(train_X0)\n",
    "print('Train R2 score\\t:', r2_score(train_Y0, np.squeeze(y_pred)))\n",
    "\n",
    "y_pred = model.predict(test_X0)\n",
    "print('Test R2 score\\t:', r2_score(test_Y0, np.squeeze(y_pred)))"
   ]
  },
  {
   "cell_type": "markdown",
   "id": "continued-animal",
   "metadata": {},
   "source": [
    "__With Preprocessing__"
   ]
  },
  {
   "cell_type": "code",
   "execution_count": 49,
   "id": "bright-orientation",
   "metadata": {},
   "outputs": [
    {
     "name": "stdout",
     "output_type": "stream",
     "text": [
      "18/18 [==============================] - 0s 528us/step - loss: 37737693184.0000\n"
     ]
    },
    {
     "data": {
      "text/plain": [
       "<tensorflow.python.keras.callbacks.History at 0x2b954325940>"
      ]
     },
     "execution_count": 49,
     "metadata": {},
     "output_type": "execute_result"
    }
   ],
   "source": [
    "model = tf.keras.models.Sequential()\n",
    "model.add(tf.keras.Input(shape=(train_X1.shape[1])))\n",
    "model.add(tf.keras.layers.Dense(1, activation='relu'))\n",
    "opt = keras.optimizers.Adam()\n",
    "model.compile(opt, loss='mse')\n",
    "model.fit(train_X1, train_Y1)"
   ]
  },
  {
   "cell_type": "code",
   "execution_count": 50,
   "id": "loved-decimal",
   "metadata": {},
   "outputs": [
    {
     "name": "stdout",
     "output_type": "stream",
     "text": [
      "Train R2 score\t: -7.259138535575959\n",
      "Test R2 score\t: -7.63249987047754\n"
     ]
    }
   ],
   "source": [
    "y_pred = model.predict(train_X1)\n",
    "print('Train R2 score\\t:', r2_score(train_Y1, np.squeeze(y_pred)))\n",
    "\n",
    "y_pred = model.predict(test_X1)\n",
    "print('Test R2 score\\t:', r2_score(test_Y1, np.squeeze(y_pred)))"
   ]
  },
  {
   "cell_type": "markdown",
   "id": "maritime-saturn",
   "metadata": {},
   "source": [
    "#### Nadam <a class=\"anchor\" id=\"kerasnadam\"></a>"
   ]
  },
  {
   "cell_type": "markdown",
   "id": "atomic-conference",
   "metadata": {},
   "source": [
    "__No Preprocessing__"
   ]
  },
  {
   "cell_type": "code",
   "execution_count": 51,
   "id": "continental-stadium",
   "metadata": {},
   "outputs": [
    {
     "name": "stdout",
     "output_type": "stream",
     "text": [
      "35/35 [==============================] - 0s 469us/step - loss: 39988467143.1111\n"
     ]
    },
    {
     "data": {
      "text/plain": [
       "<tensorflow.python.keras.callbacks.History at 0x2b954325550>"
      ]
     },
     "execution_count": 51,
     "metadata": {},
     "output_type": "execute_result"
    }
   ],
   "source": [
    "model = tf.keras.models.Sequential()\n",
    "model.add(tf.keras.Input(shape=(train_X0.shape[1])))\n",
    "model.add(tf.keras.layers.Dense(1, activation='relu'))\n",
    "opt = keras.optimizers.Nadam()\n",
    "model.compile(opt, loss='mse')\n",
    "model.fit(train_X0, train_Y0)"
   ]
  },
  {
   "cell_type": "code",
   "execution_count": 52,
   "id": "together-ballot",
   "metadata": {},
   "outputs": [
    {
     "name": "stdout",
     "output_type": "stream",
     "text": [
      "Train R2 score\t: -5.553225387570012\n",
      "Test R2 score\t: -5.3753833881067\n"
     ]
    }
   ],
   "source": [
    "y_pred = model.predict(train_X0)\n",
    "print('Train R2 score\\t:', r2_score(train_Y0, np.squeeze(y_pred)))\n",
    "\n",
    "y_pred = model.predict(test_X0)\n",
    "print('Test R2 score\\t:', r2_score(test_Y0, np.squeeze(y_pred)))"
   ]
  },
  {
   "cell_type": "markdown",
   "id": "steady-discount",
   "metadata": {},
   "source": [
    "__With Preprocessing__"
   ]
  },
  {
   "cell_type": "code",
   "execution_count": 53,
   "id": "furnished-timothy",
   "metadata": {},
   "outputs": [
    {
     "name": "stdout",
     "output_type": "stream",
     "text": [
      "18/18 [==============================] - 0s 528us/step - loss: 36957155759.1579\n"
     ]
    },
    {
     "data": {
      "text/plain": [
       "<tensorflow.python.keras.callbacks.History at 0x2b953c4ce10>"
      ]
     },
     "execution_count": 53,
     "metadata": {},
     "output_type": "execute_result"
    }
   ],
   "source": [
    "model = tf.keras.models.Sequential()\n",
    "model.add(tf.keras.Input(shape=(train_X1.shape[1])))\n",
    "model.add(tf.keras.layers.Dense(1, activation='relu'))\n",
    "opt = keras.optimizers.Nadam()\n",
    "model.compile(opt, loss='mse')\n",
    "model.fit(train_X1, train_Y1)"
   ]
  },
  {
   "cell_type": "code",
   "execution_count": 54,
   "id": "agreed-bidder",
   "metadata": {},
   "outputs": [
    {
     "name": "stdout",
     "output_type": "stream",
     "text": [
      "Train R2 score\t: -7.259138535575959\n",
      "Test R2 score\t: -7.63249987047754\n"
     ]
    }
   ],
   "source": [
    "y_pred = model.predict(train_X1)\n",
    "print('Train R2 score\\t:', r2_score(train_Y1, np.squeeze(y_pred)))\n",
    "\n",
    "y_pred = model.predict(test_X1)\n",
    "print('Test R2 score\\t:', r2_score(test_Y1, np.squeeze(y_pred)))"
   ]
  },
  {
   "cell_type": "markdown",
   "id": "given-router",
   "metadata": {},
   "source": [
    "[back to top](#top)"
   ]
  },
  {
   "cell_type": "markdown",
   "id": "artificial-snake",
   "metadata": {},
   "source": [
    "### MLP Regressor <a class=\"anchor\" id=\"mlp\"></a>\n",
    "SciKit Learn has neural-network modules that can be tuned using certain optimization techniques, namely LBFGS, Adam, and Stochastic Gradient Descent (SGD). We will try the optimization techniques on multiples hidden layers using SciKit Learn."
   ]
  },
  {
   "cell_type": "markdown",
   "id": "induced-secret",
   "metadata": {},
   "source": [
    "#### Adam <a class=\"anchor\" id=\"SKadam\"></a>"
   ]
  },
  {
   "cell_type": "markdown",
   "id": "included-lexington",
   "metadata": {},
   "source": [
    "__No Preprocessing__"
   ]
  },
  {
   "cell_type": "code",
   "execution_count": 55,
   "id": "under-dressing",
   "metadata": {},
   "outputs": [
    {
     "name": "stdout",
     "output_type": "stream",
     "text": [
      "Random state = 0 Train R2 = 0.7295460469776351 Test R2 = 0.45046427765185626\n",
      "Random state = 1 Train R2 = 0.7277783756888095 Test R2 = 0.48091148271190154\n",
      "Random state = 2 Train R2 = 0.6953451716997927 Test R2 = 0.5174298602736237\n",
      "Random state = 3 Train R2 = 0.7262295211694022 Test R2 = 0.49965730564788113\n",
      "Random state = 4 Train R2 = 0.7322077171278982 Test R2 = 0.5001234281344361\n",
      "Random state = 5 Train R2 = -0.33102801775673885 Test R2 = -0.38831696502427127\n",
      "Random state = 6 Train R2 = 0.7660216026964433 Test R2 = 0.45277642704334065\n",
      "Random state = 7 Train R2 = 0.7242219904256835 Test R2 = 0.47975200950713603\n",
      "Random state = 8 Train R2 = 0.7621370635925312 Test R2 = 0.40302540637144224\n",
      "Random state = 9 Train R2 = 0.7320497456435788 Test R2 = 0.5184876559538352\n"
     ]
    }
   ],
   "source": [
    "test_r2 = []\n",
    "for i in range(10):\n",
    "    mlp = MLPRegressor(random_state=i, solver='adam', max_iter=10000, early_stopping=True)\n",
    "    mlp.fit(train_X0, train_Y0)\n",
    "    pred_train = mlp.predict(train_X0)\n",
    "    pred_test = mlp.predict(test_X0)\n",
    "    print('Random state =', i, 'Train R2 =', r2_score(train_Y0, pred_train), 'Test R2 =', r2_score(test_Y0, pred_test)) ######\n",
    "    test_r2.append(r2_score(test_Y0, pred_test))"
   ]
  },
  {
   "cell_type": "code",
   "execution_count": 56,
   "id": "confidential-brisbane",
   "metadata": {},
   "outputs": [
    {
     "name": "stdout",
     "output_type": "stream",
     "text": [
      "Max test R2 score is : 0.5184876559538352\n",
      "Random state : 9\n"
     ]
    }
   ],
   "source": [
    "print('Max test R2 score is :', max(test_r2))\n",
    "print('Random state :', test_r2.index(max(test_r2)))"
   ]
  },
  {
   "cell_type": "markdown",
   "id": "surface-engine",
   "metadata": {},
   "source": [
    "__With Preprocessing__"
   ]
  },
  {
   "cell_type": "code",
   "execution_count": 57,
   "id": "frank-chamber",
   "metadata": {},
   "outputs": [
    {
     "name": "stdout",
     "output_type": "stream",
     "text": [
      "Random state = 0 Train R2 = 0.4041174117579651 Test R2 = 0.4541227207092642\n",
      "Random state = 1 Train R2 = 0.3739142597027786 Test R2 = 0.4059487949701295\n",
      "Random state = 2 Train R2 = 0.39556595943164585 Test R2 = 0.43577198988770893\n",
      "Random state = 3 Train R2 = 0.7655894019156126 Test R2 = 0.7675563686791909\n",
      "Random state = 4 Train R2 = 0.8020892669821695 Test R2 = 0.7974577823327935\n",
      "Random state = 5 Train R2 = 0.7475195741227859 Test R2 = 0.7462712862670211\n",
      "Random state = 6 Train R2 = 0.7925170401882152 Test R2 = 0.7990028472411328\n",
      "Random state = 7 Train R2 = 0.8015530085851944 Test R2 = 0.7953782035774359\n",
      "Random state = 8 Train R2 = 0.31366043922753895 Test R2 = 0.3050291286705985\n",
      "Random state = 9 Train R2 = 0.37969430884904587 Test R2 = 0.40910835812043844\n"
     ]
    }
   ],
   "source": [
    "test_r2 = []\n",
    "for i in range(10):\n",
    "    mlp = MLPRegressor(random_state=i, solver='adam', max_iter=10000, early_stopping=True)\n",
    "    mlp.fit(train_X1, train_Y1)\n",
    "    pred_train = mlp.predict(train_X1)\n",
    "    pred_test = mlp.predict(test_X1)\n",
    "    print('Random state =', i, 'Train R2 =', r2_score(train_Y1, pred_train), 'Test R2 =', r2_score(test_Y1, pred_test)) ######\n",
    "    test_r2.append(r2_score(test_Y1, pred_test))"
   ]
  },
  {
   "cell_type": "code",
   "execution_count": 58,
   "id": "closed-unknown",
   "metadata": {},
   "outputs": [
    {
     "name": "stdout",
     "output_type": "stream",
     "text": [
      "Max test R2 score is : 0.7990028472411328\n",
      "Random state : 6\n"
     ]
    }
   ],
   "source": [
    "print('Max test R2 score is :', max(test_r2))\n",
    "print('Random state :', test_r2.index(max(test_r2)))"
   ]
  },
  {
   "cell_type": "markdown",
   "id": "becoming-chassis",
   "metadata": {},
   "source": [
    "#### Limited-memory BFGS (LBFGS) <a class=\"anchor\" id=\"SKLBFGS\"></a>\n",
    "For smaller datasets, LBFGS is supposed to be faster and better than Adam, which is more suited for large datasets with thousands of data.\n",
    "\n",
    "We ran the algorithm on the bare dataset, and then tried some pre-processing on the data. From the test and train scores, on average, LBFGS does indeed perform better than Adam for this dataset. "
   ]
  },
  {
   "cell_type": "markdown",
   "id": "passive-ivory",
   "metadata": {},
   "source": [
    "__No Preprocessing__"
   ]
  },
  {
   "cell_type": "code",
   "execution_count": 59,
   "id": "junior-japan",
   "metadata": {},
   "outputs": [
    {
     "name": "stdout",
     "output_type": "stream",
     "text": [
      "Random state = 0 Train R2 = 0.8196565348083416 Test R2 = -0.03529571165401468\n"
     ]
    },
    {
     "name": "stderr",
     "output_type": "stream",
     "text": [
      "C:\\Users\\tanji\\miniconda3\\envs\\CE9010_2021\\lib\\site-packages\\sklearn\\neural_network\\_multilayer_perceptron.py:471: ConvergenceWarning: lbfgs failed to converge (status=1):\n",
      "STOP: TOTAL NO. of f AND g EVALUATIONS EXCEEDS LIMIT.\n",
      "\n",
      "Increase the number of iterations (max_iter) or scale the data as shown in:\n",
      "    https://scikit-learn.org/stable/modules/preprocessing.html\n",
      "  self.n_iter_ = _check_optimize_result(\"lbfgs\", opt_res, self.max_iter)\n"
     ]
    },
    {
     "name": "stdout",
     "output_type": "stream",
     "text": [
      "Random state = 1 Train R2 = 0.9362506767530632 Test R2 = 0.7518207919247397\n",
      "Random state = 2 Train R2 = 0.7803377890816092 Test R2 = 0.4972372411355507\n",
      "Random state = 3 Train R2 = 0.8316435243992633 Test R2 = -0.0577674816854139\n",
      "Random state = 4 Train R2 = 0.897840331017886 Test R2 = 0.4648855911338662\n",
      "Random state = 5 Train R2 = 0.8664121785354008 Test R2 = 0.7160197415663396\n",
      "Random state = 6 Train R2 = 0.8600622503727747 Test R2 = 0.5208138096883972\n",
      "Random state = 7 Train R2 = 0.7597665829483498 Test R2 = 0.4292088269015576\n",
      "Random state = 8 Train R2 = 0.7983522648516626 Test R2 = 0.21531708616833767\n",
      "Random state = 9 Train R2 = 0.9386955840146336 Test R2 = -2.2222209732686973\n"
     ]
    },
    {
     "name": "stderr",
     "output_type": "stream",
     "text": [
      "C:\\Users\\tanji\\miniconda3\\envs\\CE9010_2021\\lib\\site-packages\\sklearn\\neural_network\\_multilayer_perceptron.py:471: ConvergenceWarning: lbfgs failed to converge (status=1):\n",
      "STOP: TOTAL NO. of f AND g EVALUATIONS EXCEEDS LIMIT.\n",
      "\n",
      "Increase the number of iterations (max_iter) or scale the data as shown in:\n",
      "    https://scikit-learn.org/stable/modules/preprocessing.html\n",
      "  self.n_iter_ = _check_optimize_result(\"lbfgs\", opt_res, self.max_iter)\n"
     ]
    }
   ],
   "source": [
    "test_r2 = []\n",
    "for i in range(10):\n",
    "    mlp = MLPRegressor(random_state=i, solver='lbfgs', max_iter=50000, early_stopping=True)\n",
    "    mlp.fit(train_X0, train_Y0)\n",
    "    pred_train = mlp.predict(train_X0)\n",
    "    pred_test = mlp.predict(test_X0)\n",
    "    print('Random state =', i, 'Train R2 =', r2_score(train_Y0, pred_train), 'Test R2 =', r2_score(test_Y0, pred_test)) ######\n",
    "    test_r2.append(r2_score(test_Y0, pred_test))"
   ]
  },
  {
   "cell_type": "code",
   "execution_count": 60,
   "id": "colored-platinum",
   "metadata": {},
   "outputs": [
    {
     "name": "stdout",
     "output_type": "stream",
     "text": [
      "Max test R2 score is : 0.7518207919247397\n",
      "Random state : 1\n"
     ]
    }
   ],
   "source": [
    "print('Max test R2 score is :', max(test_r2))\n",
    "print('Random state :', test_r2.index(max(test_r2)))"
   ]
  },
  {
   "cell_type": "markdown",
   "id": "informal-grass",
   "metadata": {},
   "source": [
    "__With Preprocessing__"
   ]
  },
  {
   "cell_type": "code",
   "execution_count": 61,
   "id": "cordless-genetics",
   "metadata": {},
   "outputs": [
    {
     "name": "stdout",
     "output_type": "stream",
     "text": [
      "Random state = 0 Train R2 = 0.8585814496925998 Test R2 = 0.7841820038496041\n",
      "Random state = 1 Train R2 = 0.8346116486789318 Test R2 = 0.7983318757338801\n",
      "Random state = 2 Train R2 = 0.875284998018678 Test R2 = 0.8125852810508406\n",
      "Random state = 3 Train R2 = 0.8543923630029546 Test R2 = 0.7967433157622898\n",
      "Random state = 4 Train R2 = 0.877812436128922 Test R2 = 0.8138165121282452\n",
      "Random state = 5 Train R2 = 0.8588141576478324 Test R2 = 0.7917937337522976\n",
      "Random state = 6 Train R2 = 0.8647644620111867 Test R2 = 0.8150866990452159\n",
      "Random state = 7 Train R2 = 0.8921768802744736 Test R2 = 0.7901774601721898\n",
      "Random state = 8 Train R2 = 0.893883957079942 Test R2 = 0.7565963607291907\n",
      "Random state = 9 Train R2 = 0.8838628358634898 Test R2 = 0.8042844412059257\n"
     ]
    }
   ],
   "source": [
    "test_r2 = []\n",
    "for i in range(10):\n",
    "    mlp = MLPRegressor(random_state=i, solver='lbfgs', max_iter=10000, early_stopping=True)\n",
    "    mlp.fit(train_X1, train_Y1)\n",
    "    pred_train = mlp.predict(train_X1)\n",
    "    pred_test = mlp.predict(test_X1)\n",
    "    print('Random state =', i, 'Train R2 =', r2_score(train_Y1, pred_train), 'Test R2 =', r2_score(test_Y1, pred_test)) ######\n",
    "    test_r2.append(r2_score(test_Y1, pred_test))"
   ]
  },
  {
   "cell_type": "code",
   "execution_count": 62,
   "id": "athletic-hydrogen",
   "metadata": {},
   "outputs": [
    {
     "name": "stdout",
     "output_type": "stream",
     "text": [
      "Max test R2 score is : 0.8150866990452159\n",
      "Random state : 6\n"
     ]
    }
   ],
   "source": [
    "print('Max test R2 score is :', max(test_r2))\n",
    "print('Random state :', test_r2.index(max(test_r2)))"
   ]
  },
  {
   "cell_type": "markdown",
   "id": "described-madagascar",
   "metadata": {},
   "source": [
    "[back to top](#top)"
   ]
  },
  {
   "cell_type": "markdown",
   "id": "illegal-johns",
   "metadata": {},
   "source": [
    "### Submitting to Kaggle <a class=\"anchor\" id=\"submit\"></a>"
   ]
  },
  {
   "cell_type": "code",
   "execution_count": 63,
   "id": "treated-snowboard",
   "metadata": {},
   "outputs": [],
   "source": [
    "test = pd.read_csv('test.csv')"
   ]
  },
  {
   "cell_type": "code",
   "execution_count": 64,
   "id": "announced-livestock",
   "metadata": {},
   "outputs": [
    {
     "data": {
      "text/html": [
       "<div>\n",
       "<style scoped>\n",
       "    .dataframe tbody tr th:only-of-type {\n",
       "        vertical-align: middle;\n",
       "    }\n",
       "\n",
       "    .dataframe tbody tr th {\n",
       "        vertical-align: top;\n",
       "    }\n",
       "\n",
       "    .dataframe thead th {\n",
       "        text-align: right;\n",
       "    }\n",
       "</style>\n",
       "<table border=\"1\" class=\"dataframe\">\n",
       "  <thead>\n",
       "    <tr style=\"text-align: right;\">\n",
       "      <th></th>\n",
       "      <th>GrLivArea</th>\n",
       "      <th>GarageCars</th>\n",
       "      <th>GarageArea</th>\n",
       "      <th>TotRmsAbvGrd</th>\n",
       "      <th>FullBath</th>\n",
       "      <th>TotalBsmtSF</th>\n",
       "      <th>1stFlrSF</th>\n",
       "      <th>YearBuilt</th>\n",
       "      <th>Foundation_PConc</th>\n",
       "      <th>YearRemodAdd</th>\n",
       "      <th>...</th>\n",
       "      <th>OverallQual_4</th>\n",
       "      <th>MSZoning_RM</th>\n",
       "      <th>MasVnrType_None</th>\n",
       "      <th>OverallQual_5</th>\n",
       "      <th>HeatingQC_TA</th>\n",
       "      <th>GarageType_Detchd</th>\n",
       "      <th>Foundation_CBlock</th>\n",
       "      <th>BsmtQual_TA</th>\n",
       "      <th>GarageFinish_Unf</th>\n",
       "      <th>KitchenQual_TA</th>\n",
       "    </tr>\n",
       "  </thead>\n",
       "  <tbody>\n",
       "    <tr>\n",
       "      <th>0</th>\n",
       "      <td>896</td>\n",
       "      <td>1.0</td>\n",
       "      <td>730.0</td>\n",
       "      <td>5</td>\n",
       "      <td>1</td>\n",
       "      <td>882.0</td>\n",
       "      <td>896</td>\n",
       "      <td>1961</td>\n",
       "      <td>0</td>\n",
       "      <td>1961</td>\n",
       "      <td>...</td>\n",
       "      <td>0</td>\n",
       "      <td>0</td>\n",
       "      <td>1</td>\n",
       "      <td>1</td>\n",
       "      <td>1</td>\n",
       "      <td>0</td>\n",
       "      <td>1</td>\n",
       "      <td>1</td>\n",
       "      <td>1</td>\n",
       "      <td>1</td>\n",
       "    </tr>\n",
       "    <tr>\n",
       "      <th>1</th>\n",
       "      <td>1329</td>\n",
       "      <td>1.0</td>\n",
       "      <td>312.0</td>\n",
       "      <td>6</td>\n",
       "      <td>1</td>\n",
       "      <td>1329.0</td>\n",
       "      <td>1329</td>\n",
       "      <td>1958</td>\n",
       "      <td>0</td>\n",
       "      <td>1958</td>\n",
       "      <td>...</td>\n",
       "      <td>0</td>\n",
       "      <td>0</td>\n",
       "      <td>0</td>\n",
       "      <td>0</td>\n",
       "      <td>1</td>\n",
       "      <td>0</td>\n",
       "      <td>1</td>\n",
       "      <td>1</td>\n",
       "      <td>1</td>\n",
       "      <td>0</td>\n",
       "    </tr>\n",
       "    <tr>\n",
       "      <th>2</th>\n",
       "      <td>1629</td>\n",
       "      <td>2.0</td>\n",
       "      <td>482.0</td>\n",
       "      <td>6</td>\n",
       "      <td>2</td>\n",
       "      <td>928.0</td>\n",
       "      <td>928</td>\n",
       "      <td>1997</td>\n",
       "      <td>1</td>\n",
       "      <td>1998</td>\n",
       "      <td>...</td>\n",
       "      <td>0</td>\n",
       "      <td>0</td>\n",
       "      <td>1</td>\n",
       "      <td>1</td>\n",
       "      <td>0</td>\n",
       "      <td>0</td>\n",
       "      <td>0</td>\n",
       "      <td>0</td>\n",
       "      <td>0</td>\n",
       "      <td>1</td>\n",
       "    </tr>\n",
       "    <tr>\n",
       "      <th>3</th>\n",
       "      <td>1604</td>\n",
       "      <td>2.0</td>\n",
       "      <td>470.0</td>\n",
       "      <td>7</td>\n",
       "      <td>2</td>\n",
       "      <td>926.0</td>\n",
       "      <td>926</td>\n",
       "      <td>1998</td>\n",
       "      <td>1</td>\n",
       "      <td>1998</td>\n",
       "      <td>...</td>\n",
       "      <td>0</td>\n",
       "      <td>0</td>\n",
       "      <td>0</td>\n",
       "      <td>0</td>\n",
       "      <td>0</td>\n",
       "      <td>0</td>\n",
       "      <td>0</td>\n",
       "      <td>1</td>\n",
       "      <td>0</td>\n",
       "      <td>0</td>\n",
       "    </tr>\n",
       "    <tr>\n",
       "      <th>4</th>\n",
       "      <td>1280</td>\n",
       "      <td>2.0</td>\n",
       "      <td>506.0</td>\n",
       "      <td>5</td>\n",
       "      <td>2</td>\n",
       "      <td>1280.0</td>\n",
       "      <td>1280</td>\n",
       "      <td>1992</td>\n",
       "      <td>1</td>\n",
       "      <td>1992</td>\n",
       "      <td>...</td>\n",
       "      <td>0</td>\n",
       "      <td>0</td>\n",
       "      <td>1</td>\n",
       "      <td>0</td>\n",
       "      <td>0</td>\n",
       "      <td>0</td>\n",
       "      <td>0</td>\n",
       "      <td>0</td>\n",
       "      <td>0</td>\n",
       "      <td>0</td>\n",
       "    </tr>\n",
       "    <tr>\n",
       "      <th>...</th>\n",
       "      <td>...</td>\n",
       "      <td>...</td>\n",
       "      <td>...</td>\n",
       "      <td>...</td>\n",
       "      <td>...</td>\n",
       "      <td>...</td>\n",
       "      <td>...</td>\n",
       "      <td>...</td>\n",
       "      <td>...</td>\n",
       "      <td>...</td>\n",
       "      <td>...</td>\n",
       "      <td>...</td>\n",
       "      <td>...</td>\n",
       "      <td>...</td>\n",
       "      <td>...</td>\n",
       "      <td>...</td>\n",
       "      <td>...</td>\n",
       "      <td>...</td>\n",
       "      <td>...</td>\n",
       "      <td>...</td>\n",
       "      <td>...</td>\n",
       "    </tr>\n",
       "    <tr>\n",
       "      <th>1454</th>\n",
       "      <td>1092</td>\n",
       "      <td>0.0</td>\n",
       "      <td>0.0</td>\n",
       "      <td>5</td>\n",
       "      <td>1</td>\n",
       "      <td>546.0</td>\n",
       "      <td>546</td>\n",
       "      <td>1970</td>\n",
       "      <td>0</td>\n",
       "      <td>1970</td>\n",
       "      <td>...</td>\n",
       "      <td>1</td>\n",
       "      <td>1</td>\n",
       "      <td>1</td>\n",
       "      <td>0</td>\n",
       "      <td>0</td>\n",
       "      <td>0</td>\n",
       "      <td>1</td>\n",
       "      <td>1</td>\n",
       "      <td>0</td>\n",
       "      <td>1</td>\n",
       "    </tr>\n",
       "    <tr>\n",
       "      <th>1455</th>\n",
       "      <td>1092</td>\n",
       "      <td>1.0</td>\n",
       "      <td>286.0</td>\n",
       "      <td>6</td>\n",
       "      <td>1</td>\n",
       "      <td>546.0</td>\n",
       "      <td>546</td>\n",
       "      <td>1970</td>\n",
       "      <td>0</td>\n",
       "      <td>1970</td>\n",
       "      <td>...</td>\n",
       "      <td>1</td>\n",
       "      <td>1</td>\n",
       "      <td>1</td>\n",
       "      <td>0</td>\n",
       "      <td>1</td>\n",
       "      <td>0</td>\n",
       "      <td>1</td>\n",
       "      <td>1</td>\n",
       "      <td>1</td>\n",
       "      <td>1</td>\n",
       "    </tr>\n",
       "    <tr>\n",
       "      <th>1456</th>\n",
       "      <td>1224</td>\n",
       "      <td>2.0</td>\n",
       "      <td>576.0</td>\n",
       "      <td>7</td>\n",
       "      <td>1</td>\n",
       "      <td>1224.0</td>\n",
       "      <td>1224</td>\n",
       "      <td>1960</td>\n",
       "      <td>0</td>\n",
       "      <td>1996</td>\n",
       "      <td>...</td>\n",
       "      <td>0</td>\n",
       "      <td>0</td>\n",
       "      <td>1</td>\n",
       "      <td>1</td>\n",
       "      <td>0</td>\n",
       "      <td>1</td>\n",
       "      <td>1</td>\n",
       "      <td>1</td>\n",
       "      <td>1</td>\n",
       "      <td>1</td>\n",
       "    </tr>\n",
       "    <tr>\n",
       "      <th>1457</th>\n",
       "      <td>970</td>\n",
       "      <td>0.0</td>\n",
       "      <td>0.0</td>\n",
       "      <td>6</td>\n",
       "      <td>1</td>\n",
       "      <td>912.0</td>\n",
       "      <td>970</td>\n",
       "      <td>1992</td>\n",
       "      <td>1</td>\n",
       "      <td>1992</td>\n",
       "      <td>...</td>\n",
       "      <td>0</td>\n",
       "      <td>0</td>\n",
       "      <td>1</td>\n",
       "      <td>1</td>\n",
       "      <td>1</td>\n",
       "      <td>0</td>\n",
       "      <td>0</td>\n",
       "      <td>0</td>\n",
       "      <td>0</td>\n",
       "      <td>1</td>\n",
       "    </tr>\n",
       "    <tr>\n",
       "      <th>1458</th>\n",
       "      <td>2000</td>\n",
       "      <td>3.0</td>\n",
       "      <td>650.0</td>\n",
       "      <td>9</td>\n",
       "      <td>2</td>\n",
       "      <td>996.0</td>\n",
       "      <td>996</td>\n",
       "      <td>1993</td>\n",
       "      <td>1</td>\n",
       "      <td>1994</td>\n",
       "      <td>...</td>\n",
       "      <td>0</td>\n",
       "      <td>0</td>\n",
       "      <td>0</td>\n",
       "      <td>0</td>\n",
       "      <td>0</td>\n",
       "      <td>0</td>\n",
       "      <td>0</td>\n",
       "      <td>0</td>\n",
       "      <td>0</td>\n",
       "      <td>1</td>\n",
       "    </tr>\n",
       "  </tbody>\n",
       "</table>\n",
       "<p>1459 rows × 73 columns</p>\n",
       "</div>"
      ],
      "text/plain": [
       "      GrLivArea  GarageCars  GarageArea  TotRmsAbvGrd  FullBath  TotalBsmtSF  \\\n",
       "0           896         1.0       730.0             5         1        882.0   \n",
       "1          1329         1.0       312.0             6         1       1329.0   \n",
       "2          1629         2.0       482.0             6         2        928.0   \n",
       "3          1604         2.0       470.0             7         2        926.0   \n",
       "4          1280         2.0       506.0             5         2       1280.0   \n",
       "...         ...         ...         ...           ...       ...          ...   \n",
       "1454       1092         0.0         0.0             5         1        546.0   \n",
       "1455       1092         1.0       286.0             6         1        546.0   \n",
       "1456       1224         2.0       576.0             7         1       1224.0   \n",
       "1457        970         0.0         0.0             6         1        912.0   \n",
       "1458       2000         3.0       650.0             9         2        996.0   \n",
       "\n",
       "      1stFlrSF  YearBuilt  Foundation_PConc  YearRemodAdd  ...  OverallQual_4  \\\n",
       "0          896       1961                 0          1961  ...              0   \n",
       "1         1329       1958                 0          1958  ...              0   \n",
       "2          928       1997                 1          1998  ...              0   \n",
       "3          926       1998                 1          1998  ...              0   \n",
       "4         1280       1992                 1          1992  ...              0   \n",
       "...        ...        ...               ...           ...  ...            ...   \n",
       "1454       546       1970                 0          1970  ...              1   \n",
       "1455       546       1970                 0          1970  ...              1   \n",
       "1456      1224       1960                 0          1996  ...              0   \n",
       "1457       970       1992                 1          1992  ...              0   \n",
       "1458       996       1993                 1          1994  ...              0   \n",
       "\n",
       "      MSZoning_RM  MasVnrType_None  OverallQual_5  HeatingQC_TA  \\\n",
       "0               0                1              1             1   \n",
       "1               0                0              0             1   \n",
       "2               0                1              1             0   \n",
       "3               0                0              0             0   \n",
       "4               0                1              0             0   \n",
       "...           ...              ...            ...           ...   \n",
       "1454            1                1              0             0   \n",
       "1455            1                1              0             1   \n",
       "1456            0                1              1             0   \n",
       "1457            0                1              1             1   \n",
       "1458            0                0              0             0   \n",
       "\n",
       "      GarageType_Detchd  Foundation_CBlock  BsmtQual_TA  GarageFinish_Unf  \\\n",
       "0                     0                  1            1                 1   \n",
       "1                     0                  1            1                 1   \n",
       "2                     0                  0            0                 0   \n",
       "3                     0                  0            1                 0   \n",
       "4                     0                  0            0                 0   \n",
       "...                 ...                ...          ...               ...   \n",
       "1454                  0                  1            1                 0   \n",
       "1455                  0                  1            1                 1   \n",
       "1456                  1                  1            1                 1   \n",
       "1457                  0                  0            0                 0   \n",
       "1458                  0                  0            0                 0   \n",
       "\n",
       "      KitchenQual_TA  \n",
       "0                  1  \n",
       "1                  0  \n",
       "2                  1  \n",
       "3                  0  \n",
       "4                  0  \n",
       "...              ...  \n",
       "1454               1  \n",
       "1455               1  \n",
       "1456               1  \n",
       "1457               1  \n",
       "1458               1  \n",
       "\n",
       "[1459 rows x 73 columns]"
      ]
     },
     "execution_count": 64,
     "metadata": {},
     "output_type": "execute_result"
    }
   ],
   "source": [
    "# One Hot Encoding\n",
    "\n",
    "categorical = ['MSSubClass', 'MSZoning', 'Street', 'Alley', 'LotShape', 'LandContour', 'Utilities', 'LotConfig', 'LandSlope', 'Neighborhood', 'Condition1', 'Condition2', 'BldgType', 'HouseStyle', 'OverallQual', 'OverallCond', 'RoofStyle', 'RoofMatl', 'Exterior1st', 'Exterior2nd', 'MasVnrType', 'ExterQual', 'ExterCond','Foundation', 'BsmtQual', 'BsmtCond', 'BsmtExposure', 'BsmtFinType1', 'BsmtFinType2', 'Heating', 'HeatingQC', 'CentralAir', 'Electrical', 'KitchenQual', 'Functional', 'FireplaceQu', 'GarageType', 'GarageFinish', 'GarageQual', 'GarageCond', 'PavedDrive', 'PoolQC', 'Fence', 'MiscFeature', 'SaleType', 'SaleCondition']\n",
    "\n",
    "test = pd.get_dummies(test, columns= categorical, prefix= categorical)\n",
    "\n",
    "Id = test['Id']\n",
    "\n",
    "col = list(train1.columns)\n",
    "col.remove('SalePrice')\n",
    "col.remove('Id')\n",
    "test1 = test[col]\n",
    "test1"
   ]
  },
  {
   "cell_type": "code",
   "execution_count": 65,
   "id": "clean-ridge",
   "metadata": {
    "scrolled": true
   },
   "outputs": [
    {
     "name": "stdout",
     "output_type": "stream",
     "text": [
      "Continuous data with NA to be filled\n",
      "GarageCars\n",
      "GarageArea\n",
      "TotalBsmtSF\n",
      "GarageYrBlt\n",
      "MasVnrArea\n",
      "BsmtFinSF1\n",
      "BsmtUnfSF\n",
      "BsmtFullBath\n"
     ]
    },
    {
     "name": "stderr",
     "output_type": "stream",
     "text": [
      "C:\\Users\\tanji\\miniconda3\\envs\\CE9010_2021\\lib\\site-packages\\ipykernel_launcher.py:6: SettingWithCopyWarning: \n",
      "A value is trying to be set on a copy of a slice from a DataFrame.\n",
      "Try using .loc[row_indexer,col_indexer] = value instead\n",
      "\n",
      "See the caveats in the documentation: https://pandas.pydata.org/pandas-docs/stable/user_guide/indexing.html#returning-a-view-versus-a-copy\n",
      "  \n"
     ]
    }
   ],
   "source": [
    "print('Continuous data with NA to be filled')\n",
    "for index in test1:\n",
    "    if test1[index].isna().sum() != 0 :\n",
    "        print(index)\n",
    "        mean = test1[index].mean()\n",
    "        test1[index] = test1[index].fillna(mean)"
   ]
  },
  {
   "cell_type": "markdown",
   "id": "present-settlement",
   "metadata": {},
   "source": [
    "From the training data, we choose the best performing model:\n"
   ]
  },
  {
   "cell_type": "code",
   "execution_count": 66,
   "id": "viral-password",
   "metadata": {},
   "outputs": [
    {
     "data": {
      "text/plain": [
       "array([138681.33809087, 197751.01487559, 199885.96461899, ...,\n",
       "       203724.54435943, 110513.53391889, 245717.23278695])"
      ]
     },
     "execution_count": 66,
     "metadata": {},
     "output_type": "execute_result"
    }
   ],
   "source": [
    "# sklearn, LBFGS, on pre-processed data, random state = best state\n",
    "mlp = MLPRegressor(random_state=test_r2.index(max(test_r2)), solver='lbfgs', max_iter=10000, early_stopping=True)\n",
    "mlp.fit(train_X1, train_Y1)\n",
    "\n",
    "# make prediction on test\n",
    "pred = mlp.predict(test1)\n",
    "pred"
   ]
  },
  {
   "cell_type": "code",
   "execution_count": 67,
   "id": "medical-microphone",
   "metadata": {},
   "outputs": [],
   "source": [
    "submit = pd.DataFrame(columns=['SalePrice'], data=pred)\n",
    "submit.insert(0, 'Id', Id)\n",
    "submit.head()\n",
    "submit.to_csv('submit.csv', index=False)"
   ]
  },
  {
   "cell_type": "markdown",
   "id": "thorough-eleven",
   "metadata": {},
   "source": [
    "Kaggle score was 0.28088"
   ]
  },
  {
   "cell_type": "markdown",
   "id": "fantastic-scheme",
   "metadata": {},
   "source": [
    "[back to top](#top)"
   ]
  }
 ],
 "metadata": {
  "kernelspec": {
   "display_name": "Python 3",
   "language": "python",
   "name": "python3"
  },
  "language_info": {
   "codemirror_mode": {
    "name": "ipython",
    "version": 3
   },
   "file_extension": ".py",
   "mimetype": "text/x-python",
   "name": "python",
   "nbconvert_exporter": "python",
   "pygments_lexer": "ipython3",
   "version": "3.6.12"
  }
 },
 "nbformat": 4,
 "nbformat_minor": 5
}
