{
 "cells": [
  {
   "cell_type": "code",
   "execution_count": null,
   "metadata": {},
   "outputs": [],
   "source": [
    "# Basic Libraries\n",
    "import numpy as np\n",
    "import pandas as pd\n",
    "import seaborn as sb\n",
    "import matplotlib.pyplot as plt # we only need pyplot\n",
    "sb.set() # set the default Seaborn style for graphics\n",
    "from scipy import stats\n",
    "import math\n",
    "from sklearn.metrics import mean_squared_error, mean_absolute_error\n",
    "from statistics import mean, median, mode, stdev\n",
    "from sklearn import preprocessing\n",
    "from sklearn.preprocessing import OneHotEncoder\n",
    "from sklearn.model_selection import train_test_split\n",
    "from sklearn.preprocessing import StandardScaler\n",
    "from sklearn.svm import SVR\n",
    "from sklearn.pipeline import make_pipeline\n",
    "from sklearn.preprocessing import PolynomialFeatures\n",
    "from scipy.optimize import minimize\n",
    "from sklearn.model_selection import KFold\n",
    "\n",
    "from sklearn.metrics import r2_score, mean_squared_error"
   ]
  },
  {
   "cell_type": "code",
   "execution_count": null,
   "metadata": {},
   "outputs": [],
   "source": [
    "import tensorflow as tf\n",
    "from tensorflow import keras\n",
    "from tensorflow.keras import layers"
   ]
  },
  {
   "cell_type": "markdown",
   "metadata": {},
   "source": [
    "## Import dataset"
   ]
  },
  {
   "cell_type": "code",
   "execution_count": null,
   "metadata": {},
   "outputs": [],
   "source": [
    "train = pd.read_csv('train.csv')"
   ]
  },
  {
   "cell_type": "markdown",
   "metadata": {},
   "source": [
    "Cleaning null + OHE"
   ]
  },
  {
   "cell_type": "code",
   "execution_count": null,
   "metadata": {
    "scrolled": true
   },
   "outputs": [],
   "source": [
    "nullData = [['LotFrontage', 259], ['MasVnrArea', 8], ['Electrical', 1], ['GarageYrBlt', 81]]\n",
    "n = len(train)\n",
    "treshold = 0.1\n",
    "drop = []\n",
    "\n",
    "print('Drop feature - too many nulls:')\n",
    "for i in nullData:\n",
    "    if i[1]/n > treshold: # Arbitrary treshold: 10%\n",
    "        print(i[0])\n",
    "        train.drop(columns=[i[0]], inplace=True)\n",
    "    else:\n",
    "        drop.append(i[0])\n",
    "        \n",
    "print('Remove data point:')\n",
    "print(drop)\n",
    "train.dropna(subset=drop, inplace=True)"
   ]
  },
  {
   "cell_type": "code",
   "execution_count": null,
   "metadata": {},
   "outputs": [],
   "source": [
    "#One-Hot encoding\n",
    "categoricalcolumns = ['MSSubClass', 'MSZoning', 'Street', 'Alley', 'LotShape', 'LandContour', 'Utilities', 'LotConfig', 'LandSlope', 'Neighborhood', 'Condition1', 'Condition2', 'BldgType', 'HouseStyle', 'OverallQual', 'OverallCond', 'RoofStyle', 'RoofMatl', 'Exterior1st', 'Exterior2nd', 'MasVnrType', 'ExterQual', 'ExterCond','Foundation', 'BsmtQual', 'BsmtCond', 'BsmtExposure', 'BsmtFinType1', 'BsmtFinType2', 'Heating', 'HeatingQC', 'CentralAir', 'Electrical', 'KitchenQual', 'Functional', 'FireplaceQu', 'GarageType', 'GarageFinish', 'GarageQual', 'GarageCond', 'PavedDrive', 'PoolQC', 'Fence', 'MiscFeature', 'SaleType', 'SaleCondition']\n",
    "train0 = pd.get_dummies(train, columns= categoricalcolumns, prefix= categoricalcolumns)"
   ]
  },
  {
   "cell_type": "code",
   "execution_count": null,
   "metadata": {},
   "outputs": [],
   "source": [
    "y = train0['SalePrice']\n",
    "X = train0.drop(['Id', 'SalePrice'], axis=1)\n",
    "\n",
    "train_X0, test_X0, train_Y0, test_Y0 = train_test_split(X,y,test_size=0.2, random_state=0)"
   ]
  },
  {
   "cell_type": "code",
   "execution_count": null,
   "metadata": {},
   "outputs": [],
   "source": []
  },
  {
   "cell_type": "markdown",
   "metadata": {},
   "source": [
    "## Adam\n",
    "note: Nadam, adamax, and ftrl give better scores than adam for bare set <br>\n",
    "nadam was the best so i only kept that\n"
   ]
  },
  {
   "cell_type": "code",
   "execution_count": null,
   "metadata": {},
   "outputs": [],
   "source": [
    "model = tf.keras.models.Sequential()\n",
    "model.add(tf.keras.Input(shape=(train_X0.shape[1])))\n",
    "model.add(tf.keras.layers.Dense(1, activation='relu'))\n",
    "opt = keras.optimizers.Adam()\n",
    "model.compile(opt, loss='mse')\n",
    "model.fit(train_X0, train_Y0)"
   ]
  },
  {
   "cell_type": "code",
   "execution_count": null,
   "metadata": {},
   "outputs": [],
   "source": [
    "y_pred = model.predict(train_X0)\n",
    "print('Train mse loss\\t:', mean_squared_error(train_Y0, np.squeeze(y_pred)))\n",
    "print('Train R2 score\\t:', r2_score(train_Y0, np.squeeze(y_pred)))\n",
    "\n",
    "y_pred = model.predict(test_X0)\n",
    "print('Test mse loss\\t:', mean_squared_error(test_Y0, np.squeeze(y_pred)))\n",
    "print('Test R2 score\\t:', r2_score(test_Y0, np.squeeze(y_pred)))"
   ]
  },
  {
   "cell_type": "code",
   "execution_count": null,
   "metadata": {},
   "outputs": [],
   "source": []
  },
  {
   "cell_type": "markdown",
   "metadata": {},
   "source": [
    "## Nadam"
   ]
  },
  {
   "cell_type": "code",
   "execution_count": null,
   "metadata": {},
   "outputs": [],
   "source": [
    "model = tf.keras.models.Sequential()\n",
    "model.add(tf.keras.Input(shape=(train_X0.shape[1])))\n",
    "model.add(tf.keras.layers.Dense(1, activation='relu'))\n",
    "opt = keras.optimizers.Nadam()\n",
    "model.compile(opt, loss='mse')\n",
    "model.fit(train_X0, train_Y0)"
   ]
  },
  {
   "cell_type": "code",
   "execution_count": null,
   "metadata": {},
   "outputs": [],
   "source": [
    "y_pred = model.predict(train_X0)\n",
    "print('Train mse loss\\t:', mean_squared_error(train_Y0, np.squeeze(y_pred)))\n",
    "print('Train R2 score\\t:', r2_score(train_Y0, np.squeeze(y_pred)))\n",
    "\n",
    "y_pred = model.predict(test_X0)\n",
    "print('Test mse loss\\t:', mean_squared_error(test_Y0, np.squeeze(y_pred)))\n",
    "print('Test R2 score\\t:', r2_score(test_Y0, np.squeeze(y_pred)))"
   ]
  },
  {
   "cell_type": "code",
   "execution_count": null,
   "metadata": {},
   "outputs": [],
   "source": []
  },
  {
   "cell_type": "markdown",
   "metadata": {},
   "source": [
    "### Try fit to quadratic curve"
   ]
  },
  {
   "cell_type": "code",
   "execution_count": null,
   "metadata": {},
   "outputs": [],
   "source": [
    "# data features\n",
    "d = 2\n",
    "poly = PolynomialFeatures(d)\n",
    "train_X0_2 = poly.fit_transform(train_X0)\n",
    "test_X0_2 = poly.fit_transform(test_X0)"
   ]
  },
  {
   "cell_type": "code",
   "execution_count": null,
   "metadata": {},
   "outputs": [],
   "source": [
    "model = tf.keras.models.Sequential()\n",
    "model.add(tf.keras.Input(shape=(train_X0_2.shape[1])))\n",
    "model.add(tf.keras.layers.Dense(1, activation='relu'))\n",
    "opt = keras.optimizers.Adam()\n",
    "model.compile(opt, loss='mse')\n",
    "model.fit(train_X0_2, train_Y0)\n",
    "\n",
    "y_pred = model.predict(train_X0_2)\n",
    "print('Train mse loss\\t:', mean_squared_error(train_Y0, np.squeeze(y_pred)))\n",
    "print('Train R2 score\\t:', r2_score(train_Y0, np.squeeze(y_pred)))\n",
    "\n",
    "y_pred = model.predict(test_X0_2)\n",
    "print('Test mse loss\\t:', mean_squared_error(test_Y0, np.squeeze(y_pred)))\n",
    "print('Test R2 score\\t:', r2_score(test_Y0, np.squeeze(y_pred)))"
   ]
  },
  {
   "cell_type": "code",
   "execution_count": null,
   "metadata": {},
   "outputs": [],
   "source": []
  },
  {
   "cell_type": "markdown",
   "metadata": {},
   "source": [
    "## Try with pre-processing"
   ]
  },
  {
   "cell_type": "markdown",
   "metadata": {},
   "source": [
    "### train_ONE"
   ]
  },
  {
   "cell_type": "code",
   "execution_count": null,
   "metadata": {},
   "outputs": [],
   "source": [
    "train1 = pd.read_csv('train_ONE.csv')\n",
    "\n",
    "y = train1['SalePrice']\n",
    "X = train1.drop(['Id', 'SalePrice'], axis=1)\n",
    "\n",
    "train_X1, test_X1, train_Y1, test_Y1 = train_test_split(X,y,test_size=0.2, random_state=0)"
   ]
  },
  {
   "cell_type": "code",
   "execution_count": null,
   "metadata": {},
   "outputs": [],
   "source": [
    "model = tf.keras.models.Sequential()\n",
    "model.add(tf.keras.Input(shape=(train_X1.shape[1])))\n",
    "model.add(tf.keras.layers.Dense(1, activation='relu'))\n",
    "opt = keras.optimizers.Adam()\n",
    "model.compile(opt, loss='mse')\n",
    "model.fit(train_X1, train_Y1)"
   ]
  },
  {
   "cell_type": "code",
   "execution_count": null,
   "metadata": {},
   "outputs": [],
   "source": [
    "y_pred = model.predict(train_X1)\n",
    "print('Train mse loss\\t:', mean_squared_error(train_Y1, np.squeeze(y_pred)))\n",
    "print('Train R2 score\\t:', r2_score(train_Y1, np.squeeze(y_pred)))\n",
    "\n",
    "y_pred = model.predict(test_X1)\n",
    "print('Test mse loss\\t:', mean_squared_error(test_Y1, np.squeeze(y_pred)))\n",
    "print('Test R2 score\\t:', r2_score(test_Y1, np.squeeze(y_pred)))"
   ]
  },
  {
   "cell_type": "code",
   "execution_count": null,
   "metadata": {},
   "outputs": [],
   "source": []
  },
  {
   "cell_type": "markdown",
   "metadata": {},
   "source": [
    "### train_TWO"
   ]
  },
  {
   "cell_type": "code",
   "execution_count": null,
   "metadata": {},
   "outputs": [],
   "source": [
    "train2 = pd.read_csv('train_TWO.csv')\n",
    "\n",
    "y = train2['SalePrice']\n",
    "X = train2.drop(['Id', 'SalePrice'], axis=1)\n",
    "\n",
    "train_X2, test_X2, train_Y2, test_Y2 = train_test_split(X,y,test_size=0.2, random_state=0)"
   ]
  },
  {
   "cell_type": "code",
   "execution_count": null,
   "metadata": {},
   "outputs": [],
   "source": [
    "model = tf.keras.models.Sequential()\n",
    "model.add(tf.keras.Input(shape=(train_X2.shape[1])))\n",
    "model.add(tf.keras.layers.Dense(1, activation='relu'))\n",
    "opt = keras.optimizers.Adam()\n",
    "model.compile(opt, loss='mse')\n",
    "model.fit(train_X2, train_Y2)"
   ]
  },
  {
   "cell_type": "code",
   "execution_count": null,
   "metadata": {},
   "outputs": [],
   "source": [
    "y_pred = model.predict(train_X2)\n",
    "print('Train mse loss\\t:', mean_squared_error(train_Y2, np.squeeze(y_pred)))\n",
    "print('Train R2 score\\t:', r2_score(train_Y2, np.squeeze(y_pred)))\n",
    "\n",
    "y_pred = model.predict(test_X2)\n",
    "print('Test mse loss\\t:', mean_squared_error(test_Y2, np.squeeze(y_pred)))\n",
    "print('Test R2 score\\t:', r2_score(test_Y2, np.squeeze(y_pred)))"
   ]
  },
  {
   "cell_type": "code",
   "execution_count": null,
   "metadata": {},
   "outputs": [],
   "source": []
  },
  {
   "cell_type": "markdown",
   "metadata": {},
   "source": [
    "### train_THREE"
   ]
  },
  {
   "cell_type": "code",
   "execution_count": null,
   "metadata": {},
   "outputs": [],
   "source": [
    "train3 = pd.read_csv('train_ONE.csv')\n",
    "\n",
    "y = train3['SalePrice']\n",
    "X = train3.drop(['Id', 'SalePrice'], axis=1)\n",
    "\n",
    "train_X3, test_X3, train_Y3, test_Y3 = train_test_split(X,y,test_size=0.2, random_state=0)"
   ]
  },
  {
   "cell_type": "code",
   "execution_count": null,
   "metadata": {},
   "outputs": [],
   "source": [
    "model = tf.keras.models.Sequential()\n",
    "model.add(tf.keras.Input(shape=(train_X3.shape[1])))\n",
    "model.add(tf.keras.layers.Dense(1, activation='relu'))\n",
    "opt = keras.optimizers.Adam()\n",
    "model.compile(opt, loss='mse')\n",
    "model.fit(train_X3, train_Y3)"
   ]
  },
  {
   "cell_type": "code",
   "execution_count": null,
   "metadata": {},
   "outputs": [],
   "source": [
    "y_pred = model.predict(train_X3)\n",
    "print('Train mse loss\\t:', mean_squared_error(train_Y3, np.squeeze(y_pred)))\n",
    "print('Train R2 score\\t:', r2_score(train_Y3, np.squeeze(y_pred)))\n",
    "\n",
    "y_pred = model.predict(test_X3)\n",
    "print('Test mse loss\\t:', mean_squared_error(test_Y3, np.squeeze(y_pred)))\n",
    "print('Test R2 score\\t:', r2_score(test_Y3, np.squeeze(y_pred)))"
   ]
  },
  {
   "cell_type": "code",
   "execution_count": null,
   "metadata": {},
   "outputs": [],
   "source": []
  },
  {
   "cell_type": "markdown",
   "metadata": {},
   "source": [
    "### train_FOUR"
   ]
  },
  {
   "cell_type": "code",
   "execution_count": null,
   "metadata": {},
   "outputs": [],
   "source": [
    "train4 = pd.read_csv('train_ONE.csv')\n",
    "\n",
    "y = train4['SalePrice']\n",
    "X = train4.drop(['Id', 'SalePrice'], axis=1)\n",
    "\n",
    "train_X4, test_X4, train_Y4, test_Y4 = train_test_split(X,y,test_size=0.2, random_state=0)"
   ]
  },
  {
   "cell_type": "code",
   "execution_count": null,
   "metadata": {},
   "outputs": [],
   "source": [
    "model = tf.keras.models.Sequential()\n",
    "model.add(tf.keras.Input(shape=(train_X4.shape[1])))\n",
    "model.add(tf.keras.layers.Dense(1, activation='relu'))\n",
    "opt = keras.optimizers.Adam()\n",
    "model.compile(opt, loss='mse')\n",
    "model.fit(train_X4, train_Y4)"
   ]
  },
  {
   "cell_type": "code",
   "execution_count": null,
   "metadata": {},
   "outputs": [],
   "source": [
    "y_pred = model.predict(train_X4)\n",
    "print('Train mse loss\\t:', mean_squared_error(train_Y4, np.squeeze(y_pred)))\n",
    "print('Train R2 score\\t:', r2_score(train_Y4, np.squeeze(y_pred)))\n",
    "\n",
    "y_pred = model.predict(test_X4)\n",
    "print('Test mse loss\\t:', mean_squared_error(test_Y4, np.squeeze(y_pred)))\n",
    "print('Test R2 score\\t:', r2_score(test_Y4, np.squeeze(y_pred)))"
   ]
  },
  {
   "cell_type": "code",
   "execution_count": null,
   "metadata": {},
   "outputs": [],
   "source": []
  },
  {
   "cell_type": "code",
   "execution_count": null,
   "metadata": {},
   "outputs": [],
   "source": []
  }
 ],
 "metadata": {
  "kernelspec": {
   "display_name": "Python 3",
   "language": "python",
   "name": "python3"
  },
  "language_info": {
   "codemirror_mode": {
    "name": "ipython",
    "version": 3
   },
   "file_extension": ".py",
   "mimetype": "text/x-python",
   "name": "python",
   "nbconvert_exporter": "python",
   "pygments_lexer": "ipython3",
   "version": "3.7.6"
  }
 },
 "nbformat": 4,
 "nbformat_minor": 4
}
