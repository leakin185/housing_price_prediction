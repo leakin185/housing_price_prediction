{
 "cells": [
  {
   "cell_type": "code",
   "execution_count": 1,
   "metadata": {},
   "outputs": [],
   "source": [
    "# Basic Libraries\n",
    "import numpy as np\n",
    "import pandas as pd\n",
    "import seaborn as sb\n",
    "import matplotlib.pyplot as plt # we only need pyplot\n",
    "sb.set() # set the default Seaborn style for graphics\n",
    "from scipy import stats\n",
    "import math\n",
    "from sklearn.metrics import mean_squared_error, mean_absolute_error, r2_score\n",
    "from statistics import mean, median, mode, stdev\n",
    "from sklearn import preprocessing\n",
    "from sklearn.preprocessing import OneHotEncoder\n",
    "from sklearn.model_selection import train_test_split\n",
    "from sklearn.preprocessing import StandardScaler\n",
    "from sklearn.svm import SVR\n",
    "from sklearn.pipeline import make_pipeline\n",
    "from sklearn.preprocessing import PolynomialFeatures\n",
    "from scipy.optimize import minimize\n",
    "from sklearn.model_selection import KFold\n",
    "\n",
    "from sklearn.neural_network import MLPRegressor"
   ]
  },
  {
   "cell_type": "code",
   "execution_count": null,
   "metadata": {},
   "outputs": [],
   "source": [
    "import tensorflow as tf\n",
    "from tensorflow import keras\n",
    "from tensorflow.keras import layers"
   ]
  },
  {
   "cell_type": "markdown",
   "metadata": {},
   "source": [
    "## Import dataset"
   ]
  },
  {
   "cell_type": "code",
   "execution_count": 2,
   "metadata": {},
   "outputs": [],
   "source": [
    "train = pd.read_csv('train.csv')"
   ]
  },
  {
   "cell_type": "markdown",
   "metadata": {},
   "source": [
    "Cleaning null + OHE"
   ]
  },
  {
   "cell_type": "code",
   "execution_count": 3,
   "metadata": {
    "scrolled": true
   },
   "outputs": [
    {
     "name": "stdout",
     "output_type": "stream",
     "text": [
      "Drop feature - too many nulls:\n",
      "LotFrontage\n",
      "Remove data point:\n",
      "['MasVnrArea', 'Electrical', 'GarageYrBlt']\n"
     ]
    }
   ],
   "source": [
    "nullData = [['LotFrontage', 259], ['MasVnrArea', 8], ['Electrical', 1], ['GarageYrBlt', 81]]\n",
    "n = len(train)\n",
    "treshold = 0.1\n",
    "drop = []\n",
    "\n",
    "print('Drop feature - too many nulls:')\n",
    "for i in nullData:\n",
    "    if i[1]/n > treshold: # Arbitrary treshold: 10%\n",
    "        print(i[0])\n",
    "        train.drop(columns=[i[0]], inplace=True)\n",
    "    else:\n",
    "        drop.append(i[0])\n",
    "        \n",
    "print('Remove data point:')\n",
    "print(drop)\n",
    "train.dropna(subset=drop, inplace=True)"
   ]
  },
  {
   "cell_type": "code",
   "execution_count": 4,
   "metadata": {},
   "outputs": [],
   "source": [
    "#One-Hot encoding\n",
    "categoricalcolumns = ['MSSubClass', 'MSZoning', 'Street', 'Alley', 'LotShape', 'LandContour', 'Utilities', 'LotConfig', 'LandSlope', 'Neighborhood', 'Condition1', 'Condition2', 'BldgType', 'HouseStyle', 'OverallQual', 'OverallCond', 'RoofStyle', 'RoofMatl', 'Exterior1st', 'Exterior2nd', 'MasVnrType', 'ExterQual', 'ExterCond','Foundation', 'BsmtQual', 'BsmtCond', 'BsmtExposure', 'BsmtFinType1', 'BsmtFinType2', 'Heating', 'HeatingQC', 'CentralAir', 'Electrical', 'KitchenQual', 'Functional', 'FireplaceQu', 'GarageType', 'GarageFinish', 'GarageQual', 'GarageCond', 'PavedDrive', 'PoolQC', 'Fence', 'MiscFeature', 'SaleType', 'SaleCondition']\n",
    "train0 = pd.get_dummies(train, columns= categoricalcolumns, prefix= categoricalcolumns)"
   ]
  },
  {
   "cell_type": "code",
   "execution_count": 5,
   "metadata": {},
   "outputs": [],
   "source": [
    "y = train0['SalePrice']\n",
    "X = train0.drop(['Id', 'SalePrice'], axis=1)\n",
    "\n",
    "train_X0, test_X0, train_Y0, test_Y0 = train_test_split(X,y,test_size=0.2, random_state=0)"
   ]
  },
  {
   "cell_type": "code",
   "execution_count": null,
   "metadata": {},
   "outputs": [],
   "source": []
  },
  {
   "cell_type": "markdown",
   "metadata": {},
   "source": [
    "## Adam\n",
    "note: Nadam, adamax, and ftrl give better scores than adam for bare set <br>\n",
    "nadam was the best so i only kept that\n"
   ]
  },
  {
   "cell_type": "code",
   "execution_count": null,
   "metadata": {},
   "outputs": [],
   "source": [
    "model = tf.keras.models.Sequential()\n",
    "model.add(tf.keras.Input(shape=(train_X0.shape[1])))\n",
    "model.add(tf.keras.layers.Dense(1, activation='relu'))\n",
    "opt = keras.optimizers.Adam()\n",
    "model.compile(opt, loss='mse')\n",
    "model.fit(train_X0, train_Y0)"
   ]
  },
  {
   "cell_type": "code",
   "execution_count": null,
   "metadata": {},
   "outputs": [],
   "source": [
    "y_pred = model.predict(train_X0)\n",
    "print('Train mse loss\\t:', mean_squared_error(train_Y0, np.squeeze(y_pred)))\n",
    "print('Train R2 score\\t:', r2_score(train_Y0, np.squeeze(y_pred)))\n",
    "\n",
    "y_pred = model.predict(test_X0)\n",
    "print('Test mse loss\\t:', mean_squared_error(test_Y0, np.squeeze(y_pred)))\n",
    "print('Test R2 score\\t:', r2_score(test_Y0, np.squeeze(y_pred)))"
   ]
  },
  {
   "cell_type": "code",
   "execution_count": null,
   "metadata": {},
   "outputs": [],
   "source": []
  },
  {
   "cell_type": "markdown",
   "metadata": {},
   "source": [
    "## Nadam"
   ]
  },
  {
   "cell_type": "code",
   "execution_count": null,
   "metadata": {},
   "outputs": [],
   "source": [
    "model = tf.keras.models.Sequential()\n",
    "model.add(tf.keras.Input(shape=(train_X0.shape[1])))\n",
    "model.add(tf.keras.layers.Dense(1, activation='relu'))\n",
    "opt = keras.optimizers.Nadam()\n",
    "model.compile(opt, loss='mse')\n",
    "model.fit(train_X0, train_Y0)"
   ]
  },
  {
   "cell_type": "code",
   "execution_count": null,
   "metadata": {},
   "outputs": [],
   "source": [
    "y_pred = model.predict(train_X0)\n",
    "print('Train mse loss\\t:', mean_squared_error(train_Y0, np.squeeze(y_pred)))\n",
    "print('Train R2 score\\t:', r2_score(train_Y0, np.squeeze(y_pred)))\n",
    "\n",
    "y_pred = model.predict(test_X0)\n",
    "print('Test mse loss\\t:', mean_squared_error(test_Y0, np.squeeze(y_pred)))\n",
    "print('Test R2 score\\t:', r2_score(test_Y0, np.squeeze(y_pred)))"
   ]
  },
  {
   "cell_type": "code",
   "execution_count": null,
   "metadata": {},
   "outputs": [],
   "source": []
  },
  {
   "cell_type": "markdown",
   "metadata": {},
   "source": [
    "### Try fit to quadratic curve"
   ]
  },
  {
   "cell_type": "code",
   "execution_count": null,
   "metadata": {},
   "outputs": [],
   "source": [
    "# data features\n",
    "d = 2\n",
    "poly = PolynomialFeatures(d)\n",
    "train_X0_2 = poly.fit_transform(train_X0)\n",
    "test_X0_2 = poly.fit_transform(test_X0)"
   ]
  },
  {
   "cell_type": "code",
   "execution_count": null,
   "metadata": {},
   "outputs": [],
   "source": [
    "model = tf.keras.models.Sequential()\n",
    "model.add(tf.keras.Input(shape=(train_X0_2.shape[1])))\n",
    "model.add(tf.keras.layers.Dense(1, activation='relu'))\n",
    "opt = keras.optimizers.Adam()\n",
    "model.compile(opt, loss='mse')\n",
    "model.fit(train_X0_2, train_Y0)\n",
    "\n",
    "y_pred = model.predict(train_X0_2)\n",
    "print('Train mse loss\\t:', mean_squared_error(train_Y0, np.squeeze(y_pred)))\n",
    "print('Train R2 score\\t:', r2_score(train_Y0, np.squeeze(y_pred)))\n",
    "\n",
    "y_pred = model.predict(test_X0_2)\n",
    "print('Test mse loss\\t:', mean_squared_error(test_Y0, np.squeeze(y_pred)))\n",
    "print('Test R2 score\\t:', r2_score(test_Y0, np.squeeze(y_pred)))"
   ]
  },
  {
   "cell_type": "code",
   "execution_count": null,
   "metadata": {},
   "outputs": [],
   "source": []
  },
  {
   "cell_type": "markdown",
   "metadata": {},
   "source": [
    "## Try with pre-processing"
   ]
  },
  {
   "cell_type": "markdown",
   "metadata": {},
   "source": [
    "### train_ONE"
   ]
  },
  {
   "cell_type": "code",
   "execution_count": 6,
   "metadata": {},
   "outputs": [],
   "source": [
    "train1 = pd.read_csv('train_ONE.csv')\n",
    "\n",
    "y = train1['SalePrice']\n",
    "X = train1.drop(['Id', 'SalePrice'], axis=1)\n",
    "\n",
    "train_X1, test_X1, train_Y1, test_Y1 = train_test_split(X,y,test_size=0.2, random_state=0)"
   ]
  },
  {
   "cell_type": "code",
   "execution_count": null,
   "metadata": {},
   "outputs": [],
   "source": [
    "model = tf.keras.models.Sequential()\n",
    "model.add(tf.keras.Input(shape=(train_X1.shape[1])))\n",
    "model.add(tf.keras.layers.Dense(1, activation='relu'))\n",
    "opt = keras.optimizers.Adam()\n",
    "model.compile(opt, loss='mse')\n",
    "model.fit(train_X1, train_Y1)"
   ]
  },
  {
   "cell_type": "code",
   "execution_count": null,
   "metadata": {},
   "outputs": [],
   "source": [
    "y_pred = model.predict(train_X1)\n",
    "print('Train mse loss\\t:', mean_squared_error(train_Y1, np.squeeze(y_pred)))\n",
    "print('Train R2 score\\t:', r2_score(train_Y1, np.squeeze(y_pred)))\n",
    "\n",
    "y_pred = model.predict(test_X1)\n",
    "print('Test mse loss\\t:', mean_squared_error(test_Y1, np.squeeze(y_pred)))\n",
    "print('Test R2 score\\t:', r2_score(test_Y1, np.squeeze(y_pred)))"
   ]
  },
  {
   "cell_type": "code",
   "execution_count": null,
   "metadata": {},
   "outputs": [],
   "source": []
  },
  {
   "cell_type": "markdown",
   "metadata": {},
   "source": [
    "### train_TWO"
   ]
  },
  {
   "cell_type": "code",
   "execution_count": 7,
   "metadata": {},
   "outputs": [],
   "source": [
    "train2 = pd.read_csv('train_TWO.csv')\n",
    "\n",
    "y = train2['SalePrice']\n",
    "X = train2.drop(['Id', 'SalePrice'], axis=1)\n",
    "\n",
    "train_X2, test_X2, train_Y2, test_Y2 = train_test_split(X,y,test_size=0.2, random_state=0)"
   ]
  },
  {
   "cell_type": "code",
   "execution_count": null,
   "metadata": {},
   "outputs": [],
   "source": [
    "model = tf.keras.models.Sequential()\n",
    "model.add(tf.keras.Input(shape=(train_X2.shape[1])))\n",
    "model.add(tf.keras.layers.Dense(1, activation='relu'))\n",
    "opt = keras.optimizers.Adam()\n",
    "model.compile(opt, loss='mse')\n",
    "model.fit(train_X2, train_Y2)"
   ]
  },
  {
   "cell_type": "code",
   "execution_count": null,
   "metadata": {},
   "outputs": [],
   "source": [
    "y_pred = model.predict(train_X2)\n",
    "print('Train mse loss\\t:', mean_squared_error(train_Y2, np.squeeze(y_pred)))\n",
    "print('Train R2 score\\t:', r2_score(train_Y2, np.squeeze(y_pred)))\n",
    "\n",
    "y_pred = model.predict(test_X2)\n",
    "print('Test mse loss\\t:', mean_squared_error(test_Y2, np.squeeze(y_pred)))\n",
    "print('Test R2 score\\t:', r2_score(test_Y2, np.squeeze(y_pred)))"
   ]
  },
  {
   "cell_type": "code",
   "execution_count": null,
   "metadata": {},
   "outputs": [],
   "source": []
  },
  {
   "cell_type": "markdown",
   "metadata": {},
   "source": [
    "### train_THREE"
   ]
  },
  {
   "cell_type": "code",
   "execution_count": 12,
   "metadata": {},
   "outputs": [],
   "source": [
    "train3 = pd.read_csv('train_ONE.csv')\n",
    "\n",
    "y = train3['SalePrice']\n",
    "X = train3.drop(['Id', 'SalePrice'], axis=1)\n",
    "\n",
    "train_X3, test_X3, train_Y3, test_Y3 = train_test_split(X,y,test_size=0.2, random_state=0)"
   ]
  },
  {
   "cell_type": "code",
   "execution_count": null,
   "metadata": {},
   "outputs": [],
   "source": [
    "model = tf.keras.models.Sequential()\n",
    "model.add(tf.keras.Input(shape=(train_X3.shape[1])))\n",
    "model.add(tf.keras.layers.Dense(1, activation='relu'))\n",
    "opt = keras.optimizers.Adam()\n",
    "model.compile(opt, loss='mse')\n",
    "model.fit(train_X3, train_Y3)"
   ]
  },
  {
   "cell_type": "code",
   "execution_count": null,
   "metadata": {},
   "outputs": [],
   "source": [
    "y_pred = model.predict(train_X3)\n",
    "print('Train mse loss\\t:', mean_squared_error(train_Y3, np.squeeze(y_pred)))\n",
    "print('Train R2 score\\t:', r2_score(train_Y3, np.squeeze(y_pred)))\n",
    "\n",
    "y_pred = model.predict(test_X3)\n",
    "print('Test mse loss\\t:', mean_squared_error(test_Y3, np.squeeze(y_pred)))\n",
    "print('Test R2 score\\t:', r2_score(test_Y3, np.squeeze(y_pred)))"
   ]
  },
  {
   "cell_type": "code",
   "execution_count": null,
   "metadata": {},
   "outputs": [],
   "source": []
  },
  {
   "cell_type": "markdown",
   "metadata": {},
   "source": [
    "### train_FOUR"
   ]
  },
  {
   "cell_type": "code",
   "execution_count": 8,
   "metadata": {},
   "outputs": [],
   "source": [
    "train4 = pd.read_csv('train_ONE.csv')\n",
    "\n",
    "y = train4['SalePrice']\n",
    "X = train4.drop(['Id', 'SalePrice'], axis=1)\n",
    "\n",
    "train_X4, test_X4, train_Y4, test_Y4 = train_test_split(X,y,test_size=0.2, random_state=0)"
   ]
  },
  {
   "cell_type": "code",
   "execution_count": null,
   "metadata": {},
   "outputs": [],
   "source": [
    "model = tf.keras.models.Sequential()\n",
    "model.add(tf.keras.Input(shape=(train_X4.shape[1])))\n",
    "model.add(tf.keras.layers.Dense(1, activation='relu'))\n",
    "opt = keras.optimizers.Adam()\n",
    "model.compile(opt, loss='mse')\n",
    "model.fit(train_X4, train_Y4)"
   ]
  },
  {
   "cell_type": "code",
   "execution_count": null,
   "metadata": {},
   "outputs": [],
   "source": [
    "y_pred = model.predict(train_X4)\n",
    "print('Train mse loss\\t:', mean_squared_error(train_Y4, np.squeeze(y_pred)))\n",
    "print('Train R2 score\\t:', r2_score(train_Y4, np.squeeze(y_pred)))\n",
    "\n",
    "y_pred = model.predict(test_X4)\n",
    "print('Test mse loss\\t:', mean_squared_error(test_Y4, np.squeeze(y_pred)))\n",
    "print('Test R2 score\\t:', r2_score(test_Y4, np.squeeze(y_pred)))"
   ]
  },
  {
   "cell_type": "code",
   "execution_count": null,
   "metadata": {},
   "outputs": [],
   "source": []
  },
  {
   "cell_type": "markdown",
   "metadata": {},
   "source": [
    "## sklearn.neural_network.MLPRegressor"
   ]
  },
  {
   "cell_type": "markdown",
   "metadata": {},
   "source": [
    "### adam"
   ]
  },
  {
   "cell_type": "code",
   "execution_count": 9,
   "metadata": {},
   "outputs": [
    {
     "name": "stdout",
     "output_type": "stream",
     "text": [
      "Random state = 0 Train R2 = 0.7295460469776351 Test R2 = 0.45046427765185615\n",
      "Random state = 1 Train R2 = 0.7277783756888094 Test R2 = 0.48091148271190154\n",
      "Random state = 2 Train R2 = 0.6953451716997927 Test R2 = 0.5174298602736237\n",
      "Random state = 3 Train R2 = 0.7262295211694022 Test R2 = 0.49965730564788113\n",
      "Random state = 4 Train R2 = 0.7322077171278982 Test R2 = 0.500123428134436\n",
      "Random state = 5 Train R2 = -0.33102801775673885 Test R2 = -0.38831696502427127\n"
     ]
    },
    {
     "name": "stderr",
     "output_type": "stream",
     "text": [
      "C:\\Users\\jamie\\anaconda3\\lib\\site-packages\\sklearn\\neural_network\\_multilayer_perceptron.py:571: ConvergenceWarning: Stochastic Optimizer: Maximum iterations (1000) reached and the optimization hasn't converged yet.\n",
      "  % self.max_iter, ConvergenceWarning)\n"
     ]
    },
    {
     "name": "stdout",
     "output_type": "stream",
     "text": [
      "Random state = 6 Train R2 = 0.7569073334274237 Test R2 = 0.461798306866935\n",
      "Random state = 7 Train R2 = 0.7242219904256835 Test R2 = 0.47975200950713603\n"
     ]
    },
    {
     "name": "stderr",
     "output_type": "stream",
     "text": [
      "C:\\Users\\jamie\\anaconda3\\lib\\site-packages\\sklearn\\neural_network\\_multilayer_perceptron.py:571: ConvergenceWarning: Stochastic Optimizer: Maximum iterations (1000) reached and the optimization hasn't converged yet.\n",
      "  % self.max_iter, ConvergenceWarning)\n"
     ]
    },
    {
     "name": "stdout",
     "output_type": "stream",
     "text": [
      "Random state = 8 Train R2 = 0.7542678051177171 Test R2 = 0.4134154892439431\n",
      "Random state = 9 Train R2 = 0.7320497456435788 Test R2 = 0.518487655953835\n"
     ]
    }
   ],
   "source": [
    "# adam\n",
    "# bare dataset\n",
    "\n",
    "for i in range(10):\n",
    "    mlp = MLPRegressor(random_state=i, solver='adam', max_iter=1000, early_stopping=True)\n",
    "    mlp.fit(train_X0, train_Y0)\n",
    "    pred_train = mlp.predict(train_X0)\n",
    "    pred_test = mlp.predict(test_X0)\n",
    "    print('Random state =', i, 'Train R2 =', r2_score(train_Y0, pred_train), 'Test R2 =', r2_score(test_Y0, pred_test)) ######"
   ]
  },
  {
   "cell_type": "markdown",
   "metadata": {},
   "source": [
    "### lbfgs\n",
    "so far the best is the second pre-processed dataset"
   ]
  },
  {
   "cell_type": "code",
   "execution_count": 10,
   "metadata": {},
   "outputs": [
    {
     "name": "stdout",
     "output_type": "stream",
     "text": [
      "Random state = 0 Train R2 = 0.8587334554787459 Test R2 = 0.6761791463038842\n"
     ]
    },
    {
     "name": "stderr",
     "output_type": "stream",
     "text": [
      "C:\\Users\\jamie\\anaconda3\\lib\\site-packages\\sklearn\\neural_network\\_multilayer_perceptron.py:470: ConvergenceWarning: lbfgs failed to converge (status=1):\n",
      "STOP: TOTAL NO. of ITERATIONS REACHED LIMIT.\n",
      "\n",
      "Increase the number of iterations (max_iter) or scale the data as shown in:\n",
      "    https://scikit-learn.org/stable/modules/preprocessing.html\n",
      "  self.n_iter_ = _check_optimize_result(\"lbfgs\", opt_res, self.max_iter)\n"
     ]
    },
    {
     "name": "stdout",
     "output_type": "stream",
     "text": [
      "Random state = 1 Train R2 = 0.9074902723397903 Test R2 = 0.7867161118093207\n",
      "Random state = 2 Train R2 = 0.7452373695200438 Test R2 = 0.465747221158349\n",
      "Random state = 3 Train R2 = 0.7599232738030033 Test R2 = 0.40072143293153417\n"
     ]
    },
    {
     "name": "stderr",
     "output_type": "stream",
     "text": [
      "C:\\Users\\jamie\\anaconda3\\lib\\site-packages\\sklearn\\neural_network\\_multilayer_perceptron.py:470: ConvergenceWarning: lbfgs failed to converge (status=1):\n",
      "STOP: TOTAL NO. of ITERATIONS REACHED LIMIT.\n",
      "\n",
      "Increase the number of iterations (max_iter) or scale the data as shown in:\n",
      "    https://scikit-learn.org/stable/modules/preprocessing.html\n",
      "  self.n_iter_ = _check_optimize_result(\"lbfgs\", opt_res, self.max_iter)\n"
     ]
    },
    {
     "name": "stdout",
     "output_type": "stream",
     "text": [
      "Random state = 4 Train R2 = 0.9157438580960772 Test R2 = -0.037134754264871006\n",
      "Random state = 5 Train R2 = 0.8266749149276514 Test R2 = 0.08139724388343428\n",
      "Random state = 6 Train R2 = 0.8043323176134047 Test R2 = 0.4246620396388394\n",
      "Random state = 7 Train R2 = 0.8636536530759139 Test R2 = 0.7628268094572761\n",
      "Random state = 8 Train R2 = 0.8035541110881056 Test R2 = -0.08030611616825167\n",
      "Random state = 9 Train R2 = 0.9254563334663202 Test R2 = 0.4194772365937188\n"
     ]
    },
    {
     "name": "stderr",
     "output_type": "stream",
     "text": [
      "C:\\Users\\jamie\\anaconda3\\lib\\site-packages\\sklearn\\neural_network\\_multilayer_perceptron.py:470: ConvergenceWarning: lbfgs failed to converge (status=1):\n",
      "STOP: TOTAL NO. of ITERATIONS REACHED LIMIT.\n",
      "\n",
      "Increase the number of iterations (max_iter) or scale the data as shown in:\n",
      "    https://scikit-learn.org/stable/modules/preprocessing.html\n",
      "  self.n_iter_ = _check_optimize_result(\"lbfgs\", opt_res, self.max_iter)\n"
     ]
    }
   ],
   "source": [
    "# lbfgs\n",
    "# bare dataset\n",
    "\n",
    "for i in range(10):\n",
    "    mlp = MLPRegressor(random_state=i, solver='lbfgs', max_iter=5000, early_stopping=True)\n",
    "    mlp.fit(train_X0, train_Y0)\n",
    "    pred_train = mlp.predict(train_X0)\n",
    "    pred_test = mlp.predict(test_X0)\n",
    "    print('Random state =', i, 'Train R2 =', r2_score(train_Y0, pred_train), 'Test R2 =', r2_score(test_Y0, pred_test)) ######"
   ]
  },
  {
   "cell_type": "code",
   "execution_count": 17,
   "metadata": {},
   "outputs": [
    {
     "name": "stdout",
     "output_type": "stream",
     "text": [
      "Random state = 0 Train R2 = 0.9231909642657724 Test R2 = 0.24168169584472654\n",
      "Random state = 1 Train R2 = 0.7531296813946199 Test R2 = 0.46346911484632347\n",
      "Random state = 2 Train R2 = 0.765860900452468 Test R2 = 0.544041127449048\n",
      "Random state = 3 Train R2 = 0.852735550469968 Test R2 = 0.44426874247877646\n",
      "Random state = 4 Train R2 = 0.9109144990937464 Test R2 = -0.5261561078022301\n",
      "Random state = 5 Train R2 = 0.8574242027617756 Test R2 = 0.7368702504039029\n",
      "Random state = 6 Train R2 = 0.7514403698474917 Test R2 = 0.4939897973487072\n",
      "Random state = 7 Train R2 = 0.7513309298821966 Test R2 = 0.3767765407757532\n",
      "Random state = 8 Train R2 = 0.8251306757451707 Test R2 = 0.3729223069566453\n",
      "Random state = 9 Train R2 = 0.9103509051081109 Test R2 = -0.019755386462180224\n"
     ]
    },
    {
     "name": "stderr",
     "output_type": "stream",
     "text": [
      "C:\\Users\\jamie\\anaconda3\\lib\\site-packages\\sklearn\\neural_network\\_multilayer_perceptron.py:470: ConvergenceWarning: lbfgs failed to converge (status=1):\n",
      "STOP: TOTAL NO. of ITERATIONS REACHED LIMIT.\n",
      "\n",
      "Increase the number of iterations (max_iter) or scale the data as shown in:\n",
      "    https://scikit-learn.org/stable/modules/preprocessing.html\n",
      "  self.n_iter_ = _check_optimize_result(\"lbfgs\", opt_res, self.max_iter)\n"
     ]
    }
   ],
   "source": [
    "# lbfgs\n",
    "# first preprocessed dataset\n",
    "# - Dealing with null data\n",
    "# - Dealing with highly-skewed categorical data\n",
    "# - One Hot Encoding\n",
    "# - Feature selection\n",
    "\n",
    "for i in range(10):\n",
    "    mlp = MLPRegressor(random_state=i, solver='lbfgs', max_iter=10000, early_stopping=True)\n",
    "    mlp.fit(train_X1, train_Y1)\n",
    "    pred_train = mlp.predict(train_X1)\n",
    "    pred_test = mlp.predict(test_X1)\n",
    "    print('Random state =', i, 'Train R2 =', r2_score(train_Y1, pred_train), 'Test R2 =', r2_score(test_Y1, pred_test)) ######"
   ]
  },
  {
   "cell_type": "code",
   "execution_count": 16,
   "metadata": {},
   "outputs": [
    {
     "name": "stdout",
     "output_type": "stream",
     "text": [
      "Random state = 0 Train R2 = 0.8643043985923857 Test R2 = 0.7942276515543296\n",
      "Random state = 1 Train R2 = 0.8442834677298046 Test R2 = 0.7957329785168132\n",
      "Random state = 2 Train R2 = 0.895542196130147 Test R2 = 0.8111112478490636\n",
      "Random state = 3 Train R2 = 0.8587324888410194 Test R2 = 0.7871884884938685\n",
      "Random state = 4 Train R2 = 0.8792210453477525 Test R2 = 0.8056393247710293\n",
      "Random state = 5 Train R2 = 0.8513296713989102 Test R2 = 0.7831328133668556\n",
      "Random state = 6 Train R2 = 0.8581849422719614 Test R2 = 0.7869016420908056\n",
      "Random state = 7 Train R2 = 0.8896445895817151 Test R2 = 0.8109421773679459\n",
      "Random state = 8 Train R2 = 0.8882416588369575 Test R2 = 0.8186683626838979\n",
      "Random state = 9 Train R2 = 0.9101370608074594 Test R2 = 0.8363431902412719\n"
     ]
    }
   ],
   "source": [
    "# lbfgs\n",
    "# second preprocessed dataset\n",
    "# - Dealing with null data\n",
    "# - Dealing with highly-skewed categorical data\n",
    "# - One Hot Encoding\n",
    "# - Dealing with highly-skewed continuous data\n",
    "# - Feature selection\n",
    "\n",
    "for i in range(10):\n",
    "    mlp = MLPRegressor(random_state=i, solver='lbfgs', max_iter=10000, early_stopping=True)\n",
    "    mlp.fit(train_X2, train_Y2)\n",
    "    pred_train = mlp.predict(train_X2)\n",
    "    pred_test = mlp.predict(test_X2)\n",
    "    print('Random state =', i, 'Train R2 =', r2_score(train_Y2, pred_train), 'Test R2 =', r2_score(test_Y2, pred_test)) ######"
   ]
  },
  {
   "cell_type": "code",
   "execution_count": 13,
   "metadata": {},
   "outputs": [
    {
     "name": "stdout",
     "output_type": "stream",
     "text": [
      "Random state = 0 Train R2 = 0.9231909642657724 Test R2 = 0.24168169584472654\n",
      "Random state = 1 Train R2 = 0.7531296813946199 Test R2 = 0.46346911484632347\n",
      "Random state = 2 Train R2 = 0.765860900452468 Test R2 = 0.544041127449048\n",
      "Random state = 3 Train R2 = 0.852735550469968 Test R2 = 0.44426874247877646\n",
      "Random state = 4 Train R2 = 0.9109144990937464 Test R2 = -0.5261561078022301\n",
      "Random state = 5 Train R2 = 0.8574242027617756 Test R2 = 0.7368702504039029\n",
      "Random state = 6 Train R2 = 0.7514403698474917 Test R2 = 0.4939897973487072\n",
      "Random state = 7 Train R2 = 0.7513309298821966 Test R2 = 0.3767765407757532\n",
      "Random state = 8 Train R2 = 0.8251306757451707 Test R2 = 0.3729223069566453\n",
      "Random state = 9 Train R2 = 0.9103509051081109 Test R2 = -0.019755386462180224\n"
     ]
    },
    {
     "name": "stderr",
     "output_type": "stream",
     "text": [
      "C:\\Users\\jamie\\anaconda3\\lib\\site-packages\\sklearn\\neural_network\\_multilayer_perceptron.py:470: ConvergenceWarning: lbfgs failed to converge (status=1):\n",
      "STOP: TOTAL NO. of ITERATIONS REACHED LIMIT.\n",
      "\n",
      "Increase the number of iterations (max_iter) or scale the data as shown in:\n",
      "    https://scikit-learn.org/stable/modules/preprocessing.html\n",
      "  self.n_iter_ = _check_optimize_result(\"lbfgs\", opt_res, self.max_iter)\n"
     ]
    }
   ],
   "source": [
    "# lbfgs\n",
    "# third preprocessed dataset\n",
    "# - Dealing with null data\n",
    "# - Dealing with highly-skewed categorical data\n",
    "# - One Hot Encoding\n",
    "# - Dealing with highly-skewed continuous data\n",
    "# - Normalisation\n",
    "# - Feature selection\n",
    "\n",
    "# After running, random state 5 seems to be the best\n",
    "\n",
    "for i in range(10):\n",
    "    mlp = MLPRegressor(random_state=i, solver='lbfgs', max_iter=10000, early_stopping=True)\n",
    "    mlp.fit(train_X3, train_Y3)\n",
    "    pred_train = mlp.predict(train_X3)\n",
    "    pred_test = mlp.predict(test_X3)\n",
    "    print('Random state =', i, 'Train R2 =', r2_score(train_Y3, pred_train), 'Test R2 =', r2_score(test_Y3, pred_test)) ######"
   ]
  },
  {
   "cell_type": "code",
   "execution_count": 14,
   "metadata": {},
   "outputs": [
    {
     "name": "stdout",
     "output_type": "stream",
     "text": [
      "Random state = 0 Train R2 = 0.9231909642657724 Test R2 = 0.24168169584472654\n",
      "Random state = 1 Train R2 = 0.7531296813946199 Test R2 = 0.46346911484632347\n",
      "Random state = 2 Train R2 = 0.765860900452468 Test R2 = 0.544041127449048\n",
      "Random state = 3 Train R2 = 0.852735550469968 Test R2 = 0.44426874247877646\n",
      "Random state = 4 Train R2 = 0.9109144990937464 Test R2 = -0.5261561078022301\n",
      "Random state = 5 Train R2 = 0.8574242027617756 Test R2 = 0.7368702504039029\n",
      "Random state = 6 Train R2 = 0.7514403698474917 Test R2 = 0.4939897973487072\n",
      "Random state = 7 Train R2 = 0.7513309298821966 Test R2 = 0.3767765407757532\n",
      "Random state = 8 Train R2 = 0.8251306757451707 Test R2 = 0.3729223069566453\n",
      "Random state = 9 Train R2 = 0.9103509051081109 Test R2 = -0.019755386462180224\n"
     ]
    },
    {
     "name": "stderr",
     "output_type": "stream",
     "text": [
      "C:\\Users\\jamie\\anaconda3\\lib\\site-packages\\sklearn\\neural_network\\_multilayer_perceptron.py:470: ConvergenceWarning: lbfgs failed to converge (status=1):\n",
      "STOP: TOTAL NO. of ITERATIONS REACHED LIMIT.\n",
      "\n",
      "Increase the number of iterations (max_iter) or scale the data as shown in:\n",
      "    https://scikit-learn.org/stable/modules/preprocessing.html\n",
      "  self.n_iter_ = _check_optimize_result(\"lbfgs\", opt_res, self.max_iter)\n"
     ]
    }
   ],
   "source": [
    "# lbfgs\n",
    "# fourth preprocessed dataset\n",
    "# - Dealing with null data\n",
    "# - Dealing with highly-skewed categorical data\n",
    "# - One Hot Encoding\n",
    "# - Dealing with highly-skewed continuous data\n",
    "# - Z-scoring\n",
    "# - Feature selection\n",
    "\n",
    "for i in range(10):\n",
    "    mlp = MLPRegressor(random_state=i, solver='lbfgs', max_iter=10000, early_stopping=True)\n",
    "    mlp.fit(train_X4, train_Y4)\n",
    "    pred_train = mlp.predict(train_X4)\n",
    "    pred_test = mlp.predict(test_X4)\n",
    "    print('Random state =', i, 'Train R2 =', r2_score(train_Y4, pred_train), 'Test R2 =', r2_score(test_Y4, pred_test)) ######"
   ]
  },
  {
   "cell_type": "code",
   "execution_count": null,
   "metadata": {},
   "outputs": [],
   "source": []
  },
  {
   "cell_type": "markdown",
   "metadata": {},
   "source": [
    "# Test data\n"
   ]
  },
  {
   "cell_type": "code",
   "execution_count": 83,
   "metadata": {},
   "outputs": [],
   "source": [
    "import researchpy as rp\n",
    "from scipy.stats import skew \n"
   ]
  },
  {
   "cell_type": "code",
   "execution_count": 164,
   "metadata": {},
   "outputs": [],
   "source": [
    "test = pd.read_csv('test.csv')"
   ]
  },
  {
   "cell_type": "markdown",
   "metadata": {},
   "source": [
    "## Dealing with null\n",
    "LotFrontage: drop column<br>\n",
    "MasVnrArea : set na to 0<br>\n",
    "Electrical: drop the whole electrical_NA column after OHE (since this is a categorical data)<br>\n",
    "- it so happens that this test set in electrical has no NA so we can just ignore this yay<br>\n",
    "\n",
    "GarageYrBlt: set to mean of the rest<br>"
   ]
  },
  {
   "cell_type": "code",
   "execution_count": 167,
   "metadata": {},
   "outputs": [],
   "source": [
    "test.drop(columns='LotFrontage', inplace=True)\n",
    "\n",
    "test['MasVnrArea'] = test['MasVnrArea'].fillna(0)\n",
    "\n",
    "# mean = test['GarageYrBlt'].mean()\n",
    "# test['GarageYrBlt'] = test['GarageYrBlt'].fillna(mean)"
   ]
  },
  {
   "cell_type": "markdown",
   "metadata": {},
   "source": [
    "### One Hot Encoding"
   ]
  },
  {
   "cell_type": "code",
   "execution_count": 168,
   "metadata": {},
   "outputs": [
    {
     "data": {
      "text/html": [
       "<div>\n",
       "<style scoped>\n",
       "    .dataframe tbody tr th:only-of-type {\n",
       "        vertical-align: middle;\n",
       "    }\n",
       "\n",
       "    .dataframe tbody tr th {\n",
       "        vertical-align: top;\n",
       "    }\n",
       "\n",
       "    .dataframe thead th {\n",
       "        text-align: right;\n",
       "    }\n",
       "</style>\n",
       "<table border=\"1\" class=\"dataframe\">\n",
       "  <thead>\n",
       "    <tr style=\"text-align: right;\">\n",
       "      <th></th>\n",
       "      <th>Id</th>\n",
       "      <th>LotArea</th>\n",
       "      <th>YearBuilt</th>\n",
       "      <th>YearRemodAdd</th>\n",
       "      <th>MasVnrArea</th>\n",
       "      <th>BsmtFinSF1</th>\n",
       "      <th>BsmtFinSF2</th>\n",
       "      <th>BsmtUnfSF</th>\n",
       "      <th>TotalBsmtSF</th>\n",
       "      <th>1stFlrSF</th>\n",
       "      <th>...</th>\n",
       "      <th>SaleType_ConLw</th>\n",
       "      <th>SaleType_New</th>\n",
       "      <th>SaleType_Oth</th>\n",
       "      <th>SaleType_WD</th>\n",
       "      <th>SaleCondition_Abnorml</th>\n",
       "      <th>SaleCondition_AdjLand</th>\n",
       "      <th>SaleCondition_Alloca</th>\n",
       "      <th>SaleCondition_Family</th>\n",
       "      <th>SaleCondition_Normal</th>\n",
       "      <th>SaleCondition_Partial</th>\n",
       "    </tr>\n",
       "  </thead>\n",
       "  <tbody>\n",
       "    <tr>\n",
       "      <th>0</th>\n",
       "      <td>1461</td>\n",
       "      <td>11622</td>\n",
       "      <td>1961</td>\n",
       "      <td>1961</td>\n",
       "      <td>0.0</td>\n",
       "      <td>468.0</td>\n",
       "      <td>144.0</td>\n",
       "      <td>270.0</td>\n",
       "      <td>882.0</td>\n",
       "      <td>896</td>\n",
       "      <td>...</td>\n",
       "      <td>0</td>\n",
       "      <td>0</td>\n",
       "      <td>0</td>\n",
       "      <td>1</td>\n",
       "      <td>0</td>\n",
       "      <td>0</td>\n",
       "      <td>0</td>\n",
       "      <td>0</td>\n",
       "      <td>1</td>\n",
       "      <td>0</td>\n",
       "    </tr>\n",
       "    <tr>\n",
       "      <th>1</th>\n",
       "      <td>1462</td>\n",
       "      <td>14267</td>\n",
       "      <td>1958</td>\n",
       "      <td>1958</td>\n",
       "      <td>108.0</td>\n",
       "      <td>923.0</td>\n",
       "      <td>0.0</td>\n",
       "      <td>406.0</td>\n",
       "      <td>1329.0</td>\n",
       "      <td>1329</td>\n",
       "      <td>...</td>\n",
       "      <td>0</td>\n",
       "      <td>0</td>\n",
       "      <td>0</td>\n",
       "      <td>1</td>\n",
       "      <td>0</td>\n",
       "      <td>0</td>\n",
       "      <td>0</td>\n",
       "      <td>0</td>\n",
       "      <td>1</td>\n",
       "      <td>0</td>\n",
       "    </tr>\n",
       "    <tr>\n",
       "      <th>2</th>\n",
       "      <td>1463</td>\n",
       "      <td>13830</td>\n",
       "      <td>1997</td>\n",
       "      <td>1998</td>\n",
       "      <td>0.0</td>\n",
       "      <td>791.0</td>\n",
       "      <td>0.0</td>\n",
       "      <td>137.0</td>\n",
       "      <td>928.0</td>\n",
       "      <td>928</td>\n",
       "      <td>...</td>\n",
       "      <td>0</td>\n",
       "      <td>0</td>\n",
       "      <td>0</td>\n",
       "      <td>1</td>\n",
       "      <td>0</td>\n",
       "      <td>0</td>\n",
       "      <td>0</td>\n",
       "      <td>0</td>\n",
       "      <td>1</td>\n",
       "      <td>0</td>\n",
       "    </tr>\n",
       "    <tr>\n",
       "      <th>3</th>\n",
       "      <td>1464</td>\n",
       "      <td>9978</td>\n",
       "      <td>1998</td>\n",
       "      <td>1998</td>\n",
       "      <td>20.0</td>\n",
       "      <td>602.0</td>\n",
       "      <td>0.0</td>\n",
       "      <td>324.0</td>\n",
       "      <td>926.0</td>\n",
       "      <td>926</td>\n",
       "      <td>...</td>\n",
       "      <td>0</td>\n",
       "      <td>0</td>\n",
       "      <td>0</td>\n",
       "      <td>1</td>\n",
       "      <td>0</td>\n",
       "      <td>0</td>\n",
       "      <td>0</td>\n",
       "      <td>0</td>\n",
       "      <td>1</td>\n",
       "      <td>0</td>\n",
       "    </tr>\n",
       "    <tr>\n",
       "      <th>4</th>\n",
       "      <td>1465</td>\n",
       "      <td>5005</td>\n",
       "      <td>1992</td>\n",
       "      <td>1992</td>\n",
       "      <td>0.0</td>\n",
       "      <td>263.0</td>\n",
       "      <td>0.0</td>\n",
       "      <td>1017.0</td>\n",
       "      <td>1280.0</td>\n",
       "      <td>1280</td>\n",
       "      <td>...</td>\n",
       "      <td>0</td>\n",
       "      <td>0</td>\n",
       "      <td>0</td>\n",
       "      <td>1</td>\n",
       "      <td>0</td>\n",
       "      <td>0</td>\n",
       "      <td>0</td>\n",
       "      <td>0</td>\n",
       "      <td>1</td>\n",
       "      <td>0</td>\n",
       "    </tr>\n",
       "    <tr>\n",
       "      <th>...</th>\n",
       "      <td>...</td>\n",
       "      <td>...</td>\n",
       "      <td>...</td>\n",
       "      <td>...</td>\n",
       "      <td>...</td>\n",
       "      <td>...</td>\n",
       "      <td>...</td>\n",
       "      <td>...</td>\n",
       "      <td>...</td>\n",
       "      <td>...</td>\n",
       "      <td>...</td>\n",
       "      <td>...</td>\n",
       "      <td>...</td>\n",
       "      <td>...</td>\n",
       "      <td>...</td>\n",
       "      <td>...</td>\n",
       "      <td>...</td>\n",
       "      <td>...</td>\n",
       "      <td>...</td>\n",
       "      <td>...</td>\n",
       "      <td>...</td>\n",
       "    </tr>\n",
       "    <tr>\n",
       "      <th>1454</th>\n",
       "      <td>2915</td>\n",
       "      <td>1936</td>\n",
       "      <td>1970</td>\n",
       "      <td>1970</td>\n",
       "      <td>0.0</td>\n",
       "      <td>0.0</td>\n",
       "      <td>0.0</td>\n",
       "      <td>546.0</td>\n",
       "      <td>546.0</td>\n",
       "      <td>546</td>\n",
       "      <td>...</td>\n",
       "      <td>0</td>\n",
       "      <td>0</td>\n",
       "      <td>0</td>\n",
       "      <td>1</td>\n",
       "      <td>0</td>\n",
       "      <td>0</td>\n",
       "      <td>0</td>\n",
       "      <td>0</td>\n",
       "      <td>1</td>\n",
       "      <td>0</td>\n",
       "    </tr>\n",
       "    <tr>\n",
       "      <th>1455</th>\n",
       "      <td>2916</td>\n",
       "      <td>1894</td>\n",
       "      <td>1970</td>\n",
       "      <td>1970</td>\n",
       "      <td>0.0</td>\n",
       "      <td>252.0</td>\n",
       "      <td>0.0</td>\n",
       "      <td>294.0</td>\n",
       "      <td>546.0</td>\n",
       "      <td>546</td>\n",
       "      <td>...</td>\n",
       "      <td>0</td>\n",
       "      <td>0</td>\n",
       "      <td>0</td>\n",
       "      <td>1</td>\n",
       "      <td>1</td>\n",
       "      <td>0</td>\n",
       "      <td>0</td>\n",
       "      <td>0</td>\n",
       "      <td>0</td>\n",
       "      <td>0</td>\n",
       "    </tr>\n",
       "    <tr>\n",
       "      <th>1456</th>\n",
       "      <td>2917</td>\n",
       "      <td>20000</td>\n",
       "      <td>1960</td>\n",
       "      <td>1996</td>\n",
       "      <td>0.0</td>\n",
       "      <td>1224.0</td>\n",
       "      <td>0.0</td>\n",
       "      <td>0.0</td>\n",
       "      <td>1224.0</td>\n",
       "      <td>1224</td>\n",
       "      <td>...</td>\n",
       "      <td>0</td>\n",
       "      <td>0</td>\n",
       "      <td>0</td>\n",
       "      <td>1</td>\n",
       "      <td>1</td>\n",
       "      <td>0</td>\n",
       "      <td>0</td>\n",
       "      <td>0</td>\n",
       "      <td>0</td>\n",
       "      <td>0</td>\n",
       "    </tr>\n",
       "    <tr>\n",
       "      <th>1457</th>\n",
       "      <td>2918</td>\n",
       "      <td>10441</td>\n",
       "      <td>1992</td>\n",
       "      <td>1992</td>\n",
       "      <td>0.0</td>\n",
       "      <td>337.0</td>\n",
       "      <td>0.0</td>\n",
       "      <td>575.0</td>\n",
       "      <td>912.0</td>\n",
       "      <td>970</td>\n",
       "      <td>...</td>\n",
       "      <td>0</td>\n",
       "      <td>0</td>\n",
       "      <td>0</td>\n",
       "      <td>1</td>\n",
       "      <td>0</td>\n",
       "      <td>0</td>\n",
       "      <td>0</td>\n",
       "      <td>0</td>\n",
       "      <td>1</td>\n",
       "      <td>0</td>\n",
       "    </tr>\n",
       "    <tr>\n",
       "      <th>1458</th>\n",
       "      <td>2919</td>\n",
       "      <td>9627</td>\n",
       "      <td>1993</td>\n",
       "      <td>1994</td>\n",
       "      <td>94.0</td>\n",
       "      <td>758.0</td>\n",
       "      <td>0.0</td>\n",
       "      <td>238.0</td>\n",
       "      <td>996.0</td>\n",
       "      <td>996</td>\n",
       "      <td>...</td>\n",
       "      <td>0</td>\n",
       "      <td>0</td>\n",
       "      <td>0</td>\n",
       "      <td>1</td>\n",
       "      <td>0</td>\n",
       "      <td>0</td>\n",
       "      <td>0</td>\n",
       "      <td>0</td>\n",
       "      <td>1</td>\n",
       "      <td>0</td>\n",
       "    </tr>\n",
       "  </tbody>\n",
       "</table>\n",
       "<p>1459 rows × 302 columns</p>\n",
       "</div>"
      ],
      "text/plain": [
       "        Id  LotArea  YearBuilt  YearRemodAdd  MasVnrArea  BsmtFinSF1  \\\n",
       "0     1461    11622       1961          1961         0.0       468.0   \n",
       "1     1462    14267       1958          1958       108.0       923.0   \n",
       "2     1463    13830       1997          1998         0.0       791.0   \n",
       "3     1464     9978       1998          1998        20.0       602.0   \n",
       "4     1465     5005       1992          1992         0.0       263.0   \n",
       "...    ...      ...        ...           ...         ...         ...   \n",
       "1454  2915     1936       1970          1970         0.0         0.0   \n",
       "1455  2916     1894       1970          1970         0.0       252.0   \n",
       "1456  2917    20000       1960          1996         0.0      1224.0   \n",
       "1457  2918    10441       1992          1992         0.0       337.0   \n",
       "1458  2919     9627       1993          1994        94.0       758.0   \n",
       "\n",
       "      BsmtFinSF2  BsmtUnfSF  TotalBsmtSF  1stFlrSF  ...  SaleType_ConLw  \\\n",
       "0          144.0      270.0        882.0       896  ...               0   \n",
       "1            0.0      406.0       1329.0      1329  ...               0   \n",
       "2            0.0      137.0        928.0       928  ...               0   \n",
       "3            0.0      324.0        926.0       926  ...               0   \n",
       "4            0.0     1017.0       1280.0      1280  ...               0   \n",
       "...          ...        ...          ...       ...  ...             ...   \n",
       "1454         0.0      546.0        546.0       546  ...               0   \n",
       "1455         0.0      294.0        546.0       546  ...               0   \n",
       "1456         0.0        0.0       1224.0      1224  ...               0   \n",
       "1457         0.0      575.0        912.0       970  ...               0   \n",
       "1458         0.0      238.0        996.0       996  ...               0   \n",
       "\n",
       "      SaleType_New  SaleType_Oth  SaleType_WD  SaleCondition_Abnorml  \\\n",
       "0                0             0            1                      0   \n",
       "1                0             0            1                      0   \n",
       "2                0             0            1                      0   \n",
       "3                0             0            1                      0   \n",
       "4                0             0            1                      0   \n",
       "...            ...           ...          ...                    ...   \n",
       "1454             0             0            1                      0   \n",
       "1455             0             0            1                      1   \n",
       "1456             0             0            1                      1   \n",
       "1457             0             0            1                      0   \n",
       "1458             0             0            1                      0   \n",
       "\n",
       "      SaleCondition_AdjLand  SaleCondition_Alloca  SaleCondition_Family  \\\n",
       "0                         0                     0                     0   \n",
       "1                         0                     0                     0   \n",
       "2                         0                     0                     0   \n",
       "3                         0                     0                     0   \n",
       "4                         0                     0                     0   \n",
       "...                     ...                   ...                   ...   \n",
       "1454                      0                     0                     0   \n",
       "1455                      0                     0                     0   \n",
       "1456                      0                     0                     0   \n",
       "1457                      0                     0                     0   \n",
       "1458                      0                     0                     0   \n",
       "\n",
       "      SaleCondition_Normal  SaleCondition_Partial  \n",
       "0                        1                      0  \n",
       "1                        1                      0  \n",
       "2                        1                      0  \n",
       "3                        1                      0  \n",
       "4                        1                      0  \n",
       "...                    ...                    ...  \n",
       "1454                     1                      0  \n",
       "1455                     0                      0  \n",
       "1456                     0                      0  \n",
       "1457                     1                      0  \n",
       "1458                     1                      0  \n",
       "\n",
       "[1459 rows x 302 columns]"
      ]
     },
     "execution_count": 168,
     "metadata": {},
     "output_type": "execute_result"
    }
   ],
   "source": [
    "categorical = ['MSSubClass', 'MSZoning', 'Street', 'Alley', 'LotShape', 'LandContour', 'Utilities', 'LotConfig', 'LandSlope', 'Neighborhood', 'Condition1', 'Condition2', 'BldgType', 'HouseStyle', 'OverallQual', 'OverallCond', 'RoofStyle', 'RoofMatl', 'Exterior1st', 'Exterior2nd', 'MasVnrType', 'ExterQual', 'ExterCond','Foundation', 'BsmtQual', 'BsmtCond', 'BsmtExposure', 'BsmtFinType1', 'BsmtFinType2', 'Heating', 'HeatingQC', 'CentralAir', 'Electrical', 'KitchenQual', 'Functional', 'FireplaceQu', 'GarageType', 'GarageFinish', 'GarageQual', 'GarageCond', 'PavedDrive', 'PoolQC', 'Fence', 'MiscFeature', 'SaleType', 'SaleCondition']\n",
    "\n",
    "test = pd.get_dummies(test, columns= categorical, prefix= categorical)\n",
    "test"
   ]
  },
  {
   "cell_type": "code",
   "execution_count": 169,
   "metadata": {},
   "outputs": [
    {
     "data": {
      "text/html": [
       "<div>\n",
       "<style scoped>\n",
       "    .dataframe tbody tr th:only-of-type {\n",
       "        vertical-align: middle;\n",
       "    }\n",
       "\n",
       "    .dataframe tbody tr th {\n",
       "        vertical-align: top;\n",
       "    }\n",
       "\n",
       "    .dataframe thead th {\n",
       "        text-align: right;\n",
       "    }\n",
       "</style>\n",
       "<table border=\"1\" class=\"dataframe\">\n",
       "  <thead>\n",
       "    <tr style=\"text-align: right;\">\n",
       "      <th></th>\n",
       "      <th>GrLivArea</th>\n",
       "      <th>GarageCars</th>\n",
       "      <th>GarageArea</th>\n",
       "      <th>TotRmsAbvGrd</th>\n",
       "      <th>FullBath</th>\n",
       "      <th>TotalBsmtSF</th>\n",
       "      <th>1stFlrSF</th>\n",
       "      <th>YearBuilt</th>\n",
       "      <th>Foundation_PConc</th>\n",
       "      <th>YearRemodAdd</th>\n",
       "      <th>...</th>\n",
       "      <th>MSZoning_RM</th>\n",
       "      <th>MasVnrType_None</th>\n",
       "      <th>OverallQual_5</th>\n",
       "      <th>HeatingQC_TA</th>\n",
       "      <th>GarageType_Detchd</th>\n",
       "      <th>Foundation_CBlock</th>\n",
       "      <th>BsmtQual_TA</th>\n",
       "      <th>GarageFinish_Unf</th>\n",
       "      <th>KitchenQual_TA</th>\n",
       "      <th>Id</th>\n",
       "    </tr>\n",
       "  </thead>\n",
       "  <tbody>\n",
       "    <tr>\n",
       "      <th>0</th>\n",
       "      <td>896</td>\n",
       "      <td>1.0</td>\n",
       "      <td>730.0</td>\n",
       "      <td>5</td>\n",
       "      <td>1</td>\n",
       "      <td>882.0</td>\n",
       "      <td>896</td>\n",
       "      <td>1961</td>\n",
       "      <td>0</td>\n",
       "      <td>1961</td>\n",
       "      <td>...</td>\n",
       "      <td>0</td>\n",
       "      <td>1</td>\n",
       "      <td>1</td>\n",
       "      <td>1</td>\n",
       "      <td>0</td>\n",
       "      <td>1</td>\n",
       "      <td>1</td>\n",
       "      <td>1</td>\n",
       "      <td>1</td>\n",
       "      <td>1461</td>\n",
       "    </tr>\n",
       "    <tr>\n",
       "      <th>1</th>\n",
       "      <td>1329</td>\n",
       "      <td>1.0</td>\n",
       "      <td>312.0</td>\n",
       "      <td>6</td>\n",
       "      <td>1</td>\n",
       "      <td>1329.0</td>\n",
       "      <td>1329</td>\n",
       "      <td>1958</td>\n",
       "      <td>0</td>\n",
       "      <td>1958</td>\n",
       "      <td>...</td>\n",
       "      <td>0</td>\n",
       "      <td>0</td>\n",
       "      <td>0</td>\n",
       "      <td>1</td>\n",
       "      <td>0</td>\n",
       "      <td>1</td>\n",
       "      <td>1</td>\n",
       "      <td>1</td>\n",
       "      <td>0</td>\n",
       "      <td>1462</td>\n",
       "    </tr>\n",
       "    <tr>\n",
       "      <th>2</th>\n",
       "      <td>1629</td>\n",
       "      <td>2.0</td>\n",
       "      <td>482.0</td>\n",
       "      <td>6</td>\n",
       "      <td>2</td>\n",
       "      <td>928.0</td>\n",
       "      <td>928</td>\n",
       "      <td>1997</td>\n",
       "      <td>1</td>\n",
       "      <td>1998</td>\n",
       "      <td>...</td>\n",
       "      <td>0</td>\n",
       "      <td>1</td>\n",
       "      <td>1</td>\n",
       "      <td>0</td>\n",
       "      <td>0</td>\n",
       "      <td>0</td>\n",
       "      <td>0</td>\n",
       "      <td>0</td>\n",
       "      <td>1</td>\n",
       "      <td>1463</td>\n",
       "    </tr>\n",
       "    <tr>\n",
       "      <th>3</th>\n",
       "      <td>1604</td>\n",
       "      <td>2.0</td>\n",
       "      <td>470.0</td>\n",
       "      <td>7</td>\n",
       "      <td>2</td>\n",
       "      <td>926.0</td>\n",
       "      <td>926</td>\n",
       "      <td>1998</td>\n",
       "      <td>1</td>\n",
       "      <td>1998</td>\n",
       "      <td>...</td>\n",
       "      <td>0</td>\n",
       "      <td>0</td>\n",
       "      <td>0</td>\n",
       "      <td>0</td>\n",
       "      <td>0</td>\n",
       "      <td>0</td>\n",
       "      <td>1</td>\n",
       "      <td>0</td>\n",
       "      <td>0</td>\n",
       "      <td>1464</td>\n",
       "    </tr>\n",
       "    <tr>\n",
       "      <th>4</th>\n",
       "      <td>1280</td>\n",
       "      <td>2.0</td>\n",
       "      <td>506.0</td>\n",
       "      <td>5</td>\n",
       "      <td>2</td>\n",
       "      <td>1280.0</td>\n",
       "      <td>1280</td>\n",
       "      <td>1992</td>\n",
       "      <td>1</td>\n",
       "      <td>1992</td>\n",
       "      <td>...</td>\n",
       "      <td>0</td>\n",
       "      <td>1</td>\n",
       "      <td>0</td>\n",
       "      <td>0</td>\n",
       "      <td>0</td>\n",
       "      <td>0</td>\n",
       "      <td>0</td>\n",
       "      <td>0</td>\n",
       "      <td>0</td>\n",
       "      <td>1465</td>\n",
       "    </tr>\n",
       "    <tr>\n",
       "      <th>...</th>\n",
       "      <td>...</td>\n",
       "      <td>...</td>\n",
       "      <td>...</td>\n",
       "      <td>...</td>\n",
       "      <td>...</td>\n",
       "      <td>...</td>\n",
       "      <td>...</td>\n",
       "      <td>...</td>\n",
       "      <td>...</td>\n",
       "      <td>...</td>\n",
       "      <td>...</td>\n",
       "      <td>...</td>\n",
       "      <td>...</td>\n",
       "      <td>...</td>\n",
       "      <td>...</td>\n",
       "      <td>...</td>\n",
       "      <td>...</td>\n",
       "      <td>...</td>\n",
       "      <td>...</td>\n",
       "      <td>...</td>\n",
       "      <td>...</td>\n",
       "    </tr>\n",
       "    <tr>\n",
       "      <th>1454</th>\n",
       "      <td>1092</td>\n",
       "      <td>0.0</td>\n",
       "      <td>0.0</td>\n",
       "      <td>5</td>\n",
       "      <td>1</td>\n",
       "      <td>546.0</td>\n",
       "      <td>546</td>\n",
       "      <td>1970</td>\n",
       "      <td>0</td>\n",
       "      <td>1970</td>\n",
       "      <td>...</td>\n",
       "      <td>1</td>\n",
       "      <td>1</td>\n",
       "      <td>0</td>\n",
       "      <td>0</td>\n",
       "      <td>0</td>\n",
       "      <td>1</td>\n",
       "      <td>1</td>\n",
       "      <td>0</td>\n",
       "      <td>1</td>\n",
       "      <td>2915</td>\n",
       "    </tr>\n",
       "    <tr>\n",
       "      <th>1455</th>\n",
       "      <td>1092</td>\n",
       "      <td>1.0</td>\n",
       "      <td>286.0</td>\n",
       "      <td>6</td>\n",
       "      <td>1</td>\n",
       "      <td>546.0</td>\n",
       "      <td>546</td>\n",
       "      <td>1970</td>\n",
       "      <td>0</td>\n",
       "      <td>1970</td>\n",
       "      <td>...</td>\n",
       "      <td>1</td>\n",
       "      <td>1</td>\n",
       "      <td>0</td>\n",
       "      <td>1</td>\n",
       "      <td>0</td>\n",
       "      <td>1</td>\n",
       "      <td>1</td>\n",
       "      <td>1</td>\n",
       "      <td>1</td>\n",
       "      <td>2916</td>\n",
       "    </tr>\n",
       "    <tr>\n",
       "      <th>1456</th>\n",
       "      <td>1224</td>\n",
       "      <td>2.0</td>\n",
       "      <td>576.0</td>\n",
       "      <td>7</td>\n",
       "      <td>1</td>\n",
       "      <td>1224.0</td>\n",
       "      <td>1224</td>\n",
       "      <td>1960</td>\n",
       "      <td>0</td>\n",
       "      <td>1996</td>\n",
       "      <td>...</td>\n",
       "      <td>0</td>\n",
       "      <td>1</td>\n",
       "      <td>1</td>\n",
       "      <td>0</td>\n",
       "      <td>1</td>\n",
       "      <td>1</td>\n",
       "      <td>1</td>\n",
       "      <td>1</td>\n",
       "      <td>1</td>\n",
       "      <td>2917</td>\n",
       "    </tr>\n",
       "    <tr>\n",
       "      <th>1457</th>\n",
       "      <td>970</td>\n",
       "      <td>0.0</td>\n",
       "      <td>0.0</td>\n",
       "      <td>6</td>\n",
       "      <td>1</td>\n",
       "      <td>912.0</td>\n",
       "      <td>970</td>\n",
       "      <td>1992</td>\n",
       "      <td>1</td>\n",
       "      <td>1992</td>\n",
       "      <td>...</td>\n",
       "      <td>0</td>\n",
       "      <td>1</td>\n",
       "      <td>1</td>\n",
       "      <td>1</td>\n",
       "      <td>0</td>\n",
       "      <td>0</td>\n",
       "      <td>0</td>\n",
       "      <td>0</td>\n",
       "      <td>1</td>\n",
       "      <td>2918</td>\n",
       "    </tr>\n",
       "    <tr>\n",
       "      <th>1458</th>\n",
       "      <td>2000</td>\n",
       "      <td>3.0</td>\n",
       "      <td>650.0</td>\n",
       "      <td>9</td>\n",
       "      <td>2</td>\n",
       "      <td>996.0</td>\n",
       "      <td>996</td>\n",
       "      <td>1993</td>\n",
       "      <td>1</td>\n",
       "      <td>1994</td>\n",
       "      <td>...</td>\n",
       "      <td>0</td>\n",
       "      <td>0</td>\n",
       "      <td>0</td>\n",
       "      <td>0</td>\n",
       "      <td>0</td>\n",
       "      <td>0</td>\n",
       "      <td>0</td>\n",
       "      <td>0</td>\n",
       "      <td>1</td>\n",
       "      <td>2919</td>\n",
       "    </tr>\n",
       "  </tbody>\n",
       "</table>\n",
       "<p>1459 rows × 74 columns</p>\n",
       "</div>"
      ],
      "text/plain": [
       "      GrLivArea  GarageCars  GarageArea  TotRmsAbvGrd  FullBath  TotalBsmtSF  \\\n",
       "0           896         1.0       730.0             5         1        882.0   \n",
       "1          1329         1.0       312.0             6         1       1329.0   \n",
       "2          1629         2.0       482.0             6         2        928.0   \n",
       "3          1604         2.0       470.0             7         2        926.0   \n",
       "4          1280         2.0       506.0             5         2       1280.0   \n",
       "...         ...         ...         ...           ...       ...          ...   \n",
       "1454       1092         0.0         0.0             5         1        546.0   \n",
       "1455       1092         1.0       286.0             6         1        546.0   \n",
       "1456       1224         2.0       576.0             7         1       1224.0   \n",
       "1457        970         0.0         0.0             6         1        912.0   \n",
       "1458       2000         3.0       650.0             9         2        996.0   \n",
       "\n",
       "      1stFlrSF  YearBuilt  Foundation_PConc  YearRemodAdd  ...  MSZoning_RM  \\\n",
       "0          896       1961                 0          1961  ...            0   \n",
       "1         1329       1958                 0          1958  ...            0   \n",
       "2          928       1997                 1          1998  ...            0   \n",
       "3          926       1998                 1          1998  ...            0   \n",
       "4         1280       1992                 1          1992  ...            0   \n",
       "...        ...        ...               ...           ...  ...          ...   \n",
       "1454       546       1970                 0          1970  ...            1   \n",
       "1455       546       1970                 0          1970  ...            1   \n",
       "1456      1224       1960                 0          1996  ...            0   \n",
       "1457       970       1992                 1          1992  ...            0   \n",
       "1458       996       1993                 1          1994  ...            0   \n",
       "\n",
       "      MasVnrType_None  OverallQual_5  HeatingQC_TA  GarageType_Detchd  \\\n",
       "0                   1              1             1                  0   \n",
       "1                   0              0             1                  0   \n",
       "2                   1              1             0                  0   \n",
       "3                   0              0             0                  0   \n",
       "4                   1              0             0                  0   \n",
       "...               ...            ...           ...                ...   \n",
       "1454                1              0             0                  0   \n",
       "1455                1              0             1                  0   \n",
       "1456                1              1             0                  1   \n",
       "1457                1              1             1                  0   \n",
       "1458                0              0             0                  0   \n",
       "\n",
       "      Foundation_CBlock  BsmtQual_TA  GarageFinish_Unf  KitchenQual_TA    Id  \n",
       "0                     1            1                 1               1  1461  \n",
       "1                     1            1                 1               0  1462  \n",
       "2                     0            0                 0               1  1463  \n",
       "3                     0            1                 0               0  1464  \n",
       "4                     0            0                 0               0  1465  \n",
       "...                 ...          ...               ...             ...   ...  \n",
       "1454                  1            1                 0               1  2915  \n",
       "1455                  1            1                 1               1  2916  \n",
       "1456                  1            1                 1               1  2917  \n",
       "1457                  0            0                 0               1  2918  \n",
       "1458                  0            0                 0               1  2919  \n",
       "\n",
       "[1459 rows x 74 columns]"
      ]
     },
     "execution_count": 169,
     "metadata": {},
     "output_type": "execute_result"
    }
   ],
   "source": [
    "col = list(train2.columns)\n",
    "col.remove('SalePrice')\n",
    "test1 = test[col]\n",
    "test1"
   ]
  },
  {
   "cell_type": "code",
   "execution_count": 173,
   "metadata": {},
   "outputs": [],
   "source": [
    "for index in test1:\n",
    "    if test1[index].isna().sum() != 0 :\n",
    "        mean = test1[index].mean()\n",
    "        test1[index] = test1['GarageYrBlt'].fillna(mean)"
   ]
  },
  {
   "cell_type": "code",
   "execution_count": 174,
   "metadata": {},
   "outputs": [],
   "source": [
    "Id = test1['Id']\n",
    "test1 = test1.drop(columns=['Id'])"
   ]
  },
  {
   "cell_type": "code",
   "execution_count": 175,
   "metadata": {},
   "outputs": [
    {
     "name": "stdout",
     "output_type": "stream",
     "text": [
      "(1459, 73)\n",
      "(550, 73)\n"
     ]
    }
   ],
   "source": [
    "print(test1.shape)\n",
    "print(train_X2.shape)"
   ]
  },
  {
   "cell_type": "code",
   "execution_count": 200,
   "metadata": {},
   "outputs": [],
   "source": [
    "pred = []\n",
    "for i in range(10):\n",
    "    mlp = MLPRegressor(random_state=i, solver='lbfgs', max_iter=10000, early_stopping=True)\n",
    "    mlp.fit(train_X2, train_Y2)\n",
    "    pred.append(mlp.predict(test1))"
   ]
  },
  {
   "cell_type": "code",
   "execution_count": 201,
   "metadata": {},
   "outputs": [
    {
     "data": {
      "text/plain": [
       "[array([1164188.34303469, 1115113.96035348, 1284735.95708143, ...,\n",
       "        1142476.98181597,  634904.37505995, 1297630.03115401]),\n",
       " array([608861.48681033, 628466.05926551, 689012.73993047, ...,\n",
       "        616396.02201571, 327442.63183479, 725794.80644294]),\n",
       " array([621829.52757806, 584650.513996  , 692310.63539531, ...,\n",
       "        250396.56619153, 278030.72907326, 593901.82947317]),\n",
       " array([615464.14436427, 663228.17732403, 607066.45579366, ...,\n",
       "        685220.35858846, 355957.44569263, 601334.41103905]),\n",
       " array([637338.06427847, 729383.28435822, 766730.85597865, ...,\n",
       "        816645.16766059, 357361.75242826, 859794.24607246]),\n",
       " array([ 890300.09535237,  854801.79074125,  977188.57989816, ...,\n",
       "         845542.6821454 ,  483978.12680326, 1009606.61558934]),\n",
       " array([1105488.51108531, 1134160.40371465, 1227797.77390536, ...,\n",
       "        1174087.74492319,  366065.18100683, 1221528.68101294]),\n",
       " array([651221.11977861, 681976.98252856, 748083.0327975 , ...,\n",
       "        655437.12837074, 372646.89104149, 720453.57707604]),\n",
       " array([625768.19240857, 708663.84607605, 697967.61285472, ...,\n",
       "        798940.0429813 , 304696.62895579, 757596.01819604]),\n",
       " array([7910600.88768908, 7876788.66982481, 8142935.55939007, ...,\n",
       "        7497740.65214473, 2844174.19316986, 8161933.33199217])]"
      ]
     },
     "execution_count": 201,
     "metadata": {},
     "output_type": "execute_result"
    }
   ],
   "source": [
    "pred"
   ]
  },
  {
   "cell_type": "code",
   "execution_count": 204,
   "metadata": {},
   "outputs": [
    {
     "name": "stdout",
     "output_type": "stream",
     "text": [
      "1164188.3430346937\n",
      "608861.4868103322\n",
      "621829.5275780605\n",
      "615464.1443642668\n",
      "637338.0642784663\n",
      "890300.0953523688\n",
      "1105488.511085309\n",
      "651221.1197786143\n",
      "625768.1924085672\n",
      "7910600.887689075\n"
     ]
    }
   ],
   "source": [
    "for i in pred:\n",
    "    print(i[0])"
   ]
  },
  {
   "cell_type": "markdown",
   "metadata": {},
   "source": [
    "try 1 2 3 4 5 7 8"
   ]
  },
  {
   "cell_type": "code",
   "execution_count": 219,
   "metadata": {},
   "outputs": [
    {
     "data": {
      "text/html": [
       "<div>\n",
       "<style scoped>\n",
       "    .dataframe tbody tr th:only-of-type {\n",
       "        vertical-align: middle;\n",
       "    }\n",
       "\n",
       "    .dataframe tbody tr th {\n",
       "        vertical-align: top;\n",
       "    }\n",
       "\n",
       "    .dataframe thead th {\n",
       "        text-align: right;\n",
       "    }\n",
       "</style>\n",
       "<table border=\"1\" class=\"dataframe\">\n",
       "  <thead>\n",
       "    <tr style=\"text-align: right;\">\n",
       "      <th></th>\n",
       "      <th>Id</th>\n",
       "      <th>SalePrice</th>\n",
       "    </tr>\n",
       "  </thead>\n",
       "  <tbody>\n",
       "    <tr>\n",
       "      <th>0</th>\n",
       "      <td>1461</td>\n",
       "      <td>625768.192409</td>\n",
       "    </tr>\n",
       "    <tr>\n",
       "      <th>1</th>\n",
       "      <td>1462</td>\n",
       "      <td>708663.846076</td>\n",
       "    </tr>\n",
       "    <tr>\n",
       "      <th>2</th>\n",
       "      <td>1463</td>\n",
       "      <td>697967.612855</td>\n",
       "    </tr>\n",
       "    <tr>\n",
       "      <th>3</th>\n",
       "      <td>1464</td>\n",
       "      <td>725702.960970</td>\n",
       "    </tr>\n",
       "    <tr>\n",
       "      <th>4</th>\n",
       "      <td>1465</td>\n",
       "      <td>609262.856739</td>\n",
       "    </tr>\n",
       "    <tr>\n",
       "      <th>...</th>\n",
       "      <td>...</td>\n",
       "      <td>...</td>\n",
       "    </tr>\n",
       "    <tr>\n",
       "      <th>1454</th>\n",
       "      <td>2915</td>\n",
       "      <td>210529.029742</td>\n",
       "    </tr>\n",
       "    <tr>\n",
       "      <th>1455</th>\n",
       "      <td>2916</td>\n",
       "      <td>539502.644756</td>\n",
       "    </tr>\n",
       "    <tr>\n",
       "      <th>1456</th>\n",
       "      <td>2917</td>\n",
       "      <td>798940.042981</td>\n",
       "    </tr>\n",
       "    <tr>\n",
       "      <th>1457</th>\n",
       "      <td>2918</td>\n",
       "      <td>304696.628956</td>\n",
       "    </tr>\n",
       "    <tr>\n",
       "      <th>1458</th>\n",
       "      <td>2919</td>\n",
       "      <td>757596.018196</td>\n",
       "    </tr>\n",
       "  </tbody>\n",
       "</table>\n",
       "<p>1459 rows × 2 columns</p>\n",
       "</div>"
      ],
      "text/plain": [
       "        Id      SalePrice\n",
       "0     1461  625768.192409\n",
       "1     1462  708663.846076\n",
       "2     1463  697967.612855\n",
       "3     1464  725702.960970\n",
       "4     1465  609262.856739\n",
       "...    ...            ...\n",
       "1454  2915  210529.029742\n",
       "1455  2916  539502.644756\n",
       "1456  2917  798940.042981\n",
       "1457  2918  304696.628956\n",
       "1458  2919  757596.018196\n",
       "\n",
       "[1459 rows x 2 columns]"
      ]
     },
     "execution_count": 219,
     "metadata": {},
     "output_type": "execute_result"
    }
   ],
   "source": [
    "submit = pd.DataFrame(columns=['SalePrice'], data=pred[8])\n",
    "submit.insert(0, 'Id', Id)\n",
    "submit"
   ]
  },
  {
   "cell_type": "code",
   "execution_count": 220,
   "metadata": {},
   "outputs": [],
   "source": [
    "submit.to_csv('submit.csv', index=False)"
   ]
  }
 ],
 "metadata": {
  "kernelspec": {
   "display_name": "Python 3",
   "language": "python",
   "name": "python3"
  },
  "language_info": {
   "codemirror_mode": {
    "name": "ipython",
    "version": 3
   },
   "file_extension": ".py",
   "mimetype": "text/x-python",
   "name": "python",
   "nbconvert_exporter": "python",
   "pygments_lexer": "ipython3",
   "version": "3.7.6"
  }
 },
 "nbformat": 4,
 "nbformat_minor": 4
}
