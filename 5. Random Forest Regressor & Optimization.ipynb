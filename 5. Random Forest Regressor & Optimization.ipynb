{
 "cells": [
  {
   "cell_type": "markdown",
   "id": "opposed-maple",
   "metadata": {},
   "source": [
    "# Part 5 - Random Forest Regressor & Optimization <a class=\"anchor\" id=\"top\"></a>\n",
    "Previously, we have compared the basic model performance of 5 established regressor models and basic Random Forest Regressor has emerged to produce the highest accuracy. We will now perform optimization on the random forest regressor model to further improve its accuracy. We will introduce 6 different optimization strategies which are further elaborated in sections 4 - 9. <br>\n",
    "\n",
    "**Overview of Implementation**\n",
    "1. <a href=\"#section1\">Import Dataset</a>\n",
    "2. <a href=\"#section2\">Cleaning the Data for Model Training</a>\n",
    "3. <a href=\"#section3\">Random Tree Regressor</a>\n",
    "4. <a href=\"#section4\">Feature Importance and Selection</a>\n",
    "5. <a href=\"#section5\">Reducing Skewness in Continuous Variables</a>\n",
    "6. <a href=\"#section6\">Reducing Skewness in Categorical Variables</a>\n",
    "7. <a href=\"#section7\">Data Scaling</a>\n",
    "8. <a href=\"#section8\">Hyperparameter Tuning</a>\n",
    "9. <a href=\"#section9\">Further Data Engineering</a>\n",
    "10. <a href=\"#section10\">Result Compilation</a>\n",
    "\n",
    "**Github Link**: https://github.com/leakin185/CE9010Project"
   ]
  },
  {
   "cell_type": "code",
   "execution_count": 976,
   "id": "complex-conviction",
   "metadata": {},
   "outputs": [],
   "source": [
    "# Basic Libraries\n",
    "import numpy as np\n",
    "import pandas as pd\n",
    "import seaborn as sb\n",
    "import matplotlib.pyplot as plt # we only need pyplot\n",
    "sb.set() # set the default Seaborn style for graphics\n",
    "from scipy import stats\n",
    "import researchpy as rp\n",
    "import math\n",
    "from scipy.stats import skew \n",
    "from sklearn.ensemble import RandomForestRegressor\n",
    "from sklearn.preprocessing import MinMaxScaler\n",
    "from sklearn.metrics import mean_squared_error, mean_absolute_error\n",
    "from statistics import mean, median, mode, stdev\n",
    "from sklearn import preprocessing\n",
    "from sklearn.preprocessing import OneHotEncoder\n",
    "from sklearn.model_selection import train_test_split\n",
    "from sklearn.linear_model import LinearRegression\n",
    "from sklearn.preprocessing import StandardScaler\n",
    "from sklearn.model_selection import GridSearchCV\n",
    "from feature_engine.discretisation import EqualWidthDiscretiser\n",
    "from feature_engine.imputation import MeanMedianImputer\n",
    "from feature_engine.imputation import CategoricalImputer\n",
    "import collections"
   ]
  },
  {
   "cell_type": "markdown",
   "id": "academic-bahamas",
   "metadata": {},
   "source": [
    "## <a id='section1'>1. Import Dataset</a>"
   ]
  },
  {
   "cell_type": "code",
   "execution_count": 919,
   "id": "experimental-briefs",
   "metadata": {},
   "outputs": [
    {
     "data": {
      "text/html": [
       "<div>\n",
       "<style scoped>\n",
       "    .dataframe tbody tr th:only-of-type {\n",
       "        vertical-align: middle;\n",
       "    }\n",
       "\n",
       "    .dataframe tbody tr th {\n",
       "        vertical-align: top;\n",
       "    }\n",
       "\n",
       "    .dataframe thead th {\n",
       "        text-align: right;\n",
       "    }\n",
       "</style>\n",
       "<table border=\"1\" class=\"dataframe\">\n",
       "  <thead>\n",
       "    <tr style=\"text-align: right;\">\n",
       "      <th></th>\n",
       "      <th>Id</th>\n",
       "      <th>MSSubClass</th>\n",
       "      <th>MSZoning</th>\n",
       "      <th>LotFrontage</th>\n",
       "      <th>LotArea</th>\n",
       "      <th>Street</th>\n",
       "      <th>Alley</th>\n",
       "      <th>LotShape</th>\n",
       "      <th>LandContour</th>\n",
       "      <th>Utilities</th>\n",
       "      <th>...</th>\n",
       "      <th>PoolArea</th>\n",
       "      <th>PoolQC</th>\n",
       "      <th>Fence</th>\n",
       "      <th>MiscFeature</th>\n",
       "      <th>MiscVal</th>\n",
       "      <th>MoSold</th>\n",
       "      <th>YrSold</th>\n",
       "      <th>SaleType</th>\n",
       "      <th>SaleCondition</th>\n",
       "      <th>SalePrice</th>\n",
       "    </tr>\n",
       "  </thead>\n",
       "  <tbody>\n",
       "    <tr>\n",
       "      <th>0</th>\n",
       "      <td>1</td>\n",
       "      <td>60</td>\n",
       "      <td>RL</td>\n",
       "      <td>65.0</td>\n",
       "      <td>8450</td>\n",
       "      <td>Pave</td>\n",
       "      <td>NaN</td>\n",
       "      <td>Reg</td>\n",
       "      <td>Lvl</td>\n",
       "      <td>AllPub</td>\n",
       "      <td>...</td>\n",
       "      <td>0</td>\n",
       "      <td>NaN</td>\n",
       "      <td>NaN</td>\n",
       "      <td>NaN</td>\n",
       "      <td>0</td>\n",
       "      <td>2</td>\n",
       "      <td>2008</td>\n",
       "      <td>WD</td>\n",
       "      <td>Normal</td>\n",
       "      <td>208500</td>\n",
       "    </tr>\n",
       "    <tr>\n",
       "      <th>1</th>\n",
       "      <td>2</td>\n",
       "      <td>20</td>\n",
       "      <td>RL</td>\n",
       "      <td>80.0</td>\n",
       "      <td>9600</td>\n",
       "      <td>Pave</td>\n",
       "      <td>NaN</td>\n",
       "      <td>Reg</td>\n",
       "      <td>Lvl</td>\n",
       "      <td>AllPub</td>\n",
       "      <td>...</td>\n",
       "      <td>0</td>\n",
       "      <td>NaN</td>\n",
       "      <td>NaN</td>\n",
       "      <td>NaN</td>\n",
       "      <td>0</td>\n",
       "      <td>5</td>\n",
       "      <td>2007</td>\n",
       "      <td>WD</td>\n",
       "      <td>Normal</td>\n",
       "      <td>181500</td>\n",
       "    </tr>\n",
       "    <tr>\n",
       "      <th>2</th>\n",
       "      <td>3</td>\n",
       "      <td>60</td>\n",
       "      <td>RL</td>\n",
       "      <td>68.0</td>\n",
       "      <td>11250</td>\n",
       "      <td>Pave</td>\n",
       "      <td>NaN</td>\n",
       "      <td>IR1</td>\n",
       "      <td>Lvl</td>\n",
       "      <td>AllPub</td>\n",
       "      <td>...</td>\n",
       "      <td>0</td>\n",
       "      <td>NaN</td>\n",
       "      <td>NaN</td>\n",
       "      <td>NaN</td>\n",
       "      <td>0</td>\n",
       "      <td>9</td>\n",
       "      <td>2008</td>\n",
       "      <td>WD</td>\n",
       "      <td>Normal</td>\n",
       "      <td>223500</td>\n",
       "    </tr>\n",
       "    <tr>\n",
       "      <th>3</th>\n",
       "      <td>4</td>\n",
       "      <td>70</td>\n",
       "      <td>RL</td>\n",
       "      <td>60.0</td>\n",
       "      <td>9550</td>\n",
       "      <td>Pave</td>\n",
       "      <td>NaN</td>\n",
       "      <td>IR1</td>\n",
       "      <td>Lvl</td>\n",
       "      <td>AllPub</td>\n",
       "      <td>...</td>\n",
       "      <td>0</td>\n",
       "      <td>NaN</td>\n",
       "      <td>NaN</td>\n",
       "      <td>NaN</td>\n",
       "      <td>0</td>\n",
       "      <td>2</td>\n",
       "      <td>2006</td>\n",
       "      <td>WD</td>\n",
       "      <td>Abnorml</td>\n",
       "      <td>140000</td>\n",
       "    </tr>\n",
       "    <tr>\n",
       "      <th>4</th>\n",
       "      <td>5</td>\n",
       "      <td>60</td>\n",
       "      <td>RL</td>\n",
       "      <td>84.0</td>\n",
       "      <td>14260</td>\n",
       "      <td>Pave</td>\n",
       "      <td>NaN</td>\n",
       "      <td>IR1</td>\n",
       "      <td>Lvl</td>\n",
       "      <td>AllPub</td>\n",
       "      <td>...</td>\n",
       "      <td>0</td>\n",
       "      <td>NaN</td>\n",
       "      <td>NaN</td>\n",
       "      <td>NaN</td>\n",
       "      <td>0</td>\n",
       "      <td>12</td>\n",
       "      <td>2008</td>\n",
       "      <td>WD</td>\n",
       "      <td>Normal</td>\n",
       "      <td>250000</td>\n",
       "    </tr>\n",
       "    <tr>\n",
       "      <th>...</th>\n",
       "      <td>...</td>\n",
       "      <td>...</td>\n",
       "      <td>...</td>\n",
       "      <td>...</td>\n",
       "      <td>...</td>\n",
       "      <td>...</td>\n",
       "      <td>...</td>\n",
       "      <td>...</td>\n",
       "      <td>...</td>\n",
       "      <td>...</td>\n",
       "      <td>...</td>\n",
       "      <td>...</td>\n",
       "      <td>...</td>\n",
       "      <td>...</td>\n",
       "      <td>...</td>\n",
       "      <td>...</td>\n",
       "      <td>...</td>\n",
       "      <td>...</td>\n",
       "      <td>...</td>\n",
       "      <td>...</td>\n",
       "      <td>...</td>\n",
       "    </tr>\n",
       "    <tr>\n",
       "      <th>1455</th>\n",
       "      <td>1456</td>\n",
       "      <td>60</td>\n",
       "      <td>RL</td>\n",
       "      <td>62.0</td>\n",
       "      <td>7917</td>\n",
       "      <td>Pave</td>\n",
       "      <td>NaN</td>\n",
       "      <td>Reg</td>\n",
       "      <td>Lvl</td>\n",
       "      <td>AllPub</td>\n",
       "      <td>...</td>\n",
       "      <td>0</td>\n",
       "      <td>NaN</td>\n",
       "      <td>NaN</td>\n",
       "      <td>NaN</td>\n",
       "      <td>0</td>\n",
       "      <td>8</td>\n",
       "      <td>2007</td>\n",
       "      <td>WD</td>\n",
       "      <td>Normal</td>\n",
       "      <td>175000</td>\n",
       "    </tr>\n",
       "    <tr>\n",
       "      <th>1456</th>\n",
       "      <td>1457</td>\n",
       "      <td>20</td>\n",
       "      <td>RL</td>\n",
       "      <td>85.0</td>\n",
       "      <td>13175</td>\n",
       "      <td>Pave</td>\n",
       "      <td>NaN</td>\n",
       "      <td>Reg</td>\n",
       "      <td>Lvl</td>\n",
       "      <td>AllPub</td>\n",
       "      <td>...</td>\n",
       "      <td>0</td>\n",
       "      <td>NaN</td>\n",
       "      <td>MnPrv</td>\n",
       "      <td>NaN</td>\n",
       "      <td>0</td>\n",
       "      <td>2</td>\n",
       "      <td>2010</td>\n",
       "      <td>WD</td>\n",
       "      <td>Normal</td>\n",
       "      <td>210000</td>\n",
       "    </tr>\n",
       "    <tr>\n",
       "      <th>1457</th>\n",
       "      <td>1458</td>\n",
       "      <td>70</td>\n",
       "      <td>RL</td>\n",
       "      <td>66.0</td>\n",
       "      <td>9042</td>\n",
       "      <td>Pave</td>\n",
       "      <td>NaN</td>\n",
       "      <td>Reg</td>\n",
       "      <td>Lvl</td>\n",
       "      <td>AllPub</td>\n",
       "      <td>...</td>\n",
       "      <td>0</td>\n",
       "      <td>NaN</td>\n",
       "      <td>GdPrv</td>\n",
       "      <td>Shed</td>\n",
       "      <td>2500</td>\n",
       "      <td>5</td>\n",
       "      <td>2010</td>\n",
       "      <td>WD</td>\n",
       "      <td>Normal</td>\n",
       "      <td>266500</td>\n",
       "    </tr>\n",
       "    <tr>\n",
       "      <th>1458</th>\n",
       "      <td>1459</td>\n",
       "      <td>20</td>\n",
       "      <td>RL</td>\n",
       "      <td>68.0</td>\n",
       "      <td>9717</td>\n",
       "      <td>Pave</td>\n",
       "      <td>NaN</td>\n",
       "      <td>Reg</td>\n",
       "      <td>Lvl</td>\n",
       "      <td>AllPub</td>\n",
       "      <td>...</td>\n",
       "      <td>0</td>\n",
       "      <td>NaN</td>\n",
       "      <td>NaN</td>\n",
       "      <td>NaN</td>\n",
       "      <td>0</td>\n",
       "      <td>4</td>\n",
       "      <td>2010</td>\n",
       "      <td>WD</td>\n",
       "      <td>Normal</td>\n",
       "      <td>142125</td>\n",
       "    </tr>\n",
       "    <tr>\n",
       "      <th>1459</th>\n",
       "      <td>1460</td>\n",
       "      <td>20</td>\n",
       "      <td>RL</td>\n",
       "      <td>75.0</td>\n",
       "      <td>9937</td>\n",
       "      <td>Pave</td>\n",
       "      <td>NaN</td>\n",
       "      <td>Reg</td>\n",
       "      <td>Lvl</td>\n",
       "      <td>AllPub</td>\n",
       "      <td>...</td>\n",
       "      <td>0</td>\n",
       "      <td>NaN</td>\n",
       "      <td>NaN</td>\n",
       "      <td>NaN</td>\n",
       "      <td>0</td>\n",
       "      <td>6</td>\n",
       "      <td>2008</td>\n",
       "      <td>WD</td>\n",
       "      <td>Normal</td>\n",
       "      <td>147500</td>\n",
       "    </tr>\n",
       "  </tbody>\n",
       "</table>\n",
       "<p>1460 rows × 81 columns</p>\n",
       "</div>"
      ],
      "text/plain": [
       "        Id  MSSubClass MSZoning  LotFrontage  LotArea Street Alley LotShape  \\\n",
       "0        1          60       RL         65.0     8450   Pave   NaN      Reg   \n",
       "1        2          20       RL         80.0     9600   Pave   NaN      Reg   \n",
       "2        3          60       RL         68.0    11250   Pave   NaN      IR1   \n",
       "3        4          70       RL         60.0     9550   Pave   NaN      IR1   \n",
       "4        5          60       RL         84.0    14260   Pave   NaN      IR1   \n",
       "...    ...         ...      ...          ...      ...    ...   ...      ...   \n",
       "1455  1456          60       RL         62.0     7917   Pave   NaN      Reg   \n",
       "1456  1457          20       RL         85.0    13175   Pave   NaN      Reg   \n",
       "1457  1458          70       RL         66.0     9042   Pave   NaN      Reg   \n",
       "1458  1459          20       RL         68.0     9717   Pave   NaN      Reg   \n",
       "1459  1460          20       RL         75.0     9937   Pave   NaN      Reg   \n",
       "\n",
       "     LandContour Utilities  ... PoolArea PoolQC  Fence MiscFeature MiscVal  \\\n",
       "0            Lvl    AllPub  ...        0    NaN    NaN         NaN       0   \n",
       "1            Lvl    AllPub  ...        0    NaN    NaN         NaN       0   \n",
       "2            Lvl    AllPub  ...        0    NaN    NaN         NaN       0   \n",
       "3            Lvl    AllPub  ...        0    NaN    NaN         NaN       0   \n",
       "4            Lvl    AllPub  ...        0    NaN    NaN         NaN       0   \n",
       "...          ...       ...  ...      ...    ...    ...         ...     ...   \n",
       "1455         Lvl    AllPub  ...        0    NaN    NaN         NaN       0   \n",
       "1456         Lvl    AllPub  ...        0    NaN  MnPrv         NaN       0   \n",
       "1457         Lvl    AllPub  ...        0    NaN  GdPrv        Shed    2500   \n",
       "1458         Lvl    AllPub  ...        0    NaN    NaN         NaN       0   \n",
       "1459         Lvl    AllPub  ...        0    NaN    NaN         NaN       0   \n",
       "\n",
       "     MoSold YrSold  SaleType  SaleCondition  SalePrice  \n",
       "0         2   2008        WD         Normal     208500  \n",
       "1         5   2007        WD         Normal     181500  \n",
       "2         9   2008        WD         Normal     223500  \n",
       "3         2   2006        WD        Abnorml     140000  \n",
       "4        12   2008        WD         Normal     250000  \n",
       "...     ...    ...       ...            ...        ...  \n",
       "1455      8   2007        WD         Normal     175000  \n",
       "1456      2   2010        WD         Normal     210000  \n",
       "1457      5   2010        WD         Normal     266500  \n",
       "1458      4   2010        WD         Normal     142125  \n",
       "1459      6   2008        WD         Normal     147500  \n",
       "\n",
       "[1460 rows x 81 columns]"
      ]
     },
     "execution_count": 919,
     "metadata": {},
     "output_type": "execute_result"
    }
   ],
   "source": [
    "train = pd.read_csv('train.csv')\n",
    "train"
   ]
  },
  {
   "cell_type": "markdown",
   "id": "toxic-tokyo",
   "metadata": {},
   "source": [
    "## <a id='section2'>2. Cleaning the Data for Model Training</a>\n",
    "Remove the NA data and perform One Hot Encoding"
   ]
  },
  {
   "cell_type": "markdown",
   "id": "rapid-genetics",
   "metadata": {},
   "source": [
    "### 2.1. Removing the Null Data"
   ]
  },
  {
   "cell_type": "code",
   "execution_count": 920,
   "id": "legitimate-sentence",
   "metadata": {},
   "outputs": [
    {
     "name": "stdout",
     "output_type": "stream",
     "text": [
      "Drop feature - too many nulls:\n",
      "LotFrontage\n",
      "Remove data point:\n",
      "['MasVnrArea', 'Electrical', 'GarageYrBlt']\n"
     ]
    },
    {
     "data": {
      "text/html": [
       "<div>\n",
       "<style scoped>\n",
       "    .dataframe tbody tr th:only-of-type {\n",
       "        vertical-align: middle;\n",
       "    }\n",
       "\n",
       "    .dataframe tbody tr th {\n",
       "        vertical-align: top;\n",
       "    }\n",
       "\n",
       "    .dataframe thead th {\n",
       "        text-align: right;\n",
       "    }\n",
       "</style>\n",
       "<table border=\"1\" class=\"dataframe\">\n",
       "  <thead>\n",
       "    <tr style=\"text-align: right;\">\n",
       "      <th></th>\n",
       "      <th>Id</th>\n",
       "      <th>MSSubClass</th>\n",
       "      <th>MSZoning</th>\n",
       "      <th>LotArea</th>\n",
       "      <th>Street</th>\n",
       "      <th>Alley</th>\n",
       "      <th>LotShape</th>\n",
       "      <th>LandContour</th>\n",
       "      <th>Utilities</th>\n",
       "      <th>LotConfig</th>\n",
       "      <th>...</th>\n",
       "      <th>PoolArea</th>\n",
       "      <th>PoolQC</th>\n",
       "      <th>Fence</th>\n",
       "      <th>MiscFeature</th>\n",
       "      <th>MiscVal</th>\n",
       "      <th>MoSold</th>\n",
       "      <th>YrSold</th>\n",
       "      <th>SaleType</th>\n",
       "      <th>SaleCondition</th>\n",
       "      <th>SalePrice</th>\n",
       "    </tr>\n",
       "  </thead>\n",
       "  <tbody>\n",
       "    <tr>\n",
       "      <th>0</th>\n",
       "      <td>1</td>\n",
       "      <td>60</td>\n",
       "      <td>RL</td>\n",
       "      <td>8450</td>\n",
       "      <td>Pave</td>\n",
       "      <td>NaN</td>\n",
       "      <td>Reg</td>\n",
       "      <td>Lvl</td>\n",
       "      <td>AllPub</td>\n",
       "      <td>Inside</td>\n",
       "      <td>...</td>\n",
       "      <td>0</td>\n",
       "      <td>NaN</td>\n",
       "      <td>NaN</td>\n",
       "      <td>NaN</td>\n",
       "      <td>0</td>\n",
       "      <td>2</td>\n",
       "      <td>2008</td>\n",
       "      <td>WD</td>\n",
       "      <td>Normal</td>\n",
       "      <td>208500</td>\n",
       "    </tr>\n",
       "    <tr>\n",
       "      <th>1</th>\n",
       "      <td>2</td>\n",
       "      <td>20</td>\n",
       "      <td>RL</td>\n",
       "      <td>9600</td>\n",
       "      <td>Pave</td>\n",
       "      <td>NaN</td>\n",
       "      <td>Reg</td>\n",
       "      <td>Lvl</td>\n",
       "      <td>AllPub</td>\n",
       "      <td>FR2</td>\n",
       "      <td>...</td>\n",
       "      <td>0</td>\n",
       "      <td>NaN</td>\n",
       "      <td>NaN</td>\n",
       "      <td>NaN</td>\n",
       "      <td>0</td>\n",
       "      <td>5</td>\n",
       "      <td>2007</td>\n",
       "      <td>WD</td>\n",
       "      <td>Normal</td>\n",
       "      <td>181500</td>\n",
       "    </tr>\n",
       "    <tr>\n",
       "      <th>2</th>\n",
       "      <td>3</td>\n",
       "      <td>60</td>\n",
       "      <td>RL</td>\n",
       "      <td>11250</td>\n",
       "      <td>Pave</td>\n",
       "      <td>NaN</td>\n",
       "      <td>IR1</td>\n",
       "      <td>Lvl</td>\n",
       "      <td>AllPub</td>\n",
       "      <td>Inside</td>\n",
       "      <td>...</td>\n",
       "      <td>0</td>\n",
       "      <td>NaN</td>\n",
       "      <td>NaN</td>\n",
       "      <td>NaN</td>\n",
       "      <td>0</td>\n",
       "      <td>9</td>\n",
       "      <td>2008</td>\n",
       "      <td>WD</td>\n",
       "      <td>Normal</td>\n",
       "      <td>223500</td>\n",
       "    </tr>\n",
       "    <tr>\n",
       "      <th>3</th>\n",
       "      <td>4</td>\n",
       "      <td>70</td>\n",
       "      <td>RL</td>\n",
       "      <td>9550</td>\n",
       "      <td>Pave</td>\n",
       "      <td>NaN</td>\n",
       "      <td>IR1</td>\n",
       "      <td>Lvl</td>\n",
       "      <td>AllPub</td>\n",
       "      <td>Corner</td>\n",
       "      <td>...</td>\n",
       "      <td>0</td>\n",
       "      <td>NaN</td>\n",
       "      <td>NaN</td>\n",
       "      <td>NaN</td>\n",
       "      <td>0</td>\n",
       "      <td>2</td>\n",
       "      <td>2006</td>\n",
       "      <td>WD</td>\n",
       "      <td>Abnorml</td>\n",
       "      <td>140000</td>\n",
       "    </tr>\n",
       "    <tr>\n",
       "      <th>4</th>\n",
       "      <td>5</td>\n",
       "      <td>60</td>\n",
       "      <td>RL</td>\n",
       "      <td>14260</td>\n",
       "      <td>Pave</td>\n",
       "      <td>NaN</td>\n",
       "      <td>IR1</td>\n",
       "      <td>Lvl</td>\n",
       "      <td>AllPub</td>\n",
       "      <td>FR2</td>\n",
       "      <td>...</td>\n",
       "      <td>0</td>\n",
       "      <td>NaN</td>\n",
       "      <td>NaN</td>\n",
       "      <td>NaN</td>\n",
       "      <td>0</td>\n",
       "      <td>12</td>\n",
       "      <td>2008</td>\n",
       "      <td>WD</td>\n",
       "      <td>Normal</td>\n",
       "      <td>250000</td>\n",
       "    </tr>\n",
       "    <tr>\n",
       "      <th>...</th>\n",
       "      <td>...</td>\n",
       "      <td>...</td>\n",
       "      <td>...</td>\n",
       "      <td>...</td>\n",
       "      <td>...</td>\n",
       "      <td>...</td>\n",
       "      <td>...</td>\n",
       "      <td>...</td>\n",
       "      <td>...</td>\n",
       "      <td>...</td>\n",
       "      <td>...</td>\n",
       "      <td>...</td>\n",
       "      <td>...</td>\n",
       "      <td>...</td>\n",
       "      <td>...</td>\n",
       "      <td>...</td>\n",
       "      <td>...</td>\n",
       "      <td>...</td>\n",
       "      <td>...</td>\n",
       "      <td>...</td>\n",
       "      <td>...</td>\n",
       "    </tr>\n",
       "    <tr>\n",
       "      <th>1455</th>\n",
       "      <td>1456</td>\n",
       "      <td>60</td>\n",
       "      <td>RL</td>\n",
       "      <td>7917</td>\n",
       "      <td>Pave</td>\n",
       "      <td>NaN</td>\n",
       "      <td>Reg</td>\n",
       "      <td>Lvl</td>\n",
       "      <td>AllPub</td>\n",
       "      <td>Inside</td>\n",
       "      <td>...</td>\n",
       "      <td>0</td>\n",
       "      <td>NaN</td>\n",
       "      <td>NaN</td>\n",
       "      <td>NaN</td>\n",
       "      <td>0</td>\n",
       "      <td>8</td>\n",
       "      <td>2007</td>\n",
       "      <td>WD</td>\n",
       "      <td>Normal</td>\n",
       "      <td>175000</td>\n",
       "    </tr>\n",
       "    <tr>\n",
       "      <th>1456</th>\n",
       "      <td>1457</td>\n",
       "      <td>20</td>\n",
       "      <td>RL</td>\n",
       "      <td>13175</td>\n",
       "      <td>Pave</td>\n",
       "      <td>NaN</td>\n",
       "      <td>Reg</td>\n",
       "      <td>Lvl</td>\n",
       "      <td>AllPub</td>\n",
       "      <td>Inside</td>\n",
       "      <td>...</td>\n",
       "      <td>0</td>\n",
       "      <td>NaN</td>\n",
       "      <td>MnPrv</td>\n",
       "      <td>NaN</td>\n",
       "      <td>0</td>\n",
       "      <td>2</td>\n",
       "      <td>2010</td>\n",
       "      <td>WD</td>\n",
       "      <td>Normal</td>\n",
       "      <td>210000</td>\n",
       "    </tr>\n",
       "    <tr>\n",
       "      <th>1457</th>\n",
       "      <td>1458</td>\n",
       "      <td>70</td>\n",
       "      <td>RL</td>\n",
       "      <td>9042</td>\n",
       "      <td>Pave</td>\n",
       "      <td>NaN</td>\n",
       "      <td>Reg</td>\n",
       "      <td>Lvl</td>\n",
       "      <td>AllPub</td>\n",
       "      <td>Inside</td>\n",
       "      <td>...</td>\n",
       "      <td>0</td>\n",
       "      <td>NaN</td>\n",
       "      <td>GdPrv</td>\n",
       "      <td>Shed</td>\n",
       "      <td>2500</td>\n",
       "      <td>5</td>\n",
       "      <td>2010</td>\n",
       "      <td>WD</td>\n",
       "      <td>Normal</td>\n",
       "      <td>266500</td>\n",
       "    </tr>\n",
       "    <tr>\n",
       "      <th>1458</th>\n",
       "      <td>1459</td>\n",
       "      <td>20</td>\n",
       "      <td>RL</td>\n",
       "      <td>9717</td>\n",
       "      <td>Pave</td>\n",
       "      <td>NaN</td>\n",
       "      <td>Reg</td>\n",
       "      <td>Lvl</td>\n",
       "      <td>AllPub</td>\n",
       "      <td>Inside</td>\n",
       "      <td>...</td>\n",
       "      <td>0</td>\n",
       "      <td>NaN</td>\n",
       "      <td>NaN</td>\n",
       "      <td>NaN</td>\n",
       "      <td>0</td>\n",
       "      <td>4</td>\n",
       "      <td>2010</td>\n",
       "      <td>WD</td>\n",
       "      <td>Normal</td>\n",
       "      <td>142125</td>\n",
       "    </tr>\n",
       "    <tr>\n",
       "      <th>1459</th>\n",
       "      <td>1460</td>\n",
       "      <td>20</td>\n",
       "      <td>RL</td>\n",
       "      <td>9937</td>\n",
       "      <td>Pave</td>\n",
       "      <td>NaN</td>\n",
       "      <td>Reg</td>\n",
       "      <td>Lvl</td>\n",
       "      <td>AllPub</td>\n",
       "      <td>Inside</td>\n",
       "      <td>...</td>\n",
       "      <td>0</td>\n",
       "      <td>NaN</td>\n",
       "      <td>NaN</td>\n",
       "      <td>NaN</td>\n",
       "      <td>0</td>\n",
       "      <td>6</td>\n",
       "      <td>2008</td>\n",
       "      <td>WD</td>\n",
       "      <td>Normal</td>\n",
       "      <td>147500</td>\n",
       "    </tr>\n",
       "  </tbody>\n",
       "</table>\n",
       "<p>1370 rows × 80 columns</p>\n",
       "</div>"
      ],
      "text/plain": [
       "        Id  MSSubClass MSZoning  LotArea Street Alley LotShape LandContour  \\\n",
       "0        1          60       RL     8450   Pave   NaN      Reg         Lvl   \n",
       "1        2          20       RL     9600   Pave   NaN      Reg         Lvl   \n",
       "2        3          60       RL    11250   Pave   NaN      IR1         Lvl   \n",
       "3        4          70       RL     9550   Pave   NaN      IR1         Lvl   \n",
       "4        5          60       RL    14260   Pave   NaN      IR1         Lvl   \n",
       "...    ...         ...      ...      ...    ...   ...      ...         ...   \n",
       "1455  1456          60       RL     7917   Pave   NaN      Reg         Lvl   \n",
       "1456  1457          20       RL    13175   Pave   NaN      Reg         Lvl   \n",
       "1457  1458          70       RL     9042   Pave   NaN      Reg         Lvl   \n",
       "1458  1459          20       RL     9717   Pave   NaN      Reg         Lvl   \n",
       "1459  1460          20       RL     9937   Pave   NaN      Reg         Lvl   \n",
       "\n",
       "     Utilities LotConfig  ... PoolArea PoolQC  Fence MiscFeature MiscVal  \\\n",
       "0       AllPub    Inside  ...        0    NaN    NaN         NaN       0   \n",
       "1       AllPub       FR2  ...        0    NaN    NaN         NaN       0   \n",
       "2       AllPub    Inside  ...        0    NaN    NaN         NaN       0   \n",
       "3       AllPub    Corner  ...        0    NaN    NaN         NaN       0   \n",
       "4       AllPub       FR2  ...        0    NaN    NaN         NaN       0   \n",
       "...        ...       ...  ...      ...    ...    ...         ...     ...   \n",
       "1455    AllPub    Inside  ...        0    NaN    NaN         NaN       0   \n",
       "1456    AllPub    Inside  ...        0    NaN  MnPrv         NaN       0   \n",
       "1457    AllPub    Inside  ...        0    NaN  GdPrv        Shed    2500   \n",
       "1458    AllPub    Inside  ...        0    NaN    NaN         NaN       0   \n",
       "1459    AllPub    Inside  ...        0    NaN    NaN         NaN       0   \n",
       "\n",
       "     MoSold  YrSold  SaleType  SaleCondition  SalePrice  \n",
       "0         2    2008        WD         Normal     208500  \n",
       "1         5    2007        WD         Normal     181500  \n",
       "2         9    2008        WD         Normal     223500  \n",
       "3         2    2006        WD        Abnorml     140000  \n",
       "4        12    2008        WD         Normal     250000  \n",
       "...     ...     ...       ...            ...        ...  \n",
       "1455      8    2007        WD         Normal     175000  \n",
       "1456      2    2010        WD         Normal     210000  \n",
       "1457      5    2010        WD         Normal     266500  \n",
       "1458      4    2010        WD         Normal     142125  \n",
       "1459      6    2008        WD         Normal     147500  \n",
       "\n",
       "[1370 rows x 80 columns]"
      ]
     },
     "execution_count": 920,
     "metadata": {},
     "output_type": "execute_result"
    }
   ],
   "source": [
    "nullData = [['LotFrontage', 259], ['MasVnrArea', 8], ['Electrical', 1], ['GarageYrBlt', 81]]\n",
    "n = len(train)\n",
    "treshold = 0.1\n",
    "drop = []\n",
    "\n",
    "print('Drop feature - too many nulls:')\n",
    "for i in nullData:\n",
    "    if i[1]/n > treshold: # Arbitrary treshold: 10%\n",
    "        print(i[0])\n",
    "        train.drop(columns=[i[0]], inplace=True)\n",
    "    else:\n",
    "        drop.append(i[0])\n",
    "        \n",
    "print('Remove data point:')\n",
    "print(drop)\n",
    "train.dropna(subset=drop, inplace=True)\n",
    "\n",
    "train"
   ]
  },
  {
   "cell_type": "markdown",
   "id": "funded-composite",
   "metadata": {},
   "source": [
    "### 2.2. One-Hot Encoding"
   ]
  },
  {
   "cell_type": "code",
   "execution_count": 921,
   "id": "meaningful-circular",
   "metadata": {},
   "outputs": [
    {
     "name": "stdout",
     "output_type": "stream",
     "text": [
      "        Id  LotArea  YearBuilt  YearRemodAdd  MasVnrArea  BsmtFinSF1  \\\n",
      "0        1     8450       2003          2003       196.0         706   \n",
      "1        2     9600       1976          1976         0.0         978   \n",
      "2        3    11250       2001          2002       162.0         486   \n",
      "3        4     9550       1915          1970         0.0         216   \n",
      "4        5    14260       2000          2000       350.0         655   \n",
      "...    ...      ...        ...           ...         ...         ...   \n",
      "1455  1456     7917       1999          2000         0.0           0   \n",
      "1456  1457    13175       1978          1988       119.0         790   \n",
      "1457  1458     9042       1941          2006         0.0         275   \n",
      "1458  1459     9717       1950          1996         0.0          49   \n",
      "1459  1460     9937       1965          1965         0.0         830   \n",
      "\n",
      "      BsmtFinSF2  BsmtUnfSF  TotalBsmtSF  1stFlrSF  ...  SaleType_ConLw  \\\n",
      "0              0        150          856       856  ...               0   \n",
      "1              0        284         1262      1262  ...               0   \n",
      "2              0        434          920       920  ...               0   \n",
      "3              0        540          756       961  ...               0   \n",
      "4              0        490         1145      1145  ...               0   \n",
      "...          ...        ...          ...       ...  ...             ...   \n",
      "1455           0        953          953       953  ...               0   \n",
      "1456         163        589         1542      2073  ...               0   \n",
      "1457           0        877         1152      1188  ...               0   \n",
      "1458        1029          0         1078      1078  ...               0   \n",
      "1459         290        136         1256      1256  ...               0   \n",
      "\n",
      "      SaleType_New  SaleType_Oth  SaleType_WD  SaleCondition_Abnorml  \\\n",
      "0                0             0            1                      0   \n",
      "1                0             0            1                      0   \n",
      "2                0             0            1                      0   \n",
      "3                0             0            1                      1   \n",
      "4                0             0            1                      0   \n",
      "...            ...           ...          ...                    ...   \n",
      "1455             0             0            1                      0   \n",
      "1456             0             0            1                      0   \n",
      "1457             0             0            1                      0   \n",
      "1458             0             0            1                      0   \n",
      "1459             0             0            1                      0   \n",
      "\n",
      "      SaleCondition_AdjLand  SaleCondition_Alloca  SaleCondition_Family  \\\n",
      "0                         0                     0                     0   \n",
      "1                         0                     0                     0   \n",
      "2                         0                     0                     0   \n",
      "3                         0                     0                     0   \n",
      "4                         0                     0                     0   \n",
      "...                     ...                   ...                   ...   \n",
      "1455                      0                     0                     0   \n",
      "1456                      0                     0                     0   \n",
      "1457                      0                     0                     0   \n",
      "1458                      0                     0                     0   \n",
      "1459                      0                     0                     0   \n",
      "\n",
      "      SaleCondition_Normal  SaleCondition_Partial  \n",
      "0                        1                      0  \n",
      "1                        1                      0  \n",
      "2                        1                      0  \n",
      "3                        0                      0  \n",
      "4                        1                      0  \n",
      "...                    ...                    ...  \n",
      "1455                     1                      0  \n",
      "1456                     1                      0  \n",
      "1457                     1                      0  \n",
      "1458                     1                      0  \n",
      "1459                     1                      0  \n",
      "\n",
      "[1370 rows x 316 columns]\n"
     ]
    }
   ],
   "source": [
    "#One-Hot encoding\n",
    "categoricalcolumns = ['MSSubClass', 'MSZoning', 'Street', 'Alley', 'LotShape', 'LandContour', 'Utilities', 'LotConfig', 'LandSlope', 'Neighborhood', 'Condition1', 'Condition2', 'BldgType', 'HouseStyle', 'OverallQual', 'OverallCond', 'RoofStyle', 'RoofMatl', 'Exterior1st', 'Exterior2nd', 'MasVnrType', 'ExterQual', 'ExterCond','Foundation', 'BsmtQual', 'BsmtCond', 'BsmtExposure', 'BsmtFinType1', 'BsmtFinType2', 'Heating', 'HeatingQC', 'CentralAir', 'Electrical', 'KitchenQual', 'Functional', 'FireplaceQu', 'GarageType', 'GarageFinish', 'GarageQual', 'GarageCond', 'PavedDrive', 'PoolQC', 'Fence', 'MiscFeature', 'SaleType', 'SaleCondition']\n",
    "train1 = pd.get_dummies(train, columns= categoricalcolumns, prefix= categoricalcolumns)\n",
    "print(train1)"
   ]
  },
  {
   "cell_type": "markdown",
   "id": "seasonal-illness",
   "metadata": {},
   "source": [
    "[back to top](#top)"
   ]
  },
  {
   "cell_type": "markdown",
   "id": "naval-devon",
   "metadata": {},
   "source": [
    "## <a id='section3'>3. Random Tree Regressor</a>\n",
    "This model can be used for both classification and regression, and is built on top of the Decision Tree method. It works by randomly selecting data subsets, creating decision trees on each subset, and then vote for the best solution. The more trees there are in the forest, the more robust the model. \n",
    "In this case, our predictive or dependent variable is the SalePrice.\n",
    "\n",
    "We first employ a random forest regressor with default parameters."
   ]
  },
  {
   "cell_type": "code",
   "execution_count": 308,
   "id": "graduate-spoke",
   "metadata": {},
   "outputs": [],
   "source": [
    "#train-test split\n",
    "TEST_SIZE = 0.25\n",
    "\n",
    "filteredData1 = train1.drop(['Id'], axis=1)\n",
    "train_df, test_df = train_test_split(filteredData1, test_size=TEST_SIZE,shuffle = False) #put shuffle = False so that we can reuse the same training and test sets for better comparison\n",
    "\n",
    "train_X = train_df.drop('SalePrice', axis=1)\n",
    "train_Y = train_df['SalePrice']\n",
    "test_X = test_df.drop('SalePrice', axis=1)\n",
    "test_Y = test_df['SalePrice']"
   ]
  },
  {
   "cell_type": "code",
   "execution_count": 309,
   "id": "entitled-salon",
   "metadata": {},
   "outputs": [
    {
     "name": "stdout",
     "output_type": "stream",
     "text": [
      "Train accuracy = 0.9507081267362882\n",
      "Test accuracy = 0.8115182777864649\n"
     ]
    }
   ],
   "source": [
    "regressor = RandomForestRegressor(n_estimators = 5, random_state = 0)\n",
    "model = regressor.fit(train_X, train_Y)\n",
    "y_pred = model.predict(test_X)\n",
    "train_accuracy = model.score(train_X,train_Y)\n",
    "test_accuracy = model.score(test_X,test_Y)\n",
    "print (\"Train accuracy =\", model.score(train_X,train_Y))\n",
    "print (\"Test accuracy =\", model.score(test_X,test_Y))"
   ]
  },
  {
   "cell_type": "code",
   "execution_count": 310,
   "id": "arabic-arena",
   "metadata": {},
   "outputs": [
    {
     "data": {
      "text/html": [
       "<div>\n",
       "<style scoped>\n",
       "    .dataframe tbody tr th:only-of-type {\n",
       "        vertical-align: middle;\n",
       "    }\n",
       "\n",
       "    .dataframe tbody tr th {\n",
       "        vertical-align: top;\n",
       "    }\n",
       "\n",
       "    .dataframe thead th {\n",
       "        text-align: right;\n",
       "    }\n",
       "</style>\n",
       "<table border=\"1\" class=\"dataframe\">\n",
       "  <thead>\n",
       "    <tr style=\"text-align: right;\">\n",
       "      <th></th>\n",
       "      <th>Real Values</th>\n",
       "      <th>Predicted Values</th>\n",
       "    </tr>\n",
       "  </thead>\n",
       "  <tbody>\n",
       "    <tr>\n",
       "      <th>1093</th>\n",
       "      <td>146000</td>\n",
       "      <td>142810.0</td>\n",
       "    </tr>\n",
       "    <tr>\n",
       "      <th>1094</th>\n",
       "      <td>129000</td>\n",
       "      <td>118300.0</td>\n",
       "    </tr>\n",
       "    <tr>\n",
       "      <th>1095</th>\n",
       "      <td>176432</td>\n",
       "      <td>186598.2</td>\n",
       "    </tr>\n",
       "    <tr>\n",
       "      <th>1097</th>\n",
       "      <td>170000</td>\n",
       "      <td>153460.0</td>\n",
       "    </tr>\n",
       "    <tr>\n",
       "      <th>1098</th>\n",
       "      <td>128000</td>\n",
       "      <td>107001.6</td>\n",
       "    </tr>\n",
       "    <tr>\n",
       "      <th>...</th>\n",
       "      <td>...</td>\n",
       "      <td>...</td>\n",
       "    </tr>\n",
       "    <tr>\n",
       "      <th>1455</th>\n",
       "      <td>175000</td>\n",
       "      <td>176593.0</td>\n",
       "    </tr>\n",
       "    <tr>\n",
       "      <th>1456</th>\n",
       "      <td>210000</td>\n",
       "      <td>198800.0</td>\n",
       "    </tr>\n",
       "    <tr>\n",
       "      <th>1457</th>\n",
       "      <td>266500</td>\n",
       "      <td>246700.0</td>\n",
       "    </tr>\n",
       "    <tr>\n",
       "      <th>1458</th>\n",
       "      <td>142125</td>\n",
       "      <td>160680.0</td>\n",
       "    </tr>\n",
       "    <tr>\n",
       "      <th>1459</th>\n",
       "      <td>147500</td>\n",
       "      <td>150980.0</td>\n",
       "    </tr>\n",
       "  </tbody>\n",
       "</table>\n",
       "<p>343 rows × 2 columns</p>\n",
       "</div>"
      ],
      "text/plain": [
       "      Real Values  Predicted Values\n",
       "1093       146000          142810.0\n",
       "1094       129000          118300.0\n",
       "1095       176432          186598.2\n",
       "1097       170000          153460.0\n",
       "1098       128000          107001.6\n",
       "...           ...               ...\n",
       "1455       175000          176593.0\n",
       "1456       210000          198800.0\n",
       "1457       266500          246700.0\n",
       "1458       142125          160680.0\n",
       "1459       147500          150980.0\n",
       "\n",
       "[343 rows x 2 columns]"
      ]
     },
     "execution_count": 310,
     "metadata": {},
     "output_type": "execute_result"
    }
   ],
   "source": [
    "#comparing the actual and the predicted SalePrice values\n",
    "df = pd.DataFrame({'Real Values':test_Y, 'Predicted Values':y_pred.reshape(-1)})\n",
    "df"
   ]
  },
  {
   "cell_type": "code",
   "execution_count": 311,
   "id": "attractive-material",
   "metadata": {},
   "outputs": [
    {
     "name": "stdout",
     "output_type": "stream",
     "text": [
      "Mean square error (MSE) =  1111456094.4083965\n",
      "Root mean square error (RMSE) =  33338.50768118448\n",
      "Mean absolute error (MBS) =  21267.98717201166\n",
      "The MBS occupies  0.11622029403628305  of the average SalePrice value\n"
     ]
    }
   ],
   "source": [
    "#Accuracy report\n",
    "realVals = df[\"Real Values\"]\n",
    "predictedVals = df[\"Predicted Values\"]\n",
    "mse = mean_squared_error(realVals, predictedVals)\n",
    "rmse = math.sqrt(mse)\n",
    "print (\"Mean square error (MSE) = \", mse)\n",
    "print (\"Root mean square error (RMSE) = \", rmse)\n",
    "average_y = mean(realVals)\n",
    "mbs = mean_absolute_error(realVals, predictedVals)\n",
    "print(\"Mean absolute error (MBS) = \", mbs)\n",
    "print (\"The MBS occupies \",(mbs/average_y), \" of the average SalePrice value\")"
   ]
  },
  {
   "cell_type": "markdown",
   "id": "alone-precipitation",
   "metadata": {},
   "source": [
    "[back to top](#top)"
   ]
  },
  {
   "cell_type": "markdown",
   "id": "divided-department",
   "metadata": {},
   "source": [
    "## <a id='section4'>4. Feature Importance and Selection</a>\n",
    "Feature importance is calculated as the decrease in node impurity weighted by the probability of reaching that node. The node probability can be calculated by the number of samples that reach the node, divided by the total number of samples. The higher the value the more important the feature. We can use this method to select the top most important variables and tune the model based on them."
   ]
  },
  {
   "cell_type": "code",
   "execution_count": 346,
   "id": "wanted-lexington",
   "metadata": {},
   "outputs": [
    {
     "data": {
      "image/png": "[encoded data removed]",
      "text/plain": [
       "<Figure size 1440x576 with 1 Axes>"
      ]
     },
     "metadata": {},
     "output_type": "display_data"
    }
   ],
   "source": [
    "#model optimisation - feature importance\n",
    "tmp = pd.DataFrame({'Feature': train_X.columns, 'Feature importance': model.feature_importances_})\n",
    "tmp1 = tmp.sort_values(by='Feature importance',ascending=False)\n",
    "plt.figure(figsize = (20,8))\n",
    "plt.title('Features importance',fontsize=8)\n",
    "s = sb.barplot(x='Feature',y='Feature importance',data=tmp1[:50])\n",
    "s.set_xticklabels(s.get_xticklabels(),rotation=90)\n",
    "plt.show()"
   ]
  },
  {
   "cell_type": "code",
   "execution_count": 347,
   "id": "later-kingston",
   "metadata": {},
   "outputs": [
    {
     "name": "stdout",
     "output_type": "stream",
     "text": [
      "     Feature importance\n",
      "21             0.406469\n",
      "11             0.212503\n",
      "197            0.042671\n",
      "7              0.040760\n",
      "8              0.031489\n",
      "..                  ...\n",
      "102            0.000000\n",
      "104            0.000000\n",
      "106            0.000000\n",
      "107            0.000000\n",
      "227            0.000000\n",
      "\n",
      "[314 rows x 1 columns]\n",
      "              Feature\n",
      "21         GarageCars\n",
      "11          GrLivArea\n",
      "197      ExterQual_TA\n",
      "7         TotalBsmtSF\n",
      "8            1stFlrSF\n",
      "..                ...\n",
      "102   Condition1_PosA\n",
      "104   Condition1_RRAe\n",
      "106   Condition1_RRNe\n",
      "107   Condition1_RRNn\n",
      "227  BsmtFinType2_BLQ\n",
      "\n",
      "[314 rows x 1 columns]\n"
     ]
    }
   ],
   "source": [
    "#List of features sorted from most to least important\n",
    "sorted_importances = pd.DataFrame(tmp1['Feature importance'])\n",
    "sorted_features = pd.DataFrame(tmp1['Feature'])\n",
    "print(sorted_importances)\n",
    "print(sorted_features)"
   ]
  },
  {
   "cell_type": "code",
   "execution_count": 319,
   "id": "adaptive-least",
   "metadata": {},
   "outputs": [
    {
     "data": {
      "text/plain": [
       "<matplotlib.collections.LineCollection at 0x7f9552ac9fd0>"
      ]
     },
     "execution_count": 319,
     "metadata": {},
     "output_type": "execute_result"
    },
    {
     "data": {
      "image/png": "[encoded data removed]",
      "text/plain": [
       "<Figure size 2160x720 with 1 Axes>"
      ]
     },
     "metadata": {},
     "output_type": "display_data"
    }
   ],
   "source": [
    "importance = model.feature_importances_\n",
    "\n",
    "featurelist = []\n",
    "for c in train_X.columns:\n",
    "    featurelist.append(c)\n",
    "\n",
    "indices = np.argsort(importance)\n",
    "cumulativeimpt= np.cumsum(importance)\n",
    "featurerank = [featurelist[i] for i in indices]\n",
    "\n",
    "\n",
    "plt.figure(figsize=(30,10))\n",
    "plt.plot(featurerank, cumulativeimpt, 'g-')\n",
    "plt.xticks(featurerank, rotation = 'vertical')\n",
    "plt.xlabel('Feature')\n",
    "plt.ylabel('Cumulative Importance')\n",
    "plt.title('Cumulative Importances')\n",
    "\n",
    "plt.hlines(y = 0.95, xmin=0, xmax=train1.shape[1], color = 'r', linestyles = 'dashed')"
   ]
  },
  {
   "cell_type": "code",
   "execution_count": 382,
   "id": "everyday-chile",
   "metadata": {},
   "outputs": [
    {
     "name": "stdout",
     "output_type": "stream",
     "text": [
      "Number of features for 95% importance: 103\n"
     ]
    }
   ],
   "source": [
    "countimpt = 0\n",
    "for i in cumulativeimpt:\n",
    "    if i >= 0.95:\n",
    "        countimpt += 1\n",
    "    \n",
    "print('Number of features for 95% importance:', countimpt)"
   ]
  },
  {
   "cell_type": "code",
   "execution_count": 383,
   "id": "sought-bronze",
   "metadata": {},
   "outputs": [
    {
     "name": "stdout",
     "output_type": "stream",
     "text": [
      "              Feature\n",
      "21         GarageCars\n",
      "11          GrLivArea\n",
      "197      ExterQual_TA\n",
      "7         TotalBsmtSF\n",
      "8            1stFlrSF\n",
      "..                ...\n",
      "243      CentralAir_N\n",
      "12       BsmtFullBath\n",
      "223  BsmtFinType1_LwQ\n",
      "66   LotConfig_Corner\n",
      "100  Condition1_Feedr\n",
      "\n",
      "[103 rows x 1 columns]\n"
     ]
    }
   ],
   "source": [
    "# Extract the names of the most important features\n",
    "important_feature_names = sorted_features[0:countimpt]\n",
    "print (important_feature_names)"
   ]
  },
  {
   "cell_type": "code",
   "execution_count": 384,
   "id": "arabic-being",
   "metadata": {},
   "outputs": [],
   "source": [
    "list1 = []\n",
    "for i in sorted_features[0:countimpt][\"Feature\"]:\n",
    "    list1.append(i)"
   ]
  },
  {
   "cell_type": "code",
   "execution_count": 385,
   "id": "measured-tension",
   "metadata": {},
   "outputs": [],
   "source": [
    "#use the top 106 variables for regression model training\n",
    "train_X_new = train_X[list1]\n",
    "test_X_new = test_X[list1]"
   ]
  },
  {
   "cell_type": "code",
   "execution_count": 386,
   "id": "satellite-flower",
   "metadata": {},
   "outputs": [
    {
     "name": "stdout",
     "output_type": "stream",
     "text": [
      "Train accuracy = 0.9614500225110464\n",
      "Test accuracy = 0.8706675199366407\n"
     ]
    }
   ],
   "source": [
    "#Accuracy after feature selection\n",
    "regressor = RandomForestRegressor(n_estimators = 10, random_state = 0)\n",
    "model = regressor.fit(train_X_new, train_Y)\n",
    "y_pred = model.predict(test_X_new)\n",
    "train_accuracy_new = model.score(train_X_new,train_Y)\n",
    "test_accuracy_new = model.score(test_X_new,test_Y)\n",
    "print (\"Train accuracy =\", model.score(train_X_new,train_Y))\n",
    "print (\"Test accuracy =\", model.score(test_X_new,test_Y))"
   ]
  },
  {
   "cell_type": "code",
   "execution_count": 387,
   "id": "norwegian-impression",
   "metadata": {},
   "outputs": [
    {
     "data": {
      "text/plain": [
       "762659484.8731195"
      ]
     },
     "execution_count": 387,
     "metadata": {},
     "output_type": "execute_result"
    }
   ],
   "source": [
    "mse = mean_squared_error(test_Y, y_pred)\n",
    "mse"
   ]
  },
  {
   "cell_type": "code",
   "execution_count": 388,
   "id": "polish-profit",
   "metadata": {},
   "outputs": [
    {
     "name": "stdout",
     "output_type": "stream",
     "text": [
      "Train accuracy improvement = 1.1298836596289856 %\n",
      "Test accuracy improvement = 7.288713485482304 %\n"
     ]
    }
   ],
   "source": [
    "#improvement in accuracy\n",
    "train_improvement = (train_accuracy_new - train_accuracy)/train_accuracy*100\n",
    "test_improvement = (test_accuracy_new - test_accuracy)/test_accuracy*100\n",
    "print (\"Train accuracy improvement =\", train_improvement,\"%\")\n",
    "print (\"Test accuracy improvement =\", test_improvement,\"%\")"
   ]
  },
  {
   "cell_type": "markdown",
   "id": "printable-cambodia",
   "metadata": {},
   "source": [
    "We can see that the test accuracy has improved with feature selection"
   ]
  },
  {
   "cell_type": "markdown",
   "id": "conditional-ethernet",
   "metadata": {},
   "source": [
    "[back to top](#top)"
   ]
  },
  {
   "cell_type": "markdown",
   "id": "indonesian-elimination",
   "metadata": {},
   "source": [
    "## <a id='section5'>5. Data Transformation - Reducing Skewness in Continuous Variables</a>\n",
    "1. **Log Transformation** <br>\n",
    "Log transformation is a data transformation method in which it replaces each variable x with a log(x). When our original continuous data do not follow the bell curve, we can log transform this data to make it as “normal” as possible so that the statistical analysis results from this data become more valid. In other words, the log transformation reduces or removes the skewness of our original data\n",
    "\n",
    "2. **Removing outliers with IQR** <br>\n",
    "The Interquartile Range (IQR) is a measure of variability, based on dividing a data set into quartiles. Quartiles divide a rank-ordered data set into four equal parts. As we remove outliers with IQR, we are trying to reduce the skewness in variables."
   ]
  },
  {
   "cell_type": "code",
   "execution_count": 389,
   "id": "controversial-application",
   "metadata": {},
   "outputs": [
    {
     "name": "stdout",
     "output_type": "stream",
     "text": [
      "MiscVal : skewness =  24.732979451706033\n",
      "PoolArea : skewness =  14.342881566937836\n",
      "LotArea : skewness =  12.025446327344339\n",
      "LowQualFinSF : skewness =  10.66505349858299\n",
      "3SsnPorch : skewness =  9.96262046395852\n",
      "KitchenAbvGr : skewness =  5.129053439295553\n",
      "BsmtFinSF2 : skewness =  4.174330005566947\n",
      "ScreenPorch : skewness =  3.967379533802487\n",
      "BsmtHalfBath : skewness =  3.89811918894981\n",
      "EnclosedPorch : skewness =  3.214887613130617\n",
      "MasVnrArea : skewness =  2.588332838278803\n",
      "OpenPorchSF : skewness =  2.2638025759950504\n",
      "BsmtFinSF1 : skewness =  1.6941364533315026\n",
      "TotalBsmtSF : skewness =  1.6330286577439608\n",
      "WoodDeckSF : skewness =  1.5027101898713007\n"
     ]
    }
   ],
   "source": [
    "# identifying continuous variables with high skewness\n",
    "continuous = ['LotArea', 'YearBuilt', 'YearRemodAdd', \n",
    "       'MasVnrArea', 'BsmtFinSF1', 'BsmtFinSF2', 'BsmtUnfSF', 'TotalBsmtSF', '1stFlrSF', '2ndFlrSF',\n",
    "       'LowQualFinSF', 'GrLivArea', 'BsmtFullBath', 'BsmtHalfBath', 'FullBath',\n",
    "       'HalfBath', 'BedroomAbvGr', 'KitchenAbvGr','TotRmsAbvGrd', 'Fireplaces', \n",
    "       'GarageYrBlt', 'GarageCars', 'GarageArea', 'WoodDeckSF', 'OpenPorchSF',\n",
    "       'EnclosedPorch', '3SsnPorch', 'ScreenPorch', 'PoolArea', 'MiscVal', 'MoSold', 'YrSold']\n",
    "array1 = skew(train1[continuous])\n",
    "#the top 15 features which are the most skewed\n",
    "index1 = array1.argsort()[-15:][::-1]\n",
    "continuous_skewed=[]\n",
    "for i in index1:\n",
    "    print (continuous[i],\": skewness = \", array1[i])\n",
    "    if array1[i]>=1:\n",
    "        continuous_skewed.append(continuous[i])"
   ]
  },
  {
   "cell_type": "code",
   "execution_count": 390,
   "id": "million-coach",
   "metadata": {},
   "outputs": [],
   "source": [
    "#applying log transformation for selected variables\n",
    "train2=train1.copy()\n",
    "for i in continuous_skewed:\n",
    "    train2[i] = train2[i].map(lambda l: np.log(l) if l > 0 else 0)"
   ]
  },
  {
   "cell_type": "code",
   "execution_count": 391,
   "id": "normal-portugal",
   "metadata": {},
   "outputs": [
    {
     "name": "stdout",
     "output_type": "stream",
     "text": [
      "BsmtHalfBath : skewness =  36.97297297297236\n",
      "PoolArea : skewness =  13.892471985364587\n",
      "LowQualFinSF : skewness =  8.537169018827495\n",
      "3SsnPorch : skewness =  7.475352552864676\n",
      "MiscVal : skewness =  5.151007848096852\n",
      "KitchenAbvGr : skewness =  4.960618997125171\n",
      "ScreenPorch : skewness =  3.0205800205812574\n",
      "BsmtFinSF2 : skewness =  2.453380237081663\n",
      "EnclosedPorch : skewness =  2.203145749719571\n",
      "GrLivArea : skewness =  1.4168971139325073\n",
      "1stFlrSF : skewness =  1.3857782746124663\n",
      "BsmtUnfSF : skewness =  0.9266242711949279\n",
      "GarageArea : skewness =  0.8114489269622572\n",
      "2ndFlrSF : skewness =  0.7879161526110934\n",
      "TotRmsAbvGrd : skewness =  0.6758238152091317\n"
     ]
    }
   ],
   "source": [
    "array2 = skew(train2[continuous])\n",
    "#the top 15 features which are the most skewed\n",
    "index2 = array2.argsort()[-15:][::-1]\n",
    "continuous_skewed=[]\n",
    "for i in index2: \n",
    "    print (continuous[i],\": skewness = \", array2[i])\n",
    "    if array2[i] >= 1:\n",
    "        continuous_skewed.append(continuous[i])"
   ]
  },
  {
   "cell_type": "markdown",
   "id": "resident-tiffany",
   "metadata": {},
   "source": [
    "From the results, we have seen that the skewness of some variables have been reduced with log transformation, but some did not. This is likely because the original data has to follow or approximately follow a log-normal distribution. Otherwise, the log transformation will not work as well. As such, we will perform log transformation on the variables which have their skewness successfully reduced after log transformation but not the others."
   ]
  },
  {
   "cell_type": "code",
   "execution_count": 392,
   "id": "fewer-mississippi",
   "metadata": {},
   "outputs": [
    {
     "name": "stdout",
     "output_type": "stream",
     "text": [
      "BsmtHalfBath : skewness =  3.89811918894981 \t, skewness2 =  36.97297297297236\n",
      "PoolArea : skewness =  14.342881566937836 \t, skewness2 =  13.892471985364587\n",
      "LowQualFinSF : skewness =  10.66505349858299 \t, skewness2 =  8.537169018827495\n",
      "3SsnPorch : skewness =  9.96262046395852 \t, skewness2 =  7.475352552864676\n",
      "MiscVal : skewness =  24.732979451706033 \t, skewness2 =  5.151007848096852\n",
      "KitchenAbvGr : skewness =  5.129053439295553 \t, skewness2 =  4.960618997125171\n",
      "ScreenPorch : skewness =  3.967379533802487 \t, skewness2 =  3.0205800205812574\n",
      "BsmtFinSF2 : skewness =  4.174330005566947 \t, skewness2 =  2.453380237081663\n",
      "EnclosedPorch : skewness =  3.214887613130617 \t, skewness2 =  2.203145749719571\n",
      "GrLivArea : skewness =  1.4168971139325073 \t, skewness2 =  1.4168971139325073\n",
      "1stFlrSF : skewness =  1.3857782746124663 \t, skewness2 =  1.3857782746124663\n",
      "BsmtUnfSF : skewness =  0.9266242711949279 \t, skewness2 =  0.9266242711949279\n",
      "GarageArea : skewness =  0.8114489269622572 \t, skewness2 =  0.8114489269622572\n",
      "2ndFlrSF : skewness =  0.7879161526110934 \t, skewness2 =  0.7879161526110934\n",
      "TotRmsAbvGrd : skewness =  0.6758238152091317 \t, skewness2 =  0.6758238152091317\n"
     ]
    }
   ],
   "source": [
    "#revert the log transformation if the skewness increases after log transformation\n",
    "for i in index2: \n",
    "    print (continuous[i],\": skewness = \", array1[i],\"\\t, skewness2 = \", array2[i])\n",
    "    if array2[i] >= array1[i]:\n",
    "        train2[continuous[i]] = train1[continuous[i]]"
   ]
  },
  {
   "cell_type": "code",
   "execution_count": 393,
   "id": "better-friday",
   "metadata": {},
   "outputs": [
    {
     "name": "stdout",
     "output_type": "stream",
     "text": [
      "PoolArea : skewness =  13.892471985364587\n",
      "LowQualFinSF : skewness =  8.537169018827495\n",
      "3SsnPorch : skewness =  7.475352552864676\n",
      "MiscVal : skewness =  5.151007848096852\n",
      "KitchenAbvGr : skewness =  4.960618997125171\n",
      "BsmtHalfBath : skewness =  3.89811918894981\n",
      "ScreenPorch : skewness =  3.0205800205812574\n",
      "BsmtFinSF2 : skewness =  2.453380237081663\n",
      "EnclosedPorch : skewness =  2.203145749719571\n",
      "GrLivArea : skewness =  1.4168971139325073\n",
      "1stFlrSF : skewness =  1.3857782746124663\n",
      "BsmtUnfSF : skewness =  0.9266242711949279\n",
      "GarageArea : skewness =  0.8114489269622572\n",
      "2ndFlrSF : skewness =  0.7879161526110934\n",
      "TotRmsAbvGrd : skewness =  0.6758238152091317\n"
     ]
    }
   ],
   "source": [
    "#recalculating skewness of continuous variables\n",
    "array2 = skew(train2[continuous])\n",
    "#the top 10 features which are the most skewed\n",
    "index2 = array2.argsort()[-15:][::-1]\n",
    "for i in index2: \n",
    "    print (continuous[i],\": skewness = \", array2[i])"
   ]
  },
  {
   "cell_type": "markdown",
   "id": "premier-employee",
   "metadata": {},
   "source": [
    "After doing the log transformation, we selected continuous variables that still gives a skewness value of more than 1.\n",
    "We then used the interquartile range (IQR) method to remove the outliers."
   ]
  },
  {
   "cell_type": "code",
   "execution_count": 394,
   "id": "incorporate-laptop",
   "metadata": {},
   "outputs": [
    {
     "name": "stdout",
     "output_type": "stream",
     "text": [
      "(1370, 316)\n",
      "(799, 316)\n"
     ]
    },
    {
     "name": "stderr",
     "output_type": "stream",
     "text": [
      "<ipython-input-394-7c4ace8d3b76>:9: FutureWarning: Automatic reindexing on DataFrame vs Series comparisons is deprecated and will raise ValueError in a future version.  Do `left, right = left.align(right, axis=1, copy=False)` before e.g. `left == right`\n",
      "  train3 = train2[~((train2>upper)).any(axis=1)]\n"
     ]
    }
   ],
   "source": [
    "print(train2.shape)\n",
    "# calculate interquartile range\n",
    "q25, q75 = train2[continuous_skewed].quantile(0.25), train2[continuous_skewed].quantile(0.75)\n",
    "iqr = q75 - q25\n",
    "# calculate the outlier cutoff\n",
    "cut_off = iqr * 1.5\n",
    "lower, upper = q25 - cut_off, q75 + cut_off\n",
    "\n",
    "train3 = train2[~((train2>upper)).any(axis=1)]\n",
    "print(train3.shape)"
   ]
  },
  {
   "cell_type": "code",
   "execution_count": 395,
   "id": "coated-addition",
   "metadata": {},
   "outputs": [
    {
     "name": "stdout",
     "output_type": "stream",
     "text": [
      "BsmtUnfSF : skewness =  0.8134469641710275\n",
      "GarageArea : skewness =  0.7509952288155002\n",
      "2ndFlrSF : skewness =  0.6462040969748152\n"
     ]
    }
   ],
   "source": [
    "#calculating skewness of continuous variables\n",
    "array = skew(train3[continuous])\n",
    "#the top 3 features which are the most skewed\n",
    "index = array.argsort()[-3:][::-1]\n",
    "for i in index: \n",
    "    print (continuous[i],\": skewness = \", array[i])"
   ]
  },
  {
   "cell_type": "markdown",
   "id": "completed-syndrome",
   "metadata": {},
   "source": [
    "After doing log transformation and removing of data from IQR, we see that there are no extremely skewed variables anymore (skewness > 1)"
   ]
  },
  {
   "cell_type": "code",
   "execution_count": 396,
   "id": "republican-milton",
   "metadata": {},
   "outputs": [],
   "source": [
    "#train-test split\n",
    "train4 = train3.copy()\n",
    "TEST_SIZE = 0.25\n",
    "\n",
    "filteredData1 = train4.drop(['Id'], axis=1)\n",
    "train_df, test_df = train_test_split(filteredData1, test_size=TEST_SIZE,shuffle = False) #put shuffle = False so that we can reuse the same training and test sets for better comparison\n",
    "\n",
    "train_X = train_df.drop('SalePrice', axis=1)\n",
    "train_Y = train_df['SalePrice']\n",
    "test_X = test_df.drop('SalePrice', axis=1)\n",
    "test_Y = test_df['SalePrice']"
   ]
  },
  {
   "cell_type": "code",
   "execution_count": 397,
   "id": "correct-sandwich",
   "metadata": {},
   "outputs": [
    {
     "name": "stdout",
     "output_type": "stream",
     "text": [
      "Train accuracy = 0.9731983005741597\n",
      "Test accuracy = 0.7951294906104807\n"
     ]
    }
   ],
   "source": [
    "regressor = RandomForestRegressor(n_estimators = 5, random_state = 0)\n",
    "model = regressor.fit(train_X, train_Y)\n",
    "y_pred = model.predict(test_X)\n",
    "train_accuracy_skew = model.score(train_X,train_Y)\n",
    "test_accuracy_skew = model.score(test_X,test_Y)\n",
    "print (\"Train accuracy =\", model.score(train_X,train_Y))\n",
    "print (\"Test accuracy =\", model.score(test_X,test_Y))"
   ]
  },
  {
   "cell_type": "code",
   "execution_count": 398,
   "id": "existing-retail",
   "metadata": {},
   "outputs": [
    {
     "name": "stdout",
     "output_type": "stream",
     "text": [
      "Train accuracy improvement = 2.365623392226442 %\n",
      "Test accuracy improvement = -2.019521633041595 %\n"
     ]
    }
   ],
   "source": [
    "#improvement in accuracy\n",
    "train_improvement = (train_accuracy_skew - train_accuracy)/train_accuracy*100\n",
    "test_improvement = (test_accuracy_skew - test_accuracy)/test_accuracy*100\n",
    "print (\"Train accuracy improvement =\", train_improvement,\"%\")\n",
    "print (\"Test accuracy improvement =\", test_improvement,\"%\")"
   ]
  },
  {
   "cell_type": "markdown",
   "id": "smart-monte",
   "metadata": {},
   "source": [
    "This method has failed to improve the model accuracy, and we will not adopt it in for our final model. <br>\n",
    "\n",
    "**Possible reasons for failure:** \n",
    "- log transformation is a model-specific data transformation method as it seeks to convert data into a normal distribution. However, this may not be suitable for the regression model. \n",
    "- data transformation with log transformation and removing of skewed data may be too extensive, causing the data to lose its original structure and meaning. With that, the model predicts less accurately.\n",
    "\n",
    "[back to top](#top)"
   ]
  },
  {
   "cell_type": "markdown",
   "id": "after-turkish",
   "metadata": {},
   "source": [
    "## <a id='section6'>6. Reducing Skewness in Categorical Variables</a>"
   ]
  },
  {
   "cell_type": "markdown",
   "id": "prescription-residence",
   "metadata": {},
   "source": [
    "**Dealing with highly skewed categorical features** <br>\n",
    "As identifited from data exploration, we remove categorical variables with one category of data occuping >= 90% of data."
   ]
  },
  {
   "cell_type": "code",
   "execution_count": 498,
   "id": "devoted-training",
   "metadata": {},
   "outputs": [
    {
     "name": "stdout",
     "output_type": "stream",
     "text": [
      "The number of variables with one category of data which occupies >= 90% of data = 15\n",
      "Street /ratio of the dominant category =  0.9964\n",
      "LandContour /ratio of the dominant category =  0.9015000000000001\n",
      "Utilities /ratio of the dominant category =  0.9993000000000001\n",
      "LandSlope /ratio of the dominant category =  0.9467\n",
      "Condition2 /ratio of the dominant category =  0.9898\n",
      "RoofMatl /ratio of the dominant category =  0.9818000000000001\n",
      "BsmtCond /ratio of the dominant category =  0.9246\n",
      "Heating /ratio of the dominant category =  0.981\n",
      "CentralAir /ratio of the dominant category =  0.9495999999999999\n",
      "Electrical /ratio of the dominant category =  0.9226000000000001\n",
      "Functional /ratio of the dominant category =  0.9336\n",
      "GarageQual /ratio of the dominant category =  0.9504\n",
      "GarageCond /ratio of the dominant category =  0.9612999999999999\n",
      "PavedDrive /ratio of the dominant category =  0.9372\n",
      "MiscFeature /ratio of the dominant category =  0.9216\n"
     ]
    }
   ],
   "source": [
    "categorical = ['MSSubClass', 'MSZoning', 'Street', 'Alley', 'LotShape', 'LandContour', 'Utilities', 'LotConfig', 'LandSlope', 'Neighborhood', 'Condition1', 'Condition2', 'BldgType', 'HouseStyle', 'OverallQual', 'OverallCond', 'RoofStyle', 'RoofMatl', 'Exterior1st', 'Exterior2nd', 'MasVnrType', 'ExterQual', 'ExterCond','Foundation', 'BsmtQual', 'BsmtCond', 'BsmtExposure', 'BsmtFinType1', 'BsmtFinType2', 'Heating', 'HeatingQC', 'CentralAir', 'Electrical', 'KitchenQual', 'Functional', 'FireplaceQu', 'GarageType', 'GarageFinish', 'GarageQual', 'GarageCond', 'PavedDrive', 'PoolQC', 'Fence', 'MiscFeature', 'SaleType', 'SaleCondition']\n",
    "#skewness of categorical variables\n",
    "max_percent = []\n",
    "catogorical_skewed=[]\n",
    "for i in categorical: \n",
    "    if rp.summary_cat(train[i])[\"Percent\"].max() >= 90: \n",
    "        max_percent.append(rp.summary_cat(train[i])[\"Percent\"].max())\n",
    "print (\"The number of variables with one category of data which occupies >= 90% of data =\", len(max_percent))\n",
    "#highly skewed categorical variables\n",
    "for i in categorical: \n",
    "    if rp.summary_cat(train[i])[\"Percent\"].max() >= 90:\n",
    "        catogorical_skewed.append(i)\n",
    "        print (i,\"/ratio of the dominant category = \", rp.summary_cat(train[i])[\"Percent\"].max()/100)"
   ]
  },
  {
   "cell_type": "code",
   "execution_count": 400,
   "id": "irish-movement",
   "metadata": {},
   "outputs": [],
   "source": [
    "for i in catogorical_skewed:\n",
    "    train.drop(columns=[i], inplace=True)"
   ]
  },
  {
   "cell_type": "code",
   "execution_count": 401,
   "id": "liable-experiment",
   "metadata": {},
   "outputs": [
    {
     "data": {
      "text/html": [
       "<div>\n",
       "<style scoped>\n",
       "    .dataframe tbody tr th:only-of-type {\n",
       "        vertical-align: middle;\n",
       "    }\n",
       "\n",
       "    .dataframe tbody tr th {\n",
       "        vertical-align: top;\n",
       "    }\n",
       "\n",
       "    .dataframe thead th {\n",
       "        text-align: right;\n",
       "    }\n",
       "</style>\n",
       "<table border=\"1\" class=\"dataframe\">\n",
       "  <thead>\n",
       "    <tr style=\"text-align: right;\">\n",
       "      <th></th>\n",
       "      <th>Id</th>\n",
       "      <th>MSSubClass</th>\n",
       "      <th>MSZoning</th>\n",
       "      <th>LotArea</th>\n",
       "      <th>Alley</th>\n",
       "      <th>LotShape</th>\n",
       "      <th>LotConfig</th>\n",
       "      <th>Neighborhood</th>\n",
       "      <th>Condition1</th>\n",
       "      <th>BldgType</th>\n",
       "      <th>...</th>\n",
       "      <th>ScreenPorch</th>\n",
       "      <th>PoolArea</th>\n",
       "      <th>PoolQC</th>\n",
       "      <th>Fence</th>\n",
       "      <th>MiscVal</th>\n",
       "      <th>MoSold</th>\n",
       "      <th>YrSold</th>\n",
       "      <th>SaleType</th>\n",
       "      <th>SaleCondition</th>\n",
       "      <th>SalePrice</th>\n",
       "    </tr>\n",
       "  </thead>\n",
       "  <tbody>\n",
       "    <tr>\n",
       "      <th>0</th>\n",
       "      <td>1</td>\n",
       "      <td>60</td>\n",
       "      <td>RL</td>\n",
       "      <td>8450</td>\n",
       "      <td>NaN</td>\n",
       "      <td>Reg</td>\n",
       "      <td>Inside</td>\n",
       "      <td>CollgCr</td>\n",
       "      <td>Norm</td>\n",
       "      <td>1Fam</td>\n",
       "      <td>...</td>\n",
       "      <td>0</td>\n",
       "      <td>0</td>\n",
       "      <td>NaN</td>\n",
       "      <td>NaN</td>\n",
       "      <td>0</td>\n",
       "      <td>2</td>\n",
       "      <td>2008</td>\n",
       "      <td>WD</td>\n",
       "      <td>Normal</td>\n",
       "      <td>208500</td>\n",
       "    </tr>\n",
       "    <tr>\n",
       "      <th>1</th>\n",
       "      <td>2</td>\n",
       "      <td>20</td>\n",
       "      <td>RL</td>\n",
       "      <td>9600</td>\n",
       "      <td>NaN</td>\n",
       "      <td>Reg</td>\n",
       "      <td>FR2</td>\n",
       "      <td>Veenker</td>\n",
       "      <td>Feedr</td>\n",
       "      <td>1Fam</td>\n",
       "      <td>...</td>\n",
       "      <td>0</td>\n",
       "      <td>0</td>\n",
       "      <td>NaN</td>\n",
       "      <td>NaN</td>\n",
       "      <td>0</td>\n",
       "      <td>5</td>\n",
       "      <td>2007</td>\n",
       "      <td>WD</td>\n",
       "      <td>Normal</td>\n",
       "      <td>181500</td>\n",
       "    </tr>\n",
       "    <tr>\n",
       "      <th>2</th>\n",
       "      <td>3</td>\n",
       "      <td>60</td>\n",
       "      <td>RL</td>\n",
       "      <td>11250</td>\n",
       "      <td>NaN</td>\n",
       "      <td>IR1</td>\n",
       "      <td>Inside</td>\n",
       "      <td>CollgCr</td>\n",
       "      <td>Norm</td>\n",
       "      <td>1Fam</td>\n",
       "      <td>...</td>\n",
       "      <td>0</td>\n",
       "      <td>0</td>\n",
       "      <td>NaN</td>\n",
       "      <td>NaN</td>\n",
       "      <td>0</td>\n",
       "      <td>9</td>\n",
       "      <td>2008</td>\n",
       "      <td>WD</td>\n",
       "      <td>Normal</td>\n",
       "      <td>223500</td>\n",
       "    </tr>\n",
       "    <tr>\n",
       "      <th>3</th>\n",
       "      <td>4</td>\n",
       "      <td>70</td>\n",
       "      <td>RL</td>\n",
       "      <td>9550</td>\n",
       "      <td>NaN</td>\n",
       "      <td>IR1</td>\n",
       "      <td>Corner</td>\n",
       "      <td>Crawfor</td>\n",
       "      <td>Norm</td>\n",
       "      <td>1Fam</td>\n",
       "      <td>...</td>\n",
       "      <td>0</td>\n",
       "      <td>0</td>\n",
       "      <td>NaN</td>\n",
       "      <td>NaN</td>\n",
       "      <td>0</td>\n",
       "      <td>2</td>\n",
       "      <td>2006</td>\n",
       "      <td>WD</td>\n",
       "      <td>Abnorml</td>\n",
       "      <td>140000</td>\n",
       "    </tr>\n",
       "    <tr>\n",
       "      <th>4</th>\n",
       "      <td>5</td>\n",
       "      <td>60</td>\n",
       "      <td>RL</td>\n",
       "      <td>14260</td>\n",
       "      <td>NaN</td>\n",
       "      <td>IR1</td>\n",
       "      <td>FR2</td>\n",
       "      <td>NoRidge</td>\n",
       "      <td>Norm</td>\n",
       "      <td>1Fam</td>\n",
       "      <td>...</td>\n",
       "      <td>0</td>\n",
       "      <td>0</td>\n",
       "      <td>NaN</td>\n",
       "      <td>NaN</td>\n",
       "      <td>0</td>\n",
       "      <td>12</td>\n",
       "      <td>2008</td>\n",
       "      <td>WD</td>\n",
       "      <td>Normal</td>\n",
       "      <td>250000</td>\n",
       "    </tr>\n",
       "  </tbody>\n",
       "</table>\n",
       "<p>5 rows × 65 columns</p>\n",
       "</div>"
      ],
      "text/plain": [
       "   Id  MSSubClass MSZoning  LotArea Alley LotShape LotConfig Neighborhood  \\\n",
       "0   1          60       RL     8450   NaN      Reg    Inside      CollgCr   \n",
       "1   2          20       RL     9600   NaN      Reg       FR2      Veenker   \n",
       "2   3          60       RL    11250   NaN      IR1    Inside      CollgCr   \n",
       "3   4          70       RL     9550   NaN      IR1    Corner      Crawfor   \n",
       "4   5          60       RL    14260   NaN      IR1       FR2      NoRidge   \n",
       "\n",
       "  Condition1 BldgType  ... ScreenPorch  PoolArea  PoolQC  Fence  MiscVal  \\\n",
       "0       Norm     1Fam  ...           0         0     NaN    NaN        0   \n",
       "1      Feedr     1Fam  ...           0         0     NaN    NaN        0   \n",
       "2       Norm     1Fam  ...           0         0     NaN    NaN        0   \n",
       "3       Norm     1Fam  ...           0         0     NaN    NaN        0   \n",
       "4       Norm     1Fam  ...           0         0     NaN    NaN        0   \n",
       "\n",
       "  MoSold YrSold SaleType SaleCondition  SalePrice  \n",
       "0      2   2008       WD        Normal     208500  \n",
       "1      5   2007       WD        Normal     181500  \n",
       "2      9   2008       WD        Normal     223500  \n",
       "3      2   2006       WD       Abnorml     140000  \n",
       "4     12   2008       WD        Normal     250000  \n",
       "\n",
       "[5 rows x 65 columns]"
      ]
     },
     "execution_count": 401,
     "metadata": {},
     "output_type": "execute_result"
    }
   ],
   "source": [
    "train.head()"
   ]
  },
  {
   "cell_type": "code",
   "execution_count": 402,
   "id": "substantial-amber",
   "metadata": {
    "scrolled": true
   },
   "outputs": [
    {
     "name": "stdout",
     "output_type": "stream",
     "text": [
      "        Id  LotArea  YearBuilt  YearRemodAdd  MasVnrArea  BsmtFinSF1  \\\n",
      "0        1     8450       2003          2003       196.0         706   \n",
      "1        2     9600       1976          1976         0.0         978   \n",
      "2        3    11250       2001          2002       162.0         486   \n",
      "3        4     9550       1915          1970         0.0         216   \n",
      "4        5    14260       2000          2000       350.0         655   \n",
      "...    ...      ...        ...           ...         ...         ...   \n",
      "1455  1456     7917       1999          2000         0.0           0   \n",
      "1456  1457    13175       1978          1988       119.0         790   \n",
      "1457  1458     9042       1941          2006         0.0         275   \n",
      "1458  1459     9717       1950          1996         0.0          49   \n",
      "1459  1460     9937       1965          1965         0.0         830   \n",
      "\n",
      "      BsmtFinSF2  BsmtUnfSF  TotalBsmtSF  1stFlrSF  ...  SaleType_ConLw  \\\n",
      "0              0        150          856       856  ...               0   \n",
      "1              0        284         1262      1262  ...               0   \n",
      "2              0        434          920       920  ...               0   \n",
      "3              0        540          756       961  ...               0   \n",
      "4              0        490         1145      1145  ...               0   \n",
      "...          ...        ...          ...       ...  ...             ...   \n",
      "1455           0        953          953       953  ...               0   \n",
      "1456         163        589         1542      2073  ...               0   \n",
      "1457           0        877         1152      1188  ...               0   \n",
      "1458        1029          0         1078      1078  ...               0   \n",
      "1459         290        136         1256      1256  ...               0   \n",
      "\n",
      "      SaleType_New  SaleType_Oth  SaleType_WD  SaleCondition_Abnorml  \\\n",
      "0                0             0            1                      0   \n",
      "1                0             0            1                      0   \n",
      "2                0             0            1                      0   \n",
      "3                0             0            1                      1   \n",
      "4                0             0            1                      0   \n",
      "...            ...           ...          ...                    ...   \n",
      "1455             0             0            1                      0   \n",
      "1456             0             0            1                      0   \n",
      "1457             0             0            1                      0   \n",
      "1458             0             0            1                      0   \n",
      "1459             0             0            1                      0   \n",
      "\n",
      "      SaleCondition_AdjLand  SaleCondition_Alloca  SaleCondition_Family  \\\n",
      "0                         0                     0                     0   \n",
      "1                         0                     0                     0   \n",
      "2                         0                     0                     0   \n",
      "3                         0                     0                     0   \n",
      "4                         0                     0                     0   \n",
      "...                     ...                   ...                   ...   \n",
      "1455                      0                     0                     0   \n",
      "1456                      0                     0                     0   \n",
      "1457                      0                     0                     0   \n",
      "1458                      0                     0                     0   \n",
      "1459                      0                     0                     0   \n",
      "\n",
      "      SaleCondition_Normal  SaleCondition_Partial  \n",
      "0                        1                      0  \n",
      "1                        1                      0  \n",
      "2                        1                      0  \n",
      "3                        0                      0  \n",
      "4                        1                      0  \n",
      "...                    ...                    ...  \n",
      "1455                     1                      0  \n",
      "1456                     1                      0  \n",
      "1457                     1                      0  \n",
      "1458                     1                      0  \n",
      "1459                     1                      0  \n",
      "\n",
      "[1370 rows x 248 columns]\n"
     ]
    }
   ],
   "source": [
    "#One-Hot encoding\n",
    "categoricalcolumns = ['MSSubClass', 'MSZoning', 'Alley', 'LotShape', 'LotConfig', 'Neighborhood', 'Condition1', 'BldgType', 'HouseStyle', 'OverallQual', 'OverallCond', 'RoofStyle', 'Exterior1st', 'Exterior2nd', 'MasVnrType', 'ExterQual', 'ExterCond','Foundation', 'BsmtQual', 'BsmtExposure', 'BsmtFinType1', 'BsmtFinType2', 'HeatingQC', 'KitchenQual', 'FireplaceQu', 'GarageType', 'GarageFinish', 'PoolQC', 'Fence', 'SaleType', 'SaleCondition']\n",
    "train1 = pd.get_dummies(train, columns= categoricalcolumns, prefix= categoricalcolumns)\n",
    "print(train1)"
   ]
  },
  {
   "cell_type": "code",
   "execution_count": 403,
   "id": "enclosed-flesh",
   "metadata": {},
   "outputs": [],
   "source": [
    "#train-test split\n",
    "TEST_SIZE = 0.25\n",
    "\n",
    "filteredData1 = train1.drop(['Id'], axis=1)\n",
    "train_df, test_df = train_test_split(filteredData1, test_size=TEST_SIZE,shuffle = False) #put shuffle = False so that we can reuse the same training and test sets for better comparison\n",
    "\n",
    "train_X = train_df.drop('SalePrice', axis=1)\n",
    "train_Y = train_df['SalePrice']\n",
    "test_X = test_df.drop('SalePrice', axis=1)\n",
    "test_Y = test_df['SalePrice']"
   ]
  },
  {
   "cell_type": "code",
   "execution_count": 410,
   "id": "armed-depression",
   "metadata": {},
   "outputs": [
    {
     "name": "stdout",
     "output_type": "stream",
     "text": [
      "Train accuracy = 0.9439292720560875\n",
      "Test accuracy = 0.8519704214039903\n"
     ]
    }
   ],
   "source": [
    "regressor = RandomForestRegressor(n_estimators = 5, random_state = 0)\n",
    "model = regressor.fit(train_X, train_Y)\n",
    "y_pred = model.predict(test_X)\n",
    "train_accuracy_skew2 = model.score(train_X,train_Y)\n",
    "test_accuracy_skew2 = model.score(test_X,test_Y)\n",
    "print (\"Train accuracy =\", model.score(train_X,train_Y))\n",
    "print (\"Test accuracy =\", model.score(test_X,test_Y))"
   ]
  },
  {
   "cell_type": "code",
   "execution_count": 411,
   "id": "refined-genius",
   "metadata": {},
   "outputs": [
    {
     "data": {
      "text/plain": [
       "872914229.3004082"
      ]
     },
     "execution_count": 411,
     "metadata": {},
     "output_type": "execute_result"
    }
   ],
   "source": [
    "mse = mean_squared_error(test_Y, y_pred)\n",
    "mse"
   ]
  },
  {
   "cell_type": "code",
   "execution_count": 412,
   "id": "associate-implement",
   "metadata": {},
   "outputs": [
    {
     "name": "stdout",
     "output_type": "stream",
     "text": [
      "Train accuracy improvement = -0.7130321588258743 %\n",
      "Test accuracy improvement = 4.984748307563018 %\n"
     ]
    }
   ],
   "source": [
    "#improvement in accuracy\n",
    "train_improvement = (train_accuracy_skew2 - train_accuracy)/train_accuracy*100\n",
    "test_improvement = (test_accuracy_skew2 - test_accuracy)/test_accuracy*100\n",
    "print (\"Train accuracy improvement =\", train_improvement,\"%\")\n",
    "print (\"Test accuracy improvement =\", test_improvement,\"%\")"
   ]
  },
  {
   "cell_type": "markdown",
   "id": "directed-stationery",
   "metadata": {},
   "source": [
    "Performing data transformation on the categorical variables has successfully increased the model accuracy.\n",
    "\n",
    "[back to top](#top)"
   ]
  },
  {
   "cell_type": "markdown",
   "id": "secret-exception",
   "metadata": {},
   "source": [
    "## <a id='section7'>7. Data Scaling</a>"
   ]
  },
  {
   "cell_type": "markdown",
   "id": "expressed-daughter",
   "metadata": {},
   "source": [
    "### 7.1 Min-Max Scaling\n",
    "In this approach, the data is scaled to a fixed range - usually 0 to 1. The result of having this bounded range - in contrast to standardization - is that we will end up with smaller standard deviations, which can suppress the effect of outliers."
   ]
  },
  {
   "cell_type": "code",
   "execution_count": 425,
   "id": "respective-gnome",
   "metadata": {},
   "outputs": [],
   "source": [
    "# data normalization from sklearn\n",
    "# fit scaler on training data\n",
    "features = train1.copy()\n",
    "norm = MinMaxScaler().fit(features)\n",
    "# transform training data\n",
    "features_norm = norm.transform(features)"
   ]
  },
  {
   "cell_type": "code",
   "execution_count": 426,
   "id": "searching-statistics",
   "metadata": {},
   "outputs": [],
   "source": [
    "#train-test split\n",
    "TEST_SIZE = 0.25\n",
    "\n",
    "filteredData1 = features.drop(['Id'], axis=1)\n",
    "train_df, test_df = train_test_split(filteredData1, test_size=TEST_SIZE,shuffle = False) #put shuffle = False so that we can reuse the same training and test sets for better comparison\n",
    "\n",
    "train_X = train_df.drop('SalePrice', axis=1)\n",
    "train_Y = train_df['SalePrice']\n",
    "test_X = test_df.drop('SalePrice', axis=1)\n",
    "test_Y = test_df['SalePrice']"
   ]
  },
  {
   "cell_type": "code",
   "execution_count": 427,
   "id": "informational-buyer",
   "metadata": {},
   "outputs": [
    {
     "name": "stdout",
     "output_type": "stream",
     "text": [
      "Train accuracy = 0.9439292720560875\n",
      "Test accuracy = 0.8519704214039903\n"
     ]
    }
   ],
   "source": [
    "regressor = RandomForestRegressor(n_estimators = 5, random_state = 0)\n",
    "model = regressor.fit(train_X, train_Y)\n",
    "y_pred = model.predict(test_X)\n",
    "train_accuracy_norm = model.score(train_X,train_Y)\n",
    "test_accuracy_norm = model.score(test_X,test_Y)\n",
    "print (\"Train accuracy =\", model.score(train_X,train_Y))\n",
    "print (\"Test accuracy =\", model.score(test_X,test_Y))"
   ]
  },
  {
   "cell_type": "code",
   "execution_count": 428,
   "id": "sticky-malpractice",
   "metadata": {},
   "outputs": [
    {
     "name": "stdout",
     "output_type": "stream",
     "text": [
      "Train accuracy improvement = -0.7130321588258743 %\n",
      "Test accuracy improvement = 4.984748307563018 %\n"
     ]
    }
   ],
   "source": [
    "#improvement in accuracy\n",
    "train_improvement = (train_accuracy_norm - train_accuracy)/train_accuracy*100\n",
    "test_improvement = (test_accuracy_norm - test_accuracy)/test_accuracy*100\n",
    "print (\"Train accuracy improvement =\", train_improvement,\"%\")\n",
    "print (\"Test accuracy improvement =\", test_improvement,\"%\")"
   ]
  },
  {
   "cell_type": "markdown",
   "id": "appointed-jerusalem",
   "metadata": {},
   "source": [
    "The regression model has improved with min-max scaling."
   ]
  },
  {
   "cell_type": "markdown",
   "id": "alpha-compatibility",
   "metadata": {},
   "source": [
    "### 7.2 Z-Standardization \n",
    "Standardization (also called, Z-score normalization) is a scaling technique such that when it is applied the features will be rescaled so that they'll have the properties of a standard normal distribution with mean,μ=0 and standard deviation, σ=1. It is particularly useful when the data follows a normal distribution (Gaussian distribution)."
   ]
  },
  {
   "cell_type": "code",
   "execution_count": 429,
   "id": "amateur-harbor",
   "metadata": {},
   "outputs": [],
   "source": [
    "features_stan=train1.copy()\n",
    "for i in continuous:\n",
    "    # fit on training data column\n",
    "    scale = StandardScaler().fit(features_stan[[i]])\n",
    "    # transform training data column\n",
    "    features_stan[i] = scale.transform(features_stan[[i]])"
   ]
  },
  {
   "cell_type": "code",
   "execution_count": 430,
   "id": "personal-butterfly",
   "metadata": {},
   "outputs": [],
   "source": [
    "#train-test split\n",
    "TEST_SIZE = 0.25\n",
    "\n",
    "filteredData1 = features_stan.drop(['Id'], axis=1)\n",
    "train_df, test_df = train_test_split(filteredData1, test_size=TEST_SIZE,shuffle = False) #put shuffle = False so that we can reuse the same training and test sets for better comparison\n",
    "\n",
    "train_X = train_df.drop('SalePrice', axis=1)\n",
    "train_Y = train_df['SalePrice']\n",
    "test_X = test_df.drop('SalePrice', axis=1)\n",
    "test_Y = test_df['SalePrice']"
   ]
  },
  {
   "cell_type": "code",
   "execution_count": 431,
   "id": "baking-liquid",
   "metadata": {},
   "outputs": [
    {
     "name": "stdout",
     "output_type": "stream",
     "text": [
      "Train accuracy = 0.9440186857281673\n",
      "Test accuracy = 0.8520563757611825\n"
     ]
    }
   ],
   "source": [
    "regressor = RandomForestRegressor(n_estimators = 5, random_state = 0)\n",
    "model = regressor.fit(train_X, train_Y)\n",
    "y_pred = model.predict(test_X)\n",
    "train_accuracy_stan = model.score(train_X,train_Y)\n",
    "test_accuracy_stan = model.score(test_X,test_Y)\n",
    "print (\"Train accuracy =\", model.score(train_X,train_Y))\n",
    "print (\"Test accuracy =\", model.score(test_X,test_Y))"
   ]
  },
  {
   "cell_type": "code",
   "execution_count": 432,
   "id": "secondary-worse",
   "metadata": {},
   "outputs": [
    {
     "name": "stdout",
     "output_type": "stream",
     "text": [
      "Train accuracy improvement = -0.70362720376498 %\n",
      "Test accuracy improvement = 4.995340103157163 %\n"
     ]
    }
   ],
   "source": [
    "#improvement in accuracy\n",
    "train_improvement = (train_accuracy_stan - train_accuracy)/train_accuracy*100\n",
    "test_improvement = (test_accuracy_stan - test_accuracy)/test_accuracy*100\n",
    "print (\"Train accuracy improvement =\", train_improvement,\"%\")\n",
    "print (\"Test accuracy improvement =\", test_improvement,\"%\")"
   ]
  },
  {
   "cell_type": "markdown",
   "id": "spare-incident",
   "metadata": {},
   "source": [
    "Both methods have improved the model accuracy with data scaling, with z_standardization being the most effective strategy as it has improved the test accuracy the most.\n",
    "\n",
    "[back to top](#top)"
   ]
  },
  {
   "cell_type": "markdown",
   "id": "naval-transmission",
   "metadata": {},
   "source": [
    "## <a id='section8'>8. Hyperparameter Tuning</a>"
   ]
  },
  {
   "cell_type": "code",
   "execution_count": 9,
   "id": "focused-costume",
   "metadata": {},
   "outputs": [
    {
     "name": "stdout",
     "output_type": "stream",
     "text": [
      "Parameters currently in use:\n",
      "\n",
      "{'bootstrap': True,\n",
      " 'ccp_alpha': 0.0,\n",
      " 'criterion': 'mse',\n",
      " 'max_depth': None,\n",
      " 'max_features': 'auto',\n",
      " 'max_leaf_nodes': None,\n",
      " 'max_samples': None,\n",
      " 'min_impurity_decrease': 0.0,\n",
      " 'min_impurity_split': None,\n",
      " 'min_samples_leaf': 1,\n",
      " 'min_samples_split': 2,\n",
      " 'min_weight_fraction_leaf': 0.0,\n",
      " 'n_estimators': 10,\n",
      " 'n_jobs': None,\n",
      " 'oob_score': False,\n",
      " 'random_state': 0,\n",
      " 'verbose': 0,\n",
      " 'warm_start': False}\n"
     ]
    }
   ],
   "source": [
    "from pprint import pprint\n",
    "# Look at parameters used by our current forest\n",
    "print('Parameters currently in use:\\n')\n",
    "pprint(model.get_params())"
   ]
  },
  {
   "cell_type": "markdown",
   "id": "breeding-kinase",
   "metadata": {},
   "source": [
    "After exploration of the different hyperparameters, we have decided to focus on tuning the five most important primary hyperparameters in our application.\n",
    "1. max_depth - limit the depth which every tree grows in the random forest\n",
    "2. n_estimators - number of trees in the random forest\n",
    "3. min_samples_leaf - the minimum number of samples required to be at a leaf node.\n",
    "4. min_samples_split - the minimum number of samples required to split an internal node\n",
    "5. max_features - the number of features to consider when looking for the best split\n",
    "\n",
    "These are the hyperparameters in the model which we can adjust to build the optimum model for the dataset. In order to find our which hyperparameter value we should adopt, we will perform cross-validation on the model with a range of possible hyperparameter values."
   ]
  },
  {
   "cell_type": "code",
   "execution_count": 114,
   "id": "illegal-fighter",
   "metadata": {},
   "outputs": [],
   "source": [
    "#display cross validation results\n",
    "def display_best(results):\n",
    "    print(f'Best parameters are: {results.best_params_}')\n",
    "    \n",
    "def display(results):\n",
    "    mean_score = results.cv_results_['mean_test_score']\n",
    "    std_score = results.cv_results_['std_test_score']\n",
    "    params = results.cv_results_['params']\n",
    "    for mean,std,params in zip(mean_score,std_score,params):\n",
    "        print(f'{round(mean,3)} + or -{round(std,3)} for the {params}')"
   ]
  },
  {
   "cell_type": "markdown",
   "id": "graphic-source",
   "metadata": {},
   "source": [
    "### 8.1 max_depth"
   ]
  },
  {
   "cell_type": "code",
   "execution_count": 90,
   "id": "adopted-omega",
   "metadata": {},
   "outputs": [],
   "source": [
    "rfc = RandomForestRegressor()\n",
    "x = np.arange(1, 100, 1).tolist()\n",
    "x.append(None) #If None, then nodes are expanded until all leaves are pure or until all leaves contain less than min_samples_split samples.\n",
    "parameters = {\n",
    "    \"max_depth\":x\n",
    "}"
   ]
  },
  {
   "cell_type": "code",
   "execution_count": 91,
   "id": "north-flash",
   "metadata": {},
   "outputs": [
    {
     "data": {
      "text/plain": [
       "GridSearchCV(cv=5, estimator=RandomForestRegressor(), n_jobs=-1,\n",
       "             param_grid={'max_depth': [1, 2, 3, 4, 5, 6, 7, 8, 9, 10, 11, 12,\n",
       "                                       13, 14, 15, 16, 17, 18, 19, 20, 21, 22,\n",
       "                                       23, 24, 25, 26, 27, 28, 29, 30, ...]})"
      ]
     },
     "execution_count": 91,
     "metadata": {},
     "output_type": "execute_result"
    }
   ],
   "source": [
    "cv = GridSearchCV(rfc,parameters,cv=5,n_jobs=-1) #use 5-fold cross validation and all processors\n",
    "cv.fit(train_X,train_Y.values.ravel())"
   ]
  },
  {
   "cell_type": "code",
   "execution_count": 92,
   "id": "executed-lucas",
   "metadata": {},
   "outputs": [
    {
     "name": "stdout",
     "output_type": "stream",
     "text": [
      "Best parameters are: {'max_depth': 96}\n",
      "\n",
      "\n",
      "0.49 + or -0.039 for the {'max_depth': 1}\n",
      "0.651 + or -0.032 for the {'max_depth': 2}\n",
      "0.726 + or -0.036 for the {'max_depth': 3}\n",
      "0.78 + or -0.04 for the {'max_depth': 4}\n",
      "0.799 + or -0.036 for the {'max_depth': 5}\n",
      "0.811 + or -0.041 for the {'max_depth': 6}\n",
      "0.827 + or -0.033 for the {'max_depth': 7}\n",
      "0.828 + or -0.044 for the {'max_depth': 8}\n",
      "0.831 + or -0.038 for the {'max_depth': 9}\n",
      "0.834 + or -0.043 for the {'max_depth': 10}\n",
      "0.832 + or -0.042 for the {'max_depth': 11}\n",
      "0.832 + or -0.044 for the {'max_depth': 12}\n",
      "0.832 + or -0.038 for the {'max_depth': 13}\n",
      "0.831 + or -0.037 for the {'max_depth': 14}\n",
      "0.834 + or -0.04 for the {'max_depth': 15}\n",
      "0.831 + or -0.036 for the {'max_depth': 16}\n",
      "0.836 + or -0.041 for the {'max_depth': 17}\n",
      "0.832 + or -0.04 for the {'max_depth': 18}\n",
      "0.835 + or -0.046 for the {'max_depth': 19}\n",
      "0.831 + or -0.045 for the {'max_depth': 20}\n",
      "0.833 + or -0.044 for the {'max_depth': 21}\n",
      "0.835 + or -0.04 for the {'max_depth': 22}\n",
      "0.836 + or -0.036 for the {'max_depth': 23}\n",
      "0.836 + or -0.04 for the {'max_depth': 24}\n",
      "0.83 + or -0.041 for the {'max_depth': 25}\n",
      "0.833 + or -0.041 for the {'max_depth': 26}\n",
      "0.836 + or -0.038 for the {'max_depth': 27}\n",
      "0.836 + or -0.037 for the {'max_depth': 28}\n",
      "0.839 + or -0.041 for the {'max_depth': 29}\n",
      "0.834 + or -0.041 for the {'max_depth': 30}\n",
      "0.834 + or -0.036 for the {'max_depth': 31}\n",
      "0.83 + or -0.041 for the {'max_depth': 32}\n",
      "0.832 + or -0.038 for the {'max_depth': 33}\n",
      "0.833 + or -0.039 for the {'max_depth': 34}\n",
      "0.835 + or -0.041 for the {'max_depth': 35}\n",
      "0.833 + or -0.042 for the {'max_depth': 36}\n",
      "0.832 + or -0.043 for the {'max_depth': 37}\n",
      "0.832 + or -0.041 for the {'max_depth': 38}\n",
      "0.832 + or -0.041 for the {'max_depth': 39}\n",
      "0.836 + or -0.041 for the {'max_depth': 40}\n",
      "0.832 + or -0.039 for the {'max_depth': 41}\n",
      "0.834 + or -0.042 for the {'max_depth': 42}\n",
      "0.833 + or -0.039 for the {'max_depth': 43}\n",
      "0.83 + or -0.036 for the {'max_depth': 44}\n",
      "0.831 + or -0.04 for the {'max_depth': 45}\n",
      "0.837 + or -0.039 for the {'max_depth': 46}\n",
      "0.83 + or -0.042 for the {'max_depth': 47}\n",
      "0.835 + or -0.04 for the {'max_depth': 48}\n",
      "0.833 + or -0.04 for the {'max_depth': 49}\n",
      "0.832 + or -0.04 for the {'max_depth': 50}\n",
      "0.836 + or -0.037 for the {'max_depth': 51}\n",
      "0.837 + or -0.041 for the {'max_depth': 52}\n",
      "0.833 + or -0.039 for the {'max_depth': 53}\n",
      "0.835 + or -0.037 for the {'max_depth': 54}\n",
      "0.834 + or -0.039 for the {'max_depth': 55}\n",
      "0.829 + or -0.038 for the {'max_depth': 56}\n",
      "0.834 + or -0.043 for the {'max_depth': 57}\n",
      "0.833 + or -0.04 for the {'max_depth': 58}\n",
      "0.83 + or -0.041 for the {'max_depth': 59}\n",
      "0.833 + or -0.04 for the {'max_depth': 60}\n",
      "0.832 + or -0.041 for the {'max_depth': 61}\n",
      "0.836 + or -0.038 for the {'max_depth': 62}\n",
      "0.831 + or -0.044 for the {'max_depth': 63}\n",
      "0.829 + or -0.04 for the {'max_depth': 64}\n",
      "0.831 + or -0.043 for the {'max_depth': 65}\n",
      "0.838 + or -0.036 for the {'max_depth': 66}\n",
      "0.832 + or -0.04 for the {'max_depth': 67}\n",
      "0.834 + or -0.038 for the {'max_depth': 68}\n",
      "0.835 + or -0.04 for the {'max_depth': 69}\n",
      "0.833 + or -0.04 for the {'max_depth': 70}\n",
      "0.831 + or -0.042 for the {'max_depth': 71}\n",
      "0.833 + or -0.036 for the {'max_depth': 72}\n",
      "0.832 + or -0.037 for the {'max_depth': 73}\n",
      "0.835 + or -0.039 for the {'max_depth': 74}\n",
      "0.831 + or -0.047 for the {'max_depth': 75}\n",
      "0.833 + or -0.038 for the {'max_depth': 76}\n",
      "0.831 + or -0.044 for the {'max_depth': 77}\n",
      "0.83 + or -0.042 for the {'max_depth': 78}\n",
      "0.832 + or -0.037 for the {'max_depth': 79}\n",
      "0.833 + or -0.04 for the {'max_depth': 80}\n",
      "0.832 + or -0.042 for the {'max_depth': 81}\n",
      "0.832 + or -0.04 for the {'max_depth': 82}\n",
      "0.836 + or -0.04 for the {'max_depth': 83}\n",
      "0.83 + or -0.04 for the {'max_depth': 84}\n",
      "0.834 + or -0.045 for the {'max_depth': 85}\n",
      "0.835 + or -0.04 for the {'max_depth': 86}\n",
      "0.835 + or -0.042 for the {'max_depth': 87}\n",
      "0.836 + or -0.042 for the {'max_depth': 88}\n",
      "0.834 + or -0.041 for the {'max_depth': 89}\n",
      "0.835 + or -0.04 for the {'max_depth': 90}\n",
      "0.836 + or -0.039 for the {'max_depth': 91}\n",
      "0.835 + or -0.039 for the {'max_depth': 92}\n",
      "0.833 + or -0.045 for the {'max_depth': 93}\n",
      "0.83 + or -0.042 for the {'max_depth': 94}\n",
      "0.835 + or -0.039 for the {'max_depth': 95}\n",
      "0.839 + or -0.036 for the {'max_depth': 96}\n",
      "0.834 + or -0.038 for the {'max_depth': 97}\n",
      "0.833 + or -0.041 for the {'max_depth': 98}\n",
      "0.832 + or -0.044 for the {'max_depth': 99}\n",
      "0.835 + or -0.041 for the {'max_depth': None}\n"
     ]
    }
   ],
   "source": [
    "display(cv)\n",
    "result = cv.cv_results_['mean_test_score']\n",
    "result = result[:100]"
   ]
  },
  {
   "cell_type": "code",
   "execution_count": 93,
   "id": "seventh-effort",
   "metadata": {},
   "outputs": [
    {
     "data": {
      "text/plain": [
       "Text(0, 0.5, 'mean accuracy')"
      ]
     },
     "execution_count": 93,
     "metadata": {},
     "output_type": "execute_result"
    },
    {
     "data": {
      "image/png": "[encoded data removed]",
      "text/plain": [
       "<Figure size 432x288 with 1 Axes>"
      ]
     },
     "metadata": {},
     "output_type": "display_data"
    }
   ],
   "source": [
    "#visualising the result (train_set)\n",
    "plt.plot(x, result)\n",
    "plt.xlabel('max_depth')\n",
    "plt.ylabel('mean accuracy')"
   ]
  },
  {
   "cell_type": "markdown",
   "id": "spatial-escape",
   "metadata": {},
   "source": [
    "In this graph, we can clearly see that as the max depth of the decision tree increases, the performance of the model over the training set increases continuously but after a certain thershold, the accuracy was pretty stagnant. To avoid over-fitting the model, we will take the hyperparameter value which gives the highest accuracy within 0-20 max_depth as this is where the threshold has appeared. <br>\n",
    "**From the results, we will take max_depth = 11**"
   ]
  },
  {
   "cell_type": "markdown",
   "id": "balanced-stylus",
   "metadata": {},
   "source": [
    "### 8.2 n_estimators"
   ]
  },
  {
   "cell_type": "code",
   "execution_count": 60,
   "id": "recent-kitchen",
   "metadata": {},
   "outputs": [],
   "source": [
    "rfc = RandomForestRegressor()\n",
    "x = np.arange(0, 800, 10).tolist()\n",
    "x = [i for i in x if i != 0] \n",
    "parameters = {\n",
    "    \"max_depth\":[11],\n",
    "    \"n_estimators\": x\n",
    "}"
   ]
  },
  {
   "cell_type": "code",
   "execution_count": 61,
   "id": "labeled-consumer",
   "metadata": {},
   "outputs": [
    {
     "data": {
      "text/plain": [
       "GridSearchCV(cv=5, estimator=RandomForestRegressor(), n_jobs=-1,\n",
       "             param_grid={'max_depth': [11],\n",
       "                         'n_estimators': [10, 20, 30, 40, 50, 60, 70, 80, 90,\n",
       "                                          100, 110, 120, 130, 140, 150, 160,\n",
       "                                          170, 180, 190, 200, 210, 220, 230,\n",
       "                                          240, 250, 260, 270, 280, 290, 300, ...]})"
      ]
     },
     "execution_count": 61,
     "metadata": {},
     "output_type": "execute_result"
    }
   ],
   "source": [
    "cv = GridSearchCV(rfc,parameters,cv=5,n_jobs=-1) #use 5-fold cross validation and all processors\n",
    "cv.fit(train_X,train_Y.values.ravel())"
   ]
  },
  {
   "cell_type": "code",
   "execution_count": 63,
   "id": "preceding-honolulu",
   "metadata": {},
   "outputs": [
    {
     "data": {
      "text/plain": [
       "Text(0, 0.5, 'mean accuracy')"
      ]
     },
     "execution_count": 63,
     "metadata": {},
     "output_type": "execute_result"
    },
    {
     "data": {
      "image/png": "[encoded data removed]",
      "text/plain": [
       "<Figure size 432x288 with 1 Axes>"
      ]
     },
     "metadata": {},
     "output_type": "display_data"
    }
   ],
   "source": [
    "#visualising the result (train_set)\n",
    "result = cv.cv_results_['mean_test_score']\n",
    "plt.plot(x, result)\n",
    "plt.xlabel('n_estimators')\n",
    "plt.ylabel('mean accuracy')"
   ]
  },
  {
   "cell_type": "code",
   "execution_count": 89,
   "id": "blocked-christmas",
   "metadata": {},
   "outputs": [
    {
     "name": "stdout",
     "output_type": "stream",
     "text": [
      "Best parameters are: {'max_depth': 11, 'n_estimators': 600}\n",
      "\n",
      "\n",
      "0.803 + or -0.045 for the {'max_depth': 11, 'n_estimators': 10}\n",
      "0.832 + or -0.041 for the {'max_depth': 11, 'n_estimators': 20}\n",
      "0.82 + or -0.036 for the {'max_depth': 11, 'n_estimators': 30}\n",
      "0.83 + or -0.035 for the {'max_depth': 11, 'n_estimators': 40}\n",
      "0.829 + or -0.039 for the {'max_depth': 11, 'n_estimators': 50}\n",
      "0.828 + or -0.04 for the {'max_depth': 11, 'n_estimators': 60}\n",
      "0.832 + or -0.042 for the {'max_depth': 11, 'n_estimators': 70}\n",
      "0.829 + or -0.04 for the {'max_depth': 11, 'n_estimators': 80}\n",
      "0.832 + or -0.043 for the {'max_depth': 11, 'n_estimators': 90}\n",
      "0.834 + or -0.037 for the {'max_depth': 11, 'n_estimators': 100}\n",
      "0.829 + or -0.04 for the {'max_depth': 11, 'n_estimators': 110}\n",
      "0.831 + or -0.044 for the {'max_depth': 11, 'n_estimators': 120}\n",
      "0.836 + or -0.04 for the {'max_depth': 11, 'n_estimators': 130}\n",
      "0.834 + or -0.041 for the {'max_depth': 11, 'n_estimators': 140}\n",
      "0.829 + or -0.043 for the {'max_depth': 11, 'n_estimators': 150}\n",
      "0.835 + or -0.042 for the {'max_depth': 11, 'n_estimators': 160}\n",
      "0.833 + or -0.04 for the {'max_depth': 11, 'n_estimators': 170}\n",
      "0.834 + or -0.04 for the {'max_depth': 11, 'n_estimators': 180}\n",
      "0.836 + or -0.039 for the {'max_depth': 11, 'n_estimators': 190}\n",
      "0.832 + or -0.04 for the {'max_depth': 11, 'n_estimators': 200}\n",
      "0.833 + or -0.037 for the {'max_depth': 11, 'n_estimators': 210}\n",
      "0.833 + or -0.043 for the {'max_depth': 11, 'n_estimators': 220}\n",
      "0.836 + or -0.043 for the {'max_depth': 11, 'n_estimators': 230}\n",
      "0.831 + or -0.04 for the {'max_depth': 11, 'n_estimators': 240}\n",
      "0.834 + or -0.037 for the {'max_depth': 11, 'n_estimators': 250}\n",
      "0.832 + or -0.041 for the {'max_depth': 11, 'n_estimators': 260}\n",
      "0.832 + or -0.038 for the {'max_depth': 11, 'n_estimators': 270}\n",
      "0.834 + or -0.04 for the {'max_depth': 11, 'n_estimators': 280}\n",
      "0.833 + or -0.038 for the {'max_depth': 11, 'n_estimators': 290}\n",
      "0.835 + or -0.038 for the {'max_depth': 11, 'n_estimators': 300}\n",
      "0.834 + or -0.041 for the {'max_depth': 11, 'n_estimators': 310}\n",
      "0.833 + or -0.039 for the {'max_depth': 11, 'n_estimators': 320}\n",
      "0.834 + or -0.041 for the {'max_depth': 11, 'n_estimators': 330}\n",
      "0.835 + or -0.039 for the {'max_depth': 11, 'n_estimators': 340}\n",
      "0.83 + or -0.042 for the {'max_depth': 11, 'n_estimators': 350}\n",
      "0.835 + or -0.04 for the {'max_depth': 11, 'n_estimators': 360}\n",
      "0.834 + or -0.04 for the {'max_depth': 11, 'n_estimators': 370}\n",
      "0.835 + or -0.039 for the {'max_depth': 11, 'n_estimators': 380}\n",
      "0.834 + or -0.041 for the {'max_depth': 11, 'n_estimators': 390}\n",
      "0.833 + or -0.04 for the {'max_depth': 11, 'n_estimators': 400}\n",
      "0.834 + or -0.04 for the {'max_depth': 11, 'n_estimators': 410}\n",
      "0.835 + or -0.041 for the {'max_depth': 11, 'n_estimators': 420}\n",
      "0.834 + or -0.041 for the {'max_depth': 11, 'n_estimators': 430}\n",
      "0.833 + or -0.041 for the {'max_depth': 11, 'n_estimators': 440}\n",
      "0.835 + or -0.041 for the {'max_depth': 11, 'n_estimators': 450}\n",
      "0.835 + or -0.04 for the {'max_depth': 11, 'n_estimators': 460}\n",
      "0.834 + or -0.039 for the {'max_depth': 11, 'n_estimators': 470}\n",
      "0.835 + or -0.041 for the {'max_depth': 11, 'n_estimators': 480}\n",
      "0.833 + or -0.04 for the {'max_depth': 11, 'n_estimators': 490}\n",
      "0.835 + or -0.041 for the {'max_depth': 11, 'n_estimators': 500}\n",
      "0.834 + or -0.039 for the {'max_depth': 11, 'n_estimators': 510}\n",
      "0.833 + or -0.041 for the {'max_depth': 11, 'n_estimators': 520}\n",
      "0.834 + or -0.04 for the {'max_depth': 11, 'n_estimators': 530}\n",
      "0.835 + or -0.038 for the {'max_depth': 11, 'n_estimators': 540}\n",
      "0.834 + or -0.04 for the {'max_depth': 11, 'n_estimators': 550}\n",
      "0.835 + or -0.041 for the {'max_depth': 11, 'n_estimators': 560}\n",
      "0.834 + or -0.042 for the {'max_depth': 11, 'n_estimators': 570}\n",
      "0.835 + or -0.04 for the {'max_depth': 11, 'n_estimators': 580}\n",
      "0.834 + or -0.039 for the {'max_depth': 11, 'n_estimators': 590}\n",
      "0.837 + or -0.039 for the {'max_depth': 11, 'n_estimators': 600}\n",
      "0.835 + or -0.038 for the {'max_depth': 11, 'n_estimators': 610}\n",
      "0.836 + or -0.039 for the {'max_depth': 11, 'n_estimators': 620}\n",
      "0.834 + or -0.039 for the {'max_depth': 11, 'n_estimators': 630}\n",
      "0.833 + or -0.041 for the {'max_depth': 11, 'n_estimators': 640}\n",
      "0.834 + or -0.039 for the {'max_depth': 11, 'n_estimators': 650}\n",
      "0.835 + or -0.04 for the {'max_depth': 11, 'n_estimators': 660}\n",
      "0.835 + or -0.04 for the {'max_depth': 11, 'n_estimators': 670}\n",
      "0.834 + or -0.041 for the {'max_depth': 11, 'n_estimators': 680}\n",
      "0.834 + or -0.04 for the {'max_depth': 11, 'n_estimators': 690}\n",
      "0.833 + or -0.04 for the {'max_depth': 11, 'n_estimators': 700}\n",
      "0.835 + or -0.04 for the {'max_depth': 11, 'n_estimators': 710}\n",
      "0.835 + or -0.04 for the {'max_depth': 11, 'n_estimators': 720}\n",
      "0.835 + or -0.04 for the {'max_depth': 11, 'n_estimators': 730}\n",
      "0.832 + or -0.039 for the {'max_depth': 11, 'n_estimators': 740}\n",
      "0.834 + or -0.039 for the {'max_depth': 11, 'n_estimators': 750}\n",
      "0.833 + or -0.041 for the {'max_depth': 11, 'n_estimators': 760}\n",
      "0.834 + or -0.041 for the {'max_depth': 11, 'n_estimators': 770}\n",
      "0.836 + or -0.039 for the {'max_depth': 11, 'n_estimators': 780}\n",
      "0.834 + or -0.04 for the {'max_depth': 11, 'n_estimators': 790}\n"
     ]
    }
   ],
   "source": [
    "display(cv)"
   ]
  },
  {
   "cell_type": "markdown",
   "id": "italian-chancellor",
   "metadata": {},
   "source": [
    "Although the highest accuracy = 0.837 at n_estimator = 600, a close accuracy of 0.836 is achieved at n_estimator = 130; to avoid over-fitting, we will take **n_estimator = 130**"
   ]
  },
  {
   "cell_type": "markdown",
   "id": "pacific-carry",
   "metadata": {},
   "source": [
    "### 8.3 min_samples_leaf"
   ]
  },
  {
   "cell_type": "code",
   "execution_count": 108,
   "id": "electoral-kinase",
   "metadata": {},
   "outputs": [],
   "source": [
    "rfc = RandomForestRegressor()\n",
    "x = np.arange(0, 100, 1).tolist()\n",
    "x = [i for i in x if i != 0] \n",
    "parameters = {\n",
    "    \"max_depth\":[11],\n",
    "    \"n_estimators\": [130],\n",
    "    \"min_samples_leaf\":x\n",
    "}"
   ]
  },
  {
   "cell_type": "code",
   "execution_count": 109,
   "id": "hired-paper",
   "metadata": {},
   "outputs": [
    {
     "data": {
      "text/plain": [
       "GridSearchCV(cv=5, estimator=RandomForestRegressor(), n_jobs=-1,\n",
       "             param_grid={'max_depth': [11],\n",
       "                         'min_samples_leaf': [1, 2, 3, 4, 5, 6, 7, 8, 9, 10, 11,\n",
       "                                              12, 13, 14, 15, 16, 17, 18, 19,\n",
       "                                              20, 21, 22, 23, 24, 25, 26, 27,\n",
       "                                              28, 29, 30, ...],\n",
       "                         'n_estimators': [130]})"
      ]
     },
     "execution_count": 109,
     "metadata": {},
     "output_type": "execute_result"
    }
   ],
   "source": [
    "cv = GridSearchCV(rfc,parameters,cv=5,n_jobs=-1) #use 5-fold cross validation and all processors\n",
    "cv.fit(train_X,train_Y.values.ravel())"
   ]
  },
  {
   "cell_type": "code",
   "execution_count": 110,
   "id": "olive-canada",
   "metadata": {},
   "outputs": [
    {
     "data": {
      "text/plain": [
       "Text(0, 0.5, 'mean accuracy')"
      ]
     },
     "execution_count": 110,
     "metadata": {},
     "output_type": "execute_result"
    },
    {
     "data": {
      "image/png": "[encoded data removed]",
      "text/plain": [
       "<Figure size 432x288 with 1 Axes>"
      ]
     },
     "metadata": {},
     "output_type": "display_data"
    }
   ],
   "source": [
    "#visualising the result (train_set)\n",
    "result = cv.cv_results_['mean_test_score']\n",
    "plt.plot(x, result)\n",
    "plt.xlabel('min_samples_leaf')\n",
    "plt.ylabel('mean accuracy')"
   ]
  },
  {
   "cell_type": "code",
   "execution_count": 115,
   "id": "monetary-money",
   "metadata": {},
   "outputs": [
    {
     "name": "stdout",
     "output_type": "stream",
     "text": [
      "Best parameters are: {'max_depth': 11, 'min_samples_leaf': 1, 'n_estimators': 130}\n"
     ]
    }
   ],
   "source": [
    "display_best(cv)"
   ]
  },
  {
   "cell_type": "markdown",
   "id": "center-generator",
   "metadata": {},
   "source": [
    "In this case, we will stick to the default **min_samples_leaf = 1**"
   ]
  },
  {
   "cell_type": "markdown",
   "id": "adverse-blake",
   "metadata": {},
   "source": [
    "### 8.4 min_samples_split"
   ]
  },
  {
   "cell_type": "code",
   "execution_count": 135,
   "id": "expanded-settlement",
   "metadata": {},
   "outputs": [],
   "source": [
    "rfc = RandomForestRegressor()\n",
    "x = np.arange(0, 100, 1).tolist()\n",
    "x = [i for i in x if i != 0] #accuracy = nan if min_samples_split = 0 or 1 \n",
    "x = [i for i in x if i != 1]\n",
    "parameters = {\n",
    "    \"max_depth\":[11],\n",
    "    \"n_estimators\": [130],\n",
    "    \"min_samples_leaf\":[1],\n",
    "    \"min_samples_split\":x\n",
    "}"
   ]
  },
  {
   "cell_type": "code",
   "execution_count": 136,
   "id": "valid-orientation",
   "metadata": {},
   "outputs": [
    {
     "data": {
      "text/plain": [
       "GridSearchCV(cv=5, estimator=RandomForestRegressor(), n_jobs=-1,\n",
       "             param_grid={'max_depth': [11], 'min_samples_leaf': [1],\n",
       "                         'min_samples_split': [2, 3, 4, 5, 6, 7, 8, 9, 10, 11,\n",
       "                                               12, 13, 14, 15, 16, 17, 18, 19,\n",
       "                                               20, 21, 22, 23, 24, 25, 26, 27,\n",
       "                                               28, 29, 30, 31, ...],\n",
       "                         'n_estimators': [130]})"
      ]
     },
     "execution_count": 136,
     "metadata": {},
     "output_type": "execute_result"
    }
   ],
   "source": [
    "cv = GridSearchCV(rfc,parameters,cv=5,n_jobs=-1) #use 5-fold cross validation and all processors\n",
    "cv.fit(train_X,train_Y.values.ravel())"
   ]
  },
  {
   "cell_type": "code",
   "execution_count": 137,
   "id": "military-semester",
   "metadata": {},
   "outputs": [
    {
     "data": {
      "text/plain": [
       "Text(0, 0.5, 'mean accuracy')"
      ]
     },
     "execution_count": 137,
     "metadata": {},
     "output_type": "execute_result"
    },
    {
     "data": {
      "image/png": "[encoded data removed]",
      "text/plain": [
       "<Figure size 432x288 with 1 Axes>"
      ]
     },
     "metadata": {},
     "output_type": "display_data"
    }
   ],
   "source": [
    "#visualising the result (train_set)\n",
    "result = cv.cv_results_['mean_test_score']\n",
    "plt.plot(x, result)\n",
    "plt.xlabel('min_samples_split')\n",
    "plt.ylabel('mean accuracy')"
   ]
  },
  {
   "cell_type": "code",
   "execution_count": 138,
   "id": "variable-funeral",
   "metadata": {},
   "outputs": [
    {
     "name": "stdout",
     "output_type": "stream",
     "text": [
      "Best parameters are: {'max_depth': 11, 'min_samples_leaf': 1, 'min_samples_split': 3, 'n_estimators': 130}\n"
     ]
    }
   ],
   "source": [
    "display_best(cv)"
   ]
  },
  {
   "cell_type": "markdown",
   "id": "weekly-citizenship",
   "metadata": {},
   "source": [
    "In this case, we will take **min_samples_split  = 3**"
   ]
  },
  {
   "cell_type": "markdown",
   "id": "bridal-phone",
   "metadata": {},
   "source": [
    "### 8.5 max_features"
   ]
  },
  {
   "cell_type": "code",
   "execution_count": 140,
   "id": "naked-pierce",
   "metadata": {},
   "outputs": [],
   "source": [
    "rfc = RandomForestRegressor()\n",
    "x = np.arange(0, 1, 0.1).tolist()\n",
    "x = [i for i in x if i != 0] \n",
    "parameters = {\n",
    "    \"max_depth\":[11],\n",
    "    \"n_estimators\": [130],\n",
    "    \"min_samples_leaf\":[1],\n",
    "    \"min_samples_split\":[3],\n",
    "    \"max_features\":x\n",
    "}"
   ]
  },
  {
   "cell_type": "code",
   "execution_count": 141,
   "id": "electoral-religious",
   "metadata": {},
   "outputs": [
    {
     "data": {
      "text/plain": [
       "GridSearchCV(cv=5, estimator=RandomForestRegressor(), n_jobs=-1,\n",
       "             param_grid={'max_depth': [11],\n",
       "                         'max_features': [0.1, 0.2, 0.30000000000000004, 0.4,\n",
       "                                          0.5, 0.6000000000000001,\n",
       "                                          0.7000000000000001, 0.8, 0.9],\n",
       "                         'min_samples_leaf': [1], 'min_samples_split': [3],\n",
       "                         'n_estimators': [130]})"
      ]
     },
     "execution_count": 141,
     "metadata": {},
     "output_type": "execute_result"
    }
   ],
   "source": [
    "cv = GridSearchCV(rfc,parameters,cv=5,n_jobs=-1) #use 5-fold cross validation and all processors\n",
    "cv.fit(train_X,train_Y.values.ravel())"
   ]
  },
  {
   "cell_type": "code",
   "execution_count": 142,
   "id": "dominican-second",
   "metadata": {},
   "outputs": [
    {
     "name": "stdout",
     "output_type": "stream",
     "text": [
      "Best parameters are: {'max_depth': 11, 'max_features': 0.2, 'min_samples_leaf': 1, 'min_samples_split': 3, 'n_estimators': 130}\n"
     ]
    }
   ],
   "source": [
    "display_best(cv)"
   ]
  },
  {
   "cell_type": "code",
   "execution_count": 143,
   "id": "dominant-aurora",
   "metadata": {},
   "outputs": [
    {
     "data": {
      "text/plain": [
       "Text(0, 0.5, 'mean accuracy')"
      ]
     },
     "execution_count": 143,
     "metadata": {},
     "output_type": "execute_result"
    },
    {
     "data": {
      "image/png": "[encoded data removed]",
      "text/plain": [
       "<Figure size 432x288 with 1 Axes>"
      ]
     },
     "metadata": {},
     "output_type": "display_data"
    }
   ],
   "source": [
    "#visualising the result (train_set)\n",
    "result = cv.cv_results_['mean_test_score']\n",
    "plt.plot(x, result)\n",
    "plt.xlabel('max_features')\n",
    "plt.ylabel('mean accuracy')"
   ]
  },
  {
   "cell_type": "markdown",
   "id": "aware-desperate",
   "metadata": {},
   "source": [
    "The max_features hyperparameter determines what fraction of the original dataset is given to any individual tree. From the result, it is not necessary to give each decision tree of the Random Forest the full data. In this case, we will use **max_features = 0.2**"
   ]
  },
  {
   "cell_type": "markdown",
   "id": "charming-suspension",
   "metadata": {},
   "source": [
    "### 8.6 Putting All Together "
   ]
  },
  {
   "cell_type": "code",
   "execution_count": 434,
   "id": "polished-dominican",
   "metadata": {},
   "outputs": [
    {
     "name": "stdout",
     "output_type": "stream",
     "text": [
      "Train accuracy = 0.9703194689148689\n",
      "Test accuracy = 0.8386879060942132\n"
     ]
    }
   ],
   "source": [
    "regressor = RandomForestRegressor(max_depth =  11, max_features = 0.2, min_samples_leaf = 1, min_samples_split = 3, n_estimators = 130, random_state = 0)\n",
    "model = regressor.fit(train_X, train_Y)\n",
    "y_pred = model.predict(test_X)\n",
    "train_accuracy_tun = model.score(train_X,train_Y)\n",
    "test_accuracy_tun = model.score(test_X,test_Y)\n",
    "print (\"Train accuracy =\", model.score(train_X,train_Y))\n",
    "print (\"Test accuracy =\", model.score(test_X,test_Y))"
   ]
  },
  {
   "cell_type": "code",
   "execution_count": 435,
   "id": "timely-return",
   "metadata": {},
   "outputs": [
    {
     "name": "stdout",
     "output_type": "stream",
     "text": [
      "Train accuracy improvement = 2.062814193658461 %\n",
      "Test accuracy improvement = 3.347999552376986 %\n"
     ]
    }
   ],
   "source": [
    "#improvement in accuracy\n",
    "train_improvement = (train_accuracy_tun - train_accuracy)/train_accuracy*100\n",
    "test_improvement = (test_accuracy_tun - test_accuracy)/test_accuracy*100\n",
    "print (\"Train accuracy improvement =\", train_improvement,\"%\")\n",
    "print (\"Test accuracy improvement =\", test_improvement,\"%\")"
   ]
  },
  {
   "cell_type": "markdown",
   "id": "varied-champagne",
   "metadata": {},
   "source": [
    "The model accuracy has improved after the model hyperparameters have been tuned.\n",
    "\n",
    "[back to top](#top)"
   ]
  },
  {
   "cell_type": "markdown",
   "id": "practical-ranch",
   "metadata": {},
   "source": [
    "## <a id='section9'>9. Further Data Engineering</a>"
   ]
  },
  {
   "cell_type": "markdown",
   "id": "corresponding-burst",
   "metadata": {},
   "source": [
    "### 9.1 Variable Discretisation\n",
    "Many machine learning algorithms prefer or perform better when numerical with non-standard probability distributions are made discrete. Discretization transforms are a technique for transforming numerical input or output variables to have discrete ordinal labels. <br>\n",
    "\n",
    "The EqualWidthDiscretiser() sorts the variable values into contiguous intervals of equal size. The size of the interval is calculated as:\n",
    "\n",
    "( max(X) - min(X) ) / bins\n",
    "\n",
    "where bins, which is the number of intervals, should be determined by the user. "
   ]
  },
  {
   "cell_type": "code",
   "execution_count": 247,
   "id": "qualified-finance",
   "metadata": {},
   "outputs": [],
   "source": [
    "x = np.arange(10, 500, 10).tolist() \n",
    "train_accuracy_list = []\n",
    "test_accuracy_list = []\n",
    "for i in x:\n",
    "    disc = EqualWidthDiscretiser(bins=i, variables= ['LotArea', 'YearBuilt', 'YearRemodAdd', \n",
    "       'MasVnrArea', 'BsmtFinSF1', 'BsmtFinSF2', 'BsmtUnfSF', 'TotalBsmtSF', '1stFlrSF', '2ndFlrSF',\n",
    "       'LowQualFinSF', 'GrLivArea', 'BsmtFullBath', 'BsmtHalfBath', 'FullBath',\n",
    "       'HalfBath', 'BedroomAbvGr', 'KitchenAbvGr','TotRmsAbvGrd', 'Fireplaces', \n",
    "       'GarageYrBlt', 'GarageCars', 'GarageArea', 'WoodDeckSF', 'OpenPorchSF',\n",
    "       'EnclosedPorch', '3SsnPorch', 'ScreenPorch', 'PoolArea', 'MiscVal', 'MoSold', 'YrSold'])\n",
    "    # fit the transformer\n",
    "    disc.fit(train_X)\n",
    "\n",
    "    # transform the data\n",
    "    train_g= disc.transform(train_X)\n",
    "    test_g= disc.transform(test_X)\n",
    "    \n",
    "    regressor = RandomForestRegressor(n_estimators = 5, random_state = 0)\n",
    "    model = regressor.fit(train_g, train_Y)\n",
    "    y_pred = model.predict(test_g)\n",
    "    train_accuracy_disc = model.score(train_g,train_Y)\n",
    "    test_accuracy_disc = model.score(test_g,test_Y)\n",
    "    train_accuracy_list.append(train_accuracy_disc)\n",
    "    test_accuracy_list.append(test_accuracy_disc)"
   ]
  },
  {
   "cell_type": "markdown",
   "id": "native-narrow",
   "metadata": {},
   "source": [
    "We have tested how test accuracy varies as we change the number of bins to be used in the variable discretisation of the dataset. From there, we can choose the optimum number of bins to be used. "
   ]
  },
  {
   "cell_type": "code",
   "execution_count": 439,
   "id": "fatal-cuisine",
   "metadata": {},
   "outputs": [
    {
     "data": {
      "text/plain": [
       "Text(0, 0.5, 'accuracy')"
      ]
     },
     "execution_count": 439,
     "metadata": {},
     "output_type": "execute_result"
    },
    {
     "data": {
      "image/png": "[encoded data removed]",
      "text/plain": [
       "<Figure size 432x288 with 1 Axes>"
      ]
     },
     "metadata": {},
     "output_type": "display_data"
    }
   ],
   "source": [
    "#visualising the result\n",
    "plt.plot(x, train_accuracy_list, label = \"train_accuracy\")\n",
    "plt.plot(x, test_accuracy_list, label = \"test_accuracy\")\n",
    "plt.legend([\"train_accuracy\", \"test_accuracy\"], loc='upper left')\n",
    "plt.xlabel('number of bins')\n",
    "plt.ylabel('accuracy')"
   ]
  },
  {
   "cell_type": "code",
   "execution_count": 436,
   "id": "appreciated-custody",
   "metadata": {},
   "outputs": [
    {
     "data": {
      "text/plain": [
       "0.8456638629896879"
      ]
     },
     "execution_count": 436,
     "metadata": {},
     "output_type": "execute_result"
    }
   ],
   "source": [
    "#best test_accuracy\n",
    "max(test_accuracy_list)"
   ]
  },
  {
   "cell_type": "code",
   "execution_count": 437,
   "id": "clean-project",
   "metadata": {},
   "outputs": [
    {
     "name": "stdout",
     "output_type": "stream",
     "text": [
      "Test accuracy improvement compared to the basic model = 4.207617516189539 %\n"
     ]
    }
   ],
   "source": [
    "test_improvement = (max(test_accuracy_list) - test_accuracy)/test_accuracy*100\n",
    "print (\"Test accuracy improvement compared to the basic model =\", test_improvement,\"%\")"
   ]
  },
  {
   "cell_type": "code",
   "execution_count": 440,
   "id": "scientific-demonstration",
   "metadata": {},
   "outputs": [
    {
     "name": "stdout",
     "output_type": "stream",
     "text": [
      "The optimum number of bins = 20\n"
     ]
    }
   ],
   "source": [
    "ind = np.argmax(test_accuracy_list)\n",
    "bins = x[ind]\n",
    "print (\"The optimum number of bins =\", bins)"
   ]
  },
  {
   "cell_type": "markdown",
   "id": "fifteen-fundamentals",
   "metadata": {},
   "source": [
    "### 9.2 Missing Data Imputation\n",
    "\n",
    "From our previous data exploration, these are the variables with null data.\n",
    "\n",
    "1. LotFrontage /number of null data: 259\n",
    "2. MasVnrArea /number of null data: 8\n",
    "3. Electrical /number of null data: 1\n",
    "4. GarageYrBlt /number of null data: 81\n",
    "\n",
    "Our previous approach was to remove the null data, what what if we impute the missing data with the mean/median of the variables instead? "
   ]
  },
  {
   "cell_type": "code",
   "execution_count": 651,
   "id": "theoretical-gravity",
   "metadata": {},
   "outputs": [],
   "source": [
    "#import the dataset again without previous adjustments\n",
    "trainn = pd.read_csv('train.csv')"
   ]
  },
  {
   "cell_type": "code",
   "execution_count": 652,
   "id": "executed-camera",
   "metadata": {},
   "outputs": [],
   "source": [
    "#imputation of continuous variables\n",
    "median_imputer = MeanMedianImputer(imputation_method='median', variables=['LotFrontage', 'MasVnrArea','GarageYrBlt'])\n",
    "median_imputer.fit(trainn)\n",
    "train_t= median_imputer.transform(trainn)"
   ]
  },
  {
   "cell_type": "code",
   "execution_count": 653,
   "id": "textile-nelson",
   "metadata": {},
   "outputs": [
    {
     "data": {
      "text/plain": [
       "<matplotlib.legend.Legend at 0x7f953a4dd280>"
      ]
     },
     "execution_count": 653,
     "metadata": {},
     "output_type": "execute_result"
    },
    {
     "data": {
      "image/png": "[encoded data removed]",
      "text/plain": [
       "<Figure size 432x288 with 1 Axes>"
      ]
     },
     "metadata": {},
     "output_type": "display_data"
    }
   ],
   "source": [
    "#illustrate an example of difference due to data imputation for variables\n",
    "fig = plt.figure()\n",
    "ax = fig.add_subplot(111)\n",
    "trainn['LotFrontage'].plot(kind='kde', ax=ax)\n",
    "train_t['LotFrontage'].plot(kind='kde', ax=ax, color='red')\n",
    "lines, labels = ax.get_legend_handles_labels()\n",
    "ax.legend(lines, labels, loc='best')"
   ]
  },
  {
   "cell_type": "code",
   "execution_count": 654,
   "id": "excellent-thompson",
   "metadata": {},
   "outputs": [],
   "source": [
    "#imputation for categorical variables\n",
    "imputer = CategoricalImputer(variables=['Electrical'])\n",
    "imputer.fit(train_t) \n",
    "train_t1= imputer.transform(train_t)"
   ]
  },
  {
   "cell_type": "code",
   "execution_count": 655,
   "id": "twelve-efficiency",
   "metadata": {},
   "outputs": [
    {
     "data": {
      "text/plain": [
       "<AxesSubplot:>"
      ]
     },
     "execution_count": 655,
     "metadata": {},
     "output_type": "execute_result"
    },
    {
     "data": {
      "image/png": "[encoded data removed]",
      "text/plain": [
       "<Figure size 432x288 with 1 Axes>"
      ]
     },
     "metadata": {},
     "output_type": "display_data"
    }
   ],
   "source": [
    "train_t1['Electrical'].value_counts().plot.bar()"
   ]
  },
  {
   "cell_type": "code",
   "execution_count": 656,
   "id": "lesser-reverse",
   "metadata": {},
   "outputs": [],
   "source": [
    "#One-Hot encoding\n",
    "categoricalcolumns = ['MSSubClass', 'MSZoning', 'Street', 'Alley', 'LotShape', 'LandContour', 'Utilities', 'LotConfig', 'LandSlope', 'Neighborhood', 'Condition1', 'Condition2', 'BldgType', 'HouseStyle', 'OverallQual', 'OverallCond', 'RoofStyle', 'RoofMatl', 'Exterior1st', 'Exterior2nd', 'MasVnrType', 'ExterQual', 'ExterCond','Foundation', 'BsmtQual', 'BsmtCond', 'BsmtExposure', 'BsmtFinType1', 'BsmtFinType2', 'Heating', 'HeatingQC', 'CentralAir', 'Electrical', 'KitchenQual', 'Functional', 'FireplaceQu', 'GarageType', 'GarageFinish', 'GarageQual', 'GarageCond', 'PavedDrive', 'PoolQC', 'Fence', 'MiscFeature', 'SaleType', 'SaleCondition']\n",
    "train_t2 = pd.get_dummies(train_t1, columns= categoricalcolumns, prefix= categoricalcolumns)"
   ]
  },
  {
   "cell_type": "code",
   "execution_count": 663,
   "id": "connected-profit",
   "metadata": {},
   "outputs": [],
   "source": [
    "#train-test split\n",
    "TEST_SIZE = 0.25\n",
    "\n",
    "filteredData1 = train_t2.drop(['Id'], axis=1)\n",
    "train_df, test_df = train_test_split(filteredData1, test_size=TEST_SIZE,shuffle = False) #put shuffle = False so that we can reuse the same training and test sets for better comparison\n",
    "\n",
    "train_X = train_df.drop('SalePrice', axis=1)\n",
    "train_Y = train_df['SalePrice']\n",
    "test_X = test_df.drop('SalePrice', axis=1)\n",
    "test_Y = test_df['SalePrice']"
   ]
  },
  {
   "cell_type": "code",
   "execution_count": 664,
   "id": "fantastic-weight",
   "metadata": {},
   "outputs": [
    {
     "name": "stdout",
     "output_type": "stream",
     "text": [
      "Train accuracy = 0.9570011888516992\n",
      "Test accuracy = 0.8401910962793853\n"
     ]
    }
   ],
   "source": [
    "regressor = RandomForestRegressor(n_estimators = 5, random_state = 0)\n",
    "model = regressor.fit(train_X, train_Y)\n",
    "y_pred = model.predict(test_X)\n",
    "train_accuracy_impute = model.score(train_X,train_Y)\n",
    "test_accuracy_impute = model.score(test_X,test_Y)\n",
    "print (\"Train accuracy =\", model.score(train_X,train_Y))\n",
    "print (\"Test accuracy =\", model.score(test_X,test_Y))"
   ]
  },
  {
   "cell_type": "code",
   "execution_count": 665,
   "id": "governmental-duration",
   "metadata": {},
   "outputs": [
    {
     "name": "stdout",
     "output_type": "stream",
     "text": [
      "Test accuracy improvement compared to the basic model = 3.533231385881989 %\n"
     ]
    }
   ],
   "source": [
    "test_improvement = (test_accuracy_impute - test_accuracy)/test_accuracy*100\n",
    "print (\"Test accuracy improvement compared to the basic model =\", test_improvement,\"%\")"
   ]
  },
  {
   "cell_type": "markdown",
   "id": "maritime-opposition",
   "metadata": {},
   "source": [
    "The test accuracy has improved after we have imputed the data instead of just removing the null data.\n",
    "\n",
    "[back to top](#top)"
   ]
  },
  {
   "cell_type": "markdown",
   "id": "catholic-microwave",
   "metadata": {},
   "source": [
    "## <a id='section10'>10. Result Compilation </a>\n",
    "After all our optimization exploration, we will now consolidate all the effective optimization methods and test it on the Kaggle test set and send the result to Kaggle for calculation of the accuracy score."
   ]
  },
  {
   "cell_type": "code",
   "execution_count": 975,
   "id": "greatest-airfare",
   "metadata": {},
   "outputs": [
    {
     "data": {
      "text/html": [
       "<style  type=\"text/css\" >\n",
       "</style><table id=\"T_dcf02_\" ><thead>    <tr>        <th class=\"col_heading level0 col0\" >Optimization Method</th>        <th class=\"col_heading level0 col1\" >Improvement in Test R2 Score (%)</th>    </tr></thead><tbody>\n",
       "                <tr>\n",
       "                                <td id=\"T_dcf02_row0_col0\" class=\"data row0 col0\" >Feature Selection</td>\n",
       "                        <td id=\"T_dcf02_row0_col1\" class=\"data row0 col1\" >7.290000</td>\n",
       "            </tr>\n",
       "            <tr>\n",
       "                                <td id=\"T_dcf02_row1_col0\" class=\"data row1 col0\" >Z-Standardization</td>\n",
       "                        <td id=\"T_dcf02_row1_col1\" class=\"data row1 col1\" >5.000000</td>\n",
       "            </tr>\n",
       "            <tr>\n",
       "                                <td id=\"T_dcf02_row2_col0\" class=\"data row2 col0\" >Reducing Skewness in Categorical Variables</td>\n",
       "                        <td id=\"T_dcf02_row2_col1\" class=\"data row2 col1\" >4.980000</td>\n",
       "            </tr>\n",
       "            <tr>\n",
       "                                <td id=\"T_dcf02_row3_col0\" class=\"data row3 col0\" >Min-Max Scaling</td>\n",
       "                        <td id=\"T_dcf02_row3_col1\" class=\"data row3 col1\" >4.980000</td>\n",
       "            </tr>\n",
       "            <tr>\n",
       "                                <td id=\"T_dcf02_row4_col0\" class=\"data row4 col0\" >Variable Discretisation</td>\n",
       "                        <td id=\"T_dcf02_row4_col1\" class=\"data row4 col1\" >4.210000</td>\n",
       "            </tr>\n",
       "            <tr>\n",
       "                                <td id=\"T_dcf02_row5_col0\" class=\"data row5 col0\" >Missing Data Imputation</td>\n",
       "                        <td id=\"T_dcf02_row5_col1\" class=\"data row5 col1\" >3.530000</td>\n",
       "            </tr>\n",
       "            <tr>\n",
       "                                <td id=\"T_dcf02_row6_col0\" class=\"data row6 col0\" >Hyperparameter Tuning</td>\n",
       "                        <td id=\"T_dcf02_row6_col1\" class=\"data row6 col1\" >3.350000</td>\n",
       "            </tr>\n",
       "            <tr>\n",
       "                                <td id=\"T_dcf02_row7_col0\" class=\"data row7 col0\" >Reducing Skewness in Continuous Variables</td>\n",
       "                        <td id=\"T_dcf02_row7_col1\" class=\"data row7 col1\" >-2.020000</td>\n",
       "            </tr>\n",
       "    </tbody></table>"
      ],
      "text/plain": [
       "<pandas.io.formats.style.Styler at 0x7f953db1db50>"
      ]
     },
     "execution_count": 975,
     "metadata": {},
     "output_type": "execute_result"
    }
   ],
   "source": [
    "models = pd.DataFrame({\n",
    "    'Optimization Method': [ 'Feature Selection', 'Reducing Skewness in Continuous Variables', 'Reducing Skewness in Categorical Variables','Min-Max Scaling','Z-Standardization','Hyperparameter Tuning','Variable Discretisation','Missing Data Imputation'],\n",
    "    'Improvement in Test R2 Score (%)': [ 7.29,-2.02, 4.98, 4.98, 5.0, 3.35,4.21,3.53]})\n",
    "\n",
    "models = models.sort_values(by='Improvement in Test R2 Score (%)', ascending=False)\n",
    "models.style.hide_index()\n"
   ]
  },
  {
   "cell_type": "markdown",
   "id": "nutritional-budapest",
   "metadata": {},
   "source": [
    "We can see that feature selection is evaluated to be the best optimization method in improving the test R2 score based on our analysis."
   ]
  },
  {
   "cell_type": "markdown",
   "id": "vulnerable-coating",
   "metadata": {},
   "source": [
    "### 10.1 Test Data Inspection"
   ]
  },
  {
   "cell_type": "code",
   "execution_count": 950,
   "id": "precious-light",
   "metadata": {},
   "outputs": [
    {
     "data": {
      "text/html": [
       "<div>\n",
       "<style scoped>\n",
       "    .dataframe tbody tr th:only-of-type {\n",
       "        vertical-align: middle;\n",
       "    }\n",
       "\n",
       "    .dataframe tbody tr th {\n",
       "        vertical-align: top;\n",
       "    }\n",
       "\n",
       "    .dataframe thead th {\n",
       "        text-align: right;\n",
       "    }\n",
       "</style>\n",
       "<table border=\"1\" class=\"dataframe\">\n",
       "  <thead>\n",
       "    <tr style=\"text-align: right;\">\n",
       "      <th></th>\n",
       "      <th>MSSubClass</th>\n",
       "      <th>MSZoning</th>\n",
       "      <th>LotFrontage</th>\n",
       "      <th>LotArea</th>\n",
       "      <th>Street</th>\n",
       "      <th>Alley</th>\n",
       "      <th>LotShape</th>\n",
       "      <th>LandContour</th>\n",
       "      <th>Utilities</th>\n",
       "      <th>LotConfig</th>\n",
       "      <th>...</th>\n",
       "      <th>ScreenPorch</th>\n",
       "      <th>PoolArea</th>\n",
       "      <th>PoolQC</th>\n",
       "      <th>Fence</th>\n",
       "      <th>MiscFeature</th>\n",
       "      <th>MiscVal</th>\n",
       "      <th>MoSold</th>\n",
       "      <th>YrSold</th>\n",
       "      <th>SaleType</th>\n",
       "      <th>SaleCondition</th>\n",
       "    </tr>\n",
       "  </thead>\n",
       "  <tbody>\n",
       "    <tr>\n",
       "      <th>0</th>\n",
       "      <td>20</td>\n",
       "      <td>RH</td>\n",
       "      <td>80.0</td>\n",
       "      <td>11622</td>\n",
       "      <td>Pave</td>\n",
       "      <td>NaN</td>\n",
       "      <td>Reg</td>\n",
       "      <td>Lvl</td>\n",
       "      <td>AllPub</td>\n",
       "      <td>Inside</td>\n",
       "      <td>...</td>\n",
       "      <td>120</td>\n",
       "      <td>0</td>\n",
       "      <td>NaN</td>\n",
       "      <td>MnPrv</td>\n",
       "      <td>NaN</td>\n",
       "      <td>0</td>\n",
       "      <td>6</td>\n",
       "      <td>2010</td>\n",
       "      <td>WD</td>\n",
       "      <td>Normal</td>\n",
       "    </tr>\n",
       "    <tr>\n",
       "      <th>1</th>\n",
       "      <td>20</td>\n",
       "      <td>RL</td>\n",
       "      <td>81.0</td>\n",
       "      <td>14267</td>\n",
       "      <td>Pave</td>\n",
       "      <td>NaN</td>\n",
       "      <td>IR1</td>\n",
       "      <td>Lvl</td>\n",
       "      <td>AllPub</td>\n",
       "      <td>Corner</td>\n",
       "      <td>...</td>\n",
       "      <td>0</td>\n",
       "      <td>0</td>\n",
       "      <td>NaN</td>\n",
       "      <td>NaN</td>\n",
       "      <td>Gar2</td>\n",
       "      <td>12500</td>\n",
       "      <td>6</td>\n",
       "      <td>2010</td>\n",
       "      <td>WD</td>\n",
       "      <td>Normal</td>\n",
       "    </tr>\n",
       "    <tr>\n",
       "      <th>2</th>\n",
       "      <td>60</td>\n",
       "      <td>RL</td>\n",
       "      <td>74.0</td>\n",
       "      <td>13830</td>\n",
       "      <td>Pave</td>\n",
       "      <td>NaN</td>\n",
       "      <td>IR1</td>\n",
       "      <td>Lvl</td>\n",
       "      <td>AllPub</td>\n",
       "      <td>Inside</td>\n",
       "      <td>...</td>\n",
       "      <td>0</td>\n",
       "      <td>0</td>\n",
       "      <td>NaN</td>\n",
       "      <td>MnPrv</td>\n",
       "      <td>NaN</td>\n",
       "      <td>0</td>\n",
       "      <td>3</td>\n",
       "      <td>2010</td>\n",
       "      <td>WD</td>\n",
       "      <td>Normal</td>\n",
       "    </tr>\n",
       "    <tr>\n",
       "      <th>3</th>\n",
       "      <td>60</td>\n",
       "      <td>RL</td>\n",
       "      <td>78.0</td>\n",
       "      <td>9978</td>\n",
       "      <td>Pave</td>\n",
       "      <td>NaN</td>\n",
       "      <td>IR1</td>\n",
       "      <td>Lvl</td>\n",
       "      <td>AllPub</td>\n",
       "      <td>Inside</td>\n",
       "      <td>...</td>\n",
       "      <td>0</td>\n",
       "      <td>0</td>\n",
       "      <td>NaN</td>\n",
       "      <td>NaN</td>\n",
       "      <td>NaN</td>\n",
       "      <td>0</td>\n",
       "      <td>6</td>\n",
       "      <td>2010</td>\n",
       "      <td>WD</td>\n",
       "      <td>Normal</td>\n",
       "    </tr>\n",
       "    <tr>\n",
       "      <th>4</th>\n",
       "      <td>120</td>\n",
       "      <td>RL</td>\n",
       "      <td>43.0</td>\n",
       "      <td>5005</td>\n",
       "      <td>Pave</td>\n",
       "      <td>NaN</td>\n",
       "      <td>IR1</td>\n",
       "      <td>HLS</td>\n",
       "      <td>AllPub</td>\n",
       "      <td>Inside</td>\n",
       "      <td>...</td>\n",
       "      <td>144</td>\n",
       "      <td>0</td>\n",
       "      <td>NaN</td>\n",
       "      <td>NaN</td>\n",
       "      <td>NaN</td>\n",
       "      <td>0</td>\n",
       "      <td>1</td>\n",
       "      <td>2010</td>\n",
       "      <td>WD</td>\n",
       "      <td>Normal</td>\n",
       "    </tr>\n",
       "    <tr>\n",
       "      <th>...</th>\n",
       "      <td>...</td>\n",
       "      <td>...</td>\n",
       "      <td>...</td>\n",
       "      <td>...</td>\n",
       "      <td>...</td>\n",
       "      <td>...</td>\n",
       "      <td>...</td>\n",
       "      <td>...</td>\n",
       "      <td>...</td>\n",
       "      <td>...</td>\n",
       "      <td>...</td>\n",
       "      <td>...</td>\n",
       "      <td>...</td>\n",
       "      <td>...</td>\n",
       "      <td>...</td>\n",
       "      <td>...</td>\n",
       "      <td>...</td>\n",
       "      <td>...</td>\n",
       "      <td>...</td>\n",
       "      <td>...</td>\n",
       "      <td>...</td>\n",
       "    </tr>\n",
       "    <tr>\n",
       "      <th>1454</th>\n",
       "      <td>160</td>\n",
       "      <td>RM</td>\n",
       "      <td>21.0</td>\n",
       "      <td>1936</td>\n",
       "      <td>Pave</td>\n",
       "      <td>NaN</td>\n",
       "      <td>Reg</td>\n",
       "      <td>Lvl</td>\n",
       "      <td>AllPub</td>\n",
       "      <td>Inside</td>\n",
       "      <td>...</td>\n",
       "      <td>0</td>\n",
       "      <td>0</td>\n",
       "      <td>NaN</td>\n",
       "      <td>NaN</td>\n",
       "      <td>NaN</td>\n",
       "      <td>0</td>\n",
       "      <td>6</td>\n",
       "      <td>2006</td>\n",
       "      <td>WD</td>\n",
       "      <td>Normal</td>\n",
       "    </tr>\n",
       "    <tr>\n",
       "      <th>1455</th>\n",
       "      <td>160</td>\n",
       "      <td>RM</td>\n",
       "      <td>21.0</td>\n",
       "      <td>1894</td>\n",
       "      <td>Pave</td>\n",
       "      <td>NaN</td>\n",
       "      <td>Reg</td>\n",
       "      <td>Lvl</td>\n",
       "      <td>AllPub</td>\n",
       "      <td>Inside</td>\n",
       "      <td>...</td>\n",
       "      <td>0</td>\n",
       "      <td>0</td>\n",
       "      <td>NaN</td>\n",
       "      <td>NaN</td>\n",
       "      <td>NaN</td>\n",
       "      <td>0</td>\n",
       "      <td>4</td>\n",
       "      <td>2006</td>\n",
       "      <td>WD</td>\n",
       "      <td>Abnorml</td>\n",
       "    </tr>\n",
       "    <tr>\n",
       "      <th>1456</th>\n",
       "      <td>20</td>\n",
       "      <td>RL</td>\n",
       "      <td>160.0</td>\n",
       "      <td>20000</td>\n",
       "      <td>Pave</td>\n",
       "      <td>NaN</td>\n",
       "      <td>Reg</td>\n",
       "      <td>Lvl</td>\n",
       "      <td>AllPub</td>\n",
       "      <td>Inside</td>\n",
       "      <td>...</td>\n",
       "      <td>0</td>\n",
       "      <td>0</td>\n",
       "      <td>NaN</td>\n",
       "      <td>NaN</td>\n",
       "      <td>NaN</td>\n",
       "      <td>0</td>\n",
       "      <td>9</td>\n",
       "      <td>2006</td>\n",
       "      <td>WD</td>\n",
       "      <td>Abnorml</td>\n",
       "    </tr>\n",
       "    <tr>\n",
       "      <th>1457</th>\n",
       "      <td>85</td>\n",
       "      <td>RL</td>\n",
       "      <td>62.0</td>\n",
       "      <td>10441</td>\n",
       "      <td>Pave</td>\n",
       "      <td>NaN</td>\n",
       "      <td>Reg</td>\n",
       "      <td>Lvl</td>\n",
       "      <td>AllPub</td>\n",
       "      <td>Inside</td>\n",
       "      <td>...</td>\n",
       "      <td>0</td>\n",
       "      <td>0</td>\n",
       "      <td>NaN</td>\n",
       "      <td>MnPrv</td>\n",
       "      <td>Shed</td>\n",
       "      <td>700</td>\n",
       "      <td>7</td>\n",
       "      <td>2006</td>\n",
       "      <td>WD</td>\n",
       "      <td>Normal</td>\n",
       "    </tr>\n",
       "    <tr>\n",
       "      <th>1458</th>\n",
       "      <td>60</td>\n",
       "      <td>RL</td>\n",
       "      <td>74.0</td>\n",
       "      <td>9627</td>\n",
       "      <td>Pave</td>\n",
       "      <td>NaN</td>\n",
       "      <td>Reg</td>\n",
       "      <td>Lvl</td>\n",
       "      <td>AllPub</td>\n",
       "      <td>Inside</td>\n",
       "      <td>...</td>\n",
       "      <td>0</td>\n",
       "      <td>0</td>\n",
       "      <td>NaN</td>\n",
       "      <td>NaN</td>\n",
       "      <td>NaN</td>\n",
       "      <td>0</td>\n",
       "      <td>11</td>\n",
       "      <td>2006</td>\n",
       "      <td>WD</td>\n",
       "      <td>Normal</td>\n",
       "    </tr>\n",
       "  </tbody>\n",
       "</table>\n",
       "<p>1459 rows × 79 columns</p>\n",
       "</div>"
      ],
      "text/plain": [
       "      MSSubClass MSZoning  LotFrontage  LotArea Street Alley LotShape  \\\n",
       "0             20       RH         80.0    11622   Pave   NaN      Reg   \n",
       "1             20       RL         81.0    14267   Pave   NaN      IR1   \n",
       "2             60       RL         74.0    13830   Pave   NaN      IR1   \n",
       "3             60       RL         78.0     9978   Pave   NaN      IR1   \n",
       "4            120       RL         43.0     5005   Pave   NaN      IR1   \n",
       "...          ...      ...          ...      ...    ...   ...      ...   \n",
       "1454         160       RM         21.0     1936   Pave   NaN      Reg   \n",
       "1455         160       RM         21.0     1894   Pave   NaN      Reg   \n",
       "1456          20       RL        160.0    20000   Pave   NaN      Reg   \n",
       "1457          85       RL         62.0    10441   Pave   NaN      Reg   \n",
       "1458          60       RL         74.0     9627   Pave   NaN      Reg   \n",
       "\n",
       "     LandContour Utilities LotConfig  ... ScreenPorch PoolArea PoolQC  Fence  \\\n",
       "0            Lvl    AllPub    Inside  ...         120        0    NaN  MnPrv   \n",
       "1            Lvl    AllPub    Corner  ...           0        0    NaN    NaN   \n",
       "2            Lvl    AllPub    Inside  ...           0        0    NaN  MnPrv   \n",
       "3            Lvl    AllPub    Inside  ...           0        0    NaN    NaN   \n",
       "4            HLS    AllPub    Inside  ...         144        0    NaN    NaN   \n",
       "...          ...       ...       ...  ...         ...      ...    ...    ...   \n",
       "1454         Lvl    AllPub    Inside  ...           0        0    NaN    NaN   \n",
       "1455         Lvl    AllPub    Inside  ...           0        0    NaN    NaN   \n",
       "1456         Lvl    AllPub    Inside  ...           0        0    NaN    NaN   \n",
       "1457         Lvl    AllPub    Inside  ...           0        0    NaN  MnPrv   \n",
       "1458         Lvl    AllPub    Inside  ...           0        0    NaN    NaN   \n",
       "\n",
       "     MiscFeature MiscVal  MoSold  YrSold  SaleType  SaleCondition  \n",
       "0            NaN       0       6    2010        WD         Normal  \n",
       "1           Gar2   12500       6    2010        WD         Normal  \n",
       "2            NaN       0       3    2010        WD         Normal  \n",
       "3            NaN       0       6    2010        WD         Normal  \n",
       "4            NaN       0       1    2010        WD         Normal  \n",
       "...          ...     ...     ...     ...       ...            ...  \n",
       "1454         NaN       0       6    2006        WD         Normal  \n",
       "1455         NaN       0       4    2006        WD        Abnorml  \n",
       "1456         NaN       0       9    2006        WD        Abnorml  \n",
       "1457        Shed     700       7    2006        WD         Normal  \n",
       "1458         NaN       0      11    2006        WD         Normal  \n",
       "\n",
       "[1459 rows x 79 columns]"
      ]
     },
     "execution_count": 950,
     "metadata": {},
     "output_type": "execute_result"
    }
   ],
   "source": [
    "test = pd.read_csv('test.csv')\n",
    "test = test.drop(columns=\"Id\")\n",
    "test"
   ]
  },
  {
   "cell_type": "code",
   "execution_count": 477,
   "id": "alleged-mouth",
   "metadata": {},
   "outputs": [],
   "source": [
    "#Inspect the completeness of data (empty data)\n",
    "def checkemptydata(dataset):\n",
    "    emptylist= []\n",
    "    emptylist1 = []\n",
    "    for i in dataset.columns: \n",
    "        emptylist.append(dataset[dataset[i] == ' '].index) \n",
    "    for x in emptylist:\n",
    "        emptylist1.append(len(x))\n",
    "    if any(emptylist1) == False: \n",
    "        print (\"The dataset has no empty data\")\n",
    "    else: \n",
    "        print (\"The dataset contains empty data\")   "
   ]
  },
  {
   "cell_type": "code",
   "execution_count": 478,
   "id": "detailed-pound",
   "metadata": {},
   "outputs": [
    {
     "name": "stdout",
     "output_type": "stream",
     "text": [
      "The dataset has no empty data\n"
     ]
    }
   ],
   "source": [
    "#check for empty data\n",
    "checkemptydata(test)"
   ]
  },
  {
   "cell_type": "code",
   "execution_count": 649,
   "id": "professional-wyoming",
   "metadata": {},
   "outputs": [],
   "source": [
    "#Inspect the completeness of data (null data)\n",
    "def checknulldata(dataset):\n",
    "    nalist = []\n",
    "    index = []\n",
    "    counter = 0\n",
    "    for i in dataset.columns: \n",
    "        nalist.append(dataset[dataset[i].isnull()].index.tolist())\n",
    "    while counter < len(nalist):\n",
    "        if len(nalist[counter]) != 0: \n",
    "            index.append(counter)\n",
    "        counter+=1\n",
    "    if len(index) != 0: \n",
    "        for x in index:\n",
    "            print(dataset.columns[x],\"/number of null data:\", len(nalist[x])) #return the features which have null data\n",
    "    else: \n",
    "        print(\"The dataset has no null data\")"
   ]
  },
  {
   "cell_type": "code",
   "execution_count": 650,
   "id": "confused-omaha",
   "metadata": {},
   "outputs": [
    {
     "name": "stdout",
     "output_type": "stream",
     "text": [
      "MSZoning /number of null data: 4\n",
      "LotFrontage /number of null data: 227\n",
      "Alley /number of null data: 1352\n",
      "Utilities /number of null data: 2\n",
      "Exterior1st /number of null data: 1\n",
      "Exterior2nd /number of null data: 1\n",
      "MasVnrType /number of null data: 16\n",
      "MasVnrArea /number of null data: 15\n",
      "BsmtQual /number of null data: 44\n",
      "BsmtCond /number of null data: 45\n",
      "BsmtExposure /number of null data: 44\n",
      "BsmtFinType1 /number of null data: 42\n",
      "BsmtFinSF1 /number of null data: 1\n",
      "BsmtFinType2 /number of null data: 42\n",
      "BsmtFinSF2 /number of null data: 1\n",
      "BsmtUnfSF /number of null data: 1\n",
      "TotalBsmtSF /number of null data: 1\n",
      "BsmtFullBath /number of null data: 2\n",
      "BsmtHalfBath /number of null data: 2\n",
      "KitchenQual /number of null data: 1\n",
      "Functional /number of null data: 2\n",
      "FireplaceQu /number of null data: 730\n",
      "GarageType /number of null data: 76\n",
      "GarageYrBlt /number of null data: 78\n",
      "GarageFinish /number of null data: 78\n",
      "GarageCars /number of null data: 1\n",
      "GarageArea /number of null data: 1\n",
      "GarageQual /number of null data: 78\n",
      "GarageCond /number of null data: 78\n",
      "PoolQC /number of null data: 1456\n",
      "Fence /number of null data: 1169\n",
      "MiscFeature /number of null data: 1408\n",
      "SaleType /number of null data: 1\n"
     ]
    }
   ],
   "source": [
    "checknulldata(test)"
   ]
  },
  {
   "cell_type": "markdown",
   "id": "certified-marshall",
   "metadata": {},
   "source": [
    "From our understanding from data exploration, the true variables with null data are: \n",
    "1. LotFrontage /number of null data: 227 (continuous) \n",
    "2. MSZoning /number of null data: 4 (categorical)\n",
    "3. Utilities /number of null data: 2 (categorical)\n",
    "4. Exterior1st /number of null data: 1 (categorical)\n",
    "5. Exterior2nd /number of null data: 1 (categorical)\n",
    "6. MasVnrArea /number of null data: 15 (continuous) \n",
    "7. BsmtFinSF1 /number of null data: 1 (continuous) \n",
    "8. BsmtFinSF2 /number of null data: 1 (continuous) \n",
    "9. BsmtUnfSF /number of null data: 1 (continuous) \n",
    "10. TotalBsmtSF /number of null data: 1 (continuous) \n",
    "11. BsmtFullBath /number of null data: 2 (continuous) \n",
    "12. BsmtHalfBath /number of null data: 2 (continuous) \n",
    "13. KitchenQual /number of null data: 1 (categorical) \n",
    "14. Functional /number of null data: 2 (categorical) \n",
    "15. GarageYrBlt /number of null data: 78 (continuous) \n",
    "16. GarageCars /number of null data: 1 (continuous) \n",
    "17. GarageArea /number of null data: 1 (continuous) \n",
    "18. SaleType /number of null data: 1 (categorical) "
   ]
  },
  {
   "cell_type": "code",
   "execution_count": 529,
   "id": "cardiac-analysis",
   "metadata": {},
   "outputs": [
    {
     "name": "stdout",
     "output_type": "stream",
     "text": [
      "number of variables for train set =  81\n",
      "number of variables for test set =  80\n"
     ]
    }
   ],
   "source": [
    "print (\"number of variables for train set = \", train.shape[1])\n",
    "print (\"number of variables for test set = \", test.shape[1]) #the datasets have different number of variables"
   ]
  },
  {
   "cell_type": "code",
   "execution_count": 530,
   "id": "lined-block",
   "metadata": {},
   "outputs": [
    {
     "name": "stdout",
     "output_type": "stream",
     "text": [
      "number of variables in common =  80\n",
      "number of variables not in common =  1\n"
     ]
    }
   ],
   "source": [
    "train_c = train.columns\n",
    "test_c = test.columns\n",
    "print (\"number of variables in common = \", len(set(train_c).intersection(set(test_c))))\n",
    "print (\"number of variables not in common = \",train.shape[1]-len(set(train_c).intersection(set(test_c))))\n",
    "#the difference in variables = SalePrice which is what we want to predict"
   ]
  },
  {
   "cell_type": "markdown",
   "id": "separated-device",
   "metadata": {},
   "source": [
    "### 10.2 Feature Engineering (Test Set)"
   ]
  },
  {
   "cell_type": "code",
   "execution_count": 951,
   "id": "inclusive-filling",
   "metadata": {},
   "outputs": [],
   "source": [
    "#strategy 1 - missing data imputation\n",
    "median_imputer = MeanMedianImputer(imputation_method='median', variables=['LotFrontage', 'MasVnrArea', 'BsmtFinSF1', 'BsmtFinSF2', 'BsmtUnfSF', 'TotalBsmtSF', 'BsmtFullBath', 'BsmtHalfBath','GarageYrBlt','GarageArea','GarageCars'])\n",
    "median_imputer.fit(test)\n",
    "test_t= median_imputer.transform(test)"
   ]
  },
  {
   "cell_type": "code",
   "execution_count": 952,
   "id": "supposed-popularity",
   "metadata": {},
   "outputs": [],
   "source": [
    "#imputation for categorical variables\n",
    "imputer = CategoricalImputer(variables=['MSZoning','Utilities','Exterior1st','Exterior2nd','KitchenQual','Functional','SaleType'])\n",
    "imputer.fit(test_t) \n",
    "test_t1= imputer.transform(test_t)"
   ]
  },
  {
   "cell_type": "code",
   "execution_count": 953,
   "id": "anonymous-protocol",
   "metadata": {},
   "outputs": [],
   "source": [
    "#One-Hot encoding\n",
    "categoricalcolumns = ['Street',\n",
    " 'LandContour',\n",
    " 'Utilities',\n",
    " 'LandSlope',\n",
    " 'Condition2',\n",
    " 'RoofMatl',\n",
    " 'BsmtCond',\n",
    " 'Heating',\n",
    " 'CentralAir',\n",
    " 'Electrical',\n",
    " 'Functional',\n",
    " 'GarageQual',\n",
    " 'GarageCond',\n",
    " 'PavedDrive',\n",
    " 'MiscFeature','MSSubClass', 'MSZoning', 'Alley', 'LotShape', 'LotConfig', 'Neighborhood', 'Condition1', 'BldgType', 'HouseStyle', 'OverallQual', 'OverallCond', 'RoofStyle', 'Exterior1st', 'Exterior2nd', 'MasVnrType', 'ExterQual', 'ExterCond','Foundation', 'BsmtQual', 'BsmtExposure', 'BsmtFinType1', 'BsmtFinType2', 'HeatingQC', 'KitchenQual', 'FireplaceQu', 'GarageType', 'GarageFinish', 'PoolQC', 'Fence', 'SaleType', 'SaleCondition']\n",
    "test_t2 = pd.get_dummies(test_t1, columns= categoricalcolumns, prefix= categoricalcolumns)"
   ]
  },
  {
   "cell_type": "markdown",
   "id": "another-priest",
   "metadata": {},
   "source": [
    "### 10.3 Model Training"
   ]
  },
  {
   "cell_type": "code",
   "execution_count": 967,
   "id": "planned-heating",
   "metadata": {},
   "outputs": [
    {
     "data": {
      "text/html": [
       "<div>\n",
       "<style scoped>\n",
       "    .dataframe tbody tr th:only-of-type {\n",
       "        vertical-align: middle;\n",
       "    }\n",
       "\n",
       "    .dataframe tbody tr th {\n",
       "        vertical-align: top;\n",
       "    }\n",
       "\n",
       "    .dataframe thead th {\n",
       "        text-align: right;\n",
       "    }\n",
       "</style>\n",
       "<table border=\"1\" class=\"dataframe\">\n",
       "  <thead>\n",
       "    <tr style=\"text-align: right;\">\n",
       "      <th></th>\n",
       "      <th>MSSubClass</th>\n",
       "      <th>MSZoning</th>\n",
       "      <th>LotFrontage</th>\n",
       "      <th>LotArea</th>\n",
       "      <th>Street</th>\n",
       "      <th>Alley</th>\n",
       "      <th>LotShape</th>\n",
       "      <th>LandContour</th>\n",
       "      <th>Utilities</th>\n",
       "      <th>LotConfig</th>\n",
       "      <th>...</th>\n",
       "      <th>PoolArea</th>\n",
       "      <th>PoolQC</th>\n",
       "      <th>Fence</th>\n",
       "      <th>MiscFeature</th>\n",
       "      <th>MiscVal</th>\n",
       "      <th>MoSold</th>\n",
       "      <th>YrSold</th>\n",
       "      <th>SaleType</th>\n",
       "      <th>SaleCondition</th>\n",
       "      <th>SalePrice</th>\n",
       "    </tr>\n",
       "  </thead>\n",
       "  <tbody>\n",
       "    <tr>\n",
       "      <th>0</th>\n",
       "      <td>60</td>\n",
       "      <td>RL</td>\n",
       "      <td>65.0</td>\n",
       "      <td>8450</td>\n",
       "      <td>Pave</td>\n",
       "      <td>NaN</td>\n",
       "      <td>Reg</td>\n",
       "      <td>Lvl</td>\n",
       "      <td>AllPub</td>\n",
       "      <td>Inside</td>\n",
       "      <td>...</td>\n",
       "      <td>0</td>\n",
       "      <td>NaN</td>\n",
       "      <td>NaN</td>\n",
       "      <td>NaN</td>\n",
       "      <td>0</td>\n",
       "      <td>2</td>\n",
       "      <td>2008</td>\n",
       "      <td>WD</td>\n",
       "      <td>Normal</td>\n",
       "      <td>208500</td>\n",
       "    </tr>\n",
       "    <tr>\n",
       "      <th>1</th>\n",
       "      <td>20</td>\n",
       "      <td>RL</td>\n",
       "      <td>80.0</td>\n",
       "      <td>9600</td>\n",
       "      <td>Pave</td>\n",
       "      <td>NaN</td>\n",
       "      <td>Reg</td>\n",
       "      <td>Lvl</td>\n",
       "      <td>AllPub</td>\n",
       "      <td>FR2</td>\n",
       "      <td>...</td>\n",
       "      <td>0</td>\n",
       "      <td>NaN</td>\n",
       "      <td>NaN</td>\n",
       "      <td>NaN</td>\n",
       "      <td>0</td>\n",
       "      <td>5</td>\n",
       "      <td>2007</td>\n",
       "      <td>WD</td>\n",
       "      <td>Normal</td>\n",
       "      <td>181500</td>\n",
       "    </tr>\n",
       "    <tr>\n",
       "      <th>2</th>\n",
       "      <td>60</td>\n",
       "      <td>RL</td>\n",
       "      <td>68.0</td>\n",
       "      <td>11250</td>\n",
       "      <td>Pave</td>\n",
       "      <td>NaN</td>\n",
       "      <td>IR1</td>\n",
       "      <td>Lvl</td>\n",
       "      <td>AllPub</td>\n",
       "      <td>Inside</td>\n",
       "      <td>...</td>\n",
       "      <td>0</td>\n",
       "      <td>NaN</td>\n",
       "      <td>NaN</td>\n",
       "      <td>NaN</td>\n",
       "      <td>0</td>\n",
       "      <td>9</td>\n",
       "      <td>2008</td>\n",
       "      <td>WD</td>\n",
       "      <td>Normal</td>\n",
       "      <td>223500</td>\n",
       "    </tr>\n",
       "    <tr>\n",
       "      <th>3</th>\n",
       "      <td>70</td>\n",
       "      <td>RL</td>\n",
       "      <td>60.0</td>\n",
       "      <td>9550</td>\n",
       "      <td>Pave</td>\n",
       "      <td>NaN</td>\n",
       "      <td>IR1</td>\n",
       "      <td>Lvl</td>\n",
       "      <td>AllPub</td>\n",
       "      <td>Corner</td>\n",
       "      <td>...</td>\n",
       "      <td>0</td>\n",
       "      <td>NaN</td>\n",
       "      <td>NaN</td>\n",
       "      <td>NaN</td>\n",
       "      <td>0</td>\n",
       "      <td>2</td>\n",
       "      <td>2006</td>\n",
       "      <td>WD</td>\n",
       "      <td>Abnorml</td>\n",
       "      <td>140000</td>\n",
       "    </tr>\n",
       "    <tr>\n",
       "      <th>4</th>\n",
       "      <td>60</td>\n",
       "      <td>RL</td>\n",
       "      <td>84.0</td>\n",
       "      <td>14260</td>\n",
       "      <td>Pave</td>\n",
       "      <td>NaN</td>\n",
       "      <td>IR1</td>\n",
       "      <td>Lvl</td>\n",
       "      <td>AllPub</td>\n",
       "      <td>FR2</td>\n",
       "      <td>...</td>\n",
       "      <td>0</td>\n",
       "      <td>NaN</td>\n",
       "      <td>NaN</td>\n",
       "      <td>NaN</td>\n",
       "      <td>0</td>\n",
       "      <td>12</td>\n",
       "      <td>2008</td>\n",
       "      <td>WD</td>\n",
       "      <td>Normal</td>\n",
       "      <td>250000</td>\n",
       "    </tr>\n",
       "    <tr>\n",
       "      <th>...</th>\n",
       "      <td>...</td>\n",
       "      <td>...</td>\n",
       "      <td>...</td>\n",
       "      <td>...</td>\n",
       "      <td>...</td>\n",
       "      <td>...</td>\n",
       "      <td>...</td>\n",
       "      <td>...</td>\n",
       "      <td>...</td>\n",
       "      <td>...</td>\n",
       "      <td>...</td>\n",
       "      <td>...</td>\n",
       "      <td>...</td>\n",
       "      <td>...</td>\n",
       "      <td>...</td>\n",
       "      <td>...</td>\n",
       "      <td>...</td>\n",
       "      <td>...</td>\n",
       "      <td>...</td>\n",
       "      <td>...</td>\n",
       "      <td>...</td>\n",
       "    </tr>\n",
       "    <tr>\n",
       "      <th>1455</th>\n",
       "      <td>60</td>\n",
       "      <td>RL</td>\n",
       "      <td>62.0</td>\n",
       "      <td>7917</td>\n",
       "      <td>Pave</td>\n",
       "      <td>NaN</td>\n",
       "      <td>Reg</td>\n",
       "      <td>Lvl</td>\n",
       "      <td>AllPub</td>\n",
       "      <td>Inside</td>\n",
       "      <td>...</td>\n",
       "      <td>0</td>\n",
       "      <td>NaN</td>\n",
       "      <td>NaN</td>\n",
       "      <td>NaN</td>\n",
       "      <td>0</td>\n",
       "      <td>8</td>\n",
       "      <td>2007</td>\n",
       "      <td>WD</td>\n",
       "      <td>Normal</td>\n",
       "      <td>175000</td>\n",
       "    </tr>\n",
       "    <tr>\n",
       "      <th>1456</th>\n",
       "      <td>20</td>\n",
       "      <td>RL</td>\n",
       "      <td>85.0</td>\n",
       "      <td>13175</td>\n",
       "      <td>Pave</td>\n",
       "      <td>NaN</td>\n",
       "      <td>Reg</td>\n",
       "      <td>Lvl</td>\n",
       "      <td>AllPub</td>\n",
       "      <td>Inside</td>\n",
       "      <td>...</td>\n",
       "      <td>0</td>\n",
       "      <td>NaN</td>\n",
       "      <td>MnPrv</td>\n",
       "      <td>NaN</td>\n",
       "      <td>0</td>\n",
       "      <td>2</td>\n",
       "      <td>2010</td>\n",
       "      <td>WD</td>\n",
       "      <td>Normal</td>\n",
       "      <td>210000</td>\n",
       "    </tr>\n",
       "    <tr>\n",
       "      <th>1457</th>\n",
       "      <td>70</td>\n",
       "      <td>RL</td>\n",
       "      <td>66.0</td>\n",
       "      <td>9042</td>\n",
       "      <td>Pave</td>\n",
       "      <td>NaN</td>\n",
       "      <td>Reg</td>\n",
       "      <td>Lvl</td>\n",
       "      <td>AllPub</td>\n",
       "      <td>Inside</td>\n",
       "      <td>...</td>\n",
       "      <td>0</td>\n",
       "      <td>NaN</td>\n",
       "      <td>GdPrv</td>\n",
       "      <td>Shed</td>\n",
       "      <td>2500</td>\n",
       "      <td>5</td>\n",
       "      <td>2010</td>\n",
       "      <td>WD</td>\n",
       "      <td>Normal</td>\n",
       "      <td>266500</td>\n",
       "    </tr>\n",
       "    <tr>\n",
       "      <th>1458</th>\n",
       "      <td>20</td>\n",
       "      <td>RL</td>\n",
       "      <td>68.0</td>\n",
       "      <td>9717</td>\n",
       "      <td>Pave</td>\n",
       "      <td>NaN</td>\n",
       "      <td>Reg</td>\n",
       "      <td>Lvl</td>\n",
       "      <td>AllPub</td>\n",
       "      <td>Inside</td>\n",
       "      <td>...</td>\n",
       "      <td>0</td>\n",
       "      <td>NaN</td>\n",
       "      <td>NaN</td>\n",
       "      <td>NaN</td>\n",
       "      <td>0</td>\n",
       "      <td>4</td>\n",
       "      <td>2010</td>\n",
       "      <td>WD</td>\n",
       "      <td>Normal</td>\n",
       "      <td>142125</td>\n",
       "    </tr>\n",
       "    <tr>\n",
       "      <th>1459</th>\n",
       "      <td>20</td>\n",
       "      <td>RL</td>\n",
       "      <td>75.0</td>\n",
       "      <td>9937</td>\n",
       "      <td>Pave</td>\n",
       "      <td>NaN</td>\n",
       "      <td>Reg</td>\n",
       "      <td>Lvl</td>\n",
       "      <td>AllPub</td>\n",
       "      <td>Inside</td>\n",
       "      <td>...</td>\n",
       "      <td>0</td>\n",
       "      <td>NaN</td>\n",
       "      <td>NaN</td>\n",
       "      <td>NaN</td>\n",
       "      <td>0</td>\n",
       "      <td>6</td>\n",
       "      <td>2008</td>\n",
       "      <td>WD</td>\n",
       "      <td>Normal</td>\n",
       "      <td>147500</td>\n",
       "    </tr>\n",
       "  </tbody>\n",
       "</table>\n",
       "<p>1460 rows × 80 columns</p>\n",
       "</div>"
      ],
      "text/plain": [
       "      MSSubClass MSZoning  LotFrontage  LotArea Street Alley LotShape  \\\n",
       "0             60       RL         65.0     8450   Pave   NaN      Reg   \n",
       "1             20       RL         80.0     9600   Pave   NaN      Reg   \n",
       "2             60       RL         68.0    11250   Pave   NaN      IR1   \n",
       "3             70       RL         60.0     9550   Pave   NaN      IR1   \n",
       "4             60       RL         84.0    14260   Pave   NaN      IR1   \n",
       "...          ...      ...          ...      ...    ...   ...      ...   \n",
       "1455          60       RL         62.0     7917   Pave   NaN      Reg   \n",
       "1456          20       RL         85.0    13175   Pave   NaN      Reg   \n",
       "1457          70       RL         66.0     9042   Pave   NaN      Reg   \n",
       "1458          20       RL         68.0     9717   Pave   NaN      Reg   \n",
       "1459          20       RL         75.0     9937   Pave   NaN      Reg   \n",
       "\n",
       "     LandContour Utilities LotConfig  ... PoolArea PoolQC  Fence MiscFeature  \\\n",
       "0            Lvl    AllPub    Inside  ...        0    NaN    NaN         NaN   \n",
       "1            Lvl    AllPub       FR2  ...        0    NaN    NaN         NaN   \n",
       "2            Lvl    AllPub    Inside  ...        0    NaN    NaN         NaN   \n",
       "3            Lvl    AllPub    Corner  ...        0    NaN    NaN         NaN   \n",
       "4            Lvl    AllPub       FR2  ...        0    NaN    NaN         NaN   \n",
       "...          ...       ...       ...  ...      ...    ...    ...         ...   \n",
       "1455         Lvl    AllPub    Inside  ...        0    NaN    NaN         NaN   \n",
       "1456         Lvl    AllPub    Inside  ...        0    NaN  MnPrv         NaN   \n",
       "1457         Lvl    AllPub    Inside  ...        0    NaN  GdPrv        Shed   \n",
       "1458         Lvl    AllPub    Inside  ...        0    NaN    NaN         NaN   \n",
       "1459         Lvl    AllPub    Inside  ...        0    NaN    NaN         NaN   \n",
       "\n",
       "     MiscVal MoSold  YrSold  SaleType  SaleCondition  SalePrice  \n",
       "0          0      2    2008        WD         Normal     208500  \n",
       "1          0      5    2007        WD         Normal     181500  \n",
       "2          0      9    2008        WD         Normal     223500  \n",
       "3          0      2    2006        WD        Abnorml     140000  \n",
       "4          0     12    2008        WD         Normal     250000  \n",
       "...      ...    ...     ...       ...            ...        ...  \n",
       "1455       0      8    2007        WD         Normal     175000  \n",
       "1456       0      2    2010        WD         Normal     210000  \n",
       "1457    2500      5    2010        WD         Normal     266500  \n",
       "1458       0      4    2010        WD         Normal     142125  \n",
       "1459       0      6    2008        WD         Normal     147500  \n",
       "\n",
       "[1460 rows x 80 columns]"
      ]
     },
     "execution_count": 967,
     "metadata": {},
     "output_type": "execute_result"
    }
   ],
   "source": [
    "train = pd.read_csv('train.csv')\n",
    "train = train.drop(columns=\"Id\")\n",
    "train"
   ]
  },
  {
   "cell_type": "code",
   "execution_count": 955,
   "id": "resident-float",
   "metadata": {},
   "outputs": [],
   "source": [
    "median_imputer = MeanMedianImputer(imputation_method='median', variables=['LotFrontage', 'MasVnrArea','GarageYrBlt'])\n",
    "median_imputer.fit(trainn)\n",
    "train_t= median_imputer.transform(trainn)"
   ]
  },
  {
   "cell_type": "code",
   "execution_count": 956,
   "id": "destroyed-wagon",
   "metadata": {},
   "outputs": [],
   "source": [
    "#imputation for categorical variables\n",
    "imputer = CategoricalImputer(variables=['Electrical'])\n",
    "imputer.fit(train_t) \n",
    "train_t1= imputer.transform(train_t)"
   ]
  },
  {
   "cell_type": "code",
   "execution_count": 957,
   "id": "exposed-bermuda",
   "metadata": {},
   "outputs": [],
   "source": [
    "#One-Hot encoding\n",
    "categoricalcolumns = ['Street',\n",
    " 'LandContour',\n",
    " 'Utilities',\n",
    " 'LandSlope',\n",
    " 'Condition2',\n",
    " 'RoofMatl',\n",
    " 'BsmtCond',\n",
    " 'Heating',\n",
    " 'CentralAir',\n",
    " 'Electrical',\n",
    " 'Functional',\n",
    " 'GarageQual',\n",
    " 'GarageCond',\n",
    " 'PavedDrive',\n",
    " 'MiscFeature','MSSubClass', 'MSZoning', 'Alley', 'LotShape', 'LotConfig', 'Neighborhood', 'Condition1', 'BldgType', 'HouseStyle', 'OverallQual', 'OverallCond', 'RoofStyle', 'Exterior1st', 'Exterior2nd', 'MasVnrType', 'ExterQual', 'ExterCond','Foundation', 'BsmtQual', 'BsmtExposure', 'BsmtFinType1', 'BsmtFinType2', 'HeatingQC', 'KitchenQual', 'FireplaceQu', 'GarageType', 'GarageFinish', 'PoolQC', 'Fence', 'SaleType', 'SaleCondition']\n",
    "train_t2 = pd.get_dummies(train_t1, columns= categoricalcolumns, prefix= categoricalcolumns)"
   ]
  },
  {
   "cell_type": "code",
   "execution_count": 958,
   "id": "photographic-booth",
   "metadata": {},
   "outputs": [],
   "source": [
    "X = train_t2.drop(['SalePrice'], axis=1)\n",
    "Y = train_t2['SalePrice']"
   ]
  },
  {
   "cell_type": "code",
   "execution_count": 959,
   "id": "treated-aspect",
   "metadata": {},
   "outputs": [],
   "source": [
    "features = set(X.columns).intersection(set(test_t2.columns))\n",
    "features1 = []\n",
    "for i in features: \n",
    "    features1.append(i)"
   ]
  },
  {
   "cell_type": "code",
   "execution_count": 966,
   "id": "graduate-millennium",
   "metadata": {},
   "outputs": [
    {
     "name": "stdout",
     "output_type": "stream",
     "text": [
      "Train accuracy = 0.9724799691383366\n"
     ]
    }
   ],
   "source": [
    "x = X[features1]\n",
    "regressor = RandomForestRegressor(max_depth =  11, max_features = 0.2, min_samples_leaf = 1, min_samples_split = 3, n_estimators = 130, random_state = 0)\n",
    "model = regressor.fit(x, Y)\n",
    "print (\"Train accuracy =\", model.score(x,Y))"
   ]
  },
  {
   "cell_type": "markdown",
   "id": "built-cradle",
   "metadata": {},
   "source": [
    "### 10.4 Test Results"
   ]
  },
  {
   "cell_type": "code",
   "execution_count": 961,
   "id": "statewide-stream",
   "metadata": {},
   "outputs": [],
   "source": [
    "test_t2 = test_t2[features1]\n",
    "y_pred = model.predict(test_t2)"
   ]
  },
  {
   "cell_type": "code",
   "execution_count": 962,
   "id": "applicable-chuck",
   "metadata": {},
   "outputs": [
    {
     "name": "stdout",
     "output_type": "stream",
     "text": [
      "      SalePrice\n",
      "0      133530.0\n",
      "1      157090.0\n",
      "2      188340.0\n",
      "3      203500.0\n",
      "4      191614.0\n",
      "...         ...\n",
      "1454    86540.0\n",
      "1455    89490.0\n",
      "1456   144115.9\n",
      "1457   108870.0\n",
      "1458   198920.0\n",
      "\n",
      "[1459 rows x 1 columns]\n"
     ]
    }
   ],
   "source": [
    "# Convert predictions to dataframe\n",
    "submission_predictions_df = pd.DataFrame(y_pred, columns=[\"SalePrice\"])\n",
    "print(submission_predictions_df)"
   ]
  },
  {
   "cell_type": "code",
   "execution_count": 963,
   "id": "continued-logging",
   "metadata": {},
   "outputs": [
    {
     "data": {
      "text/plain": [
       "0    1461\n",
       "1    1462\n",
       "2    1463\n",
       "3    1464\n",
       "4    1465\n",
       "Name: Id, dtype: int64"
      ]
     },
     "execution_count": 963,
     "metadata": {},
     "output_type": "execute_result"
    }
   ],
   "source": [
    "# Get ids from test.csv\n",
    "submission_df = pd.read_csv(\"./test.csv\")\n",
    "submission_df = submission_df[\"Id\"]\n",
    "submission_df.head()"
   ]
  },
  {
   "cell_type": "code",
   "execution_count": 964,
   "id": "closed-cincinnati",
   "metadata": {},
   "outputs": [
    {
     "data": {
      "text/html": [
       "<div>\n",
       "<style scoped>\n",
       "    .dataframe tbody tr th:only-of-type {\n",
       "        vertical-align: middle;\n",
       "    }\n",
       "\n",
       "    .dataframe tbody tr th {\n",
       "        vertical-align: top;\n",
       "    }\n",
       "\n",
       "    .dataframe thead th {\n",
       "        text-align: right;\n",
       "    }\n",
       "</style>\n",
       "<table border=\"1\" class=\"dataframe\">\n",
       "  <thead>\n",
       "    <tr style=\"text-align: right;\">\n",
       "      <th></th>\n",
       "      <th>SalePrice</th>\n",
       "    </tr>\n",
       "    <tr>\n",
       "      <th>Id</th>\n",
       "      <th></th>\n",
       "    </tr>\n",
       "  </thead>\n",
       "  <tbody>\n",
       "    <tr>\n",
       "      <th>1461</th>\n",
       "      <td>133530.0</td>\n",
       "    </tr>\n",
       "    <tr>\n",
       "      <th>1462</th>\n",
       "      <td>157090.0</td>\n",
       "    </tr>\n",
       "    <tr>\n",
       "      <th>1463</th>\n",
       "      <td>188340.0</td>\n",
       "    </tr>\n",
       "    <tr>\n",
       "      <th>1464</th>\n",
       "      <td>203500.0</td>\n",
       "    </tr>\n",
       "    <tr>\n",
       "      <th>1465</th>\n",
       "      <td>191614.0</td>\n",
       "    </tr>\n",
       "  </tbody>\n",
       "</table>\n",
       "</div>"
      ],
      "text/plain": [
       "      SalePrice\n",
       "Id             \n",
       "1461   133530.0\n",
       "1462   157090.0\n",
       "1463   188340.0\n",
       "1464   203500.0\n",
       "1465   191614.0"
      ]
     },
     "execution_count": 964,
     "metadata": {},
     "output_type": "execute_result"
    }
   ],
   "source": [
    "# Join building ids with predictions\n",
    "result = pd.concat([submission_df, submission_predictions_df], axis=1, sort=False)\n",
    "result.set_index('Id', inplace=True)\n",
    "result.head()"
   ]
  },
  {
   "cell_type": "code",
   "execution_count": 965,
   "id": "charged-thesaurus",
   "metadata": {},
   "outputs": [],
   "source": [
    "result.to_csv('/Users/leawangyi/Documents/2021/DOCUMENTS/REP Y3S2/CE9010-INTRODUCTION TO DATA ANALYSIS/Group Project/result6.csv',index = True)"
   ]
  },
  {
   "cell_type": "markdown",
   "id": "traditional-bacteria",
   "metadata": {},
   "source": [
    "### Final Result \n",
    "We have performed several rounds of trials and errors, as Kaggle allows us to submit multiple submissions for the best score. In our trials, we have readjusted such that only the most effective optimization methods were used to predict on the Kaggle test set.  <br>\n",
    "After a few trials, we have attained the **best RMSE logarithmic error score of 0.15423 after our submission on Kaggle**\n",
    "\n",
    "[back to top](#top)"
   ]
  },
  {
   "cell_type": "code",
   "execution_count": null,
   "id": "piano-referral",
   "metadata": {},
   "outputs": [],
   "source": []
  }
 ],
 "metadata": {
  "kernelspec": {
   "display_name": "Python 3",
   "language": "python",
   "name": "python3"
  },
  "language_info": {
   "codemirror_mode": {
    "name": "ipython",
    "version": 3
   },
   "file_extension": ".py",
   "mimetype": "text/x-python",
   "name": "python",
   "nbconvert_exporter": "python",
   "pygments_lexer": "ipython3",
   "version": "3.8.3"
  }
 },
 "nbformat": 4,
 "nbformat_minor": 5
}
