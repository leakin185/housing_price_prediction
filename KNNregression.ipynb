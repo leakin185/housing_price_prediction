{
 "cells": [
  {
   "cell_type": "markdown",
   "metadata": {},
   "source": [
    "# Contents\n",
    "\n",
    "[KNN on train 1](#train1) <br>\n",
    "[KNN on train 2](#train2) <br>\n",
    "[KNN on train 3](#train3) <br>\n",
    "[KNN on train 4](#train4) <br>\n",
    "[Results analysis](#results)"
   ]
  },
  {
   "cell_type": "markdown",
   "metadata": {},
   "source": [
    "### Import"
   ]
  },
  {
   "cell_type": "code",
   "execution_count": 1,
   "metadata": {},
   "outputs": [],
   "source": [
    "# Basic Libraries\n",
    "import math\n",
    "import numpy as np\n",
    "import pandas as pd\n",
    "import seaborn as sb\n",
    "import researchpy as rp\n",
    "import matplotlib.pyplot as plt # we only need pyplot\n",
    "sb.set() # set the default Seaborn style for graphics\n",
    "from scipy import stats\n",
    "from scipy.stats import skew \n",
    "from sklearn.model_selection import train_test_split\n",
    "# # machine learning library\n",
    "# from sklearn.linear_model import LinearRegression\n",
    "# from sklearn import svm\n",
    "# # data normalization from sklearn\n",
    "# from sklearn.preprocessing import MinMaxScaler\n",
    "# # data standardization from sklearn\n",
    "# from sklearn.preprocessing import StandardScaler\n",
    "# KNN regressor\n",
    "from sklearn import neighbors\n",
    "# calculate error\n",
    "from sklearn.metrics import mean_squared_error\n",
    "from sklearn.metrics import r2_score\n",
    "\n",
    "# computational time\n",
    "import time\n",
    "\n",
    "from math import sqrt"
   ]
  },
  {
   "cell_type": "code",
   "execution_count": 2,
   "metadata": {},
   "outputs": [
    {
     "name": "stdout",
     "output_type": "stream",
     "text": [
      "train1 shape: (1370, 70)\n",
      "train2 shape: (688, 75)\n",
      "train3 shape: (688, 75)\n",
      "train4 shape: (688, 75)\n"
     ]
    }
   ],
   "source": [
    "#importing the csv datasets\n",
    "train1 = pd.read_csv('train_ONE.csv')\n",
    "print('train1 shape:', train1.shape)\n",
    "\n",
    "train2 = pd.read_csv('train_TWO.csv')\n",
    "print('train2 shape:', train2.shape)\n",
    "\n",
    "train3 = pd.read_csv('train_THREE.csv')\n",
    "print('train3 shape:', train3.shape)\n",
    "\n",
    "train4 = pd.read_csv('train_FOUR.csv')\n",
    "print('train4 shape:', train4.shape)"
   ]
  },
  {
   "cell_type": "markdown",
   "metadata": {},
   "source": [
    "### Train 1 <a class=\"anchor\" id=\"train1\"></a>"
   ]
  },
  {
   "cell_type": "code",
   "execution_count": 14,
   "metadata": {},
   "outputs": [
    {
     "name": "stdout",
     "output_type": "stream",
     "text": [
      "KNN for optimization set 1:\n",
      "R2 score for k =  1 is: 0.3867017571115752\n",
      "R2 score for k =  2 is: 0.5386010925400537\n",
      "R2 score for k =  3 is: 0.5759897227192694\n",
      "R2 score for k =  4 is: 0.5970921833734939\n",
      "R2 score for k =  5 is: 0.6048149207734108\n",
      "R2 score for k =  6 is: 0.6098420721348656\n",
      "R2 score for k =  7 is: 0.6382723031580504\n",
      "R2 score for k =  8 is: 0.6428140168925283\n",
      "R2 score for k =  9 is: 0.6500224425815722\n",
      "R2 score for k =  10 is: 0.636094241708894\n",
      "R2 score for k =  11 is: 0.6215599777174566\n",
      "R2 score for k =  12 is: 0.6063687293435406\n",
      "R2 score for k =  13 is: 0.6034219264217675\n",
      "R2 score for k =  14 is: 0.6160306830564157\n",
      "R2 score for k =  15 is: 0.6153990257273708\n",
      "R2 score for k =  16 is: 0.615086995737798\n",
      "R2 score for k =  17 is: 0.617523079753127\n",
      "R2 score for k =  18 is: 0.6081985808440589\n",
      "R2 score for k =  19 is: 0.6083820981168657\n",
      "R2 score for k =  20 is: 0.6091871053782565\n"
     ]
    }
   ],
   "source": [
    "print('KNN for optimization set 1:')\n",
    "\n",
    "X1 = train1.copy()\n",
    "X1.drop(['Id', 'SalePrice'], axis=1, inplace=True)\n",
    "y1 = train1['SalePrice'][:,None]\n",
    "\n",
    "train_X1, test_X1, train_y1, test_y1 = train_test_split(X1,y1,test_size=0.2)\n",
    "\n",
    "R2_1 = []\n",
    "\n",
    "for K in range(20):\n",
    "    K += 1\n",
    "    \n",
    "    knn = neighbors.KNeighborsRegressor(n_neighbors = K)\n",
    "\n",
    "    knn.fit(train_X1, train_y1)  #fit the model\n",
    "    pred = knn.predict(test_X1) #make prediction on test set\n",
    "    error = r2_score(test_y1, pred) #calculate rmse\n",
    "    R2_1.append(error) #store mse values\n",
    "    print('R2 score for k = ' , K , 'is:', error)\n"
   ]
  },
  {
   "cell_type": "code",
   "execution_count": 16,
   "metadata": {
    "scrolled": true
   },
   "outputs": [
    {
     "data": {
      "text/plain": [
       "Text(0.5, 1.0, 'R2 test score:')"
      ]
     },
     "execution_count": 16,
     "metadata": {},
     "output_type": "execute_result"
    },
    {
     "data": {
      "image/png": "[encoded data removed]",
      "text/plain": [
       "<Figure size 432x288 with 1 Axes>"
      ]
     },
     "metadata": {},
     "output_type": "display_data"
    }
   ],
   "source": [
    "plt.plot(R2_1)\n",
    "plt.title(\"R2 test score:\")"
   ]
  },
  {
   "cell_type": "code",
   "execution_count": 30,
   "metadata": {},
   "outputs": [
    {
     "name": "stdout",
     "output_type": "stream",
     "text": [
      "Most optimal value of K is: 9\n",
      "Best R2 score is: 0.6500224425815722\n"
     ]
    }
   ],
   "source": [
    "print('Most optimal value of K is:', R2_1.index(max(R2_1))+1)\n",
    "print('Best R2 score is:', max(R2_1))"
   ]
  },
  {
   "cell_type": "markdown",
   "metadata": {},
   "source": [
    "### Train 2 <a class=\"anchor\" id=\"train2\"></a>"
   ]
  },
  {
   "cell_type": "code",
   "execution_count": 18,
   "metadata": {},
   "outputs": [
    {
     "name": "stdout",
     "output_type": "stream",
     "text": [
      "KNN for optimization set 2:\n",
      "R2 score for k =  1 is: 0.6719202436097507\n",
      "R2 score for k =  2 is: 0.7634955750666084\n",
      "R2 score for k =  3 is: 0.7401926620209004\n",
      "R2 score for k =  4 is: 0.7168704784965185\n",
      "R2 score for k =  5 is: 0.716940515134316\n",
      "R2 score for k =  6 is: 0.7104960714008746\n",
      "R2 score for k =  7 is: 0.714281690585165\n",
      "R2 score for k =  8 is: 0.703061417562962\n",
      "R2 score for k =  9 is: 0.6959136812977487\n",
      "R2 score for k =  10 is: 0.686480575814578\n",
      "R2 score for k =  11 is: 0.6857438645795215\n",
      "R2 score for k =  12 is: 0.682518921358976\n",
      "R2 score for k =  13 is: 0.6790196781259474\n",
      "R2 score for k =  14 is: 0.6744135503764546\n",
      "R2 score for k =  15 is: 0.6635296753628749\n",
      "R2 score for k =  16 is: 0.6497894952901736\n",
      "R2 score for k =  17 is: 0.6390630899363408\n",
      "R2 score for k =  18 is: 0.632898102543604\n",
      "R2 score for k =  19 is: 0.6348075826901198\n",
      "R2 score for k =  20 is: 0.6288511735058029\n"
     ]
    }
   ],
   "source": [
    "print('KNN for optimization set 2:')\n",
    "\n",
    "X2 = train2.copy()\n",
    "X2.drop(['Id', 'SalePrice'], axis=1, inplace=True)\n",
    "y2 = train2['SalePrice'][:,None]\n",
    "\n",
    "train_X2, test_X2, train_y2, test_y2 = train_test_split(X2,y2,test_size=0.2)\n",
    "\n",
    "R2_2 = []\n",
    "\n",
    "for K in range(20):\n",
    "    K += 1\n",
    "    \n",
    "    knn = neighbors.KNeighborsRegressor(n_neighbors = K)\n",
    "\n",
    "    knn.fit(train_X2, train_y2)  #fit the model\n",
    "    pred = knn.predict(test_X2) #make prediction on test set\n",
    "    error = r2_score(test_y2, pred) #calculate rmse\n",
    "    R2_2.append(error) #store mse values\n",
    "    print('R2 score for k = ' , K , 'is:', error)\n"
   ]
  },
  {
   "cell_type": "code",
   "execution_count": 19,
   "metadata": {
    "scrolled": true
   },
   "outputs": [
    {
     "data": {
      "text/plain": [
       "Text(0.5, 1.0, 'R2 test score:')"
      ]
     },
     "execution_count": 19,
     "metadata": {},
     "output_type": "execute_result"
    },
    {
     "data": {
      "image/png": "[encoded data removed]",
      "text/plain": [
       "<Figure size 432x288 with 1 Axes>"
      ]
     },
     "metadata": {},
     "output_type": "display_data"
    }
   ],
   "source": [
    "plt.plot(R2_2)\n",
    "plt.title(\"R2 test score:\")"
   ]
  },
  {
   "cell_type": "code",
   "execution_count": 31,
   "metadata": {},
   "outputs": [
    {
     "name": "stdout",
     "output_type": "stream",
     "text": [
      "Most optimal value of K is: 2\n",
      "Best R2 score is: 0.7634955750666084\n"
     ]
    }
   ],
   "source": [
    "print('Most optimal value of K is:', R2_2.index(max(R2_2))+1)\n",
    "print('Best R2 score is:', max(R2_2))"
   ]
  },
  {
   "cell_type": "markdown",
   "metadata": {},
   "source": [
    "### Train 3 <a class=\"anchor\" id=\"train3\"></a>"
   ]
  },
  {
   "cell_type": "code",
   "execution_count": 20,
   "metadata": {},
   "outputs": [
    {
     "name": "stdout",
     "output_type": "stream",
     "text": [
      "KNN for optimization set 3:\n",
      "R2 score for k =  1 is: 0.7394961985235914\n",
      "R2 score for k =  2 is: 0.7917175937422012\n",
      "R2 score for k =  3 is: 0.8075473661487985\n",
      "R2 score for k =  4 is: 0.8320211209259704\n",
      "R2 score for k =  5 is: 0.83141159607425\n",
      "R2 score for k =  6 is: 0.8264055013836817\n",
      "R2 score for k =  7 is: 0.8223932258168603\n",
      "R2 score for k =  8 is: 0.8234929976729369\n",
      "R2 score for k =  9 is: 0.8226300879961655\n",
      "R2 score for k =  10 is: 0.8184978750059821\n",
      "R2 score for k =  11 is: 0.8106676479067678\n",
      "R2 score for k =  12 is: 0.8037288043989045\n",
      "R2 score for k =  13 is: 0.8007091115034488\n",
      "R2 score for k =  14 is: 0.7946201259185381\n",
      "R2 score for k =  15 is: 0.7953705015959226\n",
      "R2 score for k =  16 is: 0.7912946266100183\n",
      "R2 score for k =  17 is: 0.7867690861097268\n",
      "R2 score for k =  18 is: 0.7820549975004607\n",
      "R2 score for k =  19 is: 0.7811121484131192\n",
      "R2 score for k =  20 is: 0.7824690060728988\n"
     ]
    }
   ],
   "source": [
    "print('KNN for optimization set 3:')\n",
    "\n",
    "X3 = train3.copy()\n",
    "X3.drop(['Id', 'SalePrice'], axis=1, inplace=True)\n",
    "y3 = train3['SalePrice'][:,None]\n",
    "\n",
    "train_X3, test_X3, train_y3, test_y3 = train_test_split(X3,y3,test_size=0.2)\n",
    "\n",
    "R2_3 = []\n",
    "\n",
    "for K in range(20):\n",
    "    K += 1\n",
    "    \n",
    "    knn = neighbors.KNeighborsRegressor(n_neighbors = K)\n",
    "\n",
    "    knn.fit(train_X3, train_y3)  #fit the model\n",
    "    pred = knn.predict(test_X3) #make prediction on test set\n",
    "    error = r2_score(test_y3, pred) #calculate rmse\n",
    "    R2_3.append(error) #store mse values\n",
    "    print('R2 score for k = ' , K , 'is:', error)\n"
   ]
  },
  {
   "cell_type": "code",
   "execution_count": 21,
   "metadata": {
    "scrolled": false
   },
   "outputs": [
    {
     "data": {
      "text/plain": [
       "Text(0.5, 1.0, 'R2 test score:')"
      ]
     },
     "execution_count": 21,
     "metadata": {},
     "output_type": "execute_result"
    },
    {
     "data": {
      "image/png": "[encoded data removed]",
      "text/plain": [
       "<Figure size 432x288 with 1 Axes>"
      ]
     },
     "metadata": {},
     "output_type": "display_data"
    }
   ],
   "source": [
    "plt.plot(R2_3)\n",
    "plt.title(\"R2 test score:\")"
   ]
  },
  {
   "cell_type": "code",
   "execution_count": 32,
   "metadata": {},
   "outputs": [
    {
     "name": "stdout",
     "output_type": "stream",
     "text": [
      "Most optimal value of K is: 4\n",
      "Best R2 score is: 0.8320211209259704\n"
     ]
    }
   ],
   "source": [
    "print('Most optimal value of K is:', R2_3.index(max(R2_3))+1)\n",
    "print('Best R2 score is:', max(R2_3))"
   ]
  },
  {
   "cell_type": "markdown",
   "metadata": {},
   "source": [
    "### Train 4 <a class=\"anchor\" id=\"train4\"></a>"
   ]
  },
  {
   "cell_type": "code",
   "execution_count": 22,
   "metadata": {},
   "outputs": [
    {
     "name": "stdout",
     "output_type": "stream",
     "text": [
      "KNN for optimization set 4:\n",
      "R2 score for k =  1 is: 0.7981711345820973\n",
      "R2 score for k =  2 is: 0.797334025389884\n",
      "R2 score for k =  3 is: 0.8146234226543394\n",
      "R2 score for k =  4 is: 0.8193575079415494\n",
      "R2 score for k =  5 is: 0.8257418478468619\n",
      "R2 score for k =  6 is: 0.8327271902675628\n",
      "R2 score for k =  7 is: 0.8305584198716163\n",
      "R2 score for k =  8 is: 0.8328280252885937\n",
      "R2 score for k =  9 is: 0.8271806993797015\n",
      "R2 score for k =  10 is: 0.8253779629119595\n",
      "R2 score for k =  11 is: 0.8230950709824871\n",
      "R2 score for k =  12 is: 0.8149710918637798\n",
      "R2 score for k =  13 is: 0.8157607859529805\n",
      "R2 score for k =  14 is: 0.8150132325759254\n",
      "R2 score for k =  15 is: 0.8088265992173053\n",
      "R2 score for k =  16 is: 0.8081905624083657\n",
      "R2 score for k =  17 is: 0.8069118160113083\n",
      "R2 score for k =  18 is: 0.8044482284183048\n",
      "R2 score for k =  19 is: 0.8025335383093464\n",
      "R2 score for k =  20 is: 0.7986520334762407\n"
     ]
    }
   ],
   "source": [
    "print('KNN for optimization set 4:')\n",
    "\n",
    "X4 = train4.copy()\n",
    "X4.drop(['Id', 'SalePrice'], axis=1, inplace=True)\n",
    "y4 = train4['SalePrice'][:,None]\n",
    "\n",
    "train_X4, test_X4, train_y4, test_y4 = train_test_split(X4,y4,test_size=0.2)\n",
    "\n",
    "R2_4 = []\n",
    "\n",
    "for K in range(20):\n",
    "    K += 1\n",
    "    \n",
    "    knn = neighbors.KNeighborsRegressor(n_neighbors = K)\n",
    "\n",
    "    knn.fit(train_X4, train_y4)  #fit the model\n",
    "    pred = knn.predict(test_X4) #make prediction on test set\n",
    "    error = r2_score(test_y4, pred) #calculate rmse\n",
    "    R2_4.append(error) #store mse values\n",
    "    print('R2 score for k = ' , K , 'is:', error)\n"
   ]
  },
  {
   "cell_type": "code",
   "execution_count": 23,
   "metadata": {
    "scrolled": false
   },
   "outputs": [
    {
     "data": {
      "text/plain": [
       "Text(0.5, 1.0, 'R2 test score:')"
      ]
     },
     "execution_count": 23,
     "metadata": {},
     "output_type": "execute_result"
    },
    {
     "data": {
      "image/png": "[encoded data removed]",
      "text/plain": [
       "<Figure size 432x288 with 1 Axes>"
      ]
     },
     "metadata": {},
     "output_type": "display_data"
    }
   ],
   "source": [
    "plt.plot(R2_4)\n",
    "plt.title(\"R2 test score:\")"
   ]
  },
  {
   "cell_type": "code",
   "execution_count": 33,
   "metadata": {},
   "outputs": [
    {
     "name": "stdout",
     "output_type": "stream",
     "text": [
      "Most optimal value of K is: 8\n",
      "Best R2 score is: 0.8328280252885937\n"
     ]
    }
   ],
   "source": [
    "print('Most optimal value of K is:', R2_4.index(max(R2_4))+1)\n",
    "print('Best R2 score is:', max(R2_4))"
   ]
  },
  {
   "cell_type": "markdown",
   "metadata": {},
   "source": [
    "### Result analysis <a class=\"anchor\" id=\"results\"></a>"
   ]
  },
  {
   "cell_type": "code",
   "execution_count": null,
   "metadata": {},
   "outputs": [],
   "source": [
    "maxscore_all= []\n",
    "\n",
    "maxscore_all.append(max(R2_1))\n",
    "maxscore_all.append(max(R2_2))\n",
    "maxscore_all.append(max(R2_3))\n",
    "maxscore_all.append(max(R2_4))\n",
    "\n",
    "best_trainset = maxscore_all.index(max(maxscore_all)) + 1\n"
   ]
  },
  {
   "cell_type": "code",
   "execution_count": 29,
   "metadata": {},
   "outputs": [
    {
     "name": "stdout",
     "output_type": "stream",
     "text": [
      "Best result is given by optimization set 4 with K = 8\n",
      "R2 score is 0.8328280252885937\n"
     ]
    }
   ],
   "source": [
    "R2_all = []\n",
    "maxscore_all= []\n",
    "\n",
    "R2_all.append(R2_1)\n",
    "R2_all.append(R2_2)\n",
    "R2_all.append(R2_3)\n",
    "R2_all.append(R2_4)\n",
    "\n",
    "for i in R2_all:\n",
    "    maxscore_all.append(max(i))\n",
    "    \n",
    "best_trainset = maxscore_all.index(max(maxscore_all)) + 1\n",
    "best_K = R2_all[best_trainset-1].index(max(R2_all[best_trainset-1])) + 1\n",
    "\n",
    "print('Best result is given by optimization set', best_trainset, 'with K =', best_K)\n",
    "print('R2 score is', R2_all[best_trainset-1][best_K-1])"
   ]
  },
  {
   "cell_type": "code",
   "execution_count": 35,
   "metadata": {},
   "outputs": [
    {
     "data": {
      "text/plain": [
       "[0.6500224425815722,\n",
       " 0.7634955750666084,\n",
       " 0.8320211209259704,\n",
       " 0.8328280252885937]"
      ]
     },
     "execution_count": 35,
     "metadata": {},
     "output_type": "execute_result"
    }
   ],
   "source": [
    "maxscore_all"
   ]
  }
 ],
 "metadata": {
  "kernelspec": {
   "display_name": "Python 3",
   "language": "python",
   "name": "python3"
  },
  "language_info": {
   "codemirror_mode": {
    "name": "ipython",
    "version": 3
   },
   "file_extension": ".py",
   "mimetype": "text/x-python",
   "name": "python",
   "nbconvert_exporter": "python",
   "pygments_lexer": "ipython3",
   "version": "3.7.6"
  }
 },
 "nbformat": 4,
 "nbformat_minor": 4
}
