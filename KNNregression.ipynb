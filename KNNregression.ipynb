{
 "cells": [
  {
   "cell_type": "markdown",
   "metadata": {},
   "source": [
    "# Contents\n",
    "\n",
    "[KNN on train 0](#train0) <br>\n",
    "[KNN on train 1](#train1) <br>\n",
    "[KNN on train 2](#train2) <br>\n",
    "[KNN on train 3](#train3) <br>\n",
    "[KNN on train 4](#train4) <br>\n",
    "[Results analysis](#results)"
   ]
  },
  {
   "cell_type": "markdown",
   "metadata": {},
   "source": [
    "### Import"
   ]
  },
  {
   "cell_type": "code",
   "execution_count": 1,
   "metadata": {},
   "outputs": [],
   "source": [
    "# Basic Libraries\n",
    "import math\n",
    "import numpy as np\n",
    "import pandas as pd\n",
    "import seaborn as sb\n",
    "import researchpy as rp\n",
    "import matplotlib.pyplot as plt # we only need pyplot\n",
    "sb.set() # set the default Seaborn style for graphics\n",
    "from scipy import stats\n",
    "from scipy.stats import skew \n",
    "from sklearn.model_selection import train_test_split\n",
    "# # machine learning library\n",
    "# from sklearn.linear_model import LinearRegression\n",
    "# from sklearn import svm\n",
    "# # data normalization from sklearn\n",
    "# from sklearn.preprocessing import MinMaxScaler\n",
    "# # data standardization from sklearn\n",
    "# from sklearn.preprocessing import StandardScaler\n",
    "# KNN regressor\n",
    "from sklearn import neighbors\n",
    "# calculate error\n",
    "from sklearn.metrics import mean_squared_error\n",
    "from sklearn.metrics import r2_score\n",
    "\n",
    "# computational time\n",
    "import time\n",
    "\n",
    "from math import sqrt"
   ]
  },
  {
   "cell_type": "markdown",
   "metadata": {},
   "source": [
    "FROM EDA:\n",
    "\n",
    "LotFrontage /number of null data: 259\n",
    "\n",
    "MasVnrArea /number of null data: 8\n",
    "\n",
    "Electrical /number of null data: 1\n",
    "\n",
    "GarageYrBlt /number of null data: 81\n",
    "\n",
    "For feature with too many missing values, remove this feature entirely. \n",
    "- Set treshold to be 10% of all data points\n",
    "\n",
    "For feature with only a few missing values, remove that data point."
   ]
  },
  {
   "cell_type": "code",
   "execution_count": 2,
   "metadata": {},
   "outputs": [
    {
     "name": "stdout",
     "output_type": "stream",
     "text": [
      "Drop feature - too many nulls:\n",
      "LotFrontage\n",
      "Remove data point:\n",
      "['MasVnrArea', 'Electrical', 'GarageYrBlt']\n"
     ]
    },
    {
     "data": {
      "text/html": [
       "<div>\n",
       "<style scoped>\n",
       "    .dataframe tbody tr th:only-of-type {\n",
       "        vertical-align: middle;\n",
       "    }\n",
       "\n",
       "    .dataframe tbody tr th {\n",
       "        vertical-align: top;\n",
       "    }\n",
       "\n",
       "    .dataframe thead th {\n",
       "        text-align: right;\n",
       "    }\n",
       "</style>\n",
       "<table border=\"1\" class=\"dataframe\">\n",
       "  <thead>\n",
       "    <tr style=\"text-align: right;\">\n",
       "      <th></th>\n",
       "      <th>Id</th>\n",
       "      <th>LotArea</th>\n",
       "      <th>YearBuilt</th>\n",
       "      <th>YearRemodAdd</th>\n",
       "      <th>MasVnrArea</th>\n",
       "      <th>BsmtFinSF1</th>\n",
       "      <th>BsmtFinSF2</th>\n",
       "      <th>BsmtUnfSF</th>\n",
       "      <th>TotalBsmtSF</th>\n",
       "      <th>1stFlrSF</th>\n",
       "      <th>...</th>\n",
       "      <th>SaleType_ConLw</th>\n",
       "      <th>SaleType_New</th>\n",
       "      <th>SaleType_Oth</th>\n",
       "      <th>SaleType_WD</th>\n",
       "      <th>SaleCondition_Abnorml</th>\n",
       "      <th>SaleCondition_AdjLand</th>\n",
       "      <th>SaleCondition_Alloca</th>\n",
       "      <th>SaleCondition_Family</th>\n",
       "      <th>SaleCondition_Normal</th>\n",
       "      <th>SaleCondition_Partial</th>\n",
       "    </tr>\n",
       "  </thead>\n",
       "  <tbody>\n",
       "    <tr>\n",
       "      <th>0</th>\n",
       "      <td>1</td>\n",
       "      <td>8450</td>\n",
       "      <td>2003</td>\n",
       "      <td>2003</td>\n",
       "      <td>196.0</td>\n",
       "      <td>706</td>\n",
       "      <td>0</td>\n",
       "      <td>150</td>\n",
       "      <td>856</td>\n",
       "      <td>856</td>\n",
       "      <td>...</td>\n",
       "      <td>0</td>\n",
       "      <td>0</td>\n",
       "      <td>0</td>\n",
       "      <td>1</td>\n",
       "      <td>0</td>\n",
       "      <td>0</td>\n",
       "      <td>0</td>\n",
       "      <td>0</td>\n",
       "      <td>1</td>\n",
       "      <td>0</td>\n",
       "    </tr>\n",
       "    <tr>\n",
       "      <th>1</th>\n",
       "      <td>2</td>\n",
       "      <td>9600</td>\n",
       "      <td>1976</td>\n",
       "      <td>1976</td>\n",
       "      <td>0.0</td>\n",
       "      <td>978</td>\n",
       "      <td>0</td>\n",
       "      <td>284</td>\n",
       "      <td>1262</td>\n",
       "      <td>1262</td>\n",
       "      <td>...</td>\n",
       "      <td>0</td>\n",
       "      <td>0</td>\n",
       "      <td>0</td>\n",
       "      <td>1</td>\n",
       "      <td>0</td>\n",
       "      <td>0</td>\n",
       "      <td>0</td>\n",
       "      <td>0</td>\n",
       "      <td>1</td>\n",
       "      <td>0</td>\n",
       "    </tr>\n",
       "    <tr>\n",
       "      <th>2</th>\n",
       "      <td>3</td>\n",
       "      <td>11250</td>\n",
       "      <td>2001</td>\n",
       "      <td>2002</td>\n",
       "      <td>162.0</td>\n",
       "      <td>486</td>\n",
       "      <td>0</td>\n",
       "      <td>434</td>\n",
       "      <td>920</td>\n",
       "      <td>920</td>\n",
       "      <td>...</td>\n",
       "      <td>0</td>\n",
       "      <td>0</td>\n",
       "      <td>0</td>\n",
       "      <td>1</td>\n",
       "      <td>0</td>\n",
       "      <td>0</td>\n",
       "      <td>0</td>\n",
       "      <td>0</td>\n",
       "      <td>1</td>\n",
       "      <td>0</td>\n",
       "    </tr>\n",
       "    <tr>\n",
       "      <th>3</th>\n",
       "      <td>4</td>\n",
       "      <td>9550</td>\n",
       "      <td>1915</td>\n",
       "      <td>1970</td>\n",
       "      <td>0.0</td>\n",
       "      <td>216</td>\n",
       "      <td>0</td>\n",
       "      <td>540</td>\n",
       "      <td>756</td>\n",
       "      <td>961</td>\n",
       "      <td>...</td>\n",
       "      <td>0</td>\n",
       "      <td>0</td>\n",
       "      <td>0</td>\n",
       "      <td>1</td>\n",
       "      <td>1</td>\n",
       "      <td>0</td>\n",
       "      <td>0</td>\n",
       "      <td>0</td>\n",
       "      <td>0</td>\n",
       "      <td>0</td>\n",
       "    </tr>\n",
       "    <tr>\n",
       "      <th>4</th>\n",
       "      <td>5</td>\n",
       "      <td>14260</td>\n",
       "      <td>2000</td>\n",
       "      <td>2000</td>\n",
       "      <td>350.0</td>\n",
       "      <td>655</td>\n",
       "      <td>0</td>\n",
       "      <td>490</td>\n",
       "      <td>1145</td>\n",
       "      <td>1145</td>\n",
       "      <td>...</td>\n",
       "      <td>0</td>\n",
       "      <td>0</td>\n",
       "      <td>0</td>\n",
       "      <td>1</td>\n",
       "      <td>0</td>\n",
       "      <td>0</td>\n",
       "      <td>0</td>\n",
       "      <td>0</td>\n",
       "      <td>1</td>\n",
       "      <td>0</td>\n",
       "    </tr>\n",
       "  </tbody>\n",
       "</table>\n",
       "<p>5 rows × 316 columns</p>\n",
       "</div>"
      ],
      "text/plain": [
       "   Id  LotArea  YearBuilt  YearRemodAdd  MasVnrArea  BsmtFinSF1  BsmtFinSF2  \\\n",
       "0   1     8450       2003          2003       196.0         706           0   \n",
       "1   2     9600       1976          1976         0.0         978           0   \n",
       "2   3    11250       2001          2002       162.0         486           0   \n",
       "3   4     9550       1915          1970         0.0         216           0   \n",
       "4   5    14260       2000          2000       350.0         655           0   \n",
       "\n",
       "   BsmtUnfSF  TotalBsmtSF  1stFlrSF  ...  SaleType_ConLw  SaleType_New  \\\n",
       "0        150          856       856  ...               0             0   \n",
       "1        284         1262      1262  ...               0             0   \n",
       "2        434          920       920  ...               0             0   \n",
       "3        540          756       961  ...               0             0   \n",
       "4        490         1145      1145  ...               0             0   \n",
       "\n",
       "   SaleType_Oth  SaleType_WD  SaleCondition_Abnorml  SaleCondition_AdjLand  \\\n",
       "0             0            1                      0                      0   \n",
       "1             0            1                      0                      0   \n",
       "2             0            1                      0                      0   \n",
       "3             0            1                      1                      0   \n",
       "4             0            1                      0                      0   \n",
       "\n",
       "   SaleCondition_Alloca  SaleCondition_Family  SaleCondition_Normal  \\\n",
       "0                     0                     0                     1   \n",
       "1                     0                     0                     1   \n",
       "2                     0                     0                     1   \n",
       "3                     0                     0                     0   \n",
       "4                     0                     0                     1   \n",
       "\n",
       "   SaleCondition_Partial  \n",
       "0                      0  \n",
       "1                      0  \n",
       "2                      0  \n",
       "3                      0  \n",
       "4                      0  \n",
       "\n",
       "[5 rows x 316 columns]"
      ]
     },
     "execution_count": 2,
     "metadata": {},
     "output_type": "execute_result"
    }
   ],
   "source": [
    "train0 = pd.read_csv('train.csv')\n",
    "\n",
    "# Remove null\n",
    "nullData = [['LotFrontage', 259], ['MasVnrArea', 8], ['Electrical', 1], ['GarageYrBlt', 81]]\n",
    "n = len(train0)\n",
    "treshold = 0.1\n",
    "drop = []\n",
    "\n",
    "print('Drop feature - too many nulls:')\n",
    "for i in nullData:\n",
    "    if i[1]/n > treshold: # Arbitrary treshold: 10%\n",
    "        print(i[0])\n",
    "        train0.drop(columns=[i[0]], inplace=True)\n",
    "    else:\n",
    "        drop.append(i[0])\n",
    "        \n",
    "print('Remove data point:')\n",
    "print(drop)\n",
    "train0.dropna(subset=drop, inplace=True)\n",
    "\n",
    "# OHE\n",
    "categorical = ['MSSubClass', 'MSZoning', 'Street', 'Alley', 'LotShape', 'LandContour', 'Utilities', 'LotConfig', 'LandSlope', 'Neighborhood', 'Condition1', 'Condition2', 'BldgType', 'HouseStyle', 'OverallQual', 'OverallCond', 'RoofStyle', 'RoofMatl', 'Exterior1st', 'Exterior2nd', 'MasVnrType', 'ExterQual', 'ExterCond','Foundation', 'BsmtQual', 'BsmtCond', 'BsmtExposure', 'BsmtFinType1', 'BsmtFinType2', 'Heating', 'HeatingQC', 'CentralAir', 'Electrical', 'KitchenQual', 'Functional', 'FireplaceQu', 'GarageType', 'GarageFinish', 'GarageQual', 'GarageCond', 'PavedDrive', 'PoolQC', 'Fence', 'MiscFeature', 'SaleType', 'SaleCondition']\n",
    "train0 = pd.get_dummies(train0, columns= categorical, prefix= categorical)\n",
    "\n",
    "train0.head()"
   ]
  },
  {
   "cell_type": "code",
   "execution_count": 3,
   "metadata": {},
   "outputs": [
    {
     "name": "stdout",
     "output_type": "stream",
     "text": [
      "train0 shape: (1370, 316)\n",
      "train1 shape: (1370, 70)\n",
      "train2 shape: (688, 75)\n",
      "train3 shape: (688, 75)\n",
      "train4 shape: (688, 75)\n"
     ]
    }
   ],
   "source": [
    "#importing the csv datasets\n",
    "print('train0 shape:', train0.shape)\n",
    "\n",
    "train1 = pd.read_csv('train_ONE.csv')\n",
    "print('train1 shape:', train1.shape)\n",
    "\n",
    "train2 = pd.read_csv('train_TWO.csv')\n",
    "print('train2 shape:', train2.shape)\n",
    "\n",
    "train3 = pd.read_csv('train_THREE.csv')\n",
    "print('train3 shape:', train3.shape)\n",
    "\n",
    "train4 = pd.read_csv('train_FOUR.csv')\n",
    "print('train4 shape:', train4.shape)"
   ]
  },
  {
   "cell_type": "markdown",
   "metadata": {},
   "source": [
    "### Train 0 (no optimizations) <a class=\"anchor\" id=\"train0\"></a>"
   ]
  },
  {
   "cell_type": "code",
   "execution_count": 4,
   "metadata": {},
   "outputs": [
    {
     "name": "stdout",
     "output_type": "stream",
     "text": [
      "KNN for optimization set 0:\n",
      "R2 score for k =  1 is: 0.42585399685555725\n",
      "MSE for k =  1 is: 3669934055.8868613\n",
      "R2 score for k =  2 is: 0.4540387059646859\n",
      "MSE for k =  2 is: 3489777748.521898\n",
      "R2 score for k =  3 is: 0.4995254532564951\n",
      "MSE for k =  3 is: 3199027029.95296\n",
      "R2 score for k =  4 is: 0.5157478471035619\n",
      "MSE for k =  4 is: 3095333691.810219\n",
      "R2 score for k =  5 is: 0.5343182558438143\n",
      "MSE for k =  5 is: 2976631871.8997083\n",
      "R2 score for k =  6 is: 0.5296867739288087\n",
      "MSE for k =  6 is: 3006236246.250507\n",
      "R2 score for k =  7 is: 0.5478720018956165\n",
      "MSE for k =  7 is: 2889996497.0160885\n",
      "R2 score for k =  8 is: 0.5770793199677777\n",
      "MSE for k =  8 is: 2703303685.9765625\n",
      "R2 score for k =  9 is: 0.5687173114047754\n",
      "MSE for k =  9 is: 2756753539.903803\n",
      "R2 score for k =  10 is: 0.5721980208957658\n",
      "MSE for k =  10 is: 2734504888.463796\n",
      "R2 score for k =  11 is: 0.5804159984880813\n",
      "MSE for k =  11 is: 2681975678.695934\n",
      "R2 score for k =  12 is: 0.572541588341702\n",
      "MSE for k =  12 is: 2732308809.6555657\n",
      "R2 score for k =  13 is: 0.573503639235723\n",
      "MSE for k =  13 is: 2726159392.3991055\n",
      "R2 score for k =  14 is: 0.569839989017157\n",
      "MSE for k =  14 is: 2749577398.67684\n",
      "R2 score for k =  15 is: 0.5686068873852896\n",
      "MSE for k =  15 is: 2757459368.852328\n",
      "R2 score for k =  16 is: 0.5659677469738039\n",
      "MSE for k =  16 is: 2774328721.2841725\n",
      "R2 score for k =  17 is: 0.5719230361109309\n",
      "MSE for k =  17 is: 2736262587.7618647\n",
      "R2 score for k =  18 is: 0.5672092053014337\n",
      "MSE for k =  18 is: 2766393335.2141123\n",
      "R2 score for k =  19 is: 0.5795055271073961\n",
      "MSE for k =  19 is: 2687795400.349637\n",
      "R2 score for k =  20 is: 0.577853731914251\n",
      "MSE for k =  20 is: 2698353654.521004\n"
     ]
    }
   ],
   "source": [
    "print('KNN for optimization set 0:')\n",
    "\n",
    "X0 = train0.copy()\n",
    "X0.drop(['Id', 'SalePrice'], axis=1, inplace=True)\n",
    "y0 = train0['SalePrice'][:,None]\n",
    "\n",
    "train_X0, test_X0, train_y0, test_y0 = train_test_split(X0,y0,test_size=0.2, shuffle=False)\n",
    "\n",
    "R2_0 = []\n",
    "mse_0 = []\n",
    "\n",
    "for K in range(20):\n",
    "    K += 1\n",
    "    \n",
    "    knn = neighbors.KNeighborsRegressor(n_neighbors = K)\n",
    "\n",
    "    knn.fit(train_X0, train_y0)  #fit the model\n",
    "    pred = knn.predict(test_X0) #make prediction on test set\n",
    "    \n",
    "    R2 = r2_score(test_y0, pred)\n",
    "    R2_0.append(R2)\n",
    "    print('R2 score for k = ' , K , 'is:', R2)\n",
    "    \n",
    "    mse = mean_squared_error(test_y0, pred)\n",
    "    mse_0.append(mse)\n",
    "    print('MSE for k = ' , K , 'is:', mse)\n"
   ]
  },
  {
   "cell_type": "code",
   "execution_count": 5,
   "metadata": {
    "scrolled": true
   },
   "outputs": [
    {
     "data": {
      "text/plain": [
       "Text(0.5, 1.0, 'R2 test score:')"
      ]
     },
     "execution_count": 5,
     "metadata": {},
     "output_type": "execute_result"
    },
    {
     "data": {
      "image/png": "[encoded data removed]",
      "text/plain": [
       "<Figure size 432x288 with 1 Axes>"
      ]
     },
     "metadata": {},
     "output_type": "display_data"
    }
   ],
   "source": [
    "plt.plot(R2_0)\n",
    "plt.title(\"R2 test score:\")"
   ]
  },
  {
   "cell_type": "code",
   "execution_count": 6,
   "metadata": {},
   "outputs": [
    {
     "data": {
      "text/plain": [
       "Text(0.5, 1.0, 'MSE test score:')"
      ]
     },
     "execution_count": 6,
     "metadata": {},
     "output_type": "execute_result"
    },
    {
     "data": {
      "image/png": "[encoded data removed]",
      "text/plain": [
       "<Figure size 432x288 with 1 Axes>"
      ]
     },
     "metadata": {},
     "output_type": "display_data"
    }
   ],
   "source": [
    "plt.plot(mse_0)\n",
    "plt.title(\"MSE test score:\")"
   ]
  },
  {
   "cell_type": "code",
   "execution_count": 7,
   "metadata": {},
   "outputs": [
    {
     "name": "stdout",
     "output_type": "stream",
     "text": [
      "Best R2 score is \t\t: 0.5804159984880813\n",
      "Most optimal value of K is \t: 11\n",
      "Best MSE score is \t\t: 2681975678.695934\n",
      "Most optimal value of K is \t: 11\n"
     ]
    }
   ],
   "source": [
    "print('Best R2 score is \\t\\t:', max(R2_0))\n",
    "print('Most optimal value of K is \\t:', R2_0.index(max(R2_0))+1)\n",
    "\n",
    "print('Best MSE score is \\t\\t:', min(mse_0))\n",
    "print('Most optimal value of K is \\t:', mse_0.index(min(mse_0))+1)"
   ]
  },
  {
   "cell_type": "markdown",
   "metadata": {},
   "source": [
    "### Train 1 <a class=\"anchor\" id=\"train1\"></a>"
   ]
  },
  {
   "cell_type": "code",
   "execution_count": 8,
   "metadata": {},
   "outputs": [
    {
     "name": "stdout",
     "output_type": "stream",
     "text": [
      "KNN for optimization set 1:\n",
      "R2 score for k =  1 is: 0.43936494459646214\n",
      "MSE for k =  1 is: 3583572247.270073\n",
      "R2 score for k =  2 is: 0.4823332215364451\n",
      "MSE for k =  2 is: 3308919559.624088\n",
      "R2 score for k =  3 is: 0.5059385152878977\n",
      "MSE for k =  3 is: 3158034817.8280616\n",
      "R2 score for k =  4 is: 0.514397377929916\n",
      "MSE for k =  4 is: 3103965873.841697\n",
      "R2 score for k =  5 is: 0.531723522520586\n",
      "MSE for k =  5 is: 2993217374.7799997\n",
      "R2 score for k =  6 is: 0.5279203769320449\n",
      "MSE for k =  6 is: 3017527033.714213\n",
      "R2 score for k =  7 is: 0.5543819663197982\n",
      "MSE for k =  7 is: 2848384886.011098\n",
      "R2 score for k =  8 is: 0.5768921593784349\n",
      "MSE for k =  8 is: 2704500014.117815\n",
      "R2 score for k =  9 is: 0.5661740272077418\n",
      "MSE for k =  9 is: 2773010180.6143103\n",
      "R2 score for k =  10 is: 0.5656403891592079\n",
      "MSE for k =  10 is: 2776421188.3320436\n",
      "R2 score for k =  11 is: 0.5753033024034754\n",
      "MSE for k =  11 is: 2714655967.987392\n",
      "R2 score for k =  12 is: 0.573306046234319\n",
      "MSE for k =  12 is: 2727422404.387495\n",
      "R2 score for k =  13 is: 0.5763892508476685\n",
      "MSE for k =  13 is: 2707714599.1431346\n",
      "R2 score for k =  14 is: 0.5721212290876252\n",
      "MSE for k =  14 is: 2734995740.73894\n",
      "R2 score for k =  15 is: 0.5699979077427387\n",
      "MSE for k =  15 is: 2748567984.1622386\n",
      "R2 score for k =  16 is: 0.5672476156723054\n",
      "MSE for k =  16 is: 2766147816.604927\n",
      "R2 score for k =  17 is: 0.5749096280738424\n",
      "MSE for k =  17 is: 2717172329.3681836\n",
      "R2 score for k =  18 is: 0.5702803903603038\n",
      "MSE for k =  18 is: 2746762358.811334\n",
      "R2 score for k =  19 is: 0.5773640620617113\n",
      "MSE for k =  19 is: 2701483618.08103\n",
      "R2 score for k =  20 is: 0.575002693050289\n",
      "MSE for k =  20 is: 2716577459.2051916\n"
     ]
    }
   ],
   "source": [
    "print('KNN for optimization set 1:')\n",
    "\n",
    "X1 = train1.copy()\n",
    "X1.drop(['Id', 'SalePrice'], axis=1, inplace=True)\n",
    "y1 = train1['SalePrice'][:,None]\n",
    "\n",
    "train_X1, test_X1, train_y1, test_y1 = train_test_split(X1,y1,test_size=0.2, shuffle=False)\n",
    "\n",
    "R2_1 = []\n",
    "mse_1 = []\n",
    "\n",
    "for K in range(20):\n",
    "    K += 1\n",
    "    \n",
    "    knn = neighbors.KNeighborsRegressor(n_neighbors = K)\n",
    "\n",
    "    knn.fit(train_X1, train_y1)  #fit the model\n",
    "    pred = knn.predict(test_X1) #make prediction on test set\n",
    "    \n",
    "    R2 = r2_score(test_y1, pred)\n",
    "    R2_1.append(R2)\n",
    "    print('R2 score for k = ' , K , 'is:', R2)\n",
    "    \n",
    "    mse = mean_squared_error(test_y1, pred)\n",
    "    mse_1.append(mse)\n",
    "    print('MSE for k = ' , K , 'is:', mse)\n"
   ]
  },
  {
   "cell_type": "code",
   "execution_count": 9,
   "metadata": {
    "scrolled": true
   },
   "outputs": [
    {
     "data": {
      "text/plain": [
       "Text(0.5, 1.0, 'R2 test score:')"
      ]
     },
     "execution_count": 9,
     "metadata": {},
     "output_type": "execute_result"
    },
    {
     "data": {
      "image/png": "[encoded data removed]",
      "text/plain": [
       "<Figure size 432x288 with 1 Axes>"
      ]
     },
     "metadata": {},
     "output_type": "display_data"
    }
   ],
   "source": [
    "plt.plot(R2_1)\n",
    "plt.title(\"R2 test score:\")"
   ]
  },
  {
   "cell_type": "code",
   "execution_count": 10,
   "metadata": {},
   "outputs": [
    {
     "data": {
      "text/plain": [
       "Text(0.5, 1.0, 'MSE test score:')"
      ]
     },
     "execution_count": 10,
     "metadata": {},
     "output_type": "execute_result"
    },
    {
     "data": {
      "image/png": "[encoded data removed]",
      "text/plain": [
       "<Figure size 432x288 with 1 Axes>"
      ]
     },
     "metadata": {},
     "output_type": "display_data"
    }
   ],
   "source": [
    "plt.plot(mse_1)\n",
    "plt.title(\"MSE test score:\")"
   ]
  },
  {
   "cell_type": "code",
   "execution_count": 11,
   "metadata": {},
   "outputs": [
    {
     "name": "stdout",
     "output_type": "stream",
     "text": [
      "Best R2 score is \t\t: 0.5773640620617113\n",
      "Most optimal value of K is \t: 19\n",
      "Best MSE score is \t\t: 2701483618.08103\n",
      "Most optimal value of K is \t: 19\n"
     ]
    }
   ],
   "source": [
    "print('Best R2 score is \\t\\t:', max(R2_1))\n",
    "print('Most optimal value of K is \\t:', R2_1.index(max(R2_1))+1)\n",
    "\n",
    "print('Best MSE score is \\t\\t:', min(mse_1))\n",
    "print('Most optimal value of K is \\t:', mse_1.index(min(mse_1))+1)"
   ]
  },
  {
   "cell_type": "markdown",
   "metadata": {},
   "source": [
    "### Train 2 <a class=\"anchor\" id=\"train2\"></a>"
   ]
  },
  {
   "cell_type": "code",
   "execution_count": 12,
   "metadata": {},
   "outputs": [
    {
     "name": "stdout",
     "output_type": "stream",
     "text": [
      "KNN for optimization set 2:\n",
      "R2 score for k =  1 is: 0.5433130841411632\n",
      "MSE for k =  1 is: 1699197392.8115942\n",
      "R2 score for k =  2 is: 0.5625141466158005\n",
      "MSE for k =  2 is: 1627755899.3876812\n",
      "R2 score for k =  3 is: 0.6316408514932789\n",
      "MSE for k =  3 is: 1370555807.5466988\n",
      "R2 score for k =  4 is: 0.6215483917202167\n",
      "MSE for k =  4 is: 1408106875.330616\n",
      "R2 score for k =  5 is: 0.656547177926459\n",
      "MSE for k =  5 is: 1277886708.7173913\n",
      "R2 score for k =  6 is: 0.6634746460112125\n",
      "MSE for k =  6 is: 1252111642.036836\n",
      "R2 score for k =  7 is: 0.621123454663105\n",
      "MSE for k =  7 is: 1409687940.858178\n",
      "R2 score for k =  8 is: 0.6345345899072043\n",
      "MSE for k =  8 is: 1359789059.9179122\n",
      "R2 score for k =  9 is: 0.6371954854266926\n",
      "MSE for k =  9 is: 1349888652.062444\n",
      "R2 score for k =  10 is: 0.6589571407023588\n",
      "MSE for k =  10 is: 1268919947.6314495\n",
      "R2 score for k =  11 is: 0.6628067445789787\n",
      "MSE for k =  11 is: 1254596706.3837585\n",
      "R2 score for k =  12 is: 0.6614902045647651\n",
      "MSE for k =  12 is: 1259495163.690066\n",
      "R2 score for k =  13 is: 0.6592160171808836\n",
      "MSE for k =  13 is: 1267956744.5658605\n",
      "R2 score for k =  14 is: 0.6528362526144814\n",
      "MSE for k =  14 is: 1291693967.9053905\n",
      "R2 score for k =  15 is: 0.6538864061275929\n",
      "MSE for k =  15 is: 1287786656.2448952\n",
      "R2 score for k =  16 is: 0.6500968378393387\n",
      "MSE for k =  16 is: 1301886522.7654269\n",
      "R2 score for k =  17 is: 0.644102781865249\n",
      "MSE for k =  17 is: 1324188638.131237\n",
      "R2 score for k =  18 is: 0.6460502228523135\n",
      "MSE for k =  18 is: 1316942784.2804618\n",
      "R2 score for k =  19 is: 0.6415728795509146\n",
      "MSE for k =  19 is: 1333601658.8841987\n",
      "R2 score for k =  20 is: 0.63472403995072\n",
      "MSE for k =  20 is: 1359084172.1516306\n"
     ]
    }
   ],
   "source": [
    "print('KNN for optimization set 2:')\n",
    "\n",
    "X2 = train2.copy()\n",
    "X2.drop(['Id', 'SalePrice'], axis=1, inplace=True)\n",
    "y2 = train2['SalePrice'][:,None]\n",
    "\n",
    "train_X2, test_X2, train_y2, test_y2 = train_test_split(X2,y2,test_size=0.2, shuffle=False)\n",
    "\n",
    "R2_2 = []\n",
    "mse_2 = []\n",
    "\n",
    "for K in range(20):\n",
    "    K += 1\n",
    "    \n",
    "    knn = neighbors.KNeighborsRegressor(n_neighbors = K)\n",
    "\n",
    "    knn.fit(train_X2, train_y2)  #fit the model\n",
    "    pred = knn.predict(test_X2) #make prediction on test set\n",
    "    \n",
    "    R2 = r2_score(test_y2, pred)\n",
    "    R2_2.append(R2)\n",
    "    print('R2 score for k = ' , K , 'is:', R2)\n",
    "    \n",
    "    mse = mean_squared_error(test_y2, pred)\n",
    "    mse_2.append(mse)\n",
    "    print('MSE for k = ' , K , 'is:', mse)\n"
   ]
  },
  {
   "cell_type": "code",
   "execution_count": 13,
   "metadata": {
    "scrolled": false
   },
   "outputs": [
    {
     "data": {
      "text/plain": [
       "Text(0.5, 1.0, 'R2 test score:')"
      ]
     },
     "execution_count": 13,
     "metadata": {},
     "output_type": "execute_result"
    },
    {
     "data": {
      "image/png": "[encoded data removed]",
      "text/plain": [
       "<Figure size 432x288 with 1 Axes>"
      ]
     },
     "metadata": {},
     "output_type": "display_data"
    }
   ],
   "source": [
    "plt.plot(R2_2)\n",
    "plt.title(\"R2 test score:\")"
   ]
  },
  {
   "cell_type": "code",
   "execution_count": 14,
   "metadata": {},
   "outputs": [
    {
     "data": {
      "text/plain": [
       "Text(0.5, 1.0, 'MSE test score:')"
      ]
     },
     "execution_count": 14,
     "metadata": {},
     "output_type": "execute_result"
    },
    {
     "data": {
      "image/png": "[encoded data removed]",
      "text/plain": [
       "<Figure size 432x288 with 1 Axes>"
      ]
     },
     "metadata": {},
     "output_type": "display_data"
    }
   ],
   "source": [
    "plt.plot(mse_2)\n",
    "plt.title(\"MSE test score:\")"
   ]
  },
  {
   "cell_type": "code",
   "execution_count": 15,
   "metadata": {},
   "outputs": [
    {
     "name": "stdout",
     "output_type": "stream",
     "text": [
      "Best R2 score is \t\t: 0.6634746460112125\n",
      "Most optimal value of K is \t: 6\n",
      "Best MSE score is \t\t: 1252111642.036836\n",
      "Most optimal value of K is \t: 6\n"
     ]
    }
   ],
   "source": [
    "print('Best R2 score is \\t\\t:', max(R2_2))\n",
    "print('Most optimal value of K is \\t:', R2_2.index(max(R2_2))+1)\n",
    "\n",
    "print('Best MSE score is \\t\\t:', min(mse_2))\n",
    "print('Most optimal value of K is \\t:', mse_2.index(min(mse_2))+1)"
   ]
  },
  {
   "cell_type": "markdown",
   "metadata": {},
   "source": [
    "### Train 3 <a class=\"anchor\" id=\"train3\"></a>"
   ]
  },
  {
   "cell_type": "code",
   "execution_count": 16,
   "metadata": {},
   "outputs": [
    {
     "name": "stdout",
     "output_type": "stream",
     "text": [
      "KNN for optimization set 3:\n",
      "R2 score for k =  1 is: 0.6325764997391838\n",
      "MSE for k =  1 is: 1367074536.231884\n",
      "R2 score for k =  2 is: 0.7002848985380064\n",
      "MSE for k =  2 is: 1115151543.2246377\n",
      "R2 score for k =  3 is: 0.7316698016796239\n",
      "MSE for k =  3 is: 998377570.2028985\n",
      "R2 score for k =  4 is: 0.7468382612147764\n",
      "MSE for k =  4 is: 941940203.5955616\n",
      "R2 score for k =  5 is: 0.7658553617278103\n",
      "MSE for k =  5 is: 871183178.4028986\n",
      "R2 score for k =  6 is: 0.7679081891323517\n",
      "MSE for k =  6 is: 863545212.7582527\n",
      "R2 score for k =  7 is: 0.7676984498459565\n",
      "MSE for k =  7 is: 864325590.8164743\n",
      "R2 score for k =  8 is: 0.7661629567974315\n",
      "MSE for k =  8 is: 870038707.8209919\n",
      "R2 score for k =  9 is: 0.7790463937495562\n",
      "MSE for k =  9 is: 822103236.6714975\n",
      "R2 score for k =  10 is: 0.790495080122425\n",
      "MSE for k =  10 is: 779506049.495\n",
      "R2 score for k =  11 is: 0.7834047772974861\n",
      "MSE for k =  11 is: 805886976.2437416\n",
      "R2 score for k =  12 is: 0.7730626525403709\n",
      "MSE for k =  12 is: 844366973.837661\n",
      "R2 score for k =  13 is: 0.7647972284009441\n",
      "MSE for k =  13 is: 875120180.5981047\n",
      "R2 score for k =  14 is: 0.7553345635471078\n",
      "MSE for k =  14 is: 910327967.1370527\n",
      "R2 score for k =  15 is: 0.7558673849739929\n",
      "MSE for k =  15 is: 908345495.6714653\n",
      "R2 score for k =  16 is: 0.7505754996838896\n",
      "MSE for k =  16 is: 928035040.9063915\n",
      "R2 score for k =  17 is: 0.7515780560775556\n",
      "MSE for k =  17 is: 924304824.0967855\n",
      "R2 score for k =  18 is: 0.7493275477919219\n",
      "MSE for k =  18 is: 932678302.0280685\n",
      "R2 score for k =  19 is: 0.7444130483182227\n",
      "MSE for k =  19 is: 950963705.8850615\n",
      "R2 score for k =  20 is: 0.739219433082481\n",
      "MSE for k =  20 is: 970287617.2155253\n"
     ]
    }
   ],
   "source": [
    "print('KNN for optimization set 3:')\n",
    "\n",
    "X3 = train3.copy()\n",
    "X3.drop(['Id', 'SalePrice'], axis=1, inplace=True)\n",
    "y3 = train3['SalePrice'][:,None]\n",
    "\n",
    "train_X3, test_X3, train_y3, test_y3 = train_test_split(X3,y3,test_size=0.2, shuffle=False)\n",
    "\n",
    "R2_3 = []\n",
    "mse_3 = []\n",
    "\n",
    "for K in range(20):\n",
    "    K += 1\n",
    "    \n",
    "    knn = neighbors.KNeighborsRegressor(n_neighbors = K)\n",
    "\n",
    "    knn.fit(train_X3, train_y3)  #fit the model\n",
    "    pred = knn.predict(test_X3) #make prediction on test set\n",
    "    \n",
    "    R2 = r2_score(test_y3, pred)\n",
    "    R2_3.append(R2)\n",
    "    print('R2 score for k = ' , K , 'is:', R2)\n",
    "    \n",
    "    mse = mean_squared_error(test_y3, pred)\n",
    "    mse_3.append(mse)\n",
    "    print('MSE for k = ' , K , 'is:', mse)\n"
   ]
  },
  {
   "cell_type": "code",
   "execution_count": 17,
   "metadata": {
    "scrolled": false
   },
   "outputs": [
    {
     "data": {
      "text/plain": [
       "Text(0.5, 1.0, 'R2 test score:')"
      ]
     },
     "execution_count": 17,
     "metadata": {},
     "output_type": "execute_result"
    },
    {
     "data": {
      "image/png": "[encoded data removed]",
      "text/plain": [
       "<Figure size 432x288 with 1 Axes>"
      ]
     },
     "metadata": {},
     "output_type": "display_data"
    }
   ],
   "source": [
    "plt.plot(R2_3)\n",
    "plt.title(\"R2 test score:\")"
   ]
  },
  {
   "cell_type": "code",
   "execution_count": 18,
   "metadata": {},
   "outputs": [
    {
     "data": {
      "text/plain": [
       "Text(0.5, 1.0, 'MSE test score:')"
      ]
     },
     "execution_count": 18,
     "metadata": {},
     "output_type": "execute_result"
    },
    {
     "data": {
      "image/png": "[encoded data removed]",
      "text/plain": [
       "<Figure size 432x288 with 1 Axes>"
      ]
     },
     "metadata": {},
     "output_type": "display_data"
    }
   ],
   "source": [
    "plt.plot(mse_3)\n",
    "plt.title(\"MSE test score:\")"
   ]
  },
  {
   "cell_type": "code",
   "execution_count": 19,
   "metadata": {},
   "outputs": [
    {
     "name": "stdout",
     "output_type": "stream",
     "text": [
      "Best R2 score is \t\t: 0.790495080122425\n",
      "Most optimal value of K is \t: 10\n",
      "Best MSE score is \t\t: 779506049.495\n",
      "Most optimal value of K is \t: 10\n"
     ]
    }
   ],
   "source": [
    "print('Best R2 score is \\t\\t:', max(R2_3))\n",
    "print('Most optimal value of K is \\t:', R2_3.index(max(R2_3))+1)\n",
    "\n",
    "print('Best MSE score is \\t\\t:', min(mse_3))\n",
    "print('Most optimal value of K is \\t:', mse_3.index(min(mse_3))+1)"
   ]
  },
  {
   "cell_type": "markdown",
   "metadata": {},
   "source": [
    "### Train 4 <a class=\"anchor\" id=\"train4\"></a>"
   ]
  },
  {
   "cell_type": "code",
   "execution_count": 20,
   "metadata": {},
   "outputs": [
    {
     "name": "stdout",
     "output_type": "stream",
     "text": [
      "KNN for optimization set 4:\n",
      "R2 score for k =  1 is: 0.7215534760460007\n",
      "MSE for k =  1 is: 1036017435.8188406\n",
      "R2 score for k =  2 is: 0.7773631662216418\n",
      "MSE for k =  2 is: 828366030.125\n",
      "R2 score for k =  3 is: 0.8092622162807541\n",
      "MSE for k =  3 is: 709679067.9822868\n",
      "R2 score for k =  4 is: 0.8077778023639506\n",
      "MSE for k =  4 is: 715202134.5946558\n",
      "R2 score for k =  5 is: 0.8167625198805754\n",
      "MSE for k =  5 is: 681772649.2092754\n",
      "R2 score for k =  6 is: 0.8128610955395703\n",
      "MSE for k =  6 is: 696288699.1294284\n",
      "R2 score for k =  7 is: 0.8081416224961844\n",
      "MSE for k =  7 is: 713848467.1286601\n",
      "R2 score for k =  8 is: 0.8102429925986945\n",
      "MSE for k =  8 is: 706029888.4141757\n",
      "R2 score for k =  9 is: 0.8116469951274793\n",
      "MSE for k =  9 is: 700806008.8731438\n",
      "R2 score for k =  10 is: 0.8151941148129287\n",
      "MSE for k =  10 is: 687608222.1352174\n",
      "R2 score for k =  11 is: 0.8122094470954305\n",
      "MSE for k =  11 is: 698713290.8986706\n",
      "R2 score for k =  12 is: 0.8117059098472736\n",
      "MSE for k =  12 is: 700586804.5675323\n",
      "R2 score for k =  13 is: 0.8093760198795972\n",
      "MSE for k =  13 is: 709255638.3377497\n",
      "R2 score for k =  14 is: 0.8041871949599487\n",
      "MSE for k =  14 is: 728561726.3141083\n",
      "R2 score for k =  15 is: 0.7957393226458952\n",
      "MSE for k =  15 is: 759993768.9506924\n",
      "R2 score for k =  16 is: 0.7942659485169333\n",
      "MSE for k =  16 is: 765475759.7667855\n",
      "R2 score for k =  17 is: 0.7930794251009061\n",
      "MSE for k =  17 is: 769890463.6372298\n",
      "R2 score for k =  18 is: 0.792634411341669\n",
      "MSE for k =  18 is: 771546228.6552378\n",
      "R2 score for k =  19 is: 0.7894928105869375\n",
      "MSE for k =  19 is: 783235198.9898832\n",
      "R2 score for k =  20 is: 0.7899054208599579\n",
      "MSE for k =  20 is: 781699997.7922645\n"
     ]
    }
   ],
   "source": [
    "print('KNN for optimization set 4:')\n",
    "\n",
    "X4 = train4.copy()\n",
    "X4.drop(['Id', 'SalePrice'], axis=1, inplace=True)\n",
    "y4 = train4['SalePrice'][:,None]\n",
    "\n",
    "train_X4, test_X4, train_y4, test_y4 = train_test_split(X4,y4,test_size=0.2, shuffle=False)\n",
    "\n",
    "R2_4 = []\n",
    "mse_4 = []\n",
    "\n",
    "for K in range(20):\n",
    "    K += 1\n",
    "    \n",
    "    knn = neighbors.KNeighborsRegressor(n_neighbors = K)\n",
    "\n",
    "    knn.fit(train_X4, train_y4)  #fit the model\n",
    "    pred = knn.predict(test_X4) #make prediction on test set\n",
    "    \n",
    "    R2 = r2_score(test_y4, pred)\n",
    "    R2_4.append(R2)\n",
    "    print('R2 score for k = ' , K , 'is:', R2)\n",
    "    \n",
    "    mse = mean_squared_error(test_y4, pred)\n",
    "    mse_4.append(mse)\n",
    "    print('MSE for k = ' , K , 'is:', mse)"
   ]
  },
  {
   "cell_type": "code",
   "execution_count": 21,
   "metadata": {
    "scrolled": true
   },
   "outputs": [
    {
     "data": {
      "text/plain": [
       "Text(0.5, 1.0, 'R2 test score:')"
      ]
     },
     "execution_count": 21,
     "metadata": {},
     "output_type": "execute_result"
    },
    {
     "data": {
      "image/png": "[encoded data removed]",
      "text/plain": [
       "<Figure size 432x288 with 1 Axes>"
      ]
     },
     "metadata": {},
     "output_type": "display_data"
    }
   ],
   "source": [
    "plt.plot(R2_4)\n",
    "plt.title(\"R2 test score:\")"
   ]
  },
  {
   "cell_type": "code",
   "execution_count": 22,
   "metadata": {},
   "outputs": [
    {
     "data": {
      "text/plain": [
       "Text(0.5, 1.0, 'MSE test score:')"
      ]
     },
     "execution_count": 22,
     "metadata": {},
     "output_type": "execute_result"
    },
    {
     "data": {
      "image/png": "[encoded data removed]",
      "text/plain": [
       "<Figure size 432x288 with 1 Axes>"
      ]
     },
     "metadata": {},
     "output_type": "display_data"
    }
   ],
   "source": [
    "plt.plot(mse_4)\n",
    "plt.title(\"MSE test score:\")"
   ]
  },
  {
   "cell_type": "code",
   "execution_count": 23,
   "metadata": {},
   "outputs": [
    {
     "name": "stdout",
     "output_type": "stream",
     "text": [
      "Best R2 score is \t\t: 0.8167625198805754\n",
      "Most optimal value of K is \t: 5\n",
      "Best MSE score is \t\t: 681772649.2092754\n",
      "Most optimal value of K is \t: 5\n"
     ]
    }
   ],
   "source": [
    "print('Best R2 score is \\t\\t:', max(R2_4))\n",
    "print('Most optimal value of K is \\t:', R2_4.index(max(R2_4))+1)\n",
    "\n",
    "print('Best MSE score is \\t\\t:', min(mse_4))\n",
    "print('Most optimal value of K is \\t:', mse_4.index(min(mse_4))+1)"
   ]
  },
  {
   "cell_type": "markdown",
   "metadata": {},
   "source": [
    "### Result analysis <a class=\"anchor\" id=\"results\"></a>"
   ]
  },
  {
   "cell_type": "code",
   "execution_count": 33,
   "metadata": {},
   "outputs": [
    {
     "name": "stdout",
     "output_type": "stream",
     "text": [
      "According to R2:\n",
      "Best result is given by optimization set 4 with K = 5\n",
      "R2 score is 0.8167625198805754\n"
     ]
    }
   ],
   "source": [
    "# R2\n",
    "\n",
    "R2_all = []\n",
    "maxR2_all= []\n",
    "\n",
    "R2_all.append(R2_0)\n",
    "R2_all.append(R2_1)\n",
    "R2_all.append(R2_2)\n",
    "R2_all.append(R2_3)\n",
    "R2_all.append(R2_4)\n",
    "\n",
    "for i in R2_all:\n",
    "    maxR2_all.append(max(i))\n",
    "    \n",
    "best_R2_trainset = maxR2_all.index(max(maxR2_all))\n",
    "best_R2_K = R2_all[best_R2_trainset].index(max(R2_all[best_R2_trainset])) + 1\n",
    "\n",
    "print('According to R2:')\n",
    "print('Best result is given by optimization set', best_R2_trainset, 'with K =', best_R2_K)\n",
    "print('R2 score is', R2_all[best_R2_trainset][best_R2_K-1])"
   ]
  },
  {
   "cell_type": "code",
   "execution_count": 34,
   "metadata": {},
   "outputs": [
    {
     "name": "stdout",
     "output_type": "stream",
     "text": [
      "According to MSE:\n",
      "Best result is given by optimization set 4 with K = 5\n",
      "MSE score is 681772649.2092754\n"
     ]
    }
   ],
   "source": [
    "# MSE\n",
    "\n",
    "mse_all = []\n",
    "maxmse_all= []\n",
    "\n",
    "mse_all.append(mse_0)\n",
    "mse_all.append(mse_1)\n",
    "mse_all.append(mse_2)\n",
    "mse_all.append(mse_3)\n",
    "mse_all.append(mse_4)\n",
    "\n",
    "for i in mse_all:\n",
    "    maxmse_all.append(min(i))\n",
    "    \n",
    "best_mse_trainset = maxmse_all.index(min(maxmse_all))\n",
    "best_mse_K = mse_all[best_mse_trainset].index(min(mse_all[best_mse_trainset])) + 1\n",
    "\n",
    "print('According to MSE:')\n",
    "print('Best result is given by optimization set', best_mse_trainset, 'with K =', best_mse_K)\n",
    "print('MSE score is', mse_all[best_mse_trainset][best_mse_K-1])"
   ]
  },
  {
   "cell_type": "code",
   "execution_count": 31,
   "metadata": {},
   "outputs": [
    {
     "data": {
      "text/plain": [
       "[0.5804159984880813,\n",
       " 0.5773640620617113,\n",
       " 0.6634746460112125,\n",
       " 0.790495080122425,\n",
       " 0.8167625198805754]"
      ]
     },
     "execution_count": 31,
     "metadata": {},
     "output_type": "execute_result"
    }
   ],
   "source": [
    "maxR2_all"
   ]
  },
  {
   "cell_type": "code",
   "execution_count": 32,
   "metadata": {},
   "outputs": [
    {
     "data": {
      "text/plain": [
       "[2681975678.695934,\n",
       " 2701483618.08103,\n",
       " 1252111642.036836,\n",
       " 779506049.495,\n",
       " 681772649.2092754]"
      ]
     },
     "execution_count": 32,
     "metadata": {},
     "output_type": "execute_result"
    }
   ],
   "source": [
    "maxmse_all"
   ]
  },
  {
   "cell_type": "code",
   "execution_count": null,
   "metadata": {},
   "outputs": [],
   "source": []
  }
 ],
 "metadata": {
  "kernelspec": {
   "display_name": "Python 3",
   "language": "python",
   "name": "python3"
  },
  "language_info": {
   "codemirror_mode": {
    "name": "ipython",
    "version": 3
   },
   "file_extension": ".py",
   "mimetype": "text/x-python",
   "name": "python",
   "nbconvert_exporter": "python",
   "pygments_lexer": "ipython3",
   "version": "3.7.6"
  }
 },
 "nbformat": 4,
 "nbformat_minor": 4
}
